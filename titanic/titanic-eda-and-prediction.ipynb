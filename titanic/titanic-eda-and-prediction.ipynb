{
 "cells": [
  {
   "cell_type": "code",
   "execution_count": 1,
   "id": "3e6e4a1d",
   "metadata": {
    "_cell_guid": "b1076dfc-b9ad-4769-8c92-a6c4dae69d19",
    "_kg_hide-input": true,
    "_kg_hide-output": true,
    "_uuid": "8f2839f25d086af736a60e9eeb907d3b93b6e0e5",
    "execution": {
     "iopub.execute_input": "2023-09-04T12:59:19.072735Z",
     "iopub.status.busy": "2023-09-04T12:59:19.071947Z",
     "iopub.status.idle": "2023-09-04T12:59:19.088939Z",
     "shell.execute_reply": "2023-09-04T12:59:19.087600Z"
    },
    "papermill": {
     "duration": 0.039925,
     "end_time": "2023-09-04T12:59:19.091783",
     "exception": false,
     "start_time": "2023-09-04T12:59:19.051858",
     "status": "completed"
    },
    "tags": []
   },
   "outputs": [
    {
     "name": "stdout",
     "output_type": "stream",
     "text": [
      "/kaggle/input/spaceship-titanic/sample_submission.csv\n",
      "/kaggle/input/spaceship-titanic/train.csv\n",
      "/kaggle/input/spaceship-titanic/test.csv\n"
     ]
    }
   ],
   "source": [
    "import numpy as np # linear algebra\n",
    "import pandas as pd # data processing, CSV file I/O (e.g. pd.read_csv)\n",
    "\n",
    "import os\n",
    "for dirname, _, filenames in os.walk('/kaggle/input'):\n",
    "    for filename in filenames:\n",
    "        print(os.path.join(dirname, filename))\n",
    "\n",
    "        \n",
    "# !pip3 install -U lazypredict\n",
    "# !pip3 install -U pandas #Upgrading pandas"
   ]
  },
  {
   "cell_type": "markdown",
   "id": "b8908157",
   "metadata": {
    "papermill": {
     "duration": 0.016735,
     "end_time": "2023-09-04T12:59:19.125535",
     "exception": false,
     "start_time": "2023-09-04T12:59:19.108800",
     "status": "completed"
    },
    "tags": []
   },
   "source": [
    "# **Getting data**"
   ]
  },
  {
   "cell_type": "code",
   "execution_count": 2,
   "id": "65158b04",
   "metadata": {
    "execution": {
     "iopub.execute_input": "2023-09-04T12:59:19.162662Z",
     "iopub.status.busy": "2023-09-04T12:59:19.162225Z",
     "iopub.status.idle": "2023-09-04T12:59:19.254460Z",
     "shell.execute_reply": "2023-09-04T12:59:19.253201Z"
    },
    "papermill": {
     "duration": 0.113552,
     "end_time": "2023-09-04T12:59:19.257677",
     "exception": false,
     "start_time": "2023-09-04T12:59:19.144125",
     "status": "completed"
    },
    "tags": []
   },
   "outputs": [],
   "source": [
    "data=pd.read_csv('/kaggle/input/spaceship-titanic/train.csv')\n",
    "test=pd.read_csv('/kaggle/input/spaceship-titanic/test.csv')\n"
   ]
  },
  {
   "cell_type": "markdown",
   "id": "19dcd09e",
   "metadata": {
    "papermill": {
     "duration": 0.01698,
     "end_time": "2023-09-04T12:59:19.291457",
     "exception": false,
     "start_time": "2023-09-04T12:59:19.274477",
     "status": "completed"
    },
    "tags": []
   },
   "source": [
    "# **Exploring Data**"
   ]
  },
  {
   "cell_type": "code",
   "execution_count": 3,
   "id": "b540f7cf",
   "metadata": {
    "execution": {
     "iopub.execute_input": "2023-09-04T12:59:19.328262Z",
     "iopub.status.busy": "2023-09-04T12:59:19.327855Z",
     "iopub.status.idle": "2023-09-04T12:59:19.368476Z",
     "shell.execute_reply": "2023-09-04T12:59:19.366948Z"
    },
    "papermill": {
     "duration": 0.062123,
     "end_time": "2023-09-04T12:59:19.372051",
     "exception": false,
     "start_time": "2023-09-04T12:59:19.309928",
     "status": "completed"
    },
    "tags": []
   },
   "outputs": [
    {
     "data": {
      "text/html": [
       "<div>\n",
       "<style scoped>\n",
       "    .dataframe tbody tr th:only-of-type {\n",
       "        vertical-align: middle;\n",
       "    }\n",
       "\n",
       "    .dataframe tbody tr th {\n",
       "        vertical-align: top;\n",
       "    }\n",
       "\n",
       "    .dataframe thead th {\n",
       "        text-align: right;\n",
       "    }\n",
       "</style>\n",
       "<table border=\"1\" class=\"dataframe\">\n",
       "  <thead>\n",
       "    <tr style=\"text-align: right;\">\n",
       "      <th></th>\n",
       "      <th>PassengerId</th>\n",
       "      <th>HomePlanet</th>\n",
       "      <th>CryoSleep</th>\n",
       "      <th>Cabin</th>\n",
       "      <th>Destination</th>\n",
       "      <th>Age</th>\n",
       "      <th>VIP</th>\n",
       "      <th>RoomService</th>\n",
       "      <th>FoodCourt</th>\n",
       "      <th>ShoppingMall</th>\n",
       "      <th>Spa</th>\n",
       "      <th>VRDeck</th>\n",
       "      <th>Name</th>\n",
       "      <th>Transported</th>\n",
       "    </tr>\n",
       "  </thead>\n",
       "  <tbody>\n",
       "    <tr>\n",
       "      <th>0</th>\n",
       "      <td>0001_01</td>\n",
       "      <td>Europa</td>\n",
       "      <td>False</td>\n",
       "      <td>B/0/P</td>\n",
       "      <td>TRAPPIST-1e</td>\n",
       "      <td>39.0</td>\n",
       "      <td>False</td>\n",
       "      <td>0.0</td>\n",
       "      <td>0.0</td>\n",
       "      <td>0.0</td>\n",
       "      <td>0.0</td>\n",
       "      <td>0.0</td>\n",
       "      <td>Maham Ofracculy</td>\n",
       "      <td>False</td>\n",
       "    </tr>\n",
       "    <tr>\n",
       "      <th>1</th>\n",
       "      <td>0002_01</td>\n",
       "      <td>Earth</td>\n",
       "      <td>False</td>\n",
       "      <td>F/0/S</td>\n",
       "      <td>TRAPPIST-1e</td>\n",
       "      <td>24.0</td>\n",
       "      <td>False</td>\n",
       "      <td>109.0</td>\n",
       "      <td>9.0</td>\n",
       "      <td>25.0</td>\n",
       "      <td>549.0</td>\n",
       "      <td>44.0</td>\n",
       "      <td>Juanna Vines</td>\n",
       "      <td>True</td>\n",
       "    </tr>\n",
       "    <tr>\n",
       "      <th>2</th>\n",
       "      <td>0003_01</td>\n",
       "      <td>Europa</td>\n",
       "      <td>False</td>\n",
       "      <td>A/0/S</td>\n",
       "      <td>TRAPPIST-1e</td>\n",
       "      <td>58.0</td>\n",
       "      <td>True</td>\n",
       "      <td>43.0</td>\n",
       "      <td>3576.0</td>\n",
       "      <td>0.0</td>\n",
       "      <td>6715.0</td>\n",
       "      <td>49.0</td>\n",
       "      <td>Altark Susent</td>\n",
       "      <td>False</td>\n",
       "    </tr>\n",
       "    <tr>\n",
       "      <th>3</th>\n",
       "      <td>0003_02</td>\n",
       "      <td>Europa</td>\n",
       "      <td>False</td>\n",
       "      <td>A/0/S</td>\n",
       "      <td>TRAPPIST-1e</td>\n",
       "      <td>33.0</td>\n",
       "      <td>False</td>\n",
       "      <td>0.0</td>\n",
       "      <td>1283.0</td>\n",
       "      <td>371.0</td>\n",
       "      <td>3329.0</td>\n",
       "      <td>193.0</td>\n",
       "      <td>Solam Susent</td>\n",
       "      <td>False</td>\n",
       "    </tr>\n",
       "    <tr>\n",
       "      <th>4</th>\n",
       "      <td>0004_01</td>\n",
       "      <td>Earth</td>\n",
       "      <td>False</td>\n",
       "      <td>F/1/S</td>\n",
       "      <td>TRAPPIST-1e</td>\n",
       "      <td>16.0</td>\n",
       "      <td>False</td>\n",
       "      <td>303.0</td>\n",
       "      <td>70.0</td>\n",
       "      <td>151.0</td>\n",
       "      <td>565.0</td>\n",
       "      <td>2.0</td>\n",
       "      <td>Willy Santantines</td>\n",
       "      <td>True</td>\n",
       "    </tr>\n",
       "    <tr>\n",
       "      <th>5</th>\n",
       "      <td>0005_01</td>\n",
       "      <td>Earth</td>\n",
       "      <td>False</td>\n",
       "      <td>F/0/P</td>\n",
       "      <td>PSO J318.5-22</td>\n",
       "      <td>44.0</td>\n",
       "      <td>False</td>\n",
       "      <td>0.0</td>\n",
       "      <td>483.0</td>\n",
       "      <td>0.0</td>\n",
       "      <td>291.0</td>\n",
       "      <td>0.0</td>\n",
       "      <td>Sandie Hinetthews</td>\n",
       "      <td>True</td>\n",
       "    </tr>\n",
       "    <tr>\n",
       "      <th>6</th>\n",
       "      <td>0006_01</td>\n",
       "      <td>Earth</td>\n",
       "      <td>False</td>\n",
       "      <td>F/2/S</td>\n",
       "      <td>TRAPPIST-1e</td>\n",
       "      <td>26.0</td>\n",
       "      <td>False</td>\n",
       "      <td>42.0</td>\n",
       "      <td>1539.0</td>\n",
       "      <td>3.0</td>\n",
       "      <td>0.0</td>\n",
       "      <td>0.0</td>\n",
       "      <td>Billex Jacostaffey</td>\n",
       "      <td>True</td>\n",
       "    </tr>\n",
       "    <tr>\n",
       "      <th>7</th>\n",
       "      <td>0006_02</td>\n",
       "      <td>Earth</td>\n",
       "      <td>True</td>\n",
       "      <td>G/0/S</td>\n",
       "      <td>TRAPPIST-1e</td>\n",
       "      <td>28.0</td>\n",
       "      <td>False</td>\n",
       "      <td>0.0</td>\n",
       "      <td>0.0</td>\n",
       "      <td>0.0</td>\n",
       "      <td>0.0</td>\n",
       "      <td>NaN</td>\n",
       "      <td>Candra Jacostaffey</td>\n",
       "      <td>True</td>\n",
       "    </tr>\n",
       "    <tr>\n",
       "      <th>8</th>\n",
       "      <td>0007_01</td>\n",
       "      <td>Earth</td>\n",
       "      <td>False</td>\n",
       "      <td>F/3/S</td>\n",
       "      <td>TRAPPIST-1e</td>\n",
       "      <td>35.0</td>\n",
       "      <td>False</td>\n",
       "      <td>0.0</td>\n",
       "      <td>785.0</td>\n",
       "      <td>17.0</td>\n",
       "      <td>216.0</td>\n",
       "      <td>0.0</td>\n",
       "      <td>Andona Beston</td>\n",
       "      <td>True</td>\n",
       "    </tr>\n",
       "    <tr>\n",
       "      <th>9</th>\n",
       "      <td>0008_01</td>\n",
       "      <td>Europa</td>\n",
       "      <td>True</td>\n",
       "      <td>B/1/P</td>\n",
       "      <td>55 Cancri e</td>\n",
       "      <td>14.0</td>\n",
       "      <td>False</td>\n",
       "      <td>0.0</td>\n",
       "      <td>0.0</td>\n",
       "      <td>0.0</td>\n",
       "      <td>0.0</td>\n",
       "      <td>0.0</td>\n",
       "      <td>Erraiam Flatic</td>\n",
       "      <td>True</td>\n",
       "    </tr>\n",
       "  </tbody>\n",
       "</table>\n",
       "</div>"
      ],
      "text/plain": [
       "  PassengerId HomePlanet CryoSleep  Cabin    Destination   Age    VIP  \\\n",
       "0     0001_01     Europa     False  B/0/P    TRAPPIST-1e  39.0  False   \n",
       "1     0002_01      Earth     False  F/0/S    TRAPPIST-1e  24.0  False   \n",
       "2     0003_01     Europa     False  A/0/S    TRAPPIST-1e  58.0   True   \n",
       "3     0003_02     Europa     False  A/0/S    TRAPPIST-1e  33.0  False   \n",
       "4     0004_01      Earth     False  F/1/S    TRAPPIST-1e  16.0  False   \n",
       "5     0005_01      Earth     False  F/0/P  PSO J318.5-22  44.0  False   \n",
       "6     0006_01      Earth     False  F/2/S    TRAPPIST-1e  26.0  False   \n",
       "7     0006_02      Earth      True  G/0/S    TRAPPIST-1e  28.0  False   \n",
       "8     0007_01      Earth     False  F/3/S    TRAPPIST-1e  35.0  False   \n",
       "9     0008_01     Europa      True  B/1/P    55 Cancri e  14.0  False   \n",
       "\n",
       "   RoomService  FoodCourt  ShoppingMall     Spa  VRDeck                Name  \\\n",
       "0          0.0        0.0           0.0     0.0     0.0     Maham Ofracculy   \n",
       "1        109.0        9.0          25.0   549.0    44.0        Juanna Vines   \n",
       "2         43.0     3576.0           0.0  6715.0    49.0       Altark Susent   \n",
       "3          0.0     1283.0         371.0  3329.0   193.0        Solam Susent   \n",
       "4        303.0       70.0         151.0   565.0     2.0   Willy Santantines   \n",
       "5          0.0      483.0           0.0   291.0     0.0   Sandie Hinetthews   \n",
       "6         42.0     1539.0           3.0     0.0     0.0  Billex Jacostaffey   \n",
       "7          0.0        0.0           0.0     0.0     NaN  Candra Jacostaffey   \n",
       "8          0.0      785.0          17.0   216.0     0.0       Andona Beston   \n",
       "9          0.0        0.0           0.0     0.0     0.0      Erraiam Flatic   \n",
       "\n",
       "   Transported  \n",
       "0        False  \n",
       "1         True  \n",
       "2        False  \n",
       "3        False  \n",
       "4         True  \n",
       "5         True  \n",
       "6         True  \n",
       "7         True  \n",
       "8         True  \n",
       "9         True  "
      ]
     },
     "execution_count": 3,
     "metadata": {},
     "output_type": "execute_result"
    }
   ],
   "source": [
    "data.head(10)"
   ]
  },
  {
   "cell_type": "code",
   "execution_count": 4,
   "id": "88a31bed",
   "metadata": {
    "execution": {
     "iopub.execute_input": "2023-09-04T12:59:19.408616Z",
     "iopub.status.busy": "2023-09-04T12:59:19.408191Z",
     "iopub.status.idle": "2023-09-04T12:59:19.441712Z",
     "shell.execute_reply": "2023-09-04T12:59:19.439863Z"
    },
    "papermill": {
     "duration": 0.054641,
     "end_time": "2023-09-04T12:59:19.444132",
     "exception": false,
     "start_time": "2023-09-04T12:59:19.389491",
     "status": "completed"
    },
    "tags": []
   },
   "outputs": [
    {
     "name": "stdout",
     "output_type": "stream",
     "text": [
      "<class 'pandas.core.frame.DataFrame'>\n",
      "RangeIndex: 8693 entries, 0 to 8692\n",
      "Data columns (total 14 columns):\n",
      " #   Column        Non-Null Count  Dtype  \n",
      "---  ------        --------------  -----  \n",
      " 0   PassengerId   8693 non-null   object \n",
      " 1   HomePlanet    8492 non-null   object \n",
      " 2   CryoSleep     8476 non-null   object \n",
      " 3   Cabin         8494 non-null   object \n",
      " 4   Destination   8511 non-null   object \n",
      " 5   Age           8514 non-null   float64\n",
      " 6   VIP           8490 non-null   object \n",
      " 7   RoomService   8512 non-null   float64\n",
      " 8   FoodCourt     8510 non-null   float64\n",
      " 9   ShoppingMall  8485 non-null   float64\n",
      " 10  Spa           8510 non-null   float64\n",
      " 11  VRDeck        8505 non-null   float64\n",
      " 12  Name          8493 non-null   object \n",
      " 13  Transported   8693 non-null   bool   \n",
      "dtypes: bool(1), float64(6), object(7)\n",
      "memory usage: 891.5+ KB\n"
     ]
    }
   ],
   "source": [
    "data.info()"
   ]
  },
  {
   "cell_type": "code",
   "execution_count": 5,
   "id": "e51546e0",
   "metadata": {
    "execution": {
     "iopub.execute_input": "2023-09-04T12:59:19.480966Z",
     "iopub.status.busy": "2023-09-04T12:59:19.480334Z",
     "iopub.status.idle": "2023-09-04T12:59:19.520181Z",
     "shell.execute_reply": "2023-09-04T12:59:19.518874Z"
    },
    "papermill": {
     "duration": 0.061119,
     "end_time": "2023-09-04T12:59:19.522663",
     "exception": false,
     "start_time": "2023-09-04T12:59:19.461544",
     "status": "completed"
    },
    "tags": []
   },
   "outputs": [
    {
     "data": {
      "text/html": [
       "<div>\n",
       "<style scoped>\n",
       "    .dataframe tbody tr th:only-of-type {\n",
       "        vertical-align: middle;\n",
       "    }\n",
       "\n",
       "    .dataframe tbody tr th {\n",
       "        vertical-align: top;\n",
       "    }\n",
       "\n",
       "    .dataframe thead th {\n",
       "        text-align: right;\n",
       "    }\n",
       "</style>\n",
       "<table border=\"1\" class=\"dataframe\">\n",
       "  <thead>\n",
       "    <tr style=\"text-align: right;\">\n",
       "      <th></th>\n",
       "      <th>Age</th>\n",
       "      <th>RoomService</th>\n",
       "      <th>FoodCourt</th>\n",
       "      <th>ShoppingMall</th>\n",
       "      <th>Spa</th>\n",
       "      <th>VRDeck</th>\n",
       "    </tr>\n",
       "  </thead>\n",
       "  <tbody>\n",
       "    <tr>\n",
       "      <th>count</th>\n",
       "      <td>8514.000000</td>\n",
       "      <td>8512.000000</td>\n",
       "      <td>8510.000000</td>\n",
       "      <td>8485.000000</td>\n",
       "      <td>8510.000000</td>\n",
       "      <td>8505.000000</td>\n",
       "    </tr>\n",
       "    <tr>\n",
       "      <th>mean</th>\n",
       "      <td>28.827930</td>\n",
       "      <td>224.687617</td>\n",
       "      <td>458.077203</td>\n",
       "      <td>173.729169</td>\n",
       "      <td>311.138778</td>\n",
       "      <td>304.854791</td>\n",
       "    </tr>\n",
       "    <tr>\n",
       "      <th>std</th>\n",
       "      <td>14.489021</td>\n",
       "      <td>666.717663</td>\n",
       "      <td>1611.489240</td>\n",
       "      <td>604.696458</td>\n",
       "      <td>1136.705535</td>\n",
       "      <td>1145.717189</td>\n",
       "    </tr>\n",
       "    <tr>\n",
       "      <th>min</th>\n",
       "      <td>0.000000</td>\n",
       "      <td>0.000000</td>\n",
       "      <td>0.000000</td>\n",
       "      <td>0.000000</td>\n",
       "      <td>0.000000</td>\n",
       "      <td>0.000000</td>\n",
       "    </tr>\n",
       "    <tr>\n",
       "      <th>25%</th>\n",
       "      <td>19.000000</td>\n",
       "      <td>0.000000</td>\n",
       "      <td>0.000000</td>\n",
       "      <td>0.000000</td>\n",
       "      <td>0.000000</td>\n",
       "      <td>0.000000</td>\n",
       "    </tr>\n",
       "    <tr>\n",
       "      <th>50%</th>\n",
       "      <td>27.000000</td>\n",
       "      <td>0.000000</td>\n",
       "      <td>0.000000</td>\n",
       "      <td>0.000000</td>\n",
       "      <td>0.000000</td>\n",
       "      <td>0.000000</td>\n",
       "    </tr>\n",
       "    <tr>\n",
       "      <th>75%</th>\n",
       "      <td>38.000000</td>\n",
       "      <td>47.000000</td>\n",
       "      <td>76.000000</td>\n",
       "      <td>27.000000</td>\n",
       "      <td>59.000000</td>\n",
       "      <td>46.000000</td>\n",
       "    </tr>\n",
       "    <tr>\n",
       "      <th>max</th>\n",
       "      <td>79.000000</td>\n",
       "      <td>14327.000000</td>\n",
       "      <td>29813.000000</td>\n",
       "      <td>23492.000000</td>\n",
       "      <td>22408.000000</td>\n",
       "      <td>24133.000000</td>\n",
       "    </tr>\n",
       "  </tbody>\n",
       "</table>\n",
       "</div>"
      ],
      "text/plain": [
       "               Age   RoomService     FoodCourt  ShoppingMall           Spa  \\\n",
       "count  8514.000000   8512.000000   8510.000000   8485.000000   8510.000000   \n",
       "mean     28.827930    224.687617    458.077203    173.729169    311.138778   \n",
       "std      14.489021    666.717663   1611.489240    604.696458   1136.705535   \n",
       "min       0.000000      0.000000      0.000000      0.000000      0.000000   \n",
       "25%      19.000000      0.000000      0.000000      0.000000      0.000000   \n",
       "50%      27.000000      0.000000      0.000000      0.000000      0.000000   \n",
       "75%      38.000000     47.000000     76.000000     27.000000     59.000000   \n",
       "max      79.000000  14327.000000  29813.000000  23492.000000  22408.000000   \n",
       "\n",
       "             VRDeck  \n",
       "count   8505.000000  \n",
       "mean     304.854791  \n",
       "std     1145.717189  \n",
       "min        0.000000  \n",
       "25%        0.000000  \n",
       "50%        0.000000  \n",
       "75%       46.000000  \n",
       "max    24133.000000  "
      ]
     },
     "execution_count": 5,
     "metadata": {},
     "output_type": "execute_result"
    }
   ],
   "source": [
    "data.describe()"
   ]
  },
  {
   "cell_type": "markdown",
   "id": "26ddb556",
   "metadata": {
    "papermill": {
     "duration": 0.017662,
     "end_time": "2023-09-04T12:59:19.557840",
     "exception": false,
     "start_time": "2023-09-04T12:59:19.540178",
     "status": "completed"
    },
    "tags": []
   },
   "source": [
    "As you can see we have **6 numeric** features and **5 categorical** features(and aslo PassengerId, Name, and our target **Transported**)."
   ]
  },
  {
   "cell_type": "code",
   "execution_count": 6,
   "id": "0867947d",
   "metadata": {
    "execution": {
     "iopub.execute_input": "2023-09-04T12:59:19.595239Z",
     "iopub.status.busy": "2023-09-04T12:59:19.594781Z",
     "iopub.status.idle": "2023-09-04T12:59:21.215446Z",
     "shell.execute_reply": "2023-09-04T12:59:21.214079Z"
    },
    "papermill": {
     "duration": 1.643101,
     "end_time": "2023-09-04T12:59:21.218526",
     "exception": false,
     "start_time": "2023-09-04T12:59:19.575425",
     "status": "completed"
    },
    "tags": []
   },
   "outputs": [
    {
     "data": {
      "text/plain": [
       "<AxesSubplot:xlabel='CryoSleep', ylabel='count'>"
      ]
     },
     "execution_count": 6,
     "metadata": {},
     "output_type": "execute_result"
    },
    {
     "data": {
      "image/png": "[encoded data removed]",
      "text/plain": [
       "<Figure size 432x288 with 2 Axes>"
      ]
     },
     "metadata": {
      "needs_background": "light"
     },
     "output_type": "display_data"
    }
   ],
   "source": [
    "import seaborn as sns\n",
    "import matplotlib.pyplot as plt\n",
    "fig, axs = plt.subplots(ncols=2)\n",
    "\n",
    "\n",
    "sns.countplot(data=data, x=\"VIP\", hue=\"Transported\",ax=axs[0])\n",
    "sns.countplot(data=data, x=\"CryoSleep\", hue=\"Transported\",ax=axs[1])"
   ]
  },
  {
   "cell_type": "code",
   "execution_count": 7,
   "id": "f493e1b9",
   "metadata": {
    "execution": {
     "iopub.execute_input": "2023-09-04T12:59:21.258754Z",
     "iopub.status.busy": "2023-09-04T12:59:21.258288Z",
     "iopub.status.idle": "2023-09-04T12:59:21.288998Z",
     "shell.execute_reply": "2023-09-04T12:59:21.287701Z"
    },
    "papermill": {
     "duration": 0.053666,
     "end_time": "2023-09-04T12:59:21.292009",
     "exception": false,
     "start_time": "2023-09-04T12:59:21.238343",
     "status": "completed"
    },
    "tags": []
   },
   "outputs": [
    {
     "data": {
      "text/html": [
       "<div>\n",
       "<style scoped>\n",
       "    .dataframe tbody tr th:only-of-type {\n",
       "        vertical-align: middle;\n",
       "    }\n",
       "\n",
       "    .dataframe tbody tr th {\n",
       "        vertical-align: top;\n",
       "    }\n",
       "\n",
       "    .dataframe thead th {\n",
       "        text-align: right;\n",
       "    }\n",
       "</style>\n",
       "<table border=\"1\" class=\"dataframe\">\n",
       "  <thead>\n",
       "    <tr style=\"text-align: right;\">\n",
       "      <th>VIP</th>\n",
       "      <th>False</th>\n",
       "      <th>True</th>\n",
       "    </tr>\n",
       "    <tr>\n",
       "      <th>Transported</th>\n",
       "      <th></th>\n",
       "      <th></th>\n",
       "    </tr>\n",
       "  </thead>\n",
       "  <tbody>\n",
       "    <tr>\n",
       "      <th>False</th>\n",
       "      <td>4093</td>\n",
       "      <td>123</td>\n",
       "    </tr>\n",
       "    <tr>\n",
       "      <th>True</th>\n",
       "      <td>4198</td>\n",
       "      <td>76</td>\n",
       "    </tr>\n",
       "  </tbody>\n",
       "</table>\n",
       "</div>"
      ],
      "text/plain": [
       "VIP          False  True\n",
       "Transported             \n",
       "False         4093   123\n",
       "True          4198    76"
      ]
     },
     "execution_count": 7,
     "metadata": {},
     "output_type": "execute_result"
    }
   ],
   "source": [
    "pd.pivot_table(data, index=\"Transported\", values = 'PassengerId', columns='VIP', aggfunc ='count')"
   ]
  },
  {
   "cell_type": "markdown",
   "id": "326717fd",
   "metadata": {
    "papermill": {
     "duration": 0.017987,
     "end_time": "2023-09-04T12:59:21.329099",
     "exception": false,
     "start_time": "2023-09-04T12:59:21.311112",
     "status": "completed"
    },
    "tags": []
   },
   "source": [
    "**We can see that passengers with vip has worst stat in Transported feature, at the same time passengers with cryosleep have positive stat in this parameter. So we can understand that Cryosleep affect positively on chance of transportation.**"
   ]
  },
  {
   "cell_type": "code",
   "execution_count": 8,
   "id": "0e809bdc",
   "metadata": {
    "execution": {
     "iopub.execute_input": "2023-09-04T12:59:21.369213Z",
     "iopub.status.busy": "2023-09-04T12:59:21.368790Z",
     "iopub.status.idle": "2023-09-04T12:59:21.711695Z",
     "shell.execute_reply": "2023-09-04T12:59:21.710427Z"
    },
    "papermill": {
     "duration": 0.366701,
     "end_time": "2023-09-04T12:59:21.714528",
     "exception": false,
     "start_time": "2023-09-04T12:59:21.347827",
     "status": "completed"
    },
    "tags": []
   },
   "outputs": [
    {
     "data": {
      "text/plain": [
       "<AxesSubplot:xlabel='Destination', ylabel='count'>"
      ]
     },
     "execution_count": 8,
     "metadata": {},
     "output_type": "execute_result"
    },
    {
     "data": {
      "image/png": "[encoded data removed]",
      "text/plain": [
       "<Figure size 432x288 with 2 Axes>"
      ]
     },
     "metadata": {
      "needs_background": "light"
     },
     "output_type": "display_data"
    }
   ],
   "source": [
    "fig, axs = plt.subplots(ncols=2)\n",
    "sns.countplot(data=data, x=\"HomePlanet\", hue=\"Transported\",ax=axs[0])\n",
    "sns.countplot(data=data, x=\"Destination\", hue=\"Transported\",ax=axs[1])\n"
   ]
  },
  {
   "cell_type": "markdown",
   "id": "ab99e053",
   "metadata": {
    "papermill": {
     "duration": 0.018904,
     "end_time": "2023-09-04T12:59:21.753168",
     "exception": false,
     "start_time": "2023-09-04T12:59:21.734264",
     "status": "completed"
    },
    "tags": []
   },
   "source": [
    "**Lets explore \"Cabin\" feature**"
   ]
  },
  {
   "cell_type": "code",
   "execution_count": 9,
   "id": "d64fe7e8",
   "metadata": {
    "execution": {
     "iopub.execute_input": "2023-09-04T12:59:21.793164Z",
     "iopub.status.busy": "2023-09-04T12:59:21.792717Z",
     "iopub.status.idle": "2023-09-04T12:59:21.844103Z",
     "shell.execute_reply": "2023-09-04T12:59:21.842817Z"
    },
    "papermill": {
     "duration": 0.074674,
     "end_time": "2023-09-04T12:59:21.846823",
     "exception": false,
     "start_time": "2023-09-04T12:59:21.772149",
     "status": "completed"
    },
    "tags": []
   },
   "outputs": [
    {
     "data": {
      "text/html": [
       "<div>\n",
       "<style scoped>\n",
       "    .dataframe tbody tr th:only-of-type {\n",
       "        vertical-align: middle;\n",
       "    }\n",
       "\n",
       "    .dataframe tbody tr th {\n",
       "        vertical-align: top;\n",
       "    }\n",
       "\n",
       "    .dataframe thead th {\n",
       "        text-align: right;\n",
       "    }\n",
       "</style>\n",
       "<table border=\"1\" class=\"dataframe\">\n",
       "  <thead>\n",
       "    <tr style=\"text-align: right;\">\n",
       "      <th></th>\n",
       "      <th>Cabin_deck</th>\n",
       "      <th>Cabin_num</th>\n",
       "      <th>Cabin_side</th>\n",
       "    </tr>\n",
       "  </thead>\n",
       "  <tbody>\n",
       "    <tr>\n",
       "      <th>0</th>\n",
       "      <td>B</td>\n",
       "      <td>0</td>\n",
       "      <td>P</td>\n",
       "    </tr>\n",
       "    <tr>\n",
       "      <th>1</th>\n",
       "      <td>F</td>\n",
       "      <td>0</td>\n",
       "      <td>S</td>\n",
       "    </tr>\n",
       "    <tr>\n",
       "      <th>2</th>\n",
       "      <td>A</td>\n",
       "      <td>0</td>\n",
       "      <td>S</td>\n",
       "    </tr>\n",
       "    <tr>\n",
       "      <th>3</th>\n",
       "      <td>A</td>\n",
       "      <td>0</td>\n",
       "      <td>S</td>\n",
       "    </tr>\n",
       "    <tr>\n",
       "      <th>4</th>\n",
       "      <td>F</td>\n",
       "      <td>1</td>\n",
       "      <td>S</td>\n",
       "    </tr>\n",
       "    <tr>\n",
       "      <th>5</th>\n",
       "      <td>F</td>\n",
       "      <td>0</td>\n",
       "      <td>P</td>\n",
       "    </tr>\n",
       "    <tr>\n",
       "      <th>6</th>\n",
       "      <td>F</td>\n",
       "      <td>2</td>\n",
       "      <td>S</td>\n",
       "    </tr>\n",
       "    <tr>\n",
       "      <th>8</th>\n",
       "      <td>F</td>\n",
       "      <td>3</td>\n",
       "      <td>S</td>\n",
       "    </tr>\n",
       "    <tr>\n",
       "      <th>9</th>\n",
       "      <td>B</td>\n",
       "      <td>1</td>\n",
       "      <td>P</td>\n",
       "    </tr>\n",
       "    <tr>\n",
       "      <th>11</th>\n",
       "      <td>B</td>\n",
       "      <td>1</td>\n",
       "      <td>P</td>\n",
       "    </tr>\n",
       "  </tbody>\n",
       "</table>\n",
       "</div>"
      ],
      "text/plain": [
       "   Cabin_deck  Cabin_num Cabin_side\n",
       "0           B          0          P\n",
       "1           F          0          S\n",
       "2           A          0          S\n",
       "3           A          0          S\n",
       "4           F          1          S\n",
       "5           F          0          P\n",
       "6           F          2          S\n",
       "8           F          3          S\n",
       "9           B          1          P\n",
       "11          B          1          P"
      ]
     },
     "execution_count": 9,
     "metadata": {},
     "output_type": "execute_result"
    }
   ],
   "source": [
    "df=pd.DataFrame()\n",
    "df[['Cabin_deck','Cabin_num','Cabin_side']]=data.dropna().Cabin.str.split('/',expand=True)\n",
    "df=df.astype({'Cabin_num':'int'})\n",
    "df.head(10)"
   ]
  },
  {
   "cell_type": "code",
   "execution_count": 10,
   "id": "f53ed179",
   "metadata": {
    "execution": {
     "iopub.execute_input": "2023-09-04T12:59:21.888826Z",
     "iopub.status.busy": "2023-09-04T12:59:21.888132Z",
     "iopub.status.idle": "2023-09-04T12:59:21.905532Z",
     "shell.execute_reply": "2023-09-04T12:59:21.904569Z"
    },
    "papermill": {
     "duration": 0.041518,
     "end_time": "2023-09-04T12:59:21.908090",
     "exception": false,
     "start_time": "2023-09-04T12:59:21.866572",
     "status": "completed"
    },
    "tags": []
   },
   "outputs": [
    {
     "name": "stdout",
     "output_type": "stream",
     "text": [
      "F    2152\n",
      "G    1973\n",
      "E     683\n",
      "B     628\n",
      "C     587\n",
      "D     374\n",
      "A     207\n",
      "T       2\n",
      "Name: Cabin_deck, dtype: int64\n",
      "S    3345\n",
      "P    3261\n",
      "Name: Cabin_side, dtype: int64\n"
     ]
    },
    {
     "data": {
      "text/plain": [
       "count    6606.000000\n",
       "mean      599.177414\n",
       "std       513.450585\n",
       "min         0.000000\n",
       "25%       166.000000\n",
       "50%       424.000000\n",
       "75%       994.000000\n",
       "max      1894.000000\n",
       "Name: Cabin_num, dtype: float64"
      ]
     },
     "execution_count": 10,
     "metadata": {},
     "output_type": "execute_result"
    }
   ],
   "source": [
    "print(df['Cabin_deck'].value_counts())\n",
    "print(df['Cabin_side'].value_counts())\n",
    "df['Cabin_num'].describe()"
   ]
  },
  {
   "cell_type": "code",
   "execution_count": 11,
   "id": "2a32765a",
   "metadata": {
    "execution": {
     "iopub.execute_input": "2023-09-04T12:59:21.950006Z",
     "iopub.status.busy": "2023-09-04T12:59:21.949286Z",
     "iopub.status.idle": "2023-09-04T12:59:24.538756Z",
     "shell.execute_reply": "2023-09-04T12:59:24.537419Z"
    },
    "papermill": {
     "duration": 2.613738,
     "end_time": "2023-09-04T12:59:24.541788",
     "exception": false,
     "start_time": "2023-09-04T12:59:21.928050",
     "status": "completed"
    },
    "tags": []
   },
   "outputs": [
    {
     "data": {
      "text/html": [
       "        <script type=\"text/javascript\">\n",
       "        window.PlotlyConfig = {MathJaxConfig: 'local'};\n",
       "        if (window.MathJax && window.MathJax.Hub && window.MathJax.Hub.Config) {window.MathJax.Hub.Config({SVG: {font: \"STIX-Web\"}});}\n",
       "        if (typeof require !== 'undefined') {\n",
       "        require.undef(\"plotly\");\n",
       "        requirejs.config({\n",
       "            paths: {\n",
       "                'plotly': ['https://cdn.plot.ly/plotly-2.18.0.min']\n",
       "            }\n",
       "        });\n",
       "        require(['plotly'], function(Plotly) {\n",
       "            window._Plotly = Plotly;\n",
       "        });\n",
       "        }\n",
       "        </script>\n",
       "        "
      ]
     },
     "metadata": {},
     "output_type": "display_data"
    },
    {
     "data": {
      "text/html": [
       "<div>                            <div id=\"1f656676-dc6e-4a7b-838b-89435fd9292c\" class=\"plotly-graph-div\" style=\"height:525px; width:100%;\"></div>            <script type=\"text/javascript\">                require([\"plotly\"], function(Plotly) {                    window.PLOTLYENV=window.PLOTLYENV || {};                                    if (document.getElementById(\"1f656676-dc6e-4a7b-838b-89435fd9292c\")) {                    Plotly.newPlot(                        \"1f656676-dc6e-4a7b-838b-89435fd9292c\",                        [{\"alignmentgroup\":\"True\",\"bingroup\":\"x\",\"hovertemplate\":\"Transported=False<br>Age=%{x}<br>count=%{y}<extra></extra>\",\"legendgroup\":\"False\",\"marker\":{\"color\":\"#636efa\",\"pattern\":{\"shape\":\"\"}},\"name\":\"False\",\"offsetgroup\":\"False\",\"orientation\":\"v\",\"showlegend\":true,\"x\":[39.0,58.0,33.0,48.0,31.0,27.0,24.0,14.0,1.0,49.0,29.0,1.0,7.0,21.0,15.0,34.0,43.0,32.0,23.0,15.0,20.0,30.0,45.0,55.0,21.0,35.0,56.0,null,36.0,22.0,62.0,62.0,21.0,null,19.0,17.0,14.0,37.0,38.0,13.0,42.0,43.0,27.0,19.0,54.0,26.0,23.0,18.0,6.0,27.0,21.0,23.0,31.0,32.0,40.0,27.0,39.0,29.0,18.0,35.0,61.0,45.0,36.0,47.0,34.0,26.0,31.0,56.0,42.0,38.0,41.0,22.0,17.0,27.0,31.0,24.0,21.0,38.0,38.0,0.0,20.0,25.0,49.0,11.0,8.0,39.0,23.0,25.0,36.0,18.0,29.0,19.0,17.0,13.0,35.0,21.0,21.0,38.0,13.0,25.0,16.0,1.0,21.0,23.0,33.0,41.0,16.0,42.0,20.0,21.0,32.0,24.0,30.0,27.0,32.0,43.0,37.0,33.0,18.0,21.0,33.0,21.0,33.0,47.0,30.0,29.0,21.0,22.0,26.0,26.0,13.0,63.0,35.0,45.0,57.0,28.0,19.0,16.0,23.0,28.0,23.0,23.0,18.0,67.0,26.0,18.0,21.0,59.0,13.0,43.0,29.0,33.0,25.0,29.0,44.0,5.0,31.0,30.0,27.0,23.0,41.0,26.0,15.0,null,26.0,30.0,24.0,41.0,20.0,63.0,18.0,79.0,33.0,23.0,28.0,34.0,23.0,49.0,14.0,18.0,48.0,31.0,61.0,22.0,30.0,30.0,17.0,23.0,20.0,39.0,35.0,31.0,21.0,16.0,18.0,42.0,22.0,37.0,17.0,47.0,56.0,39.0,40.0,34.0,32.0,35.0,32.0,26.0,25.0,26.0,24.0,55.0,6.0,7.0,15.0,50.0,34.0,14.0,19.0,36.0,34.0,16.0,37.0,36.0,27.0,22.0,27.0,27.0,28.0,21.0,39.0,28.0,21.0,42.0,22.0,43.0,42.0,64.0,55.0,null,55.0,42.0,null,46.0,26.0,1.0,33.0,34.0,49.0,22.0,38.0,17.0,26.0,23.0,24.0,23.0,42.0,33.0,21.0,4.0,22.0,33.0,28.0,31.0,33.0,19.0,55.0,19.0,null,21.0,65.0,50.0,22.0,23.0,18.0,20.0,23.0,48.0,19.0,null,9.0,24.0,21.0,19.0,26.0,25.0,21.0,37.0,44.0,43.0,33.0,24.0,58.0,21.0,38.0,31.0,39.0,37.0,13.0,21.0,20.0,36.0,79.0,20.0,33.0,32.0,38.0,21.0,15.0,44.0,36.0,15.0,45.0,26.0,25.0,46.0,15.0,37.0,20.0,45.0,7.0,5.0,30.0,41.0,29.0,19.0,34.0,19.0,21.0,34.0,24.0,24.0,23.0,20.0,26.0,1.0,2.0,25.0,21.0,19.0,24.0,20.0,19.0,23.0,62.0,23.0,65.0,67.0,41.0,19.0,22.0,65.0,34.0,67.0,30.0,22.0,23.0,49.0,36.0,0.0,null,54.0,10.0,25.0,37.0,30.0,30.0,21.0,21.0,32.0,7.0,16.0,31.0,30.0,24.0,39.0,34.0,29.0,null,31.0,31.0,null,42.0,41.0,13.0,24.0,20.0,18.0,51.0,42.0,31.0,14.0,32.0,32.0,27.0,57.0,13.0,23.0,24.0,36.0,11.0,6.0,null,55.0,null,16.0,19.0,38.0,35.0,37.0,46.0,41.0,13.0,31.0,48.0,16.0,25.0,44.0,23.0,44.0,29.0,41.0,28.0,32.0,38.0,20.0,24.0,26.0,44.0,31.0,33.0,34.0,30.0,25.0,38.0,29.0,36.0,24.0,13.0,18.0,16.0,8.0,26.0,45.0,48.0,17.0,19.0,19.0,29.0,20.0,64.0,21.0,20.0,24.0,51.0,45.0,24.0,23.0,20.0,null,16.0,28.0,6.0,26.0,27.0,29.0,35.0,37.0,24.0,47.0,26.0,27.0,18.0,15.0,42.0,20.0,21.0,31.0,58.0,29.0,44.0,20.0,15.0,18.0,54.0,0.0,20.0,21.0,46.0,31.0,23.0,14.0,25.0,31.0,47.0,49.0,37.0,44.0,16.0,21.0,22.0,27.0,19.0,57.0,26.0,38.0,35.0,25.0,37.0,25.0,41.0,50.0,33.0,31.0,54.0,11.0,4.0,20.0,26.0,60.0,null,22.0,18.0,18.0,29.0,39.0,17.0,58.0,23.0,38.0,31.0,18.0,28.0,28.0,23.0,22.0,35.0,55.0,26.0,null,30.0,34.0,7.0,3.0,0.0,10.0,16.0,41.0,26.0,27.0,19.0,46.0,37.0,30.0,16.0,40.0,23.0,20.0,19.0,30.0,8.0,1.0,12.0,30.0,10.0,11.0,58.0,36.0,32.0,32.0,16.0,50.0,20.0,23.0,23.0,53.0,8.0,3.0,60.0,40.0,14.0,23.0,4.0,20.0,75.0,38.0,41.0,29.0,21.0,41.0,32.0,30.0,22.0,54.0,27.0,27.0,30.0,19.0,43.0,25.0,51.0,21.0,21.0,23.0,38.0,30.0,14.0,18.0,19.0,36.0,21.0,24.0,8.0,18.0,33.0,20.0,28.0,19.0,27.0,4.0,10.0,37.0,22.0,30.0,37.0,57.0,17.0,26.0,36.0,25.0,2.0,10.0,24.0,30.0,19.0,26.0,47.0,29.0,32.0,44.0,35.0,23.0,34.0,25.0,22.0,14.0,42.0,19.0,22.0,31.0,39.0,21.0,23.0,33.0,27.0,21.0,25.0,2.0,19.0,41.0,19.0,16.0,42.0,35.0,17.0,6.0,39.0,31.0,21.0,44.0,36.0,19.0,39.0,28.0,18.0,18.0,47.0,42.0,17.0,21.0,26.0,23.0,15.0,18.0,65.0,27.0,41.0,42.0,null,37.0,17.0,29.0,24.0,67.0,44.0,14.0,51.0,20.0,0.0,23.0,24.0,41.0,30.0,27.0,59.0,30.0,46.0,21.0,34.0,33.0,16.0,37.0,76.0,61.0,46.0,null,23.0,63.0,21.0,33.0,39.0,27.0,16.0,19.0,26.0,56.0,38.0,30.0,21.0,11.0,3.0,17.0,63.0,35.0,61.0,14.0,78.0,21.0,32.0,31.0,36.0,31.0,18.0,23.0,46.0,27.0,53.0,32.0,26.0,13.0,21.0,21.0,26.0,53.0,37.0,45.0,62.0,38.0,24.0,18.0,23.0,16.0,22.0,26.0,25.0,55.0,28.0,22.0,13.0,18.0,57.0,0.0,33.0,23.0,37.0,18.0,42.0,24.0,24.0,16.0,26.0,24.0,37.0,25.0,29.0,19.0,4.0,37.0,61.0,25.0,22.0,41.0,19.0,14.0,18.0,33.0,14.0,43.0,47.0,28.0,17.0,21.0,41.0,20.0,56.0,57.0,37.0,20.0,22.0,31.0,21.0,49.0,44.0,null,29.0,16.0,20.0,26.0,19.0,34.0,51.0,7.0,26.0,27.0,7.0,28.0,27.0,26.0,43.0,23.0,64.0,13.0,29.0,70.0,23.0,35.0,17.0,15.0,19.0,51.0,17.0,27.0,43.0,5.0,17.0,38.0,13.0,15.0,15.0,24.0,52.0,38.0,15.0,22.0,18.0,22.0,34.0,28.0,21.0,0.0,59.0,26.0,67.0,55.0,50.0,23.0,15.0,18.0,21.0,null,30.0,21.0,15.0,28.0,40.0,42.0,21.0,31.0,51.0,73.0,39.0,19.0,10.0,0.0,33.0,23.0,26.0,30.0,33.0,56.0,null,18.0,16.0,26.0,16.0,24.0,29.0,22.0,48.0,55.0,46.0,38.0,20.0,65.0,null,25.0,54.0,25.0,39.0,31.0,35.0,35.0,61.0,26.0,4.0,1.0,7.0,25.0,6.0,29.0,25.0,0.0,29.0,37.0,49.0,36.0,20.0,48.0,26.0,35.0,22.0,5.0,43.0,52.0,19.0,21.0,25.0,19.0,42.0,40.0,14.0,50.0,18.0,46.0,null,22.0,0.0,46.0,23.0,50.0,20.0,55.0,18.0,47.0,57.0,13.0,27.0,20.0,47.0,15.0,34.0,21.0,51.0,23.0,58.0,37.0,25.0,40.0,24.0,2.0,43.0,63.0,54.0,41.0,22.0,39.0,26.0,29.0,27.0,17.0,44.0,22.0,31.0,30.0,15.0,55.0,33.0,19.0,24.0,4.0,2.0,31.0,46.0,30.0,17.0,20.0,36.0,20.0,24.0,43.0,42.0,21.0,50.0,30.0,26.0,39.0,null,11.0,52.0,14.0,68.0,22.0,17.0,38.0,13.0,27.0,45.0,23.0,24.0,29.0,46.0,20.0,24.0,40.0,38.0,38.0,21.0,33.0,43.0,13.0,26.0,22.0,25.0,29.0,49.0,30.0,29.0,26.0,16.0,20.0,33.0,18.0,24.0,29.0,35.0,31.0,26.0,23.0,23.0,21.0,18.0,null,22.0,17.0,13.0,26.0,null,20.0,20.0,23.0,61.0,21.0,7.0,56.0,15.0,13.0,38.0,45.0,21.0,19.0,49.0,27.0,20.0,20.0,24.0,41.0,30.0,24.0,31.0,46.0,20.0,20.0,30.0,24.0,34.0,20.0,25.0,43.0,47.0,42.0,29.0,51.0,43.0,31.0,13.0,20.0,29.0,16.0,50.0,36.0,null,25.0,63.0,22.0,32.0,31.0,24.0,39.0,19.0,20.0,31.0,24.0,27.0,27.0,62.0,58.0,37.0,54.0,26.0,43.0,42.0,30.0,19.0,22.0,36.0,19.0,47.0,18.0,20.0,18.0,37.0,22.0,6.0,36.0,46.0,75.0,37.0,33.0,35.0,19.0,34.0,37.0,24.0,54.0,60.0,22.0,47.0,49.0,33.0,5.0,59.0,33.0,28.0,29.0,13.0,39.0,18.0,57.0,null,22.0,21.0,16.0,44.0,26.0,46.0,24.0,53.0,28.0,7.0,31.0,9.0,44.0,35.0,13.0,45.0,20.0,3.0,35.0,19.0,22.0,30.0,36.0,22.0,35.0,41.0,57.0,3.0,17.0,30.0,23.0,22.0,24.0,20.0,49.0,46.0,30.0,36.0,21.0,25.0,13.0,25.0,29.0,22.0,42.0,43.0,32.0,20.0,17.0,13.0,19.0,33.0,21.0,17.0,31.0,43.0,43.0,27.0,16.0,42.0,19.0,42.0,13.0,69.0,15.0,48.0,42.0,42.0,23.0,26.0,45.0,30.0,null,35.0,52.0,21.0,41.0,35.0,26.0,17.0,69.0,25.0,25.0,36.0,14.0,22.0,24.0,null,19.0,19.0,38.0,23.0,43.0,33.0,28.0,28.0,29.0,59.0,43.0,25.0,24.0,20.0,28.0,24.0,44.0,29.0,42.0,78.0,36.0,37.0,18.0,62.0,55.0,32.0,51.0,21.0,2.0,19.0,20.0,32.0,42.0,18.0,24.0,20.0,22.0,22.0,21.0,26.0,30.0,8.0,45.0,18.0,23.0,29.0,18.0,28.0,28.0,20.0,31.0,37.0,21.0,34.0,25.0,null,45.0,17.0,32.0,17.0,34.0,15.0,22.0,19.0,40.0,51.0,22.0,26.0,22.0,26.0,19.0,16.0,24.0,34.0,42.0,33.0,24.0,23.0,16.0,36.0,30.0,20.0,21.0,27.0,19.0,null,28.0,18.0,23.0,34.0,20.0,17.0,21.0,51.0,null,31.0,39.0,26.0,24.0,31.0,24.0,57.0,36.0,55.0,null,18.0,27.0,50.0,24.0,18.0,44.0,33.0,59.0,18.0,23.0,11.0,25.0,48.0,40.0,2.0,32.0,16.0,6.0,27.0,26.0,29.0,43.0,15.0,31.0,52.0,9.0,null,39.0,13.0,23.0,33.0,18.0,2.0,36.0,15.0,27.0,0.0,3.0,22.0,56.0,23.0,25.0,29.0,17.0,13.0,24.0,38.0,29.0,21.0,27.0,31.0,41.0,29.0,54.0,42.0,17.0,22.0,37.0,21.0,27.0,19.0,28.0,33.0,24.0,19.0,44.0,25.0,38.0,5.0,8.0,28.0,49.0,19.0,34.0,26.0,23.0,22.0,44.0,50.0,21.0,14.0,38.0,29.0,27.0,34.0,41.0,51.0,39.0,42.0,36.0,32.0,6.0,15.0,37.0,44.0,71.0,44.0,18.0,12.0,29.0,9.0,27.0,24.0,28.0,16.0,33.0,24.0,29.0,0.0,13.0,7.0,32.0,34.0,49.0,43.0,54.0,45.0,20.0,33.0,21.0,16.0,35.0,22.0,51.0,2.0,29.0,22.0,20.0,28.0,26.0,28.0,54.0,56.0,25.0,26.0,14.0,37.0,null,20.0,33.0,37.0,15.0,33.0,49.0,24.0,24.0,31.0,19.0,38.0,32.0,19.0,48.0,66.0,13.0,40.0,32.0,51.0,37.0,31.0,37.0,38.0,19.0,43.0,22.0,24.0,21.0,11.0,4.0,0.0,30.0,21.0,40.0,57.0,35.0,32.0,32.0,30.0,69.0,21.0,16.0,25.0,52.0,13.0,37.0,13.0,45.0,55.0,22.0,39.0,35.0,19.0,35.0,62.0,26.0,22.0,40.0,23.0,73.0,28.0,14.0,22.0,71.0,1.0,52.0,22.0,15.0,50.0,20.0,32.0,28.0,74.0,31.0,15.0,38.0,31.0,30.0,26.0,43.0,32.0,14.0,21.0,56.0,55.0,14.0,13.0,43.0,39.0,26.0,28.0,22.0,20.0,43.0,31.0,25.0,20.0,1.0,60.0,11.0,0.0,9.0,38.0,18.0,40.0,21.0,24.0,26.0,47.0,46.0,50.0,17.0,20.0,37.0,24.0,43.0,0.0,24.0,22.0,56.0,58.0,1.0,39.0,33.0,19.0,null,21.0,27.0,31.0,18.0,21.0,22.0,26.0,17.0,null,10.0,25.0,21.0,53.0,21.0,9.0,20.0,19.0,32.0,22.0,51.0,19.0,16.0,64.0,33.0,32.0,43.0,19.0,21.0,38.0,18.0,52.0,null,20.0,64.0,24.0,47.0,35.0,31.0,14.0,25.0,26.0,30.0,19.0,15.0,27.0,56.0,42.0,32.0,34.0,42.0,48.0,30.0,32.0,26.0,47.0,32.0,47.0,null,22.0,18.0,32.0,26.0,20.0,5.0,40.0,18.0,42.0,23.0,35.0,53.0,35.0,18.0,25.0,26.0,42.0,6.0,22.0,21.0,38.0,6.0,49.0,55.0,19.0,48.0,27.0,39.0,47.0,65.0,40.0,37.0,31.0,33.0,23.0,74.0,26.0,24.0,39.0,17.0,15.0,37.0,20.0,42.0,29.0,21.0,21.0,26.0,14.0,29.0,19.0,51.0,null,20.0,38.0,33.0,24.0,52.0,50.0,31.0,25.0,49.0,46.0,26.0,52.0,28.0,15.0,33.0,27.0,38.0,21.0,0.0,32.0,22.0,28.0,19.0,37.0,26.0,18.0,28.0,18.0,23.0,36.0,29.0,31.0,36.0,21.0,53.0,5.0,21.0,50.0,28.0,37.0,27.0,21.0,55.0,24.0,20.0,14.0,25.0,24.0,26.0,20.0,22.0,35.0,40.0,22.0,21.0,25.0,19.0,46.0,28.0,27.0,20.0,10.0,36.0,38.0,29.0,18.0,61.0,19.0,37.0,38.0,41.0,48.0,46.0,39.0,28.0,29.0,14.0,15.0,17.0,null,50.0,24.0,45.0,35.0,21.0,24.0,34.0,26.0,57.0,23.0,32.0,20.0,21.0,19.0,16.0,18.0,35.0,8.0,5.0,31.0,45.0,33.0,2.0,1.0,16.0,28.0,29.0,27.0,34.0,30.0,48.0,19.0,2.0,19.0,19.0,39.0,53.0,18.0,48.0,52.0,55.0,24.0,8.0,18.0,44.0,47.0,28.0,30.0,18.0,35.0,38.0,51.0,77.0,22.0,38.0,42.0,25.0,26.0,27.0,33.0,18.0,36.0,51.0,33.0,18.0,23.0,24.0,20.0,32.0,null,41.0,18.0,34.0,73.0,40.0,63.0,23.0,31.0,41.0,36.0,24.0,27.0,24.0,57.0,31.0,13.0,13.0,18.0,43.0,63.0,9.0,9.0,29.0,null,19.0,31.0,38.0,36.0,27.0,25.0,2.0,1.0,6.0,56.0,65.0,41.0,23.0,29.0,14.0,30.0,21.0,18.0,18.0,38.0,28.0,29.0,42.0,18.0,24.0,37.0,60.0,55.0,20.0,28.0,28.0,37.0,18.0,14.0,51.0,45.0,41.0,21.0,28.0,46.0,55.0,49.0,22.0,17.0,44.0,33.0,50.0,54.0,43.0,26.0,44.0,51.0,4.0,40.0,27.0,8.0,3.0,25.0,25.0,25.0,2.0,3.0,46.0,4.0,12.0,8.0,45.0,38.0,14.0,42.0,28.0,34.0,21.0,26.0,23.0,20.0,37.0,32.0,37.0,27.0,10.0,0.0,21.0,8.0,38.0,22.0,24.0,24.0,34.0,null,32.0,49.0,25.0,36.0,21.0,36.0,54.0,30.0,25.0,18.0,27.0,38.0,23.0,21.0,55.0,20.0,50.0,22.0,24.0,14.0,15.0,30.0,38.0,31.0,41.0,23.0,25.0,19.0,null,54.0,23.0,18.0,58.0,39.0,23.0,11.0,29.0,36.0,13.0,35.0,15.0,27.0,15.0,null,38.0,28.0,23.0,58.0,24.0,56.0,27.0,47.0,37.0,38.0,46.0,44.0,19.0,31.0,33.0,43.0,43.0,36.0,19.0,17.0,18.0,19.0,40.0,7.0,37.0,22.0,37.0,23.0,23.0,34.0,40.0,32.0,31.0,29.0,28.0,22.0,13.0,21.0,27.0,68.0,36.0,30.0,29.0,30.0,33.0,62.0,27.0,18.0,37.0,24.0,29.0,44.0,19.0,39.0,63.0,39.0,26.0,24.0,30.0,19.0,24.0,36.0,35.0,41.0,38.0,56.0,37.0,22.0,26.0,null,48.0,24.0,25.0,22.0,28.0,34.0,47.0,28.0,50.0,55.0,39.0,21.0,23.0,23.0,28.0,54.0,13.0,19.0,21.0,39.0,42.0,36.0,32.0,27.0,13.0,5.0,18.0,23.0,23.0,25.0,32.0,29.0,55.0,41.0,38.0,23.0,33.0,45.0,19.0,39.0,31.0,16.0,38.0,50.0,21.0,36.0,40.0,28.0,38.0,37.0,28.0,28.0,20.0,21.0,2.0,43.0,28.0,31.0,43.0,28.0,24.0,27.0,13.0,27.0,50.0,26.0,31.0,28.0,4.0,35.0,25.0,63.0,35.0,39.0,34.0,36.0,35.0,11.0,14.0,11.0,39.0,7.0,24.0,26.0,40.0,19.0,54.0,21.0,25.0,34.0,0.0,37.0,37.0,49.0,18.0,43.0,20.0,20.0,20.0,24.0,44.0,20.0,42.0,55.0,21.0,17.0,54.0,45.0,30.0,24.0,null,42.0,37.0,23.0,23.0,21.0,37.0,32.0,31.0,null,64.0,31.0,null,36.0,36.0,37.0,45.0,22.0,24.0,23.0,37.0,28.0,53.0,46.0,58.0,27.0,26.0,52.0,36.0,41.0,14.0,24.0,45.0,41.0,45.0,42.0,47.0,23.0,9.0,17.0,26.0,38.0,24.0,2.0,9.0,30.0,5.0,2.0,32.0,38.0,21.0,41.0,19.0,30.0,38.0,17.0,37.0,27.0,15.0,29.0,21.0,60.0,30.0,30.0,26.0,38.0,null,65.0,20.0,24.0,16.0,24.0,27.0,23.0,50.0,30.0,29.0,null,53.0,28.0,31.0,56.0,36.0,30.0,24.0,44.0,25.0,22.0,34.0,31.0,20.0,53.0,32.0,48.0,19.0,22.0,54.0,36.0,63.0,10.0,55.0,44.0,27.0,20.0,26.0,21.0,45.0,22.0,37.0,52.0,21.0,25.0,23.0,38.0,30.0,19.0,24.0,37.0,24.0,14.0,13.0,25.0,36.0,20.0,22.0,null,23.0,18.0,57.0,52.0,40.0,18.0,35.0,52.0,34.0,46.0,23.0,44.0,59.0,42.0,18.0,29.0,49.0,31.0,16.0,24.0,31.0,34.0,35.0,58.0,56.0,25.0,39.0,32.0,64.0,21.0,26.0,43.0,56.0,32.0,20.0,24.0,28.0,12.0,11.0,24.0,38.0,35.0,79.0,22.0,30.0,18.0,46.0,20.0,35.0,26.0,26.0,35.0,18.0,15.0,36.0,33.0,41.0,47.0,36.0,34.0,24.0,16.0,35.0,26.0,39.0,23.0,31.0,49.0,30.0,21.0,27.0,29.0,46.0,22.0,26.0,56.0,10.0,14.0,35.0,13.0,21.0,22.0,29.0,32.0,44.0,39.0,0.0,0.0,7.0,32.0,18.0,49.0,25.0,28.0,32.0,20.0,41.0,29.0,16.0,65.0,42.0,24.0,19.0,26.0,26.0,35.0,24.0,20.0,13.0,40.0,34.0,16.0,37.0,39.0,47.0,23.0,23.0,29.0,21.0,23.0,29.0,21.0,20.0,34.0,12.0,13.0,0.0,45.0,35.0,21.0,46.0,22.0,60.0,48.0,31.0,41.0,24.0,0.0,30.0,28.0,21.0,25.0,24.0,16.0,29.0,13.0,38.0,25.0,26.0,43.0,15.0,20.0,36.0,28.0,26.0,25.0,29.0,28.0,30.0,31.0,27.0,9.0,7.0,18.0,32.0,18.0,32.0,38.0,23.0,36.0,17.0,38.0,14.0,null,18.0,35.0,46.0,49.0,28.0,29.0,27.0,60.0,18.0,38.0,30.0,42.0,36.0,23.0,31.0,48.0,32.0,35.0,null,44.0,40.0,38.0,22.0,32.0,16.0,33.0,38.0,16.0,11.0,22.0,43.0,22.0,30.0,41.0,37.0,49.0,13.0,64.0,24.0,18.0,25.0,19.0,50.0,30.0,52.0,30.0,27.0,13.0,61.0,28.0,null,13.0,39.0,24.0,38.0,20.0,27.0,49.0,33.0,35.0,46.0,31.0,20.0,57.0,43.0,29.0,37.0,17.0,20.0,53.0,1.0,26.0,20.0,23.0,21.0,22.0,21.0,50.0,25.0,31.0,22.0,null,28.0,29.0,23.0,19.0,1.0,49.0,18.0,39.0,37.0,43.0,50.0,26.0,null,28.0,28.0,60.0,27.0,57.0,28.0,42.0,43.0,72.0,49.0,18.0,18.0,14.0,44.0,35.0,22.0,37.0,22.0,14.0,17.0,30.0,65.0,36.0,34.0,23.0,54.0,46.0,19.0,49.0,15.0,22.0,31.0,27.0,20.0,43.0,18.0,15.0,28.0,48.0,27.0,50.0,24.0,24.0,15.0,42.0,51.0,31.0,31.0,21.0,13.0,22.0,22.0,38.0,19.0,44.0,25.0,15.0,34.0,23.0,14.0,19.0,4.0,3.0,58.0,44.0,24.0,28.0,24.0,25.0,20.0,28.0,23.0,42.0,32.0,50.0,19.0,29.0,35.0,18.0,24.0,51.0,42.0,19.0,23.0,22.0,25.0,31.0,23.0,40.0,24.0,42.0,23.0,21.0,46.0,36.0,21.0,34.0,47.0,46.0,40.0,45.0,32.0,40.0,26.0,22.0,2.0,18.0,53.0,22.0,36.0,17.0,15.0,21.0,44.0,21.0,23.0,9.0,19.0,62.0,23.0,27.0,33.0,39.0,27.0,null,40.0,17.0,45.0,62.0,49.0,17.0,17.0,19.0,32.0,27.0,24.0,30.0,51.0,27.0,35.0,48.0,15.0,34.0,34.0,51.0,36.0,32.0,33.0,22.0,32.0,51.0,29.0,32.0,24.0,23.0,49.0,35.0,43.0,28.0,39.0,34.0,30.0,19.0,19.0,32.0,21.0,13.0,25.0,33.0,27.0,21.0,58.0,29.0,23.0,0.0,null,37.0,47.0,43.0,33.0,57.0,46.0,27.0,25.0,24.0,44.0,20.0,23.0,19.0,41.0,50.0,36.0,45.0,58.0,13.0,24.0,20.0,39.0,0.0,10.0,9.0,34.0,11.0,0.0,24.0,42.0,27.0,32.0,25.0,40.0,32.0,31.0,3.0,22.0,32.0,34.0,32.0,28.0,27.0,25.0,61.0,29.0,20.0,18.0,33.0,35.0,68.0,33.0,55.0,23.0,15.0,49.0,8.0,19.0,39.0,29.0,18.0,27.0,24.0,26.0,58.0,13.0,13.0,32.0,50.0,28.0,56.0,42.0,39.0,55.0,27.0,23.0,16.0,24.0,26.0,33.0,17.0,21.0,null,31.0,31.0,22.0,40.0,49.0,22.0,22.0,25.0,33.0,14.0,24.0,null,18.0,27.0,28.0,36.0,30.0,15.0,26.0,25.0,34.0,27.0,39.0,31.0,19.0,37.0,18.0,36.0,14.0,42.0,29.0,23.0,16.0,20.0,50.0,33.0,22.0,19.0,33.0,28.0,54.0,57.0,24.0,18.0,25.0,18.0,20.0,34.0,24.0,23.0,32.0,27.0,28.0,21.0,null,24.0,16.0,40.0,3.0,35.0,46.0,28.0,60.0,34.0,28.0,64.0,13.0,65.0,19.0,48.0,31.0,21.0,20.0,33.0,2.0,53.0,55.0,32.0,16.0,0.0,25.0,39.0,29.0,54.0,null,25.0,36.0,9.0,1.0,47.0,null,33.0,30.0,26.0,35.0,26.0,13.0,37.0,16.0,18.0,21.0,23.0,31.0,19.0,47.0,34.0,2.0,8.0,11.0,19.0,22.0,22.0,52.0,30.0,65.0,27.0,29.0,23.0,23.0,34.0,20.0,18.0,20.0,27.0,55.0,17.0,16.0,51.0,19.0,20.0,40.0,18.0,36.0,23.0,37.0,28.0,26.0,36.0,14.0,14.0,24.0,18.0,36.0,32.0,19.0,23.0,17.0,29.0,27.0,26.0,26.0,50.0,16.0,29.0,38.0,32.0,27.0,32.0,29.0,22.0,31.0,28.0,20.0,28.0,42.0,32.0,19.0,21.0,12.0,31.0,35.0,44.0,21.0,34.0,21.0,31.0,61.0,20.0,39.0,38.0,29.0,27.0,30.0,40.0,59.0,35.0,41.0,36.0,27.0,24.0,22.0,26.0,56.0,25.0,24.0,47.0,26.0,24.0,25.0,21.0,17.0,50.0,54.0,44.0,15.0,24.0,29.0,27.0,17.0,45.0,27.0,29.0,20.0,16.0,48.0,39.0,47.0,0.0,20.0,35.0,18.0,35.0,27.0,37.0,14.0,30.0,45.0,29.0,25.0,60.0,24.0,57.0,46.0,55.0,20.0,31.0,13.0,36.0,25.0,24.0,37.0,5.0,27.0,32.0,41.0,27.0,32.0,18.0,21.0,38.0,16.0,58.0,41.0,28.0,25.0,34.0,29.0,31.0,25.0,23.0,53.0,25.0,20.0,54.0,32.0,16.0,33.0,6.0,33.0,24.0,47.0,15.0,60.0,23.0,0.0,17.0,26.0,56.0,31.0,42.0,50.0,27.0,22.0,3.0,28.0,0.0,37.0,31.0,43.0,15.0,24.0,49.0,73.0,49.0,32.0,null,36.0,23.0,22.0,25.0,52.0,31.0,23.0,35.0,39.0,9.0,25.0,27.0,40.0,18.0,21.0,48.0,27.0,53.0,32.0,40.0,25.0,null,24.0,16.0,25.0,39.0,15.0,43.0,60.0,49.0,40.0,18.0,56.0,29.0,32.0,26.0,25.0,11.0,16.0,22.0,70.0,25.0,28.0,22.0,25.0,19.0,20.0,35.0,37.0,37.0,13.0,20.0,65.0,29.0,28.0,21.0,45.0,22.0,41.0,26.0,19.0,32.0,26.0,21.0,38.0,12.0,25.0,20.0,24.0,34.0,42.0,24.0,28.0,29.0,29.0,14.0,null,23.0,16.0,24.0,21.0,30.0,31.0,20.0,46.0,37.0,49.0,41.0,null,26.0,51.0,36.0,48.0,24.0,19.0,24.0,39.0,23.0,43.0,19.0,35.0,21.0,45.0,22.0,null,63.0,56.0,24.0,36.0,13.0,13.0,44.0,26.0,62.0,24.0,63.0,15.0,32.0,27.0,14.0,32.0,33.0,21.0,57.0,49.0,23.0,24.0,24.0,24.0,26.0,17.0,20.0,22.0,29.0,null,37.0,34.0,23.0,18.0,23.0,18.0,22.0,null,31.0,48.0,32.0,28.0,33.0,33.0,65.0,19.0,31.0,18.0,26.0,38.0,38.0,46.0,32.0,44.0,28.0,14.0,36.0,51.0,54.0,37.0,null,38.0,16.0,25.0,2.0,24.0,32.0,54.0,37.0,20.0,22.0,57.0,51.0,47.0,22.0,36.0,60.0,45.0,30.0,21.0,22.0,10.0,21.0,null,22.0,30.0,21.0,13.0,22.0,34.0,17.0,36.0,36.0,21.0,33.0,40.0,33.0,51.0,39.0,14.0,28.0,18.0,41.0,26.0,63.0,30.0,47.0,14.0,27.0,61.0,39.0,22.0,30.0,26.0,25.0,42.0,33.0,60.0,22.0,15.0,27.0,58.0,60.0,40.0,23.0,20.0,24.0,21.0,55.0,21.0,40.0,43.0,20.0,19.0,62.0,32.0,37.0,40.0,25.0,38.0,43.0,24.0,20.0,19.0,19.0,32.0,30.0,41.0,21.0,19.0,28.0,38.0,24.0,31.0,28.0,43.0,17.0,17.0,20.0,18.0,24.0,25.0,20.0,23.0,71.0,64.0,33.0,22.0,46.0,26.0,14.0,29.0,53.0,45.0,68.0,54.0,18.0,30.0,51.0,19.0,19.0,23.0,37.0,18.0,29.0,25.0,52.0,24.0,25.0,32.0,58.0,44.0,41.0,27.0,40.0,48.0,37.0,35.0,29.0,54.0,null,19.0,22.0,18.0,25.0,15.0,19.0,18.0,50.0,14.0,19.0,39.0,14.0,14.0,31.0,39.0,18.0,44.0,17.0,23.0,28.0,40.0,17.0,31.0,40.0,21.0,29.0,36.0,48.0,33.0,28.0,39.0,53.0,44.0,24.0,7.0,4.0,16.0,24.0,29.0,37.0,49.0,42.0,33.0,27.0,53.0,20.0,0.0,24.0,32.0,30.0,34.0,37.0,54.0,16.0,46.0,23.0,18.0,27.0,24.0,24.0,19.0,18.0,64.0,53.0,25.0,27.0,27.0,22.0,3.0,24.0,63.0,19.0,41.0,44.0,39.0,37.0,18.0,null,32.0,14.0,24.0,20.0,17.0,20.0,28.0,57.0,34.0,17.0,33.0,28.0,13.0,38.0,39.0,43.0,32.0,29.0,45.0,64.0,18.0,44.0,21.0,33.0,3.0,37.0,24.0,26.0,22.0,26.0,27.0,22.0,23.0,18.0,28.0,46.0,0.0,16.0,19.0,34.0,24.0,28.0,20.0,18.0,43.0,48.0,34.0,29.0,22.0,42.0,15.0,42.0,31.0,34.0,21.0,16.0,40.0,6.0,43.0,17.0,1.0,38.0,25.0,6.0,24.0,49.0,18.0,25.0,46.0,33.0,23.0,16.0,58.0,13.0,21.0,69.0,40.0,60.0,49.0,23.0,39.0,31.0,26.0,30.0,23.0,24.0,37.0,21.0,39.0,28.0,32.0,31.0,21.0,null,36.0,27.0,40.0,41.0,15.0,28.0,47.0,55.0,62.0,53.0,29.0,21.0,19.0,14.0,21.0,35.0,27.0,null,24.0,22.0,32.0,21.0,40.0,25.0,25.0,39.0,22.0,35.0,22.0,26.0,17.0,36.0,15.0,54.0,22.0,23.0,73.0,12.0,27.0,31.0,26.0,18.0,52.0,51.0,35.0,14.0,21.0,22.0,30.0,9.0,18.0,29.0,52.0,27.0,54.0,29.0,20.0,39.0,20.0,33.0,32.0,20.0,35.0,19.0,43.0,29.0,20.0,19.0,12.0,18.0,31.0,35.0,23.0,23.0,29.0,41.0,69.0,30.0,34.0,18.0,71.0,19.0,23.0,28.0,24.0,21.0,2.0,20.0,58.0,26.0,45.0,44.0,24.0,27.0,39.0,23.0,4.0,0.0,27.0,60.0,18.0,20.0,13.0,20.0,42.0,18.0,26.0,19.0,19.0,15.0,53.0,39.0,45.0,40.0,26.0,18.0,47.0,31.0,null,32.0,32.0,21.0,null,22.0,46.0,28.0,31.0,18.0,0.0,23.0,35.0,18.0,18.0,49.0,19.0,36.0,23.0,25.0,30.0,20.0,47.0,29.0,32.0,49.0,18.0,43.0,31.0,15.0,65.0,19.0,30.0,37.0,15.0,19.0,20.0,19.0,21.0,18.0,27.0,25.0,72.0,29.0,11.0,7.0,28.0,41.0,null,19.0,38.0,18.0,29.0,19.0,46.0,45.0,61.0,21.0,null,15.0,14.0,40.0,21.0,28.0,17.0,23.0,41.0,30.0,30.0,21.0,21.0,18.0,65.0,25.0,24.0,23.0,45.0,24.0,31.0,18.0,22.0,39.0,33.0,30.0,45.0,39.0,22.0,37.0,37.0,27.0,18.0,null,19.0,25.0,26.0,2.0,7.0,19.0,1.0,22.0,40.0,13.0,24.0,25.0,43.0,46.0,3.0,8.0,11.0,20.0,27.0,24.0,21.0,33.0,32.0,21.0,34.0,19.0,52.0,24.0,18.0,20.0,22.0,17.0,29.0,26.0,36.0,36.0,32.0,32.0,48.0,25.0,32.0,31.0,52.0,19.0,23.0,57.0,43.0,39.0,24.0,35.0,21.0,38.0,31.0,66.0,56.0,21.0,49.0,21.0,23.0,27.0,49.0,38.0,47.0,32.0,22.0,33.0,48.0,31.0,18.0,43.0,51.0,51.0,41.0,56.0,21.0,null,23.0,28.0,39.0,20.0,24.0,45.0,19.0,15.0,18.0,21.0,53.0,19.0,17.0,18.0,27.0,29.0,22.0,19.0,26.0,33.0,53.0,54.0,21.0,22.0,50.0,24.0,25.0,26.0,19.0,37.0,26.0,14.0,3.0,21.0,24.0,18.0,37.0,67.0,26.0,18.0,24.0,26.0,27.0,24.0,31.0,43.0,18.0,47.0,35.0,15.0,46.0,6.0,26.0,49.0,37.0,17.0,38.0,18.0,17.0,22.0,21.0,24.0,50.0,19.0,20.0,18.0,27.0,29.0,32.0,49.0,35.0,29.0,38.0,39.0,19.0,40.0,20.0,41.0,37.0,31.0,8.0,55.0,40.0,21.0,44.0,34.0,42.0,18.0,null,18.0,10.0,8.0,13.0,19.0,44.0,29.0,28.0,36.0,24.0,20.0,38.0,33.0,54.0,51.0,36.0,38.0,28.0,55.0,23.0,38.0,32.0,44.0,66.0,20.0,19.0,null,20.0,49.0,19.0,53.0,31.0,18.0,24.0,35.0,27.0,38.0,23.0,22.0,25.0,45.0,22.0,6.0,14.0,37.0,15.0,58.0,53.0,29.0,21.0,30.0,20.0,18.0,20.0,20.0,4.0,20.0,14.0,0.0,4.0,37.0,18.0,27.0,37.0,37.0,22.0,24.0,63.0,23.0,41.0,20.0,64.0,19.0,44.0,25.0,29.0,13.0,25.0,46.0,29.0,42.0,null,26.0,19.0,50.0,31.0,20.0,23.0,16.0,41.0,24.0,12.0,36.0,33.0,38.0,24.0,24.0,22.0,8.0,29.0,58.0,4.0,17.0,27.0,28.0,19.0,18.0,35.0,19.0,33.0,20.0,27.0,26.0,23.0,24.0,26.0,14.0,18.0,43.0,21.0,57.0,73.0,31.0,25.0,24.0,null,21.0,22.0,39.0,26.0,7.0,4.0,21.0,12.0,28.0,52.0,18.0,28.0,35.0,27.0,35.0,51.0,53.0,29.0,41.0,47.0,22.0,19.0,22.0,5.0,30.0,53.0,9.0,29.0,46.0,27.0,39.0,30.0,41.0,47.0,32.0,15.0,18.0,31.0,25.0,45.0,43.0,21.0,48.0,41.0,23.0,48.0,26.0,22.0,17.0,28.0,27.0,51.0,37.0,27.0,33.0,39.0,21.0,25.0,54.0,36.0,33.0,36.0,16.0,28.0,26.0,42.0,30.0,31.0,29.0,22.0,30.0,23.0,13.0,27.0,27.0,24.0,32.0,22.0,44.0,22.0,8.0,15.0,1.0,16.0,25.0,70.0,30.0,42.0,14.0,32.0,21.0,25.0,38.0,36.0,37.0,47.0,38.0,28.0,53.0,16.0,13.0,55.0,26.0,26.0,36.0,33.0,21.0,33.0,31.0,28.0,13.0,null,35.0,25.0,18.0,22.0,34.0,11.0,22.0,45.0,36.0,31.0,12.0,19.0,38.0,20.0,23.0,35.0,36.0,33.0,54.0,33.0,53.0,31.0,18.0,37.0,34.0,28.0,24.0,18.0,35.0,53.0,32.0,23.0,41.0,30.0,26.0,40.0,60.0,9.0,25.0,21.0,24.0,45.0,22.0,7.0,8.0,22.0,49.0,37.0,14.0,30.0,33.0,61.0,13.0,22.0,21.0,32.0,41.0,18.0,32.0],\"xaxis\":\"x\",\"yaxis\":\"y\",\"type\":\"histogram\"},{\"alignmentgroup\":\"True\",\"hovertemplate\":\"Transported=False<br>Age=%{x}<extra></extra>\",\"legendgroup\":\"False\",\"marker\":{\"color\":\"#636efa\"},\"name\":\"False\",\"notched\":true,\"offsetgroup\":\"False\",\"showlegend\":false,\"x\":[39.0,58.0,33.0,48.0,31.0,27.0,24.0,14.0,1.0,49.0,29.0,1.0,7.0,21.0,15.0,34.0,43.0,32.0,23.0,15.0,20.0,30.0,45.0,55.0,21.0,35.0,56.0,null,36.0,22.0,62.0,62.0,21.0,null,19.0,17.0,14.0,37.0,38.0,13.0,42.0,43.0,27.0,19.0,54.0,26.0,23.0,18.0,6.0,27.0,21.0,23.0,31.0,32.0,40.0,27.0,39.0,29.0,18.0,35.0,61.0,45.0,36.0,47.0,34.0,26.0,31.0,56.0,42.0,38.0,41.0,22.0,17.0,27.0,31.0,24.0,21.0,38.0,38.0,0.0,20.0,25.0,49.0,11.0,8.0,39.0,23.0,25.0,36.0,18.0,29.0,19.0,17.0,13.0,35.0,21.0,21.0,38.0,13.0,25.0,16.0,1.0,21.0,23.0,33.0,41.0,16.0,42.0,20.0,21.0,32.0,24.0,30.0,27.0,32.0,43.0,37.0,33.0,18.0,21.0,33.0,21.0,33.0,47.0,30.0,29.0,21.0,22.0,26.0,26.0,13.0,63.0,35.0,45.0,57.0,28.0,19.0,16.0,23.0,28.0,23.0,23.0,18.0,67.0,26.0,18.0,21.0,59.0,13.0,43.0,29.0,33.0,25.0,29.0,44.0,5.0,31.0,30.0,27.0,23.0,41.0,26.0,15.0,null,26.0,30.0,24.0,41.0,20.0,63.0,18.0,79.0,33.0,23.0,28.0,34.0,23.0,49.0,14.0,18.0,48.0,31.0,61.0,22.0,30.0,30.0,17.0,23.0,20.0,39.0,35.0,31.0,21.0,16.0,18.0,42.0,22.0,37.0,17.0,47.0,56.0,39.0,40.0,34.0,32.0,35.0,32.0,26.0,25.0,26.0,24.0,55.0,6.0,7.0,15.0,50.0,34.0,14.0,19.0,36.0,34.0,16.0,37.0,36.0,27.0,22.0,27.0,27.0,28.0,21.0,39.0,28.0,21.0,42.0,22.0,43.0,42.0,64.0,55.0,null,55.0,42.0,null,46.0,26.0,1.0,33.0,34.0,49.0,22.0,38.0,17.0,26.0,23.0,24.0,23.0,42.0,33.0,21.0,4.0,22.0,33.0,28.0,31.0,33.0,19.0,55.0,19.0,null,21.0,65.0,50.0,22.0,23.0,18.0,20.0,23.0,48.0,19.0,null,9.0,24.0,21.0,19.0,26.0,25.0,21.0,37.0,44.0,43.0,33.0,24.0,58.0,21.0,38.0,31.0,39.0,37.0,13.0,21.0,20.0,36.0,79.0,20.0,33.0,32.0,38.0,21.0,15.0,44.0,36.0,15.0,45.0,26.0,25.0,46.0,15.0,37.0,20.0,45.0,7.0,5.0,30.0,41.0,29.0,19.0,34.0,19.0,21.0,34.0,24.0,24.0,23.0,20.0,26.0,1.0,2.0,25.0,21.0,19.0,24.0,20.0,19.0,23.0,62.0,23.0,65.0,67.0,41.0,19.0,22.0,65.0,34.0,67.0,30.0,22.0,23.0,49.0,36.0,0.0,null,54.0,10.0,25.0,37.0,30.0,30.0,21.0,21.0,32.0,7.0,16.0,31.0,30.0,24.0,39.0,34.0,29.0,null,31.0,31.0,null,42.0,41.0,13.0,24.0,20.0,18.0,51.0,42.0,31.0,14.0,32.0,32.0,27.0,57.0,13.0,23.0,24.0,36.0,11.0,6.0,null,55.0,null,16.0,19.0,38.0,35.0,37.0,46.0,41.0,13.0,31.0,48.0,16.0,25.0,44.0,23.0,44.0,29.0,41.0,28.0,32.0,38.0,20.0,24.0,26.0,44.0,31.0,33.0,34.0,30.0,25.0,38.0,29.0,36.0,24.0,13.0,18.0,16.0,8.0,26.0,45.0,48.0,17.0,19.0,19.0,29.0,20.0,64.0,21.0,20.0,24.0,51.0,45.0,24.0,23.0,20.0,null,16.0,28.0,6.0,26.0,27.0,29.0,35.0,37.0,24.0,47.0,26.0,27.0,18.0,15.0,42.0,20.0,21.0,31.0,58.0,29.0,44.0,20.0,15.0,18.0,54.0,0.0,20.0,21.0,46.0,31.0,23.0,14.0,25.0,31.0,47.0,49.0,37.0,44.0,16.0,21.0,22.0,27.0,19.0,57.0,26.0,38.0,35.0,25.0,37.0,25.0,41.0,50.0,33.0,31.0,54.0,11.0,4.0,20.0,26.0,60.0,null,22.0,18.0,18.0,29.0,39.0,17.0,58.0,23.0,38.0,31.0,18.0,28.0,28.0,23.0,22.0,35.0,55.0,26.0,null,30.0,34.0,7.0,3.0,0.0,10.0,16.0,41.0,26.0,27.0,19.0,46.0,37.0,30.0,16.0,40.0,23.0,20.0,19.0,30.0,8.0,1.0,12.0,30.0,10.0,11.0,58.0,36.0,32.0,32.0,16.0,50.0,20.0,23.0,23.0,53.0,8.0,3.0,60.0,40.0,14.0,23.0,4.0,20.0,75.0,38.0,41.0,29.0,21.0,41.0,32.0,30.0,22.0,54.0,27.0,27.0,30.0,19.0,43.0,25.0,51.0,21.0,21.0,23.0,38.0,30.0,14.0,18.0,19.0,36.0,21.0,24.0,8.0,18.0,33.0,20.0,28.0,19.0,27.0,4.0,10.0,37.0,22.0,30.0,37.0,57.0,17.0,26.0,36.0,25.0,2.0,10.0,24.0,30.0,19.0,26.0,47.0,29.0,32.0,44.0,35.0,23.0,34.0,25.0,22.0,14.0,42.0,19.0,22.0,31.0,39.0,21.0,23.0,33.0,27.0,21.0,25.0,2.0,19.0,41.0,19.0,16.0,42.0,35.0,17.0,6.0,39.0,31.0,21.0,44.0,36.0,19.0,39.0,28.0,18.0,18.0,47.0,42.0,17.0,21.0,26.0,23.0,15.0,18.0,65.0,27.0,41.0,42.0,null,37.0,17.0,29.0,24.0,67.0,44.0,14.0,51.0,20.0,0.0,23.0,24.0,41.0,30.0,27.0,59.0,30.0,46.0,21.0,34.0,33.0,16.0,37.0,76.0,61.0,46.0,null,23.0,63.0,21.0,33.0,39.0,27.0,16.0,19.0,26.0,56.0,38.0,30.0,21.0,11.0,3.0,17.0,63.0,35.0,61.0,14.0,78.0,21.0,32.0,31.0,36.0,31.0,18.0,23.0,46.0,27.0,53.0,32.0,26.0,13.0,21.0,21.0,26.0,53.0,37.0,45.0,62.0,38.0,24.0,18.0,23.0,16.0,22.0,26.0,25.0,55.0,28.0,22.0,13.0,18.0,57.0,0.0,33.0,23.0,37.0,18.0,42.0,24.0,24.0,16.0,26.0,24.0,37.0,25.0,29.0,19.0,4.0,37.0,61.0,25.0,22.0,41.0,19.0,14.0,18.0,33.0,14.0,43.0,47.0,28.0,17.0,21.0,41.0,20.0,56.0,57.0,37.0,20.0,22.0,31.0,21.0,49.0,44.0,null,29.0,16.0,20.0,26.0,19.0,34.0,51.0,7.0,26.0,27.0,7.0,28.0,27.0,26.0,43.0,23.0,64.0,13.0,29.0,70.0,23.0,35.0,17.0,15.0,19.0,51.0,17.0,27.0,43.0,5.0,17.0,38.0,13.0,15.0,15.0,24.0,52.0,38.0,15.0,22.0,18.0,22.0,34.0,28.0,21.0,0.0,59.0,26.0,67.0,55.0,50.0,23.0,15.0,18.0,21.0,null,30.0,21.0,15.0,28.0,40.0,42.0,21.0,31.0,51.0,73.0,39.0,19.0,10.0,0.0,33.0,23.0,26.0,30.0,33.0,56.0,null,18.0,16.0,26.0,16.0,24.0,29.0,22.0,48.0,55.0,46.0,38.0,20.0,65.0,null,25.0,54.0,25.0,39.0,31.0,35.0,35.0,61.0,26.0,4.0,1.0,7.0,25.0,6.0,29.0,25.0,0.0,29.0,37.0,49.0,36.0,20.0,48.0,26.0,35.0,22.0,5.0,43.0,52.0,19.0,21.0,25.0,19.0,42.0,40.0,14.0,50.0,18.0,46.0,null,22.0,0.0,46.0,23.0,50.0,20.0,55.0,18.0,47.0,57.0,13.0,27.0,20.0,47.0,15.0,34.0,21.0,51.0,23.0,58.0,37.0,25.0,40.0,24.0,2.0,43.0,63.0,54.0,41.0,22.0,39.0,26.0,29.0,27.0,17.0,44.0,22.0,31.0,30.0,15.0,55.0,33.0,19.0,24.0,4.0,2.0,31.0,46.0,30.0,17.0,20.0,36.0,20.0,24.0,43.0,42.0,21.0,50.0,30.0,26.0,39.0,null,11.0,52.0,14.0,68.0,22.0,17.0,38.0,13.0,27.0,45.0,23.0,24.0,29.0,46.0,20.0,24.0,40.0,38.0,38.0,21.0,33.0,43.0,13.0,26.0,22.0,25.0,29.0,49.0,30.0,29.0,26.0,16.0,20.0,33.0,18.0,24.0,29.0,35.0,31.0,26.0,23.0,23.0,21.0,18.0,null,22.0,17.0,13.0,26.0,null,20.0,20.0,23.0,61.0,21.0,7.0,56.0,15.0,13.0,38.0,45.0,21.0,19.0,49.0,27.0,20.0,20.0,24.0,41.0,30.0,24.0,31.0,46.0,20.0,20.0,30.0,24.0,34.0,20.0,25.0,43.0,47.0,42.0,29.0,51.0,43.0,31.0,13.0,20.0,29.0,16.0,50.0,36.0,null,25.0,63.0,22.0,32.0,31.0,24.0,39.0,19.0,20.0,31.0,24.0,27.0,27.0,62.0,58.0,37.0,54.0,26.0,43.0,42.0,30.0,19.0,22.0,36.0,19.0,47.0,18.0,20.0,18.0,37.0,22.0,6.0,36.0,46.0,75.0,37.0,33.0,35.0,19.0,34.0,37.0,24.0,54.0,60.0,22.0,47.0,49.0,33.0,5.0,59.0,33.0,28.0,29.0,13.0,39.0,18.0,57.0,null,22.0,21.0,16.0,44.0,26.0,46.0,24.0,53.0,28.0,7.0,31.0,9.0,44.0,35.0,13.0,45.0,20.0,3.0,35.0,19.0,22.0,30.0,36.0,22.0,35.0,41.0,57.0,3.0,17.0,30.0,23.0,22.0,24.0,20.0,49.0,46.0,30.0,36.0,21.0,25.0,13.0,25.0,29.0,22.0,42.0,43.0,32.0,20.0,17.0,13.0,19.0,33.0,21.0,17.0,31.0,43.0,43.0,27.0,16.0,42.0,19.0,42.0,13.0,69.0,15.0,48.0,42.0,42.0,23.0,26.0,45.0,30.0,null,35.0,52.0,21.0,41.0,35.0,26.0,17.0,69.0,25.0,25.0,36.0,14.0,22.0,24.0,null,19.0,19.0,38.0,23.0,43.0,33.0,28.0,28.0,29.0,59.0,43.0,25.0,24.0,20.0,28.0,24.0,44.0,29.0,42.0,78.0,36.0,37.0,18.0,62.0,55.0,32.0,51.0,21.0,2.0,19.0,20.0,32.0,42.0,18.0,24.0,20.0,22.0,22.0,21.0,26.0,30.0,8.0,45.0,18.0,23.0,29.0,18.0,28.0,28.0,20.0,31.0,37.0,21.0,34.0,25.0,null,45.0,17.0,32.0,17.0,34.0,15.0,22.0,19.0,40.0,51.0,22.0,26.0,22.0,26.0,19.0,16.0,24.0,34.0,42.0,33.0,24.0,23.0,16.0,36.0,30.0,20.0,21.0,27.0,19.0,null,28.0,18.0,23.0,34.0,20.0,17.0,21.0,51.0,null,31.0,39.0,26.0,24.0,31.0,24.0,57.0,36.0,55.0,null,18.0,27.0,50.0,24.0,18.0,44.0,33.0,59.0,18.0,23.0,11.0,25.0,48.0,40.0,2.0,32.0,16.0,6.0,27.0,26.0,29.0,43.0,15.0,31.0,52.0,9.0,null,39.0,13.0,23.0,33.0,18.0,2.0,36.0,15.0,27.0,0.0,3.0,22.0,56.0,23.0,25.0,29.0,17.0,13.0,24.0,38.0,29.0,21.0,27.0,31.0,41.0,29.0,54.0,42.0,17.0,22.0,37.0,21.0,27.0,19.0,28.0,33.0,24.0,19.0,44.0,25.0,38.0,5.0,8.0,28.0,49.0,19.0,34.0,26.0,23.0,22.0,44.0,50.0,21.0,14.0,38.0,29.0,27.0,34.0,41.0,51.0,39.0,42.0,36.0,32.0,6.0,15.0,37.0,44.0,71.0,44.0,18.0,12.0,29.0,9.0,27.0,24.0,28.0,16.0,33.0,24.0,29.0,0.0,13.0,7.0,32.0,34.0,49.0,43.0,54.0,45.0,20.0,33.0,21.0,16.0,35.0,22.0,51.0,2.0,29.0,22.0,20.0,28.0,26.0,28.0,54.0,56.0,25.0,26.0,14.0,37.0,null,20.0,33.0,37.0,15.0,33.0,49.0,24.0,24.0,31.0,19.0,38.0,32.0,19.0,48.0,66.0,13.0,40.0,32.0,51.0,37.0,31.0,37.0,38.0,19.0,43.0,22.0,24.0,21.0,11.0,4.0,0.0,30.0,21.0,40.0,57.0,35.0,32.0,32.0,30.0,69.0,21.0,16.0,25.0,52.0,13.0,37.0,13.0,45.0,55.0,22.0,39.0,35.0,19.0,35.0,62.0,26.0,22.0,40.0,23.0,73.0,28.0,14.0,22.0,71.0,1.0,52.0,22.0,15.0,50.0,20.0,32.0,28.0,74.0,31.0,15.0,38.0,31.0,30.0,26.0,43.0,32.0,14.0,21.0,56.0,55.0,14.0,13.0,43.0,39.0,26.0,28.0,22.0,20.0,43.0,31.0,25.0,20.0,1.0,60.0,11.0,0.0,9.0,38.0,18.0,40.0,21.0,24.0,26.0,47.0,46.0,50.0,17.0,20.0,37.0,24.0,43.0,0.0,24.0,22.0,56.0,58.0,1.0,39.0,33.0,19.0,null,21.0,27.0,31.0,18.0,21.0,22.0,26.0,17.0,null,10.0,25.0,21.0,53.0,21.0,9.0,20.0,19.0,32.0,22.0,51.0,19.0,16.0,64.0,33.0,32.0,43.0,19.0,21.0,38.0,18.0,52.0,null,20.0,64.0,24.0,47.0,35.0,31.0,14.0,25.0,26.0,30.0,19.0,15.0,27.0,56.0,42.0,32.0,34.0,42.0,48.0,30.0,32.0,26.0,47.0,32.0,47.0,null,22.0,18.0,32.0,26.0,20.0,5.0,40.0,18.0,42.0,23.0,35.0,53.0,35.0,18.0,25.0,26.0,42.0,6.0,22.0,21.0,38.0,6.0,49.0,55.0,19.0,48.0,27.0,39.0,47.0,65.0,40.0,37.0,31.0,33.0,23.0,74.0,26.0,24.0,39.0,17.0,15.0,37.0,20.0,42.0,29.0,21.0,21.0,26.0,14.0,29.0,19.0,51.0,null,20.0,38.0,33.0,24.0,52.0,50.0,31.0,25.0,49.0,46.0,26.0,52.0,28.0,15.0,33.0,27.0,38.0,21.0,0.0,32.0,22.0,28.0,19.0,37.0,26.0,18.0,28.0,18.0,23.0,36.0,29.0,31.0,36.0,21.0,53.0,5.0,21.0,50.0,28.0,37.0,27.0,21.0,55.0,24.0,20.0,14.0,25.0,24.0,26.0,20.0,22.0,35.0,40.0,22.0,21.0,25.0,19.0,46.0,28.0,27.0,20.0,10.0,36.0,38.0,29.0,18.0,61.0,19.0,37.0,38.0,41.0,48.0,46.0,39.0,28.0,29.0,14.0,15.0,17.0,null,50.0,24.0,45.0,35.0,21.0,24.0,34.0,26.0,57.0,23.0,32.0,20.0,21.0,19.0,16.0,18.0,35.0,8.0,5.0,31.0,45.0,33.0,2.0,1.0,16.0,28.0,29.0,27.0,34.0,30.0,48.0,19.0,2.0,19.0,19.0,39.0,53.0,18.0,48.0,52.0,55.0,24.0,8.0,18.0,44.0,47.0,28.0,30.0,18.0,35.0,38.0,51.0,77.0,22.0,38.0,42.0,25.0,26.0,27.0,33.0,18.0,36.0,51.0,33.0,18.0,23.0,24.0,20.0,32.0,null,41.0,18.0,34.0,73.0,40.0,63.0,23.0,31.0,41.0,36.0,24.0,27.0,24.0,57.0,31.0,13.0,13.0,18.0,43.0,63.0,9.0,9.0,29.0,null,19.0,31.0,38.0,36.0,27.0,25.0,2.0,1.0,6.0,56.0,65.0,41.0,23.0,29.0,14.0,30.0,21.0,18.0,18.0,38.0,28.0,29.0,42.0,18.0,24.0,37.0,60.0,55.0,20.0,28.0,28.0,37.0,18.0,14.0,51.0,45.0,41.0,21.0,28.0,46.0,55.0,49.0,22.0,17.0,44.0,33.0,50.0,54.0,43.0,26.0,44.0,51.0,4.0,40.0,27.0,8.0,3.0,25.0,25.0,25.0,2.0,3.0,46.0,4.0,12.0,8.0,45.0,38.0,14.0,42.0,28.0,34.0,21.0,26.0,23.0,20.0,37.0,32.0,37.0,27.0,10.0,0.0,21.0,8.0,38.0,22.0,24.0,24.0,34.0,null,32.0,49.0,25.0,36.0,21.0,36.0,54.0,30.0,25.0,18.0,27.0,38.0,23.0,21.0,55.0,20.0,50.0,22.0,24.0,14.0,15.0,30.0,38.0,31.0,41.0,23.0,25.0,19.0,null,54.0,23.0,18.0,58.0,39.0,23.0,11.0,29.0,36.0,13.0,35.0,15.0,27.0,15.0,null,38.0,28.0,23.0,58.0,24.0,56.0,27.0,47.0,37.0,38.0,46.0,44.0,19.0,31.0,33.0,43.0,43.0,36.0,19.0,17.0,18.0,19.0,40.0,7.0,37.0,22.0,37.0,23.0,23.0,34.0,40.0,32.0,31.0,29.0,28.0,22.0,13.0,21.0,27.0,68.0,36.0,30.0,29.0,30.0,33.0,62.0,27.0,18.0,37.0,24.0,29.0,44.0,19.0,39.0,63.0,39.0,26.0,24.0,30.0,19.0,24.0,36.0,35.0,41.0,38.0,56.0,37.0,22.0,26.0,null,48.0,24.0,25.0,22.0,28.0,34.0,47.0,28.0,50.0,55.0,39.0,21.0,23.0,23.0,28.0,54.0,13.0,19.0,21.0,39.0,42.0,36.0,32.0,27.0,13.0,5.0,18.0,23.0,23.0,25.0,32.0,29.0,55.0,41.0,38.0,23.0,33.0,45.0,19.0,39.0,31.0,16.0,38.0,50.0,21.0,36.0,40.0,28.0,38.0,37.0,28.0,28.0,20.0,21.0,2.0,43.0,28.0,31.0,43.0,28.0,24.0,27.0,13.0,27.0,50.0,26.0,31.0,28.0,4.0,35.0,25.0,63.0,35.0,39.0,34.0,36.0,35.0,11.0,14.0,11.0,39.0,7.0,24.0,26.0,40.0,19.0,54.0,21.0,25.0,34.0,0.0,37.0,37.0,49.0,18.0,43.0,20.0,20.0,20.0,24.0,44.0,20.0,42.0,55.0,21.0,17.0,54.0,45.0,30.0,24.0,null,42.0,37.0,23.0,23.0,21.0,37.0,32.0,31.0,null,64.0,31.0,null,36.0,36.0,37.0,45.0,22.0,24.0,23.0,37.0,28.0,53.0,46.0,58.0,27.0,26.0,52.0,36.0,41.0,14.0,24.0,45.0,41.0,45.0,42.0,47.0,23.0,9.0,17.0,26.0,38.0,24.0,2.0,9.0,30.0,5.0,2.0,32.0,38.0,21.0,41.0,19.0,30.0,38.0,17.0,37.0,27.0,15.0,29.0,21.0,60.0,30.0,30.0,26.0,38.0,null,65.0,20.0,24.0,16.0,24.0,27.0,23.0,50.0,30.0,29.0,null,53.0,28.0,31.0,56.0,36.0,30.0,24.0,44.0,25.0,22.0,34.0,31.0,20.0,53.0,32.0,48.0,19.0,22.0,54.0,36.0,63.0,10.0,55.0,44.0,27.0,20.0,26.0,21.0,45.0,22.0,37.0,52.0,21.0,25.0,23.0,38.0,30.0,19.0,24.0,37.0,24.0,14.0,13.0,25.0,36.0,20.0,22.0,null,23.0,18.0,57.0,52.0,40.0,18.0,35.0,52.0,34.0,46.0,23.0,44.0,59.0,42.0,18.0,29.0,49.0,31.0,16.0,24.0,31.0,34.0,35.0,58.0,56.0,25.0,39.0,32.0,64.0,21.0,26.0,43.0,56.0,32.0,20.0,24.0,28.0,12.0,11.0,24.0,38.0,35.0,79.0,22.0,30.0,18.0,46.0,20.0,35.0,26.0,26.0,35.0,18.0,15.0,36.0,33.0,41.0,47.0,36.0,34.0,24.0,16.0,35.0,26.0,39.0,23.0,31.0,49.0,30.0,21.0,27.0,29.0,46.0,22.0,26.0,56.0,10.0,14.0,35.0,13.0,21.0,22.0,29.0,32.0,44.0,39.0,0.0,0.0,7.0,32.0,18.0,49.0,25.0,28.0,32.0,20.0,41.0,29.0,16.0,65.0,42.0,24.0,19.0,26.0,26.0,35.0,24.0,20.0,13.0,40.0,34.0,16.0,37.0,39.0,47.0,23.0,23.0,29.0,21.0,23.0,29.0,21.0,20.0,34.0,12.0,13.0,0.0,45.0,35.0,21.0,46.0,22.0,60.0,48.0,31.0,41.0,24.0,0.0,30.0,28.0,21.0,25.0,24.0,16.0,29.0,13.0,38.0,25.0,26.0,43.0,15.0,20.0,36.0,28.0,26.0,25.0,29.0,28.0,30.0,31.0,27.0,9.0,7.0,18.0,32.0,18.0,32.0,38.0,23.0,36.0,17.0,38.0,14.0,null,18.0,35.0,46.0,49.0,28.0,29.0,27.0,60.0,18.0,38.0,30.0,42.0,36.0,23.0,31.0,48.0,32.0,35.0,null,44.0,40.0,38.0,22.0,32.0,16.0,33.0,38.0,16.0,11.0,22.0,43.0,22.0,30.0,41.0,37.0,49.0,13.0,64.0,24.0,18.0,25.0,19.0,50.0,30.0,52.0,30.0,27.0,13.0,61.0,28.0,null,13.0,39.0,24.0,38.0,20.0,27.0,49.0,33.0,35.0,46.0,31.0,20.0,57.0,43.0,29.0,37.0,17.0,20.0,53.0,1.0,26.0,20.0,23.0,21.0,22.0,21.0,50.0,25.0,31.0,22.0,null,28.0,29.0,23.0,19.0,1.0,49.0,18.0,39.0,37.0,43.0,50.0,26.0,null,28.0,28.0,60.0,27.0,57.0,28.0,42.0,43.0,72.0,49.0,18.0,18.0,14.0,44.0,35.0,22.0,37.0,22.0,14.0,17.0,30.0,65.0,36.0,34.0,23.0,54.0,46.0,19.0,49.0,15.0,22.0,31.0,27.0,20.0,43.0,18.0,15.0,28.0,48.0,27.0,50.0,24.0,24.0,15.0,42.0,51.0,31.0,31.0,21.0,13.0,22.0,22.0,38.0,19.0,44.0,25.0,15.0,34.0,23.0,14.0,19.0,4.0,3.0,58.0,44.0,24.0,28.0,24.0,25.0,20.0,28.0,23.0,42.0,32.0,50.0,19.0,29.0,35.0,18.0,24.0,51.0,42.0,19.0,23.0,22.0,25.0,31.0,23.0,40.0,24.0,42.0,23.0,21.0,46.0,36.0,21.0,34.0,47.0,46.0,40.0,45.0,32.0,40.0,26.0,22.0,2.0,18.0,53.0,22.0,36.0,17.0,15.0,21.0,44.0,21.0,23.0,9.0,19.0,62.0,23.0,27.0,33.0,39.0,27.0,null,40.0,17.0,45.0,62.0,49.0,17.0,17.0,19.0,32.0,27.0,24.0,30.0,51.0,27.0,35.0,48.0,15.0,34.0,34.0,51.0,36.0,32.0,33.0,22.0,32.0,51.0,29.0,32.0,24.0,23.0,49.0,35.0,43.0,28.0,39.0,34.0,30.0,19.0,19.0,32.0,21.0,13.0,25.0,33.0,27.0,21.0,58.0,29.0,23.0,0.0,null,37.0,47.0,43.0,33.0,57.0,46.0,27.0,25.0,24.0,44.0,20.0,23.0,19.0,41.0,50.0,36.0,45.0,58.0,13.0,24.0,20.0,39.0,0.0,10.0,9.0,34.0,11.0,0.0,24.0,42.0,27.0,32.0,25.0,40.0,32.0,31.0,3.0,22.0,32.0,34.0,32.0,28.0,27.0,25.0,61.0,29.0,20.0,18.0,33.0,35.0,68.0,33.0,55.0,23.0,15.0,49.0,8.0,19.0,39.0,29.0,18.0,27.0,24.0,26.0,58.0,13.0,13.0,32.0,50.0,28.0,56.0,42.0,39.0,55.0,27.0,23.0,16.0,24.0,26.0,33.0,17.0,21.0,null,31.0,31.0,22.0,40.0,49.0,22.0,22.0,25.0,33.0,14.0,24.0,null,18.0,27.0,28.0,36.0,30.0,15.0,26.0,25.0,34.0,27.0,39.0,31.0,19.0,37.0,18.0,36.0,14.0,42.0,29.0,23.0,16.0,20.0,50.0,33.0,22.0,19.0,33.0,28.0,54.0,57.0,24.0,18.0,25.0,18.0,20.0,34.0,24.0,23.0,32.0,27.0,28.0,21.0,null,24.0,16.0,40.0,3.0,35.0,46.0,28.0,60.0,34.0,28.0,64.0,13.0,65.0,19.0,48.0,31.0,21.0,20.0,33.0,2.0,53.0,55.0,32.0,16.0,0.0,25.0,39.0,29.0,54.0,null,25.0,36.0,9.0,1.0,47.0,null,33.0,30.0,26.0,35.0,26.0,13.0,37.0,16.0,18.0,21.0,23.0,31.0,19.0,47.0,34.0,2.0,8.0,11.0,19.0,22.0,22.0,52.0,30.0,65.0,27.0,29.0,23.0,23.0,34.0,20.0,18.0,20.0,27.0,55.0,17.0,16.0,51.0,19.0,20.0,40.0,18.0,36.0,23.0,37.0,28.0,26.0,36.0,14.0,14.0,24.0,18.0,36.0,32.0,19.0,23.0,17.0,29.0,27.0,26.0,26.0,50.0,16.0,29.0,38.0,32.0,27.0,32.0,29.0,22.0,31.0,28.0,20.0,28.0,42.0,32.0,19.0,21.0,12.0,31.0,35.0,44.0,21.0,34.0,21.0,31.0,61.0,20.0,39.0,38.0,29.0,27.0,30.0,40.0,59.0,35.0,41.0,36.0,27.0,24.0,22.0,26.0,56.0,25.0,24.0,47.0,26.0,24.0,25.0,21.0,17.0,50.0,54.0,44.0,15.0,24.0,29.0,27.0,17.0,45.0,27.0,29.0,20.0,16.0,48.0,39.0,47.0,0.0,20.0,35.0,18.0,35.0,27.0,37.0,14.0,30.0,45.0,29.0,25.0,60.0,24.0,57.0,46.0,55.0,20.0,31.0,13.0,36.0,25.0,24.0,37.0,5.0,27.0,32.0,41.0,27.0,32.0,18.0,21.0,38.0,16.0,58.0,41.0,28.0,25.0,34.0,29.0,31.0,25.0,23.0,53.0,25.0,20.0,54.0,32.0,16.0,33.0,6.0,33.0,24.0,47.0,15.0,60.0,23.0,0.0,17.0,26.0,56.0,31.0,42.0,50.0,27.0,22.0,3.0,28.0,0.0,37.0,31.0,43.0,15.0,24.0,49.0,73.0,49.0,32.0,null,36.0,23.0,22.0,25.0,52.0,31.0,23.0,35.0,39.0,9.0,25.0,27.0,40.0,18.0,21.0,48.0,27.0,53.0,32.0,40.0,25.0,null,24.0,16.0,25.0,39.0,15.0,43.0,60.0,49.0,40.0,18.0,56.0,29.0,32.0,26.0,25.0,11.0,16.0,22.0,70.0,25.0,28.0,22.0,25.0,19.0,20.0,35.0,37.0,37.0,13.0,20.0,65.0,29.0,28.0,21.0,45.0,22.0,41.0,26.0,19.0,32.0,26.0,21.0,38.0,12.0,25.0,20.0,24.0,34.0,42.0,24.0,28.0,29.0,29.0,14.0,null,23.0,16.0,24.0,21.0,30.0,31.0,20.0,46.0,37.0,49.0,41.0,null,26.0,51.0,36.0,48.0,24.0,19.0,24.0,39.0,23.0,43.0,19.0,35.0,21.0,45.0,22.0,null,63.0,56.0,24.0,36.0,13.0,13.0,44.0,26.0,62.0,24.0,63.0,15.0,32.0,27.0,14.0,32.0,33.0,21.0,57.0,49.0,23.0,24.0,24.0,24.0,26.0,17.0,20.0,22.0,29.0,null,37.0,34.0,23.0,18.0,23.0,18.0,22.0,null,31.0,48.0,32.0,28.0,33.0,33.0,65.0,19.0,31.0,18.0,26.0,38.0,38.0,46.0,32.0,44.0,28.0,14.0,36.0,51.0,54.0,37.0,null,38.0,16.0,25.0,2.0,24.0,32.0,54.0,37.0,20.0,22.0,57.0,51.0,47.0,22.0,36.0,60.0,45.0,30.0,21.0,22.0,10.0,21.0,null,22.0,30.0,21.0,13.0,22.0,34.0,17.0,36.0,36.0,21.0,33.0,40.0,33.0,51.0,39.0,14.0,28.0,18.0,41.0,26.0,63.0,30.0,47.0,14.0,27.0,61.0,39.0,22.0,30.0,26.0,25.0,42.0,33.0,60.0,22.0,15.0,27.0,58.0,60.0,40.0,23.0,20.0,24.0,21.0,55.0,21.0,40.0,43.0,20.0,19.0,62.0,32.0,37.0,40.0,25.0,38.0,43.0,24.0,20.0,19.0,19.0,32.0,30.0,41.0,21.0,19.0,28.0,38.0,24.0,31.0,28.0,43.0,17.0,17.0,20.0,18.0,24.0,25.0,20.0,23.0,71.0,64.0,33.0,22.0,46.0,26.0,14.0,29.0,53.0,45.0,68.0,54.0,18.0,30.0,51.0,19.0,19.0,23.0,37.0,18.0,29.0,25.0,52.0,24.0,25.0,32.0,58.0,44.0,41.0,27.0,40.0,48.0,37.0,35.0,29.0,54.0,null,19.0,22.0,18.0,25.0,15.0,19.0,18.0,50.0,14.0,19.0,39.0,14.0,14.0,31.0,39.0,18.0,44.0,17.0,23.0,28.0,40.0,17.0,31.0,40.0,21.0,29.0,36.0,48.0,33.0,28.0,39.0,53.0,44.0,24.0,7.0,4.0,16.0,24.0,29.0,37.0,49.0,42.0,33.0,27.0,53.0,20.0,0.0,24.0,32.0,30.0,34.0,37.0,54.0,16.0,46.0,23.0,18.0,27.0,24.0,24.0,19.0,18.0,64.0,53.0,25.0,27.0,27.0,22.0,3.0,24.0,63.0,19.0,41.0,44.0,39.0,37.0,18.0,null,32.0,14.0,24.0,20.0,17.0,20.0,28.0,57.0,34.0,17.0,33.0,28.0,13.0,38.0,39.0,43.0,32.0,29.0,45.0,64.0,18.0,44.0,21.0,33.0,3.0,37.0,24.0,26.0,22.0,26.0,27.0,22.0,23.0,18.0,28.0,46.0,0.0,16.0,19.0,34.0,24.0,28.0,20.0,18.0,43.0,48.0,34.0,29.0,22.0,42.0,15.0,42.0,31.0,34.0,21.0,16.0,40.0,6.0,43.0,17.0,1.0,38.0,25.0,6.0,24.0,49.0,18.0,25.0,46.0,33.0,23.0,16.0,58.0,13.0,21.0,69.0,40.0,60.0,49.0,23.0,39.0,31.0,26.0,30.0,23.0,24.0,37.0,21.0,39.0,28.0,32.0,31.0,21.0,null,36.0,27.0,40.0,41.0,15.0,28.0,47.0,55.0,62.0,53.0,29.0,21.0,19.0,14.0,21.0,35.0,27.0,null,24.0,22.0,32.0,21.0,40.0,25.0,25.0,39.0,22.0,35.0,22.0,26.0,17.0,36.0,15.0,54.0,22.0,23.0,73.0,12.0,27.0,31.0,26.0,18.0,52.0,51.0,35.0,14.0,21.0,22.0,30.0,9.0,18.0,29.0,52.0,27.0,54.0,29.0,20.0,39.0,20.0,33.0,32.0,20.0,35.0,19.0,43.0,29.0,20.0,19.0,12.0,18.0,31.0,35.0,23.0,23.0,29.0,41.0,69.0,30.0,34.0,18.0,71.0,19.0,23.0,28.0,24.0,21.0,2.0,20.0,58.0,26.0,45.0,44.0,24.0,27.0,39.0,23.0,4.0,0.0,27.0,60.0,18.0,20.0,13.0,20.0,42.0,18.0,26.0,19.0,19.0,15.0,53.0,39.0,45.0,40.0,26.0,18.0,47.0,31.0,null,32.0,32.0,21.0,null,22.0,46.0,28.0,31.0,18.0,0.0,23.0,35.0,18.0,18.0,49.0,19.0,36.0,23.0,25.0,30.0,20.0,47.0,29.0,32.0,49.0,18.0,43.0,31.0,15.0,65.0,19.0,30.0,37.0,15.0,19.0,20.0,19.0,21.0,18.0,27.0,25.0,72.0,29.0,11.0,7.0,28.0,41.0,null,19.0,38.0,18.0,29.0,19.0,46.0,45.0,61.0,21.0,null,15.0,14.0,40.0,21.0,28.0,17.0,23.0,41.0,30.0,30.0,21.0,21.0,18.0,65.0,25.0,24.0,23.0,45.0,24.0,31.0,18.0,22.0,39.0,33.0,30.0,45.0,39.0,22.0,37.0,37.0,27.0,18.0,null,19.0,25.0,26.0,2.0,7.0,19.0,1.0,22.0,40.0,13.0,24.0,25.0,43.0,46.0,3.0,8.0,11.0,20.0,27.0,24.0,21.0,33.0,32.0,21.0,34.0,19.0,52.0,24.0,18.0,20.0,22.0,17.0,29.0,26.0,36.0,36.0,32.0,32.0,48.0,25.0,32.0,31.0,52.0,19.0,23.0,57.0,43.0,39.0,24.0,35.0,21.0,38.0,31.0,66.0,56.0,21.0,49.0,21.0,23.0,27.0,49.0,38.0,47.0,32.0,22.0,33.0,48.0,31.0,18.0,43.0,51.0,51.0,41.0,56.0,21.0,null,23.0,28.0,39.0,20.0,24.0,45.0,19.0,15.0,18.0,21.0,53.0,19.0,17.0,18.0,27.0,29.0,22.0,19.0,26.0,33.0,53.0,54.0,21.0,22.0,50.0,24.0,25.0,26.0,19.0,37.0,26.0,14.0,3.0,21.0,24.0,18.0,37.0,67.0,26.0,18.0,24.0,26.0,27.0,24.0,31.0,43.0,18.0,47.0,35.0,15.0,46.0,6.0,26.0,49.0,37.0,17.0,38.0,18.0,17.0,22.0,21.0,24.0,50.0,19.0,20.0,18.0,27.0,29.0,32.0,49.0,35.0,29.0,38.0,39.0,19.0,40.0,20.0,41.0,37.0,31.0,8.0,55.0,40.0,21.0,44.0,34.0,42.0,18.0,null,18.0,10.0,8.0,13.0,19.0,44.0,29.0,28.0,36.0,24.0,20.0,38.0,33.0,54.0,51.0,36.0,38.0,28.0,55.0,23.0,38.0,32.0,44.0,66.0,20.0,19.0,null,20.0,49.0,19.0,53.0,31.0,18.0,24.0,35.0,27.0,38.0,23.0,22.0,25.0,45.0,22.0,6.0,14.0,37.0,15.0,58.0,53.0,29.0,21.0,30.0,20.0,18.0,20.0,20.0,4.0,20.0,14.0,0.0,4.0,37.0,18.0,27.0,37.0,37.0,22.0,24.0,63.0,23.0,41.0,20.0,64.0,19.0,44.0,25.0,29.0,13.0,25.0,46.0,29.0,42.0,null,26.0,19.0,50.0,31.0,20.0,23.0,16.0,41.0,24.0,12.0,36.0,33.0,38.0,24.0,24.0,22.0,8.0,29.0,58.0,4.0,17.0,27.0,28.0,19.0,18.0,35.0,19.0,33.0,20.0,27.0,26.0,23.0,24.0,26.0,14.0,18.0,43.0,21.0,57.0,73.0,31.0,25.0,24.0,null,21.0,22.0,39.0,26.0,7.0,4.0,21.0,12.0,28.0,52.0,18.0,28.0,35.0,27.0,35.0,51.0,53.0,29.0,41.0,47.0,22.0,19.0,22.0,5.0,30.0,53.0,9.0,29.0,46.0,27.0,39.0,30.0,41.0,47.0,32.0,15.0,18.0,31.0,25.0,45.0,43.0,21.0,48.0,41.0,23.0,48.0,26.0,22.0,17.0,28.0,27.0,51.0,37.0,27.0,33.0,39.0,21.0,25.0,54.0,36.0,33.0,36.0,16.0,28.0,26.0,42.0,30.0,31.0,29.0,22.0,30.0,23.0,13.0,27.0,27.0,24.0,32.0,22.0,44.0,22.0,8.0,15.0,1.0,16.0,25.0,70.0,30.0,42.0,14.0,32.0,21.0,25.0,38.0,36.0,37.0,47.0,38.0,28.0,53.0,16.0,13.0,55.0,26.0,26.0,36.0,33.0,21.0,33.0,31.0,28.0,13.0,null,35.0,25.0,18.0,22.0,34.0,11.0,22.0,45.0,36.0,31.0,12.0,19.0,38.0,20.0,23.0,35.0,36.0,33.0,54.0,33.0,53.0,31.0,18.0,37.0,34.0,28.0,24.0,18.0,35.0,53.0,32.0,23.0,41.0,30.0,26.0,40.0,60.0,9.0,25.0,21.0,24.0,45.0,22.0,7.0,8.0,22.0,49.0,37.0,14.0,30.0,33.0,61.0,13.0,22.0,21.0,32.0,41.0,18.0,32.0],\"xaxis\":\"x2\",\"yaxis\":\"y2\",\"type\":\"box\"},{\"alignmentgroup\":\"True\",\"bingroup\":\"x\",\"hovertemplate\":\"Transported=True<br>Age=%{x}<br>count=%{y}<extra></extra>\",\"legendgroup\":\"True\",\"marker\":{\"color\":\"#EF553B\",\"pattern\":{\"shape\":\"\"}},\"name\":\"True\",\"offsetgroup\":\"True\",\"orientation\":\"v\",\"showlegend\":true,\"x\":[24.0,16.0,44.0,26.0,28.0,35.0,14.0,34.0,45.0,32.0,28.0,45.0,0.0,10.0,62.0,47.0,2.0,20.0,28.0,17.0,4.0,21.0,19.0,25.0,2.0,38.0,27.0,15.0,33.0,0.0,18.0,42.0,42.0,27.0,28.0,2.0,8.0,24.0,40.0,45.0,35.0,26.0,0.0,3.0,26.0,2.0,31.0,24.0,9.0,0.0,42.0,28.0,29.0,48.0,64.0,26.0,33.0,13.0,24.0,67.0,22.0,19.0,19.0,13.0,35.0,24.0,20.0,50.0,null,26.0,17.0,57.0,35.0,13.0,19.0,32.0,58.0,19.0,3.0,24.0,37.0,56.0,1.0,2.0,0.0,39.0,52.0,15.0,35.0,47.0,45.0,null,51.0,null,24.0,29.0,11.0,19.0,2.0,0.0,15.0,21.0,24.0,16.0,58.0,42.0,35.0,43.0,14.0,46.0,54.0,21.0,24.0,60.0,28.0,39.0,47.0,null,50.0,19.0,21.0,29.0,22.0,14.0,42.0,39.0,19.0,26.0,17.0,43.0,9.0,40.0,50.0,24.0,57.0,23.0,18.0,60.0,null,49.0,0.0,35.0,24.0,20.0,19.0,2.0,32.0,29.0,2.0,19.0,0.0,18.0,38.0,15.0,22.0,36.0,14.0,18.0,36.0,50.0,32.0,33.0,61.0,24.0,24.0,22.0,21.0,56.0,13.0,32.0,31.0,26.0,18.0,38.0,0.0,14.0,27.0,18.0,45.0,32.0,43.0,60.0,68.0,59.0,null,3.0,31.0,31.0,29.0,20.0,46.0,29.0,43.0,27.0,45.0,17.0,10.0,40.0,22.0,22.0,32.0,11.0,22.0,19.0,34.0,74.0,28.0,42.0,43.0,19.0,28.0,24.0,31.0,22.0,1.0,null,25.0,36.0,30.0,15.0,27.0,12.0,13.0,14.0,27.0,46.0,27.0,21.0,10.0,18.0,54.0,24.0,18.0,53.0,23.0,39.0,59.0,32.0,55.0,21.0,50.0,35.0,null,23.0,35.0,47.0,34.0,null,28.0,null,36.0,30.0,49.0,31.0,24.0,32.0,43.0,23.0,29.0,40.0,37.0,61.0,19.0,12.0,44.0,32.0,28.0,13.0,14.0,null,23.0,36.0,22.0,42.0,30.0,16.0,55.0,18.0,55.0,49.0,33.0,3.0,0.0,33.0,48.0,5.0,53.0,46.0,23.0,0.0,4.0,9.0,24.0,24.0,21.0,7.0,31.0,27.0,34.0,7.0,3.0,21.0,39.0,43.0,22.0,44.0,32.0,55.0,35.0,20.0,63.0,29.0,36.0,30.0,30.0,19.0,33.0,38.0,7.0,58.0,3.0,39.0,37.0,28.0,18.0,44.0,28.0,46.0,38.0,null,0.0,20.0,18.0,36.0,54.0,23.0,35.0,22.0,24.0,18.0,33.0,18.0,19.0,43.0,44.0,25.0,25.0,23.0,2.0,38.0,12.0,1.0,0.0,54.0,23.0,29.0,14.0,47.0,14.0,14.0,34.0,42.0,22.0,54.0,27.0,33.0,35.0,31.0,54.0,0.0,7.0,15.0,26.0,7.0,19.0,59.0,28.0,19.0,26.0,20.0,19.0,27.0,28.0,38.0,1.0,36.0,1.0,10.0,0.0,0.0,0.0,59.0,71.0,23.0,15.0,19.0,4.0,42.0,13.0,27.0,41.0,21.0,31.0,36.0,30.0,14.0,27.0,32.0,54.0,38.0,32.0,36.0,22.0,37.0,20.0,33.0,52.0,27.0,32.0,26.0,32.0,18.0,19.0,19.0,74.0,31.0,33.0,null,22.0,11.0,41.0,30.0,31.0,15.0,19.0,29.0,30.0,30.0,0.0,15.0,38.0,19.0,15.0,38.0,28.0,41.0,14.0,21.0,48.0,44.0,19.0,32.0,44.0,57.0,34.0,30.0,22.0,71.0,18.0,36.0,49.0,46.0,17.0,46.0,56.0,3.0,1.0,56.0,5.0,12.0,39.0,60.0,19.0,19.0,18.0,36.0,25.0,0.0,8.0,3.0,30.0,61.0,13.0,24.0,15.0,46.0,58.0,20.0,36.0,31.0,58.0,38.0,30.0,20.0,38.0,15.0,null,35.0,14.0,27.0,27.0,23.0,18.0,0.0,19.0,7.0,33.0,35.0,23.0,34.0,42.0,5.0,5.0,26.0,40.0,20.0,34.0,9.0,36.0,26.0,55.0,18.0,20.0,27.0,13.0,32.0,53.0,34.0,42.0,19.0,54.0,12.0,49.0,22.0,39.0,14.0,29.0,8.0,18.0,25.0,32.0,26.0,18.0,26.0,28.0,31.0,35.0,29.0,17.0,28.0,24.0,36.0,34.0,59.0,15.0,64.0,24.0,23.0,0.0,48.0,52.0,16.0,25.0,28.0,28.0,45.0,6.0,13.0,1.0,51.0,31.0,28.0,20.0,24.0,18.0,21.0,59.0,27.0,36.0,22.0,23.0,32.0,26.0,61.0,30.0,40.0,37.0,27.0,52.0,15.0,22.0,34.0,31.0,44.0,null,10.0,1.0,4.0,31.0,43.0,28.0,30.0,22.0,22.0,2.0,9.0,2.0,44.0,11.0,40.0,26.0,19.0,1.0,21.0,28.0,40.0,23.0,43.0,0.0,42.0,28.0,24.0,17.0,67.0,null,27.0,10.0,41.0,0.0,22.0,40.0,25.0,20.0,40.0,43.0,22.0,20.0,53.0,22.0,41.0,19.0,23.0,38.0,1.0,13.0,7.0,28.0,14.0,23.0,33.0,17.0,33.0,24.0,39.0,59.0,32.0,8.0,28.0,35.0,1.0,4.0,28.0,46.0,23.0,0.0,13.0,16.0,30.0,8.0,43.0,39.0,70.0,44.0,63.0,29.0,29.0,22.0,26.0,19.0,13.0,30.0,32.0,49.0,38.0,42.0,32.0,0.0,17.0,35.0,0.0,46.0,19.0,43.0,40.0,13.0,40.0,28.0,41.0,35.0,14.0,20.0,22.0,25.0,18.0,25.0,30.0,21.0,32.0,33.0,47.0,34.0,20.0,51.0,18.0,30.0,37.0,18.0,25.0,23.0,26.0,38.0,28.0,18.0,25.0,35.0,37.0,35.0,47.0,null,27.0,23.0,31.0,19.0,53.0,7.0,7.0,20.0,42.0,49.0,47.0,38.0,0.0,39.0,25.0,35.0,0.0,46.0,4.0,19.0,47.0,1.0,32.0,4.0,16.0,25.0,21.0,34.0,28.0,3.0,0.0,40.0,null,48.0,36.0,38.0,0.0,38.0,3.0,19.0,31.0,14.0,47.0,17.0,18.0,23.0,26.0,20.0,40.0,20.0,59.0,null,26.0,17.0,17.0,20.0,30.0,22.0,20.0,50.0,19.0,4.0,15.0,24.0,21.0,41.0,59.0,14.0,50.0,32.0,46.0,58.0,15.0,35.0,30.0,43.0,37.0,28.0,26.0,33.0,12.0,0.0,1.0,5.0,24.0,25.0,25.0,60.0,41.0,17.0,31.0,67.0,19.0,48.0,30.0,22.0,28.0,23.0,26.0,23.0,2.0,3.0,14.0,53.0,0.0,22.0,24.0,32.0,58.0,8.0,64.0,31.0,30.0,20.0,18.0,17.0,30.0,50.0,29.0,39.0,38.0,42.0,36.0,15.0,52.0,38.0,63.0,24.0,21.0,56.0,45.0,36.0,44.0,15.0,29.0,36.0,21.0,35.0,0.0,30.0,38.0,27.0,39.0,23.0,34.0,26.0,15.0,64.0,25.0,35.0,19.0,3.0,44.0,37.0,19.0,22.0,21.0,17.0,42.0,28.0,30.0,17.0,40.0,33.0,19.0,22.0,0.0,17.0,null,15.0,19.0,26.0,50.0,25.0,64.0,24.0,27.0,42.0,20.0,31.0,32.0,25.0,6.0,3.0,18.0,55.0,34.0,19.0,30.0,17.0,28.0,23.0,17.0,null,65.0,19.0,54.0,40.0,22.0,18.0,21.0,29.0,45.0,45.0,40.0,27.0,49.0,14.0,19.0,16.0,27.0,3.0,4.0,13.0,19.0,18.0,66.0,39.0,null,18.0,21.0,18.0,43.0,27.0,0.0,21.0,35.0,23.0,27.0,58.0,53.0,48.0,27.0,26.0,37.0,61.0,32.0,25.0,15.0,41.0,43.0,32.0,18.0,47.0,29.0,14.0,20.0,20.0,17.0,28.0,41.0,25.0,26.0,22.0,44.0,34.0,47.0,27.0,22.0,46.0,29.0,39.0,43.0,26.0,46.0,3.0,21.0,1.0,27.0,28.0,18.0,6.0,37.0,22.0,23.0,52.0,1.0,null,27.0,48.0,25.0,67.0,60.0,56.0,44.0,34.0,45.0,25.0,32.0,29.0,45.0,27.0,15.0,11.0,0.0,15.0,30.0,4.0,21.0,24.0,29.0,28.0,44.0,50.0,20.0,22.0,32.0,11.0,4.0,11.0,58.0,37.0,42.0,17.0,36.0,44.0,18.0,22.0,43.0,29.0,24.0,18.0,15.0,22.0,34.0,70.0,18.0,26.0,32.0,23.0,24.0,34.0,33.0,28.0,7.0,27.0,16.0,21.0,28.0,36.0,21.0,50.0,27.0,27.0,27.0,4.0,39.0,57.0,18.0,28.0,37.0,18.0,29.0,28.0,24.0,20.0,23.0,27.0,38.0,38.0,48.0,25.0,69.0,18.0,23.0,6.0,41.0,0.0,16.0,19.0,7.0,4.0,30.0,24.0,34.0,30.0,3.0,32.0,55.0,0.0,0.0,24.0,42.0,17.0,28.0,21.0,56.0,28.0,28.0,26.0,50.0,29.0,35.0,34.0,0.0,4.0,8.0,20.0,25.0,24.0,0.0,43.0,63.0,17.0,35.0,12.0,null,23.0,14.0,25.0,50.0,39.0,18.0,55.0,14.0,28.0,26.0,44.0,22.0,14.0,21.0,13.0,71.0,33.0,34.0,21.0,36.0,51.0,27.0,20.0,24.0,27.0,58.0,29.0,23.0,3.0,0.0,12.0,44.0,20.0,72.0,1.0,25.0,24.0,54.0,17.0,15.0,52.0,16.0,16.0,10.0,45.0,38.0,19.0,49.0,29.0,18.0,41.0,58.0,36.0,24.0,0.0,31.0,42.0,36.0,35.0,53.0,21.0,46.0,58.0,53.0,23.0,43.0,36.0,48.0,34.0,38.0,23.0,23.0,0.0,41.0,43.0,14.0,18.0,0.0,4.0,24.0,44.0,57.0,3.0,3.0,18.0,21.0,35.0,47.0,23.0,40.0,51.0,28.0,13.0,20.0,36.0,16.0,40.0,null,18.0,17.0,32.0,53.0,36.0,61.0,59.0,17.0,27.0,57.0,55.0,42.0,28.0,36.0,3.0,0.0,38.0,26.0,24.0,25.0,43.0,0.0,6.0,23.0,43.0,23.0,41.0,51.0,44.0,48.0,68.0,23.0,0.0,39.0,55.0,25.0,18.0,21.0,43.0,38.0,14.0,33.0,13.0,24.0,26.0,40.0,47.0,33.0,45.0,1.0,70.0,55.0,35.0,33.0,19.0,31.0,14.0,30.0,22.0,17.0,25.0,19.0,7.0,21.0,37.0,22.0,41.0,16.0,36.0,null,50.0,57.0,15.0,60.0,35.0,27.0,26.0,22.0,25.0,27.0,52.0,0.0,30.0,12.0,22.0,24.0,21.0,56.0,25.0,6.0,17.0,12.0,47.0,46.0,31.0,36.0,48.0,21.0,4.0,31.0,62.0,29.0,24.0,49.0,21.0,18.0,18.0,25.0,0.0,null,24.0,26.0,22.0,19.0,38.0,38.0,77.0,18.0,10.0,34.0,40.0,68.0,27.0,28.0,55.0,10.0,14.0,3.0,22.0,23.0,36.0,33.0,17.0,28.0,45.0,62.0,43.0,1.0,7.0,30.0,28.0,20.0,54.0,35.0,26.0,8.0,40.0,2.0,32.0,35.0,9.0,21.0,28.0,28.0,31.0,43.0,60.0,43.0,17.0,29.0,2.0,22.0,16.0,52.0,14.0,25.0,34.0,20.0,28.0,44.0,27.0,38.0,8.0,1.0,0.0,20.0,41.0,26.0,49.0,39.0,32.0,11.0,44.0,36.0,42.0,40.0,53.0,31.0,14.0,31.0,55.0,40.0,37.0,17.0,60.0,19.0,28.0,24.0,73.0,17.0,13.0,61.0,19.0,45.0,52.0,25.0,9.0,18.0,6.0,20.0,14.0,33.0,56.0,20.0,44.0,23.0,39.0,25.0,20.0,4.0,64.0,0.0,19.0,23.0,18.0,37.0,24.0,11.0,15.0,16.0,25.0,23.0,28.0,72.0,18.0,27.0,21.0,53.0,27.0,74.0,null,23.0,0.0,0.0,28.0,17.0,26.0,38.0,33.0,16.0,41.0,7.0,44.0,22.0,21.0,13.0,16.0,36.0,36.0,28.0,64.0,41.0,16.0,31.0,59.0,18.0,33.0,49.0,4.0,0.0,0.0,62.0,24.0,33.0,20.0,39.0,29.0,19.0,47.0,34.0,26.0,15.0,null,1.0,38.0,27.0,48.0,46.0,26.0,16.0,0.0,0.0,13.0,23.0,70.0,21.0,40.0,23.0,15.0,45.0,25.0,28.0,14.0,31.0,39.0,17.0,56.0,48.0,18.0,28.0,18.0,19.0,37.0,43.0,17.0,14.0,26.0,19.0,19.0,15.0,22.0,23.0,53.0,55.0,22.0,64.0,40.0,8.0,24.0,11.0,31.0,31.0,17.0,16.0,57.0,28.0,26.0,17.0,36.0,24.0,18.0,null,23.0,27.0,54.0,37.0,36.0,28.0,29.0,29.0,23.0,0.0,36.0,42.0,null,16.0,43.0,40.0,22.0,37.0,4.0,24.0,22.0,38.0,30.0,29.0,26.0,41.0,34.0,24.0,23.0,23.0,19.0,2.0,0.0,20.0,35.0,26.0,32.0,25.0,30.0,27.0,18.0,22.0,null,40.0,9.0,56.0,39.0,18.0,2.0,18.0,45.0,24.0,35.0,16.0,40.0,5.0,31.0,15.0,43.0,61.0,17.0,29.0,24.0,34.0,26.0,18.0,null,45.0,32.0,24.0,43.0,18.0,38.0,23.0,26.0,21.0,45.0,24.0,20.0,16.0,8.0,20.0,22.0,42.0,23.0,42.0,46.0,29.0,35.0,48.0,24.0,55.0,7.0,null,15.0,13.0,23.0,null,33.0,67.0,18.0,54.0,57.0,21.0,27.0,49.0,21.0,21.0,15.0,19.0,25.0,39.0,15.0,31.0,25.0,null,18.0,33.0,23.0,34.0,38.0,21.0,54.0,null,56.0,9.0,0.0,16.0,42.0,22.0,47.0,30.0,22.0,17.0,13.0,36.0,0.0,21.0,18.0,5.0,18.0,14.0,23.0,7.0,4.0,36.0,25.0,20.0,18.0,15.0,33.0,55.0,26.0,33.0,9.0,0.0,19.0,42.0,37.0,18.0,34.0,34.0,24.0,56.0,2.0,12.0,29.0,45.0,0.0,41.0,13.0,20.0,21.0,27.0,0.0,23.0,29.0,19.0,3.0,29.0,19.0,22.0,null,17.0,29.0,11.0,24.0,28.0,27.0,0.0,58.0,3.0,4.0,34.0,5.0,22.0,8.0,17.0,40.0,16.0,41.0,14.0,2.0,59.0,52.0,33.0,51.0,30.0,null,59.0,42.0,29.0,2.0,null,27.0,13.0,49.0,21.0,14.0,1.0,null,26.0,2.0,10.0,14.0,29.0,22.0,0.0,1.0,42.0,47.0,22.0,24.0,null,22.0,60.0,21.0,26.0,36.0,46.0,26.0,46.0,null,48.0,43.0,48.0,47.0,19.0,28.0,16.0,45.0,31.0,21.0,22.0,23.0,0.0,4.0,19.0,34.0,40.0,43.0,54.0,45.0,33.0,46.0,15.0,23.0,27.0,16.0,37.0,45.0,58.0,47.0,41.0,28.0,24.0,36.0,15.0,19.0,39.0,20.0,20.0,13.0,24.0,32.0,null,30.0,23.0,4.0,0.0,17.0,44.0,41.0,24.0,17.0,23.0,34.0,13.0,66.0,27.0,55.0,23.0,12.0,25.0,46.0,50.0,28.0,26.0,28.0,65.0,20.0,29.0,30.0,3.0,13.0,19.0,24.0,24.0,47.0,18.0,36.0,31.0,28.0,17.0,13.0,58.0,43.0,20.0,15.0,25.0,41.0,27.0,19.0,41.0,27.0,56.0,22.0,18.0,13.0,32.0,25.0,55.0,24.0,32.0,32.0,28.0,52.0,29.0,23.0,32.0,16.0,33.0,6.0,15.0,4.0,21.0,22.0,6.0,22.0,20.0,24.0,25.0,3.0,24.0,1.0,20.0,28.0,17.0,47.0,29.0,14.0,36.0,40.0,49.0,51.0,41.0,44.0,22.0,13.0,18.0,22.0,47.0,21.0,37.0,31.0,28.0,20.0,40.0,18.0,27.0,43.0,25.0,15.0,37.0,32.0,27.0,22.0,25.0,34.0,54.0,43.0,23.0,57.0,54.0,51.0,33.0,8.0,44.0,48.0,35.0,0.0,5.0,16.0,18.0,27.0,55.0,75.0,50.0,37.0,47.0,13.0,29.0,30.0,29.0,18.0,22.0,20.0,23.0,31.0,39.0,50.0,59.0,41.0,33.0,54.0,40.0,43.0,26.0,65.0,22.0,35.0,30.0,23.0,24.0,16.0,18.0,29.0,29.0,23.0,26.0,2.0,24.0,2.0,27.0,9.0,0.0,3.0,34.0,26.0,46.0,26.0,28.0,20.0,4.0,31.0,15.0,22.0,53.0,48.0,41.0,13.0,57.0,25.0,48.0,16.0,15.0,25.0,null,54.0,30.0,37.0,30.0,0.0,15.0,19.0,20.0,34.0,17.0,20.0,28.0,43.0,25.0,null,31.0,19.0,29.0,64.0,24.0,22.0,17.0,35.0,33.0,37.0,34.0,9.0,25.0,29.0,1.0,30.0,27.0,25.0,28.0,32.0,26.0,31.0,23.0,14.0,40.0,42.0,28.0,25.0,34.0,31.0,24.0,52.0,25.0,17.0,29.0,45.0,28.0,25.0,57.0,68.0,16.0,62.0,26.0,36.0,13.0,48.0,null,22.0,39.0,33.0,27.0,20.0,32.0,54.0,30.0,4.0,53.0,46.0,2.0,1.0,11.0,3.0,33.0,3.0,41.0,64.0,27.0,42.0,63.0,2.0,19.0,50.0,38.0,28.0,35.0,65.0,27.0,0.0,19.0,39.0,40.0,22.0,61.0,35.0,21.0,23.0,17.0,26.0,26.0,20.0,28.0,37.0,49.0,4.0,32.0,44.0,20.0,22.0,35.0,0.0,6.0,38.0,34.0,34.0,32.0,44.0,54.0,35.0,29.0,22.0,22.0,22.0,18.0,52.0,0.0,1.0,6.0,22.0,31.0,25.0,23.0,27.0,37.0,21.0,29.0,46.0,43.0,18.0,20.0,50.0,13.0,43.0,16.0,31.0,0.0,10.0,18.0,7.0,1.0,49.0,22.0,21.0,65.0,20.0,0.0,16.0,22.0,0.0,30.0,14.0,21.0,29.0,29.0,21.0,36.0,59.0,36.0,0.0,19.0,30.0,23.0,55.0,44.0,39.0,17.0,17.0,35.0,32.0,18.0,21.0,27.0,38.0,21.0,20.0,28.0,10.0,23.0,22.0,24.0,31.0,15.0,28.0,40.0,32.0,15.0,19.0,19.0,36.0,59.0,24.0,4.0,20.0,24.0,23.0,3.0,22.0,20.0,0.0,13.0,47.0,51.0,22.0,3.0,4.0,1.0,20.0,19.0,19.0,3.0,36.0,20.0,null,27.0,43.0,42.0,24.0,19.0,32.0,61.0,35.0,3.0,45.0,25.0,12.0,2.0,46.0,16.0,29.0,22.0,21.0,42.0,34.0,52.0,43.0,35.0,27.0,15.0,44.0,19.0,47.0,24.0,23.0,5.0,32.0,13.0,18.0,41.0,32.0,13.0,12.0,24.0,18.0,29.0,38.0,17.0,23.0,15.0,11.0,42.0,41.0,14.0,25.0,54.0,18.0,29.0,36.0,19.0,20.0,27.0,20.0,22.0,19.0,12.0,11.0,61.0,7.0,25.0,51.0,56.0,31.0,16.0,29.0,17.0,47.0,56.0,25.0,13.0,41.0,28.0,25.0,11.0,24.0,59.0,31.0,21.0,27.0,37.0,36.0,null,19.0,9.0,40.0,23.0,4.0,21.0,4.0,19.0,18.0,26.0,16.0,14.0,21.0,29.0,40.0,41.0,16.0,30.0,40.0,63.0,32.0,19.0,44.0,26.0,47.0,20.0,48.0,4.0,25.0,0.0,9.0,27.0,34.0,18.0,16.0,43.0,20.0,14.0,2.0,3.0,28.0,18.0,26.0,26.0,29.0,25.0,18.0,32.0,47.0,null,8.0,30.0,24.0,13.0,23.0,16.0,46.0,22.0,29.0,46.0,24.0,33.0,57.0,null,38.0,28.0,22.0,33.0,35.0,24.0,31.0,16.0,28.0,8.0,20.0,70.0,17.0,14.0,21.0,37.0,14.0,21.0,20.0,39.0,18.0,37.0,18.0,35.0,26.0,0.0,42.0,36.0,25.0,32.0,14.0,16.0,51.0,21.0,31.0,7.0,3.0,2.0,33.0,23.0,13.0,27.0,23.0,25.0,23.0,31.0,22.0,38.0,21.0,28.0,20.0,48.0,15.0,30.0,40.0,20.0,38.0,21.0,26.0,13.0,39.0,27.0,21.0,38.0,18.0,35.0,37.0,31.0,4.0,34.0,46.0,29.0,13.0,26.0,34.0,26.0,10.0,27.0,24.0,20.0,48.0,14.0,28.0,42.0,8.0,30.0,23.0,16.0,20.0,0.0,18.0,0.0,39.0,26.0,28.0,18.0,33.0,null,44.0,7.0,24.0,32.0,17.0,36.0,16.0,21.0,24.0,21.0,6.0,41.0,6.0,32.0,31.0,37.0,21.0,49.0,17.0,36.0,45.0,24.0,28.0,15.0,51.0,14.0,22.0,22.0,13.0,28.0,40.0,35.0,37.0,27.0,20.0,15.0,null,18.0,2.0,27.0,0.0,56.0,42.0,20.0,27.0,36.0,64.0,0.0,44.0,33.0,20.0,0.0,4.0,20.0,47.0,17.0,21.0,20.0,26.0,34.0,11.0,0.0,33.0,22.0,11.0,43.0,37.0,23.0,29.0,26.0,29.0,26.0,19.0,34.0,18.0,36.0,27.0,52.0,34.0,26.0,53.0,19.0,3.0,6.0,4.0,21.0,8.0,35.0,18.0,45.0,31.0,14.0,61.0,28.0,32.0,49.0,20.0,25.0,19.0,28.0,68.0,16.0,26.0,23.0,28.0,22.0,27.0,35.0,37.0,24.0,24.0,39.0,35.0,52.0,26.0,43.0,14.0,33.0,29.0,18.0,35.0,20.0,18.0,66.0,33.0,48.0,62.0,20.0,45.0,39.0,33.0,26.0,47.0,null,28.0,22.0,17.0,16.0,9.0,15.0,33.0,61.0,61.0,42.0,12.0,0.0,19.0,null,29.0,59.0,20.0,70.0,37.0,20.0,24.0,27.0,29.0,34.0,null,39.0,35.0,18.0,20.0,23.0,23.0,19.0,22.0,55.0,25.0,33.0,54.0,22.0,22.0,19.0,47.0,61.0,15.0,33.0,35.0,21.0,43.0,27.0,46.0,59.0,19.0,39.0,44.0,46.0,28.0,31.0,46.0,0.0,3.0,12.0,2.0,41.0,11.0,41.0,21.0,21.0,27.0,54.0,39.0,31.0,28.0,29.0,45.0,12.0,18.0,20.0,43.0,46.0,53.0,52.0,31.0,27.0,28.0,27.0,58.0,24.0,28.0,36.0,64.0,41.0,null,27.0,22.0,23.0,2.0,0.0,27.0,0.0,14.0,24.0,51.0,52.0,35.0,22.0,47.0,25.0,11.0,41.0,55.0,29.0,23.0,25.0,50.0,27.0,19.0,18.0,25.0,41.0,62.0,30.0,6.0,23.0,63.0,42.0,19.0,5.0,2.0,15.0,19.0,26.0,38.0,30.0,16.0,46.0,17.0,20.0,24.0,19.0,29.0,14.0,null,null,32.0,7.0,34.0,47.0,52.0,18.0,22.0,17.0,15.0,34.0,28.0,29.0,25.0,22.0,38.0,38.0,0.0,2.0,40.0,34.0,21.0,43.0,28.0,null,19.0,2.0,0.0,47.0,38.0,24.0,25.0,29.0,23.0,26.0,20.0,27.0,33.0,30.0,32.0,21.0,26.0,44.0,24.0,15.0,19.0,25.0,34.0,13.0,null,16.0,41.0,36.0,11.0,26.0,28.0,5.0,null,13.0,30.0,15.0,0.0,49.0,52.0,15.0,0.0,15.0,26.0,8.0,18.0,44.0,15.0,27.0,2.0,16.0,35.0,24.0,28.0,41.0,28.0,18.0,19.0,15.0,23.0,33.0,26.0,26.0,18.0,17.0,39.0,46.0,32.0,36.0,28.0,16.0,7.0,1.0,30.0,44.0,28.0,41.0,13.0,26.0,27.0,54.0,18.0,28.0,57.0,32.0,21.0,34.0,33.0,36.0,13.0,28.0,36.0,null,37.0,50.0,33.0,46.0,26.0,2.0,32.0,3.0,2.0,6.0,null,0.0,4.0,58.0,22.0,51.0,37.0,null,43.0,null,15.0,18.0,33.0,41.0,14.0,42.0,16.0,12.0,18.0,36.0,23.0,4.0,21.0,34.0,35.0,16.0,4.0,19.0,3.0,51.0,null,45.0,18.0,23.0,34.0,47.0,27.0,4.0,59.0,19.0,25.0,28.0,43.0,8.0,38.0,39.0,30.0,40.0,52.0,26.0,33.0,20.0,10.0,23.0,28.0,23.0,37.0,59.0,53.0,22.0,17.0,24.0,33.0,37.0,13.0,23.0,23.0,47.0,38.0,64.0,43.0,21.0,36.0,22.0,21.0,57.0,46.0,42.0,8.0,3.0,12.0,null,47.0,19.0,5.0,7.0,3.0,1.0,7.0,15.0,53.0,58.0,null,16.0,33.0,44.0,40.0,34.0,9.0,0.0,38.0,21.0,31.0,7.0,12.0,0.0,17.0,2.0,29.0,42.0,0.0,14.0,35.0,18.0,14.0,53.0,48.0,21.0,44.0,0.0,27.0,40.0,44.0,3.0,17.0,16.0,18.0,19.0,28.0,40.0,45.0,18.0,54.0,26.0,16.0,17.0,24.0,22.0,41.0,15.0,36.0,23.0,40.0,0.0,18.0,18.0,2.0,25.0,0.0,27.0,34.0,19.0,31.0,51.0,21.0,31.0,28.0,11.0,20.0,16.0,20.0,53.0,37.0,55.0,24.0,24.0,49.0,39.0,5.0,10.0,1.0,5.0,0.0,0.0,1.0,38.0,42.0,24.0,12.0,2.0,44.0,28.0,28.0,27.0,21.0,24.0,8.0,12.0,21.0,13.0,20.0,35.0,22.0,1.0,7.0,78.0,24.0,57.0,27.0,42.0,28.0,18.0,21.0,6.0,23.0,0.0,2.0,null,20.0,20.0,32.0,16.0,21.0,21.0,18.0,13.0,37.0,null,38.0,29.0,68.0,31.0,41.0,25.0,21.0,58.0,50.0,16.0,13.0,53.0,21.0,18.0,38.0,20.0,56.0,21.0,null,34.0,35.0,35.0,49.0,62.0,25.0,42.0,41.0,20.0,15.0,29.0,20.0,35.0,22.0,43.0,15.0,38.0,34.0,19.0,26.0,46.0,64.0,18.0,26.0,39.0,59.0,17.0,47.0,29.0,28.0,12.0,24.0,30.0,34.0,37.0,23.0,0.0,18.0,17.0,53.0,48.0,68.0,28.0,35.0,31.0,1.0,4.0,11.0,32.0,15.0,25.0,35.0,36.0,22.0,32.0,30.0,28.0,26.0,66.0,50.0,21.0,25.0,46.0,0.0,2.0,19.0,35.0,41.0,22.0,null,41.0,44.0,23.0,28.0,40.0,27.0,17.0,29.0,29.0,48.0,14.0,47.0,14.0,37.0,33.0,33.0,44.0,37.0,33.0,28.0,31.0,27.0,7.0,21.0,23.0,50.0,25.0,46.0,0.0,30.0,18.0,20.0,31.0,55.0,0.0,3.0,45.0,14.0,37.0,14.0,44.0,11.0,15.0,39.0,49.0,9.0,42.0,16.0,0.0,26.0,41.0,27.0,40.0,40.0,15.0,50.0,39.0,20.0,30.0,16.0,36.0,68.0,36.0,32.0,10.0,9.0,31.0,58.0,30.0,14.0,50.0,12.0,2.0,33.0,23.0,23.0,43.0,26.0,29.0,21.0,30.0,13.0,22.0,26.0,14.0,8.0,29.0,15.0,48.0,13.0,25.0,32.0,20.0,38.0,62.0,23.0,32.0,26.0,46.0,27.0,28.0,29.0,37.0,0.0,12.0,3.0,9.0,27.0,59.0,16.0,46.0,16.0,35.0,7.0,29.0,50.0,49.0,29.0,29.0,22.0,24.0,23.0,28.0,19.0,37.0,43.0,4.0,32.0,15.0,17.0,37.0,20.0,47.0,8.0,39.0,57.0,29.0,null,13.0,49.0,19.0,15.0,37.0,null,26.0,0.0,4.0,19.0,17.0,28.0,21.0,20.0,38.0,24.0,44.0,21.0,54.0,null,28.0,43.0,27.0,22.0,31.0,16.0,16.0,27.0,30.0,36.0,25.0,29.0,26.0,null,33.0,35.0,63.0,23.0,5.0,16.0,20.0,3.0,14.0,16.0,18.0,21.0,21.0,13.0,27.0,30.0,52.0,16.0,0.0,40.0,1.0,37.0,32.0,57.0,2.0,1.0,1.0,20.0,32.0,24.0,36.0,13.0,29.0,30.0,27.0,35.0,42.0,20.0,18.0,23.0,28.0,23.0,22.0,31.0,44.0,18.0,10.0,51.0,25.0,8.0,49.0,3.0,null,31.0,11.0,27.0,32.0,20.0,18.0,33.0,null,37.0,19.0,47.0,25.0,53.0,28.0,18.0,14.0,28.0,2.0,27.0,29.0,14.0,17.0,35.0,37.0,24.0,28.0,0.0,22.0,24.0,37.0,21.0,53.0,0.0,64.0,40.0,30.0,34.0,16.0,39.0,18.0,30.0,0.0,51.0,26.0,14.0,43.0,22.0,23.0,25.0,35.0,37.0,36.0,36.0,17.0,38.0,20.0,36.0,52.0,32.0,35.0,null,24.0,35.0,29.0,10.0,41.0,26.0,33.0,31.0,27.0,37.0,16.0,50.0,48.0,36.0,46.0,58.0,3.0,21.0,29.0,23.0,41.0,42.0,30.0,26.0,40.0,17.0,17.0,46.0,28.0,31.0,35.0,19.0,16.0,45.0,23.0,41.0,7.0,39.0,47.0,29.0,50.0,38.0,26.0,45.0,47.0,60.0,42.0,48.0,26.0,36.0,27.0,41.0,21.0,24.0,35.0,13.0,11.0,null,43.0,36.0,56.0,34.0,43.0,25.0,63.0,45.0,15.0,19.0,41.0,5.0,27.0,20.0,45.0,26.0,37.0,3.0,3.0,6.0,4.0,0.0,26.0,24.0,41.0,23.0,61.0,18.0,18.0,null,15.0,12.0,19.0,18.0,22.0,18.0,26.0,17.0,39.0,37.0,17.0,9.0,33.0,23.0,45.0,22.0,36.0,19.0,59.0,31.0,28.0,19.0,29.0,0.0,15.0,49.0,36.0,40.0,56.0,67.0,27.0,54.0,26.0,39.0,40.0,20.0,18.0,35.0,50.0,63.0,19.0,27.0,58.0,44.0,23.0,21.0,14.0,17.0,25.0,24.0,24.0,0.0,3.0,18.0,40.0,25.0,10.0,40.0,19.0,15.0,21.0,54.0,28.0,24.0,28.0,42.0,36.0,40.0,41.0,25.0,39.0,0.0,0.0,13.0,27.0,25.0,30.0,49.0,26.0,27.0,27.0,33.0,20.0,39.0,19.0,41.0,18.0,39.0,null,29.0,41.0,55.0,21.0,28.0,43.0,23.0,5.0,22.0,14.0,22.0,15.0,67.0,21.0,33.0,18.0,28.0,18.0,25.0,15.0,19.0,26.0,26.0,27.0,37.0,24.0,4.0,23.0,2.0,34.0,44.0,35.0,46.0,75.0,24.0,46.0,46.0,9.0,23.0,17.0,37.0,30.0,32.0,41.0,37.0,18.0,1.0,7.0,19.0,26.0,10.0,38.0,26.0,29.0,35.0,17.0,16.0,2.0,18.0,29.0,43.0,1.0,36.0,17.0,53.0,26.0,48.0,25.0,25.0,null,47.0,24.0,42.0,13.0,41.0,9.0,30.0,16.0,36.0,39.0,21.0,24.0,null,22.0,26.0,18.0,34.0,55.0,18.0,33.0,31.0,13.0,18.0,53.0,4.0,24.0,23.0,1.0,18.0,49.0,21.0,40.0,47.0,36.0,26.0,0.0,14.0,7.0,50.0,17.0,24.0,59.0,24.0,28.0,38.0,2.0,32.0,18.0,14.0,26.0,29.0,29.0,35.0,25.0,40.0,35.0,null,26.0,45.0,29.0,39.0,37.0,22.0,1.0,0.0,28.0,65.0,26.0,37.0,40.0,0.0,23.0,60.0,53.0,26.0,21.0,39.0,20.0,44.0,62.0,19.0,31.0,33.0,60.0,41.0,44.0,18.0,26.0,49.0,31.0,40.0,17.0,54.0,20.0,36.0,25.0,37.0,24.0,13.0,4.0,22.0,22.0,26.0,25.0,24.0,38.0,18.0,45.0,28.0,5.0,2.0,0.0,3.0,49.0,0.0,10.0,1.0,9.0,23.0,18.0,28.0,38.0,44.0,38.0,18.0,4.0,0.0,43.0,18.0,22.0,4.0,0.0,null,39.0,53.0,24.0,40.0,18.0,57.0,26.0,30.0,18.0,33.0,29.0,34.0,18.0,3.0,37.0,1.0,27.0,15.0,33.0,20.0,23.0,35.0,null,8.0,4.0,21.0,10.0,25.0,40.0,38.0,19.0,0.0,4.0,29.0,32.0,26.0,23.0,32.0,31.0,34.0,18.0,39.0,62.0,12.0,27.0,0.0,6.0,29.0,27.0,34.0,36.0,29.0,11.0,0.0,19.0,52.0,55.0,19.0,14.0,30.0,21.0,17.0,48.0,33.0,29.0,38.0,16.0,47.0,15.0,13.0,17.0,31.0,19.0,25.0,2.0,4.0,49.0,61.0,57.0,52.0,37.0,15.0,28.0,25.0,3.0,3.0,57.0,20.0,14.0,22.0,15.0,41.0,31.0,35.0,48.0,15.0,37.0,15.0,45.0,13.0,19.0,20.0,27.0,23.0,24.0,25.0,16.0,46.0,50.0,27.0,34.0,40.0,36.0,33.0,24.0,19.0,54.0,28.0,26.0,21.0,61.0,14.0,23.0,27.0,60.0,29.0,19.0,22.0,35.0,28.0,42.0,37.0,31.0,18.0,44.0,22.0,48.0,2.0,0.0,48.0,20.0,27.0,26.0,40.0,16.0,33.0,37.0,58.0,25.0,39.0,40.0,3.0,18.0,18.0,34.0,34.0,18.0,40.0,8.0,29.0,56.0,25.0,33.0,59.0,22.0,44.0,25.0,23.0,6.0,39.0,21.0,28.0,13.0,33.0,21.0,15.0,10.0,23.0,50.0,13.0,20.0,21.0,16.0,28.0,55.0,28.0,25.0,4.0,3.0,3.0,22.0,23.0,48.0,55.0,15.0,50.0,29.0,39.0,49.0,19.0,14.0,40.0,6.0,16.0,29.0,27.0,25.0,1.0,1.0,21.0,24.0,27.0,13.0,40.0,35.0,36.0,14.0,50.0,20.0,23.0,65.0,32.0,18.0,62.0,25.0,18.0,20.0,14.0,49.0,38.0,28.0,30.0,25.0,24.0,44.0,0.0,0.0,17.0,15.0,24.0,40.0,20.0,36.0,4.0,59.0,23.0,25.0,22.0,6.0,14.0,34.0,3.0,19.0,29.0,32.0,38.0,48.0,44.0,15.0,29.0,28.0,13.0,45.0,19.0,21.0,37.0,19.0,21.0,13.0,15.0,18.0,28.0,24.0,19.0,19.0,27.0,76.0,28.0,20.0,7.0,21.0,32.0,34.0,null,28.0,25.0,24.0,18.0,30.0,38.0,39.0,31.0,33.0,15.0,23.0,44.0,28.0,34.0,26.0,1.0,24.0,16.0,23.0,33.0,24.0,6.0,31.0,19.0,32.0,24.0,28.0,19.0,24.0,52.0,23.0,25.0,22.0,35.0,24.0,37.0,36.0,0.0,17.0,34.0,18.0,20.0,32.0,1.0,0.0,18.0,51.0,21.0,34.0,13.0,25.0,null,17.0,0.0,17.0,17.0,16.0,29.0,15.0,23.0,20.0,33.0,19.0,32.0,0.0,29.0,18.0,30.0,18.0,27.0,58.0,14.0,43.0,60.0,21.0,28.0,30.0,42.0,25.0,25.0,41.0,55.0,22.0,26.0,25.0,44.0,23.0,53.0,0.0,10.0,2.0,5.0,22.0,55.0,9.0,48.0,27.0,3.0,57.0,43.0,34.0,21.0,25.0,44.0,38.0,26.0,13.0,64.0,23.0,55.0,50.0,41.0,23.0,19.0,56.0,37.0,19.0,39.0,28.0,1.0,10.0,12.0,3.0,30.0,41.0,36.0,0.0,41.0,38.0,54.0,32.0,24.0,26.0,39.0,35.0,43.0,2.0,21.0,24.0,44.0,33.0,40.0,31.0,44.0,31.0,33.0,30.0,22.0,37.0,15.0,52.0,35.0,24.0,31.0,43.0,51.0,20.0,22.0,50.0,11.0,1.0,0.0,36.0,2.0,0.0,41.0,30.0,62.0,13.0,32.0,38.0,29.0,25.0,26.0,19.0,16.0,28.0,44.0,30.0,21.0,20.0,31.0,33.0,26.0,23.0,0.0,30.0,26.0,44.0],\"xaxis\":\"x\",\"yaxis\":\"y\",\"type\":\"histogram\"},{\"alignmentgroup\":\"True\",\"hovertemplate\":\"Transported=True<br>Age=%{x}<extra></extra>\",\"legendgroup\":\"True\",\"marker\":{\"color\":\"#EF553B\"},\"name\":\"True\",\"notched\":true,\"offsetgroup\":\"True\",\"showlegend\":false,\"x\":[24.0,16.0,44.0,26.0,28.0,35.0,14.0,34.0,45.0,32.0,28.0,45.0,0.0,10.0,62.0,47.0,2.0,20.0,28.0,17.0,4.0,21.0,19.0,25.0,2.0,38.0,27.0,15.0,33.0,0.0,18.0,42.0,42.0,27.0,28.0,2.0,8.0,24.0,40.0,45.0,35.0,26.0,0.0,3.0,26.0,2.0,31.0,24.0,9.0,0.0,42.0,28.0,29.0,48.0,64.0,26.0,33.0,13.0,24.0,67.0,22.0,19.0,19.0,13.0,35.0,24.0,20.0,50.0,null,26.0,17.0,57.0,35.0,13.0,19.0,32.0,58.0,19.0,3.0,24.0,37.0,56.0,1.0,2.0,0.0,39.0,52.0,15.0,35.0,47.0,45.0,null,51.0,null,24.0,29.0,11.0,19.0,2.0,0.0,15.0,21.0,24.0,16.0,58.0,42.0,35.0,43.0,14.0,46.0,54.0,21.0,24.0,60.0,28.0,39.0,47.0,null,50.0,19.0,21.0,29.0,22.0,14.0,42.0,39.0,19.0,26.0,17.0,43.0,9.0,40.0,50.0,24.0,57.0,23.0,18.0,60.0,null,49.0,0.0,35.0,24.0,20.0,19.0,2.0,32.0,29.0,2.0,19.0,0.0,18.0,38.0,15.0,22.0,36.0,14.0,18.0,36.0,50.0,32.0,33.0,61.0,24.0,24.0,22.0,21.0,56.0,13.0,32.0,31.0,26.0,18.0,38.0,0.0,14.0,27.0,18.0,45.0,32.0,43.0,60.0,68.0,59.0,null,3.0,31.0,31.0,29.0,20.0,46.0,29.0,43.0,27.0,45.0,17.0,10.0,40.0,22.0,22.0,32.0,11.0,22.0,19.0,34.0,74.0,28.0,42.0,43.0,19.0,28.0,24.0,31.0,22.0,1.0,null,25.0,36.0,30.0,15.0,27.0,12.0,13.0,14.0,27.0,46.0,27.0,21.0,10.0,18.0,54.0,24.0,18.0,53.0,23.0,39.0,59.0,32.0,55.0,21.0,50.0,35.0,null,23.0,35.0,47.0,34.0,null,28.0,null,36.0,30.0,49.0,31.0,24.0,32.0,43.0,23.0,29.0,40.0,37.0,61.0,19.0,12.0,44.0,32.0,28.0,13.0,14.0,null,23.0,36.0,22.0,42.0,30.0,16.0,55.0,18.0,55.0,49.0,33.0,3.0,0.0,33.0,48.0,5.0,53.0,46.0,23.0,0.0,4.0,9.0,24.0,24.0,21.0,7.0,31.0,27.0,34.0,7.0,3.0,21.0,39.0,43.0,22.0,44.0,32.0,55.0,35.0,20.0,63.0,29.0,36.0,30.0,30.0,19.0,33.0,38.0,7.0,58.0,3.0,39.0,37.0,28.0,18.0,44.0,28.0,46.0,38.0,null,0.0,20.0,18.0,36.0,54.0,23.0,35.0,22.0,24.0,18.0,33.0,18.0,19.0,43.0,44.0,25.0,25.0,23.0,2.0,38.0,12.0,1.0,0.0,54.0,23.0,29.0,14.0,47.0,14.0,14.0,34.0,42.0,22.0,54.0,27.0,33.0,35.0,31.0,54.0,0.0,7.0,15.0,26.0,7.0,19.0,59.0,28.0,19.0,26.0,20.0,19.0,27.0,28.0,38.0,1.0,36.0,1.0,10.0,0.0,0.0,0.0,59.0,71.0,23.0,15.0,19.0,4.0,42.0,13.0,27.0,41.0,21.0,31.0,36.0,30.0,14.0,27.0,32.0,54.0,38.0,32.0,36.0,22.0,37.0,20.0,33.0,52.0,27.0,32.0,26.0,32.0,18.0,19.0,19.0,74.0,31.0,33.0,null,22.0,11.0,41.0,30.0,31.0,15.0,19.0,29.0,30.0,30.0,0.0,15.0,38.0,19.0,15.0,38.0,28.0,41.0,14.0,21.0,48.0,44.0,19.0,32.0,44.0,57.0,34.0,30.0,22.0,71.0,18.0,36.0,49.0,46.0,17.0,46.0,56.0,3.0,1.0,56.0,5.0,12.0,39.0,60.0,19.0,19.0,18.0,36.0,25.0,0.0,8.0,3.0,30.0,61.0,13.0,24.0,15.0,46.0,58.0,20.0,36.0,31.0,58.0,38.0,30.0,20.0,38.0,15.0,null,35.0,14.0,27.0,27.0,23.0,18.0,0.0,19.0,7.0,33.0,35.0,23.0,34.0,42.0,5.0,5.0,26.0,40.0,20.0,34.0,9.0,36.0,26.0,55.0,18.0,20.0,27.0,13.0,32.0,53.0,34.0,42.0,19.0,54.0,12.0,49.0,22.0,39.0,14.0,29.0,8.0,18.0,25.0,32.0,26.0,18.0,26.0,28.0,31.0,35.0,29.0,17.0,28.0,24.0,36.0,34.0,59.0,15.0,64.0,24.0,23.0,0.0,48.0,52.0,16.0,25.0,28.0,28.0,45.0,6.0,13.0,1.0,51.0,31.0,28.0,20.0,24.0,18.0,21.0,59.0,27.0,36.0,22.0,23.0,32.0,26.0,61.0,30.0,40.0,37.0,27.0,52.0,15.0,22.0,34.0,31.0,44.0,null,10.0,1.0,4.0,31.0,43.0,28.0,30.0,22.0,22.0,2.0,9.0,2.0,44.0,11.0,40.0,26.0,19.0,1.0,21.0,28.0,40.0,23.0,43.0,0.0,42.0,28.0,24.0,17.0,67.0,null,27.0,10.0,41.0,0.0,22.0,40.0,25.0,20.0,40.0,43.0,22.0,20.0,53.0,22.0,41.0,19.0,23.0,38.0,1.0,13.0,7.0,28.0,14.0,23.0,33.0,17.0,33.0,24.0,39.0,59.0,32.0,8.0,28.0,35.0,1.0,4.0,28.0,46.0,23.0,0.0,13.0,16.0,30.0,8.0,43.0,39.0,70.0,44.0,63.0,29.0,29.0,22.0,26.0,19.0,13.0,30.0,32.0,49.0,38.0,42.0,32.0,0.0,17.0,35.0,0.0,46.0,19.0,43.0,40.0,13.0,40.0,28.0,41.0,35.0,14.0,20.0,22.0,25.0,18.0,25.0,30.0,21.0,32.0,33.0,47.0,34.0,20.0,51.0,18.0,30.0,37.0,18.0,25.0,23.0,26.0,38.0,28.0,18.0,25.0,35.0,37.0,35.0,47.0,null,27.0,23.0,31.0,19.0,53.0,7.0,7.0,20.0,42.0,49.0,47.0,38.0,0.0,39.0,25.0,35.0,0.0,46.0,4.0,19.0,47.0,1.0,32.0,4.0,16.0,25.0,21.0,34.0,28.0,3.0,0.0,40.0,null,48.0,36.0,38.0,0.0,38.0,3.0,19.0,31.0,14.0,47.0,17.0,18.0,23.0,26.0,20.0,40.0,20.0,59.0,null,26.0,17.0,17.0,20.0,30.0,22.0,20.0,50.0,19.0,4.0,15.0,24.0,21.0,41.0,59.0,14.0,50.0,32.0,46.0,58.0,15.0,35.0,30.0,43.0,37.0,28.0,26.0,33.0,12.0,0.0,1.0,5.0,24.0,25.0,25.0,60.0,41.0,17.0,31.0,67.0,19.0,48.0,30.0,22.0,28.0,23.0,26.0,23.0,2.0,3.0,14.0,53.0,0.0,22.0,24.0,32.0,58.0,8.0,64.0,31.0,30.0,20.0,18.0,17.0,30.0,50.0,29.0,39.0,38.0,42.0,36.0,15.0,52.0,38.0,63.0,24.0,21.0,56.0,45.0,36.0,44.0,15.0,29.0,36.0,21.0,35.0,0.0,30.0,38.0,27.0,39.0,23.0,34.0,26.0,15.0,64.0,25.0,35.0,19.0,3.0,44.0,37.0,19.0,22.0,21.0,17.0,42.0,28.0,30.0,17.0,40.0,33.0,19.0,22.0,0.0,17.0,null,15.0,19.0,26.0,50.0,25.0,64.0,24.0,27.0,42.0,20.0,31.0,32.0,25.0,6.0,3.0,18.0,55.0,34.0,19.0,30.0,17.0,28.0,23.0,17.0,null,65.0,19.0,54.0,40.0,22.0,18.0,21.0,29.0,45.0,45.0,40.0,27.0,49.0,14.0,19.0,16.0,27.0,3.0,4.0,13.0,19.0,18.0,66.0,39.0,null,18.0,21.0,18.0,43.0,27.0,0.0,21.0,35.0,23.0,27.0,58.0,53.0,48.0,27.0,26.0,37.0,61.0,32.0,25.0,15.0,41.0,43.0,32.0,18.0,47.0,29.0,14.0,20.0,20.0,17.0,28.0,41.0,25.0,26.0,22.0,44.0,34.0,47.0,27.0,22.0,46.0,29.0,39.0,43.0,26.0,46.0,3.0,21.0,1.0,27.0,28.0,18.0,6.0,37.0,22.0,23.0,52.0,1.0,null,27.0,48.0,25.0,67.0,60.0,56.0,44.0,34.0,45.0,25.0,32.0,29.0,45.0,27.0,15.0,11.0,0.0,15.0,30.0,4.0,21.0,24.0,29.0,28.0,44.0,50.0,20.0,22.0,32.0,11.0,4.0,11.0,58.0,37.0,42.0,17.0,36.0,44.0,18.0,22.0,43.0,29.0,24.0,18.0,15.0,22.0,34.0,70.0,18.0,26.0,32.0,23.0,24.0,34.0,33.0,28.0,7.0,27.0,16.0,21.0,28.0,36.0,21.0,50.0,27.0,27.0,27.0,4.0,39.0,57.0,18.0,28.0,37.0,18.0,29.0,28.0,24.0,20.0,23.0,27.0,38.0,38.0,48.0,25.0,69.0,18.0,23.0,6.0,41.0,0.0,16.0,19.0,7.0,4.0,30.0,24.0,34.0,30.0,3.0,32.0,55.0,0.0,0.0,24.0,42.0,17.0,28.0,21.0,56.0,28.0,28.0,26.0,50.0,29.0,35.0,34.0,0.0,4.0,8.0,20.0,25.0,24.0,0.0,43.0,63.0,17.0,35.0,12.0,null,23.0,14.0,25.0,50.0,39.0,18.0,55.0,14.0,28.0,26.0,44.0,22.0,14.0,21.0,13.0,71.0,33.0,34.0,21.0,36.0,51.0,27.0,20.0,24.0,27.0,58.0,29.0,23.0,3.0,0.0,12.0,44.0,20.0,72.0,1.0,25.0,24.0,54.0,17.0,15.0,52.0,16.0,16.0,10.0,45.0,38.0,19.0,49.0,29.0,18.0,41.0,58.0,36.0,24.0,0.0,31.0,42.0,36.0,35.0,53.0,21.0,46.0,58.0,53.0,23.0,43.0,36.0,48.0,34.0,38.0,23.0,23.0,0.0,41.0,43.0,14.0,18.0,0.0,4.0,24.0,44.0,57.0,3.0,3.0,18.0,21.0,35.0,47.0,23.0,40.0,51.0,28.0,13.0,20.0,36.0,16.0,40.0,null,18.0,17.0,32.0,53.0,36.0,61.0,59.0,17.0,27.0,57.0,55.0,42.0,28.0,36.0,3.0,0.0,38.0,26.0,24.0,25.0,43.0,0.0,6.0,23.0,43.0,23.0,41.0,51.0,44.0,48.0,68.0,23.0,0.0,39.0,55.0,25.0,18.0,21.0,43.0,38.0,14.0,33.0,13.0,24.0,26.0,40.0,47.0,33.0,45.0,1.0,70.0,55.0,35.0,33.0,19.0,31.0,14.0,30.0,22.0,17.0,25.0,19.0,7.0,21.0,37.0,22.0,41.0,16.0,36.0,null,50.0,57.0,15.0,60.0,35.0,27.0,26.0,22.0,25.0,27.0,52.0,0.0,30.0,12.0,22.0,24.0,21.0,56.0,25.0,6.0,17.0,12.0,47.0,46.0,31.0,36.0,48.0,21.0,4.0,31.0,62.0,29.0,24.0,49.0,21.0,18.0,18.0,25.0,0.0,null,24.0,26.0,22.0,19.0,38.0,38.0,77.0,18.0,10.0,34.0,40.0,68.0,27.0,28.0,55.0,10.0,14.0,3.0,22.0,23.0,36.0,33.0,17.0,28.0,45.0,62.0,43.0,1.0,7.0,30.0,28.0,20.0,54.0,35.0,26.0,8.0,40.0,2.0,32.0,35.0,9.0,21.0,28.0,28.0,31.0,43.0,60.0,43.0,17.0,29.0,2.0,22.0,16.0,52.0,14.0,25.0,34.0,20.0,28.0,44.0,27.0,38.0,8.0,1.0,0.0,20.0,41.0,26.0,49.0,39.0,32.0,11.0,44.0,36.0,42.0,40.0,53.0,31.0,14.0,31.0,55.0,40.0,37.0,17.0,60.0,19.0,28.0,24.0,73.0,17.0,13.0,61.0,19.0,45.0,52.0,25.0,9.0,18.0,6.0,20.0,14.0,33.0,56.0,20.0,44.0,23.0,39.0,25.0,20.0,4.0,64.0,0.0,19.0,23.0,18.0,37.0,24.0,11.0,15.0,16.0,25.0,23.0,28.0,72.0,18.0,27.0,21.0,53.0,27.0,74.0,null,23.0,0.0,0.0,28.0,17.0,26.0,38.0,33.0,16.0,41.0,7.0,44.0,22.0,21.0,13.0,16.0,36.0,36.0,28.0,64.0,41.0,16.0,31.0,59.0,18.0,33.0,49.0,4.0,0.0,0.0,62.0,24.0,33.0,20.0,39.0,29.0,19.0,47.0,34.0,26.0,15.0,null,1.0,38.0,27.0,48.0,46.0,26.0,16.0,0.0,0.0,13.0,23.0,70.0,21.0,40.0,23.0,15.0,45.0,25.0,28.0,14.0,31.0,39.0,17.0,56.0,48.0,18.0,28.0,18.0,19.0,37.0,43.0,17.0,14.0,26.0,19.0,19.0,15.0,22.0,23.0,53.0,55.0,22.0,64.0,40.0,8.0,24.0,11.0,31.0,31.0,17.0,16.0,57.0,28.0,26.0,17.0,36.0,24.0,18.0,null,23.0,27.0,54.0,37.0,36.0,28.0,29.0,29.0,23.0,0.0,36.0,42.0,null,16.0,43.0,40.0,22.0,37.0,4.0,24.0,22.0,38.0,30.0,29.0,26.0,41.0,34.0,24.0,23.0,23.0,19.0,2.0,0.0,20.0,35.0,26.0,32.0,25.0,30.0,27.0,18.0,22.0,null,40.0,9.0,56.0,39.0,18.0,2.0,18.0,45.0,24.0,35.0,16.0,40.0,5.0,31.0,15.0,43.0,61.0,17.0,29.0,24.0,34.0,26.0,18.0,null,45.0,32.0,24.0,43.0,18.0,38.0,23.0,26.0,21.0,45.0,24.0,20.0,16.0,8.0,20.0,22.0,42.0,23.0,42.0,46.0,29.0,35.0,48.0,24.0,55.0,7.0,null,15.0,13.0,23.0,null,33.0,67.0,18.0,54.0,57.0,21.0,27.0,49.0,21.0,21.0,15.0,19.0,25.0,39.0,15.0,31.0,25.0,null,18.0,33.0,23.0,34.0,38.0,21.0,54.0,null,56.0,9.0,0.0,16.0,42.0,22.0,47.0,30.0,22.0,17.0,13.0,36.0,0.0,21.0,18.0,5.0,18.0,14.0,23.0,7.0,4.0,36.0,25.0,20.0,18.0,15.0,33.0,55.0,26.0,33.0,9.0,0.0,19.0,42.0,37.0,18.0,34.0,34.0,24.0,56.0,2.0,12.0,29.0,45.0,0.0,41.0,13.0,20.0,21.0,27.0,0.0,23.0,29.0,19.0,3.0,29.0,19.0,22.0,null,17.0,29.0,11.0,24.0,28.0,27.0,0.0,58.0,3.0,4.0,34.0,5.0,22.0,8.0,17.0,40.0,16.0,41.0,14.0,2.0,59.0,52.0,33.0,51.0,30.0,null,59.0,42.0,29.0,2.0,null,27.0,13.0,49.0,21.0,14.0,1.0,null,26.0,2.0,10.0,14.0,29.0,22.0,0.0,1.0,42.0,47.0,22.0,24.0,null,22.0,60.0,21.0,26.0,36.0,46.0,26.0,46.0,null,48.0,43.0,48.0,47.0,19.0,28.0,16.0,45.0,31.0,21.0,22.0,23.0,0.0,4.0,19.0,34.0,40.0,43.0,54.0,45.0,33.0,46.0,15.0,23.0,27.0,16.0,37.0,45.0,58.0,47.0,41.0,28.0,24.0,36.0,15.0,19.0,39.0,20.0,20.0,13.0,24.0,32.0,null,30.0,23.0,4.0,0.0,17.0,44.0,41.0,24.0,17.0,23.0,34.0,13.0,66.0,27.0,55.0,23.0,12.0,25.0,46.0,50.0,28.0,26.0,28.0,65.0,20.0,29.0,30.0,3.0,13.0,19.0,24.0,24.0,47.0,18.0,36.0,31.0,28.0,17.0,13.0,58.0,43.0,20.0,15.0,25.0,41.0,27.0,19.0,41.0,27.0,56.0,22.0,18.0,13.0,32.0,25.0,55.0,24.0,32.0,32.0,28.0,52.0,29.0,23.0,32.0,16.0,33.0,6.0,15.0,4.0,21.0,22.0,6.0,22.0,20.0,24.0,25.0,3.0,24.0,1.0,20.0,28.0,17.0,47.0,29.0,14.0,36.0,40.0,49.0,51.0,41.0,44.0,22.0,13.0,18.0,22.0,47.0,21.0,37.0,31.0,28.0,20.0,40.0,18.0,27.0,43.0,25.0,15.0,37.0,32.0,27.0,22.0,25.0,34.0,54.0,43.0,23.0,57.0,54.0,51.0,33.0,8.0,44.0,48.0,35.0,0.0,5.0,16.0,18.0,27.0,55.0,75.0,50.0,37.0,47.0,13.0,29.0,30.0,29.0,18.0,22.0,20.0,23.0,31.0,39.0,50.0,59.0,41.0,33.0,54.0,40.0,43.0,26.0,65.0,22.0,35.0,30.0,23.0,24.0,16.0,18.0,29.0,29.0,23.0,26.0,2.0,24.0,2.0,27.0,9.0,0.0,3.0,34.0,26.0,46.0,26.0,28.0,20.0,4.0,31.0,15.0,22.0,53.0,48.0,41.0,13.0,57.0,25.0,48.0,16.0,15.0,25.0,null,54.0,30.0,37.0,30.0,0.0,15.0,19.0,20.0,34.0,17.0,20.0,28.0,43.0,25.0,null,31.0,19.0,29.0,64.0,24.0,22.0,17.0,35.0,33.0,37.0,34.0,9.0,25.0,29.0,1.0,30.0,27.0,25.0,28.0,32.0,26.0,31.0,23.0,14.0,40.0,42.0,28.0,25.0,34.0,31.0,24.0,52.0,25.0,17.0,29.0,45.0,28.0,25.0,57.0,68.0,16.0,62.0,26.0,36.0,13.0,48.0,null,22.0,39.0,33.0,27.0,20.0,32.0,54.0,30.0,4.0,53.0,46.0,2.0,1.0,11.0,3.0,33.0,3.0,41.0,64.0,27.0,42.0,63.0,2.0,19.0,50.0,38.0,28.0,35.0,65.0,27.0,0.0,19.0,39.0,40.0,22.0,61.0,35.0,21.0,23.0,17.0,26.0,26.0,20.0,28.0,37.0,49.0,4.0,32.0,44.0,20.0,22.0,35.0,0.0,6.0,38.0,34.0,34.0,32.0,44.0,54.0,35.0,29.0,22.0,22.0,22.0,18.0,52.0,0.0,1.0,6.0,22.0,31.0,25.0,23.0,27.0,37.0,21.0,29.0,46.0,43.0,18.0,20.0,50.0,13.0,43.0,16.0,31.0,0.0,10.0,18.0,7.0,1.0,49.0,22.0,21.0,65.0,20.0,0.0,16.0,22.0,0.0,30.0,14.0,21.0,29.0,29.0,21.0,36.0,59.0,36.0,0.0,19.0,30.0,23.0,55.0,44.0,39.0,17.0,17.0,35.0,32.0,18.0,21.0,27.0,38.0,21.0,20.0,28.0,10.0,23.0,22.0,24.0,31.0,15.0,28.0,40.0,32.0,15.0,19.0,19.0,36.0,59.0,24.0,4.0,20.0,24.0,23.0,3.0,22.0,20.0,0.0,13.0,47.0,51.0,22.0,3.0,4.0,1.0,20.0,19.0,19.0,3.0,36.0,20.0,null,27.0,43.0,42.0,24.0,19.0,32.0,61.0,35.0,3.0,45.0,25.0,12.0,2.0,46.0,16.0,29.0,22.0,21.0,42.0,34.0,52.0,43.0,35.0,27.0,15.0,44.0,19.0,47.0,24.0,23.0,5.0,32.0,13.0,18.0,41.0,32.0,13.0,12.0,24.0,18.0,29.0,38.0,17.0,23.0,15.0,11.0,42.0,41.0,14.0,25.0,54.0,18.0,29.0,36.0,19.0,20.0,27.0,20.0,22.0,19.0,12.0,11.0,61.0,7.0,25.0,51.0,56.0,31.0,16.0,29.0,17.0,47.0,56.0,25.0,13.0,41.0,28.0,25.0,11.0,24.0,59.0,31.0,21.0,27.0,37.0,36.0,null,19.0,9.0,40.0,23.0,4.0,21.0,4.0,19.0,18.0,26.0,16.0,14.0,21.0,29.0,40.0,41.0,16.0,30.0,40.0,63.0,32.0,19.0,44.0,26.0,47.0,20.0,48.0,4.0,25.0,0.0,9.0,27.0,34.0,18.0,16.0,43.0,20.0,14.0,2.0,3.0,28.0,18.0,26.0,26.0,29.0,25.0,18.0,32.0,47.0,null,8.0,30.0,24.0,13.0,23.0,16.0,46.0,22.0,29.0,46.0,24.0,33.0,57.0,null,38.0,28.0,22.0,33.0,35.0,24.0,31.0,16.0,28.0,8.0,20.0,70.0,17.0,14.0,21.0,37.0,14.0,21.0,20.0,39.0,18.0,37.0,18.0,35.0,26.0,0.0,42.0,36.0,25.0,32.0,14.0,16.0,51.0,21.0,31.0,7.0,3.0,2.0,33.0,23.0,13.0,27.0,23.0,25.0,23.0,31.0,22.0,38.0,21.0,28.0,20.0,48.0,15.0,30.0,40.0,20.0,38.0,21.0,26.0,13.0,39.0,27.0,21.0,38.0,18.0,35.0,37.0,31.0,4.0,34.0,46.0,29.0,13.0,26.0,34.0,26.0,10.0,27.0,24.0,20.0,48.0,14.0,28.0,42.0,8.0,30.0,23.0,16.0,20.0,0.0,18.0,0.0,39.0,26.0,28.0,18.0,33.0,null,44.0,7.0,24.0,32.0,17.0,36.0,16.0,21.0,24.0,21.0,6.0,41.0,6.0,32.0,31.0,37.0,21.0,49.0,17.0,36.0,45.0,24.0,28.0,15.0,51.0,14.0,22.0,22.0,13.0,28.0,40.0,35.0,37.0,27.0,20.0,15.0,null,18.0,2.0,27.0,0.0,56.0,42.0,20.0,27.0,36.0,64.0,0.0,44.0,33.0,20.0,0.0,4.0,20.0,47.0,17.0,21.0,20.0,26.0,34.0,11.0,0.0,33.0,22.0,11.0,43.0,37.0,23.0,29.0,26.0,29.0,26.0,19.0,34.0,18.0,36.0,27.0,52.0,34.0,26.0,53.0,19.0,3.0,6.0,4.0,21.0,8.0,35.0,18.0,45.0,31.0,14.0,61.0,28.0,32.0,49.0,20.0,25.0,19.0,28.0,68.0,16.0,26.0,23.0,28.0,22.0,27.0,35.0,37.0,24.0,24.0,39.0,35.0,52.0,26.0,43.0,14.0,33.0,29.0,18.0,35.0,20.0,18.0,66.0,33.0,48.0,62.0,20.0,45.0,39.0,33.0,26.0,47.0,null,28.0,22.0,17.0,16.0,9.0,15.0,33.0,61.0,61.0,42.0,12.0,0.0,19.0,null,29.0,59.0,20.0,70.0,37.0,20.0,24.0,27.0,29.0,34.0,null,39.0,35.0,18.0,20.0,23.0,23.0,19.0,22.0,55.0,25.0,33.0,54.0,22.0,22.0,19.0,47.0,61.0,15.0,33.0,35.0,21.0,43.0,27.0,46.0,59.0,19.0,39.0,44.0,46.0,28.0,31.0,46.0,0.0,3.0,12.0,2.0,41.0,11.0,41.0,21.0,21.0,27.0,54.0,39.0,31.0,28.0,29.0,45.0,12.0,18.0,20.0,43.0,46.0,53.0,52.0,31.0,27.0,28.0,27.0,58.0,24.0,28.0,36.0,64.0,41.0,null,27.0,22.0,23.0,2.0,0.0,27.0,0.0,14.0,24.0,51.0,52.0,35.0,22.0,47.0,25.0,11.0,41.0,55.0,29.0,23.0,25.0,50.0,27.0,19.0,18.0,25.0,41.0,62.0,30.0,6.0,23.0,63.0,42.0,19.0,5.0,2.0,15.0,19.0,26.0,38.0,30.0,16.0,46.0,17.0,20.0,24.0,19.0,29.0,14.0,null,null,32.0,7.0,34.0,47.0,52.0,18.0,22.0,17.0,15.0,34.0,28.0,29.0,25.0,22.0,38.0,38.0,0.0,2.0,40.0,34.0,21.0,43.0,28.0,null,19.0,2.0,0.0,47.0,38.0,24.0,25.0,29.0,23.0,26.0,20.0,27.0,33.0,30.0,32.0,21.0,26.0,44.0,24.0,15.0,19.0,25.0,34.0,13.0,null,16.0,41.0,36.0,11.0,26.0,28.0,5.0,null,13.0,30.0,15.0,0.0,49.0,52.0,15.0,0.0,15.0,26.0,8.0,18.0,44.0,15.0,27.0,2.0,16.0,35.0,24.0,28.0,41.0,28.0,18.0,19.0,15.0,23.0,33.0,26.0,26.0,18.0,17.0,39.0,46.0,32.0,36.0,28.0,16.0,7.0,1.0,30.0,44.0,28.0,41.0,13.0,26.0,27.0,54.0,18.0,28.0,57.0,32.0,21.0,34.0,33.0,36.0,13.0,28.0,36.0,null,37.0,50.0,33.0,46.0,26.0,2.0,32.0,3.0,2.0,6.0,null,0.0,4.0,58.0,22.0,51.0,37.0,null,43.0,null,15.0,18.0,33.0,41.0,14.0,42.0,16.0,12.0,18.0,36.0,23.0,4.0,21.0,34.0,35.0,16.0,4.0,19.0,3.0,51.0,null,45.0,18.0,23.0,34.0,47.0,27.0,4.0,59.0,19.0,25.0,28.0,43.0,8.0,38.0,39.0,30.0,40.0,52.0,26.0,33.0,20.0,10.0,23.0,28.0,23.0,37.0,59.0,53.0,22.0,17.0,24.0,33.0,37.0,13.0,23.0,23.0,47.0,38.0,64.0,43.0,21.0,36.0,22.0,21.0,57.0,46.0,42.0,8.0,3.0,12.0,null,47.0,19.0,5.0,7.0,3.0,1.0,7.0,15.0,53.0,58.0,null,16.0,33.0,44.0,40.0,34.0,9.0,0.0,38.0,21.0,31.0,7.0,12.0,0.0,17.0,2.0,29.0,42.0,0.0,14.0,35.0,18.0,14.0,53.0,48.0,21.0,44.0,0.0,27.0,40.0,44.0,3.0,17.0,16.0,18.0,19.0,28.0,40.0,45.0,18.0,54.0,26.0,16.0,17.0,24.0,22.0,41.0,15.0,36.0,23.0,40.0,0.0,18.0,18.0,2.0,25.0,0.0,27.0,34.0,19.0,31.0,51.0,21.0,31.0,28.0,11.0,20.0,16.0,20.0,53.0,37.0,55.0,24.0,24.0,49.0,39.0,5.0,10.0,1.0,5.0,0.0,0.0,1.0,38.0,42.0,24.0,12.0,2.0,44.0,28.0,28.0,27.0,21.0,24.0,8.0,12.0,21.0,13.0,20.0,35.0,22.0,1.0,7.0,78.0,24.0,57.0,27.0,42.0,28.0,18.0,21.0,6.0,23.0,0.0,2.0,null,20.0,20.0,32.0,16.0,21.0,21.0,18.0,13.0,37.0,null,38.0,29.0,68.0,31.0,41.0,25.0,21.0,58.0,50.0,16.0,13.0,53.0,21.0,18.0,38.0,20.0,56.0,21.0,null,34.0,35.0,35.0,49.0,62.0,25.0,42.0,41.0,20.0,15.0,29.0,20.0,35.0,22.0,43.0,15.0,38.0,34.0,19.0,26.0,46.0,64.0,18.0,26.0,39.0,59.0,17.0,47.0,29.0,28.0,12.0,24.0,30.0,34.0,37.0,23.0,0.0,18.0,17.0,53.0,48.0,68.0,28.0,35.0,31.0,1.0,4.0,11.0,32.0,15.0,25.0,35.0,36.0,22.0,32.0,30.0,28.0,26.0,66.0,50.0,21.0,25.0,46.0,0.0,2.0,19.0,35.0,41.0,22.0,null,41.0,44.0,23.0,28.0,40.0,27.0,17.0,29.0,29.0,48.0,14.0,47.0,14.0,37.0,33.0,33.0,44.0,37.0,33.0,28.0,31.0,27.0,7.0,21.0,23.0,50.0,25.0,46.0,0.0,30.0,18.0,20.0,31.0,55.0,0.0,3.0,45.0,14.0,37.0,14.0,44.0,11.0,15.0,39.0,49.0,9.0,42.0,16.0,0.0,26.0,41.0,27.0,40.0,40.0,15.0,50.0,39.0,20.0,30.0,16.0,36.0,68.0,36.0,32.0,10.0,9.0,31.0,58.0,30.0,14.0,50.0,12.0,2.0,33.0,23.0,23.0,43.0,26.0,29.0,21.0,30.0,13.0,22.0,26.0,14.0,8.0,29.0,15.0,48.0,13.0,25.0,32.0,20.0,38.0,62.0,23.0,32.0,26.0,46.0,27.0,28.0,29.0,37.0,0.0,12.0,3.0,9.0,27.0,59.0,16.0,46.0,16.0,35.0,7.0,29.0,50.0,49.0,29.0,29.0,22.0,24.0,23.0,28.0,19.0,37.0,43.0,4.0,32.0,15.0,17.0,37.0,20.0,47.0,8.0,39.0,57.0,29.0,null,13.0,49.0,19.0,15.0,37.0,null,26.0,0.0,4.0,19.0,17.0,28.0,21.0,20.0,38.0,24.0,44.0,21.0,54.0,null,28.0,43.0,27.0,22.0,31.0,16.0,16.0,27.0,30.0,36.0,25.0,29.0,26.0,null,33.0,35.0,63.0,23.0,5.0,16.0,20.0,3.0,14.0,16.0,18.0,21.0,21.0,13.0,27.0,30.0,52.0,16.0,0.0,40.0,1.0,37.0,32.0,57.0,2.0,1.0,1.0,20.0,32.0,24.0,36.0,13.0,29.0,30.0,27.0,35.0,42.0,20.0,18.0,23.0,28.0,23.0,22.0,31.0,44.0,18.0,10.0,51.0,25.0,8.0,49.0,3.0,null,31.0,11.0,27.0,32.0,20.0,18.0,33.0,null,37.0,19.0,47.0,25.0,53.0,28.0,18.0,14.0,28.0,2.0,27.0,29.0,14.0,17.0,35.0,37.0,24.0,28.0,0.0,22.0,24.0,37.0,21.0,53.0,0.0,64.0,40.0,30.0,34.0,16.0,39.0,18.0,30.0,0.0,51.0,26.0,14.0,43.0,22.0,23.0,25.0,35.0,37.0,36.0,36.0,17.0,38.0,20.0,36.0,52.0,32.0,35.0,null,24.0,35.0,29.0,10.0,41.0,26.0,33.0,31.0,27.0,37.0,16.0,50.0,48.0,36.0,46.0,58.0,3.0,21.0,29.0,23.0,41.0,42.0,30.0,26.0,40.0,17.0,17.0,46.0,28.0,31.0,35.0,19.0,16.0,45.0,23.0,41.0,7.0,39.0,47.0,29.0,50.0,38.0,26.0,45.0,47.0,60.0,42.0,48.0,26.0,36.0,27.0,41.0,21.0,24.0,35.0,13.0,11.0,null,43.0,36.0,56.0,34.0,43.0,25.0,63.0,45.0,15.0,19.0,41.0,5.0,27.0,20.0,45.0,26.0,37.0,3.0,3.0,6.0,4.0,0.0,26.0,24.0,41.0,23.0,61.0,18.0,18.0,null,15.0,12.0,19.0,18.0,22.0,18.0,26.0,17.0,39.0,37.0,17.0,9.0,33.0,23.0,45.0,22.0,36.0,19.0,59.0,31.0,28.0,19.0,29.0,0.0,15.0,49.0,36.0,40.0,56.0,67.0,27.0,54.0,26.0,39.0,40.0,20.0,18.0,35.0,50.0,63.0,19.0,27.0,58.0,44.0,23.0,21.0,14.0,17.0,25.0,24.0,24.0,0.0,3.0,18.0,40.0,25.0,10.0,40.0,19.0,15.0,21.0,54.0,28.0,24.0,28.0,42.0,36.0,40.0,41.0,25.0,39.0,0.0,0.0,13.0,27.0,25.0,30.0,49.0,26.0,27.0,27.0,33.0,20.0,39.0,19.0,41.0,18.0,39.0,null,29.0,41.0,55.0,21.0,28.0,43.0,23.0,5.0,22.0,14.0,22.0,15.0,67.0,21.0,33.0,18.0,28.0,18.0,25.0,15.0,19.0,26.0,26.0,27.0,37.0,24.0,4.0,23.0,2.0,34.0,44.0,35.0,46.0,75.0,24.0,46.0,46.0,9.0,23.0,17.0,37.0,30.0,32.0,41.0,37.0,18.0,1.0,7.0,19.0,26.0,10.0,38.0,26.0,29.0,35.0,17.0,16.0,2.0,18.0,29.0,43.0,1.0,36.0,17.0,53.0,26.0,48.0,25.0,25.0,null,47.0,24.0,42.0,13.0,41.0,9.0,30.0,16.0,36.0,39.0,21.0,24.0,null,22.0,26.0,18.0,34.0,55.0,18.0,33.0,31.0,13.0,18.0,53.0,4.0,24.0,23.0,1.0,18.0,49.0,21.0,40.0,47.0,36.0,26.0,0.0,14.0,7.0,50.0,17.0,24.0,59.0,24.0,28.0,38.0,2.0,32.0,18.0,14.0,26.0,29.0,29.0,35.0,25.0,40.0,35.0,null,26.0,45.0,29.0,39.0,37.0,22.0,1.0,0.0,28.0,65.0,26.0,37.0,40.0,0.0,23.0,60.0,53.0,26.0,21.0,39.0,20.0,44.0,62.0,19.0,31.0,33.0,60.0,41.0,44.0,18.0,26.0,49.0,31.0,40.0,17.0,54.0,20.0,36.0,25.0,37.0,24.0,13.0,4.0,22.0,22.0,26.0,25.0,24.0,38.0,18.0,45.0,28.0,5.0,2.0,0.0,3.0,49.0,0.0,10.0,1.0,9.0,23.0,18.0,28.0,38.0,44.0,38.0,18.0,4.0,0.0,43.0,18.0,22.0,4.0,0.0,null,39.0,53.0,24.0,40.0,18.0,57.0,26.0,30.0,18.0,33.0,29.0,34.0,18.0,3.0,37.0,1.0,27.0,15.0,33.0,20.0,23.0,35.0,null,8.0,4.0,21.0,10.0,25.0,40.0,38.0,19.0,0.0,4.0,29.0,32.0,26.0,23.0,32.0,31.0,34.0,18.0,39.0,62.0,12.0,27.0,0.0,6.0,29.0,27.0,34.0,36.0,29.0,11.0,0.0,19.0,52.0,55.0,19.0,14.0,30.0,21.0,17.0,48.0,33.0,29.0,38.0,16.0,47.0,15.0,13.0,17.0,31.0,19.0,25.0,2.0,4.0,49.0,61.0,57.0,52.0,37.0,15.0,28.0,25.0,3.0,3.0,57.0,20.0,14.0,22.0,15.0,41.0,31.0,35.0,48.0,15.0,37.0,15.0,45.0,13.0,19.0,20.0,27.0,23.0,24.0,25.0,16.0,46.0,50.0,27.0,34.0,40.0,36.0,33.0,24.0,19.0,54.0,28.0,26.0,21.0,61.0,14.0,23.0,27.0,60.0,29.0,19.0,22.0,35.0,28.0,42.0,37.0,31.0,18.0,44.0,22.0,48.0,2.0,0.0,48.0,20.0,27.0,26.0,40.0,16.0,33.0,37.0,58.0,25.0,39.0,40.0,3.0,18.0,18.0,34.0,34.0,18.0,40.0,8.0,29.0,56.0,25.0,33.0,59.0,22.0,44.0,25.0,23.0,6.0,39.0,21.0,28.0,13.0,33.0,21.0,15.0,10.0,23.0,50.0,13.0,20.0,21.0,16.0,28.0,55.0,28.0,25.0,4.0,3.0,3.0,22.0,23.0,48.0,55.0,15.0,50.0,29.0,39.0,49.0,19.0,14.0,40.0,6.0,16.0,29.0,27.0,25.0,1.0,1.0,21.0,24.0,27.0,13.0,40.0,35.0,36.0,14.0,50.0,20.0,23.0,65.0,32.0,18.0,62.0,25.0,18.0,20.0,14.0,49.0,38.0,28.0,30.0,25.0,24.0,44.0,0.0,0.0,17.0,15.0,24.0,40.0,20.0,36.0,4.0,59.0,23.0,25.0,22.0,6.0,14.0,34.0,3.0,19.0,29.0,32.0,38.0,48.0,44.0,15.0,29.0,28.0,13.0,45.0,19.0,21.0,37.0,19.0,21.0,13.0,15.0,18.0,28.0,24.0,19.0,19.0,27.0,76.0,28.0,20.0,7.0,21.0,32.0,34.0,null,28.0,25.0,24.0,18.0,30.0,38.0,39.0,31.0,33.0,15.0,23.0,44.0,28.0,34.0,26.0,1.0,24.0,16.0,23.0,33.0,24.0,6.0,31.0,19.0,32.0,24.0,28.0,19.0,24.0,52.0,23.0,25.0,22.0,35.0,24.0,37.0,36.0,0.0,17.0,34.0,18.0,20.0,32.0,1.0,0.0,18.0,51.0,21.0,34.0,13.0,25.0,null,17.0,0.0,17.0,17.0,16.0,29.0,15.0,23.0,20.0,33.0,19.0,32.0,0.0,29.0,18.0,30.0,18.0,27.0,58.0,14.0,43.0,60.0,21.0,28.0,30.0,42.0,25.0,25.0,41.0,55.0,22.0,26.0,25.0,44.0,23.0,53.0,0.0,10.0,2.0,5.0,22.0,55.0,9.0,48.0,27.0,3.0,57.0,43.0,34.0,21.0,25.0,44.0,38.0,26.0,13.0,64.0,23.0,55.0,50.0,41.0,23.0,19.0,56.0,37.0,19.0,39.0,28.0,1.0,10.0,12.0,3.0,30.0,41.0,36.0,0.0,41.0,38.0,54.0,32.0,24.0,26.0,39.0,35.0,43.0,2.0,21.0,24.0,44.0,33.0,40.0,31.0,44.0,31.0,33.0,30.0,22.0,37.0,15.0,52.0,35.0,24.0,31.0,43.0,51.0,20.0,22.0,50.0,11.0,1.0,0.0,36.0,2.0,0.0,41.0,30.0,62.0,13.0,32.0,38.0,29.0,25.0,26.0,19.0,16.0,28.0,44.0,30.0,21.0,20.0,31.0,33.0,26.0,23.0,0.0,30.0,26.0,44.0],\"xaxis\":\"x2\",\"yaxis\":\"y2\",\"type\":\"box\"}],                        {\"template\":{\"data\":{\"histogram2dcontour\":[{\"type\":\"histogram2dcontour\",\"colorbar\":{\"outlinewidth\":0,\"ticks\":\"\"},\"colorscale\":[[0.0,\"#0d0887\"],[0.1111111111111111,\"#46039f\"],[0.2222222222222222,\"#7201a8\"],[0.3333333333333333,\"#9c179e\"],[0.4444444444444444,\"#bd3786\"],[0.5555555555555556,\"#d8576b\"],[0.6666666666666666,\"#ed7953\"],[0.7777777777777778,\"#fb9f3a\"],[0.8888888888888888,\"#fdca26\"],[1.0,\"#f0f921\"]]}],\"choropleth\":[{\"type\":\"choropleth\",\"colorbar\":{\"outlinewidth\":0,\"ticks\":\"\"}}],\"histogram2d\":[{\"type\":\"histogram2d\",\"colorbar\":{\"outlinewidth\":0,\"ticks\":\"\"},\"colorscale\":[[0.0,\"#0d0887\"],[0.1111111111111111,\"#46039f\"],[0.2222222222222222,\"#7201a8\"],[0.3333333333333333,\"#9c179e\"],[0.4444444444444444,\"#bd3786\"],[0.5555555555555556,\"#d8576b\"],[0.6666666666666666,\"#ed7953\"],[0.7777777777777778,\"#fb9f3a\"],[0.8888888888888888,\"#fdca26\"],[1.0,\"#f0f921\"]]}],\"heatmap\":[{\"type\":\"heatmap\",\"colorbar\":{\"outlinewidth\":0,\"ticks\":\"\"},\"colorscale\":[[0.0,\"#0d0887\"],[0.1111111111111111,\"#46039f\"],[0.2222222222222222,\"#7201a8\"],[0.3333333333333333,\"#9c179e\"],[0.4444444444444444,\"#bd3786\"],[0.5555555555555556,\"#d8576b\"],[0.6666666666666666,\"#ed7953\"],[0.7777777777777778,\"#fb9f3a\"],[0.8888888888888888,\"#fdca26\"],[1.0,\"#f0f921\"]]}],\"heatmapgl\":[{\"type\":\"heatmapgl\",\"colorbar\":{\"outlinewidth\":0,\"ticks\":\"\"},\"colorscale\":[[0.0,\"#0d0887\"],[0.1111111111111111,\"#46039f\"],[0.2222222222222222,\"#7201a8\"],[0.3333333333333333,\"#9c179e\"],[0.4444444444444444,\"#bd3786\"],[0.5555555555555556,\"#d8576b\"],[0.6666666666666666,\"#ed7953\"],[0.7777777777777778,\"#fb9f3a\"],[0.8888888888888888,\"#fdca26\"],[1.0,\"#f0f921\"]]}],\"contourcarpet\":[{\"type\":\"contourcarpet\",\"colorbar\":{\"outlinewidth\":0,\"ticks\":\"\"}}],\"contour\":[{\"type\":\"contour\",\"colorbar\":{\"outlinewidth\":0,\"ticks\":\"\"},\"colorscale\":[[0.0,\"#0d0887\"],[0.1111111111111111,\"#46039f\"],[0.2222222222222222,\"#7201a8\"],[0.3333333333333333,\"#9c179e\"],[0.4444444444444444,\"#bd3786\"],[0.5555555555555556,\"#d8576b\"],[0.6666666666666666,\"#ed7953\"],[0.7777777777777778,\"#fb9f3a\"],[0.8888888888888888,\"#fdca26\"],[1.0,\"#f0f921\"]]}],\"surface\":[{\"type\":\"surface\",\"colorbar\":{\"outlinewidth\":0,\"ticks\":\"\"},\"colorscale\":[[0.0,\"#0d0887\"],[0.1111111111111111,\"#46039f\"],[0.2222222222222222,\"#7201a8\"],[0.3333333333333333,\"#9c179e\"],[0.4444444444444444,\"#bd3786\"],[0.5555555555555556,\"#d8576b\"],[0.6666666666666666,\"#ed7953\"],[0.7777777777777778,\"#fb9f3a\"],[0.8888888888888888,\"#fdca26\"],[1.0,\"#f0f921\"]]}],\"mesh3d\":[{\"type\":\"mesh3d\",\"colorbar\":{\"outlinewidth\":0,\"ticks\":\"\"}}],\"scatter\":[{\"fillpattern\":{\"fillmode\":\"overlay\",\"size\":10,\"solidity\":0.2},\"type\":\"scatter\"}],\"parcoords\":[{\"type\":\"parcoords\",\"line\":{\"colorbar\":{\"outlinewidth\":0,\"ticks\":\"\"}}}],\"scatterpolargl\":[{\"type\":\"scatterpolargl\",\"marker\":{\"colorbar\":{\"outlinewidth\":0,\"ticks\":\"\"}}}],\"bar\":[{\"error_x\":{\"color\":\"#2a3f5f\"},\"error_y\":{\"color\":\"#2a3f5f\"},\"marker\":{\"line\":{\"color\":\"#E5ECF6\",\"width\":0.5},\"pattern\":{\"fillmode\":\"overlay\",\"size\":10,\"solidity\":0.2}},\"type\":\"bar\"}],\"scattergeo\":[{\"type\":\"scattergeo\",\"marker\":{\"colorbar\":{\"outlinewidth\":0,\"ticks\":\"\"}}}],\"scatterpolar\":[{\"type\":\"scatterpolar\",\"marker\":{\"colorbar\":{\"outlinewidth\":0,\"ticks\":\"\"}}}],\"histogram\":[{\"marker\":{\"pattern\":{\"fillmode\":\"overlay\",\"size\":10,\"solidity\":0.2}},\"type\":\"histogram\"}],\"scattergl\":[{\"type\":\"scattergl\",\"marker\":{\"colorbar\":{\"outlinewidth\":0,\"ticks\":\"\"}}}],\"scatter3d\":[{\"type\":\"scatter3d\",\"line\":{\"colorbar\":{\"outlinewidth\":0,\"ticks\":\"\"}},\"marker\":{\"colorbar\":{\"outlinewidth\":0,\"ticks\":\"\"}}}],\"scattermapbox\":[{\"type\":\"scattermapbox\",\"marker\":{\"colorbar\":{\"outlinewidth\":0,\"ticks\":\"\"}}}],\"scatterternary\":[{\"type\":\"scatterternary\",\"marker\":{\"colorbar\":{\"outlinewidth\":0,\"ticks\":\"\"}}}],\"scattercarpet\":[{\"type\":\"scattercarpet\",\"marker\":{\"colorbar\":{\"outlinewidth\":0,\"ticks\":\"\"}}}],\"carpet\":[{\"aaxis\":{\"endlinecolor\":\"#2a3f5f\",\"gridcolor\":\"white\",\"linecolor\":\"white\",\"minorgridcolor\":\"white\",\"startlinecolor\":\"#2a3f5f\"},\"baxis\":{\"endlinecolor\":\"#2a3f5f\",\"gridcolor\":\"white\",\"linecolor\":\"white\",\"minorgridcolor\":\"white\",\"startlinecolor\":\"#2a3f5f\"},\"type\":\"carpet\"}],\"table\":[{\"cells\":{\"fill\":{\"color\":\"#EBF0F8\"},\"line\":{\"color\":\"white\"}},\"header\":{\"fill\":{\"color\":\"#C8D4E3\"},\"line\":{\"color\":\"white\"}},\"type\":\"table\"}],\"barpolar\":[{\"marker\":{\"line\":{\"color\":\"#E5ECF6\",\"width\":0.5},\"pattern\":{\"fillmode\":\"overlay\",\"size\":10,\"solidity\":0.2}},\"type\":\"barpolar\"}],\"pie\":[{\"automargin\":true,\"type\":\"pie\"}]},\"layout\":{\"autotypenumbers\":\"strict\",\"colorway\":[\"#636efa\",\"#EF553B\",\"#00cc96\",\"#ab63fa\",\"#FFA15A\",\"#19d3f3\",\"#FF6692\",\"#B6E880\",\"#FF97FF\",\"#FECB52\"],\"font\":{\"color\":\"#2a3f5f\"},\"hovermode\":\"closest\",\"hoverlabel\":{\"align\":\"left\"},\"paper_bgcolor\":\"white\",\"plot_bgcolor\":\"#E5ECF6\",\"polar\":{\"bgcolor\":\"#E5ECF6\",\"angularaxis\":{\"gridcolor\":\"white\",\"linecolor\":\"white\",\"ticks\":\"\"},\"radialaxis\":{\"gridcolor\":\"white\",\"linecolor\":\"white\",\"ticks\":\"\"}},\"ternary\":{\"bgcolor\":\"#E5ECF6\",\"aaxis\":{\"gridcolor\":\"white\",\"linecolor\":\"white\",\"ticks\":\"\"},\"baxis\":{\"gridcolor\":\"white\",\"linecolor\":\"white\",\"ticks\":\"\"},\"caxis\":{\"gridcolor\":\"white\",\"linecolor\":\"white\",\"ticks\":\"\"}},\"coloraxis\":{\"colorbar\":{\"outlinewidth\":0,\"ticks\":\"\"}},\"colorscale\":{\"sequential\":[[0.0,\"#0d0887\"],[0.1111111111111111,\"#46039f\"],[0.2222222222222222,\"#7201a8\"],[0.3333333333333333,\"#9c179e\"],[0.4444444444444444,\"#bd3786\"],[0.5555555555555556,\"#d8576b\"],[0.6666666666666666,\"#ed7953\"],[0.7777777777777778,\"#fb9f3a\"],[0.8888888888888888,\"#fdca26\"],[1.0,\"#f0f921\"]],\"sequentialminus\":[[0.0,\"#0d0887\"],[0.1111111111111111,\"#46039f\"],[0.2222222222222222,\"#7201a8\"],[0.3333333333333333,\"#9c179e\"],[0.4444444444444444,\"#bd3786\"],[0.5555555555555556,\"#d8576b\"],[0.6666666666666666,\"#ed7953\"],[0.7777777777777778,\"#fb9f3a\"],[0.8888888888888888,\"#fdca26\"],[1.0,\"#f0f921\"]],\"diverging\":[[0,\"#8e0152\"],[0.1,\"#c51b7d\"],[0.2,\"#de77ae\"],[0.3,\"#f1b6da\"],[0.4,\"#fde0ef\"],[0.5,\"#f7f7f7\"],[0.6,\"#e6f5d0\"],[0.7,\"#b8e186\"],[0.8,\"#7fbc41\"],[0.9,\"#4d9221\"],[1,\"#276419\"]]},\"xaxis\":{\"gridcolor\":\"white\",\"linecolor\":\"white\",\"ticks\":\"\",\"title\":{\"standoff\":15},\"zerolinecolor\":\"white\",\"automargin\":true,\"zerolinewidth\":2},\"yaxis\":{\"gridcolor\":\"white\",\"linecolor\":\"white\",\"ticks\":\"\",\"title\":{\"standoff\":15},\"zerolinecolor\":\"white\",\"automargin\":true,\"zerolinewidth\":2},\"scene\":{\"xaxis\":{\"backgroundcolor\":\"#E5ECF6\",\"gridcolor\":\"white\",\"linecolor\":\"white\",\"showbackground\":true,\"ticks\":\"\",\"zerolinecolor\":\"white\",\"gridwidth\":2},\"yaxis\":{\"backgroundcolor\":\"#E5ECF6\",\"gridcolor\":\"white\",\"linecolor\":\"white\",\"showbackground\":true,\"ticks\":\"\",\"zerolinecolor\":\"white\",\"gridwidth\":2},\"zaxis\":{\"backgroundcolor\":\"#E5ECF6\",\"gridcolor\":\"white\",\"linecolor\":\"white\",\"showbackground\":true,\"ticks\":\"\",\"zerolinecolor\":\"white\",\"gridwidth\":2}},\"shapedefaults\":{\"line\":{\"color\":\"#2a3f5f\"}},\"annotationdefaults\":{\"arrowcolor\":\"#2a3f5f\",\"arrowhead\":0,\"arrowwidth\":1},\"geo\":{\"bgcolor\":\"white\",\"landcolor\":\"#E5ECF6\",\"subunitcolor\":\"white\",\"showland\":true,\"showlakes\":true,\"lakecolor\":\"white\"},\"title\":{\"x\":0.05},\"mapbox\":{\"style\":\"light\"}}},\"xaxis\":{\"anchor\":\"y\",\"domain\":[0.0,1.0],\"title\":{\"text\":\"Age\"}},\"yaxis\":{\"anchor\":\"x\",\"domain\":[0.0,0.7326],\"title\":{\"text\":\"count\"}},\"xaxis2\":{\"anchor\":\"y2\",\"domain\":[0.0,1.0],\"matches\":\"x\",\"showticklabels\":false,\"showgrid\":true},\"yaxis2\":{\"anchor\":\"x2\",\"domain\":[0.7426,1.0],\"matches\":\"y2\",\"showticklabels\":false,\"showline\":false,\"ticks\":\"\",\"showgrid\":false},\"legend\":{\"title\":{\"text\":\"Transported\"},\"tracegroupgap\":0},\"margin\":{\"t\":60},\"barmode\":\"relative\"},                        {\"responsive\": true}                    ).then(function(){\n",
       "                            \n",
       "var gd = document.getElementById('1f656676-dc6e-4a7b-838b-89435fd9292c');\n",
       "var x = new MutationObserver(function (mutations, observer) {{\n",
       "        var display = window.getComputedStyle(gd).display;\n",
       "        if (!display || display === 'none') {{\n",
       "            console.log([gd, 'removed!']);\n",
       "            Plotly.purge(gd);\n",
       "            observer.disconnect();\n",
       "        }}\n",
       "}});\n",
       "\n",
       "// Listen for the removal of the full notebook cells\n",
       "var notebookContainer = gd.closest('#notebook-container');\n",
       "if (notebookContainer) {{\n",
       "    x.observe(notebookContainer, {childList: true});\n",
       "}}\n",
       "\n",
       "// Listen for the clearing of the current output cell\n",
       "var outputEl = gd.closest('.output');\n",
       "if (outputEl) {{\n",
       "    x.observe(outputEl, {childList: true});\n",
       "}}\n",
       "\n",
       "                        })                };                });            </script>        </div>"
      ]
     },
     "metadata": {},
     "output_type": "display_data"
    }
   ],
   "source": [
    "import plotly.express as px\n",
    "px.histogram(data, x=\"Age\",color='Transported',  marginal='box')"
   ]
  },
  {
   "cell_type": "code",
   "execution_count": 12,
   "id": "0ecba156",
   "metadata": {
    "execution": {
     "iopub.execute_input": "2023-09-04T12:59:24.587866Z",
     "iopub.status.busy": "2023-09-04T12:59:24.587197Z",
     "iopub.status.idle": "2023-09-04T12:59:24.669712Z",
     "shell.execute_reply": "2023-09-04T12:59:24.668475Z"
    },
    "papermill": {
     "duration": 0.109244,
     "end_time": "2023-09-04T12:59:24.672271",
     "exception": false,
     "start_time": "2023-09-04T12:59:24.563027",
     "status": "completed"
    },
    "tags": []
   },
   "outputs": [
    {
     "name": "stderr",
     "output_type": "stream",
     "text": [
      "/opt/conda/lib/python3.7/site-packages/ipykernel_launcher.py:1: UserWarning:\n",
      "\n",
      "Boolean Series key will be reindexed to match DataFrame index.\n",
      "\n"
     ]
    },
    {
     "data": {
      "text/html": [
       "<div>                            <div id=\"f1d4561e-42e5-4305-8bea-d2e025a822a6\" class=\"plotly-graph-div\" style=\"height:525px; width:100%;\"></div>            <script type=\"text/javascript\">                require([\"plotly\"], function(Plotly) {                    window.PLOTLYENV=window.PLOTLYENV || {};                                    if (document.getElementById(\"f1d4561e-42e5-4305-8bea-d2e025a822a6\")) {                    Plotly.newPlot(                        \"f1d4561e-42e5-4305-8bea-d2e025a822a6\",                        [{\"alignmentgroup\":\"True\",\"bingroup\":\"x\",\"hovertemplate\":\"Transported=True<br>RoomService=%{x}<br>count=%{y}<extra></extra>\",\"legendgroup\":\"True\",\"marker\":{\"color\":\"#636efa\",\"pattern\":{\"shape\":\"\"}},\"name\":\"True\",\"offsetgroup\":\"True\",\"orientation\":\"v\",\"showlegend\":true,\"x\":[109.0,303.0,73.0,214.0,279.0,887.0,147.0,688.0,2209.0,406.0,902.0,702.0,146.0,90.0,331.0,247.0,417.0,142.0,520.0,116.0,198.0,69.0,353.0,417.0,513.0,553.0,666.0,1440.0,530.0,53.0,103.0,1019.0,237.0,86.0,139.0,1248.0,174.0,324.0,200.0,853.0,55.0,72.0,58.0,1192.0,521.0,556.0,1862.0,98.0,96.0,2997.0,60.0,65.0,142.0,585.0,889.0,105.0,218.0,120.0,926.0,338.0,189.0,1006.0,539.0,3992.0,54.0,206.0,333.0,305.0,553.0,612.0,305.0,1150.0,158.0,86.0,2210.0,813.0,68.0,1006.0,2400.0,3677.0,2973.0,164.0,1891.0,143.0,1639.0,2215.0,116.0,708.0,302.0,213.0,1139.0,162.0,167.0,51.0,51.0,721.0,1146.0,93.0,2318.0,171.0,1010.0,1377.0,2416.0,464.0,828.0,227.0,172.0,639.0,403.0,145.0,1867.0,3551.0,339.0,1113.0,143.0,600.0,91.0,123.0,2301.0,784.0,803.0,165.0,56.0,154.0,520.0,336.0,235.0,728.0,1586.0,2229.0,809.0,520.0,1130.0,139.0,207.0,155.0,309.0,74.0,256.0,718.0,915.0,632.0,666.0,308.0,792.0,766.0,1617.0,85.0,323.0,193.0,125.0,232.0,131.0,328.0,824.0,55.0,132.0,90.0,1192.0,1060.0,339.0,2627.0,149.0,158.0,309.0,659.0,3478.0,355.0,103.0,89.0,1417.0,400.0,258.0,2025.0,939.0,227.0,949.0,169.0,661.0,246.0,154.0,760.0,612.0,1277.0,610.0,176.0,1184.0,469.0,354.0,156.0,571.0,412.0,401.0,646.0,1371.0,439.0,427.0,267.0,2320.0,429.0,65.0,383.0,715.0,130.0,698.0,137.0,101.0,60.0,375.0,686.0,250.0,267.0,595.0,141.0,290.0,77.0,225.0,130.0,962.0,298.0,935.0,123.0,223.0,63.0,138.0,211.0,564.0,588.0,363.0,148.0,330.0,654.0,529.0,74.0,647.0,1301.0,261.0,197.0,223.0,269.0,1016.0,87.0,61.0,642.0,648.0,1157.0,228.0,542.0,83.0,814.0,151.0,382.0,322.0,51.0,168.0,275.0,263.0,271.0,1231.0,607.0,705.0,202.0,290.0,241.0,751.0,456.0,286.0,164.0,83.0,246.0,142.0,1267.0,724.0,1020.0,658.0,702.0,508.0,85.0,127.0,245.0,958.0,125.0,458.0,158.0,807.0,635.0,286.0,178.0,390.0,156.0,88.0,2233.0,850.0,183.0,815.0,89.0,112.0,229.0,483.0,1364.0,781.0,84.0,149.0,89.0,72.0,163.0,3215.0,1208.0,276.0,477.0,140.0,982.0,852.0,2042.0,805.0,508.0,178.0,657.0,239.0,1119.0,236.0,1682.0,382.0,61.0,2006.0,258.0,301.0,2189.0,78.0,78.0,593.0,410.0,114.0,577.0,773.0,801.0,294.0,365.0,83.0,552.0,899.0,89.0,601.0,395.0,699.0,289.0,115.0,102.0,94.0,68.0,635.0,2532.0,345.0,1002.0,62.0,68.0,1373.0,1288.0,51.0,76.0,2167.0,866.0,145.0,768.0,1339.0,190.0,362.0,725.0,146.0,1719.0,118.0,69.0,1944.0,559.0,160.0,135.0,1040.0,61.0,159.0,150.0,300.0,501.0,197.0,473.0,207.0,360.0,185.0,1413.0,105.0,85.0,286.0,786.0,244.0,174.0,193.0,66.0,1577.0,122.0,220.0,761.0,618.0,145.0,711.0,812.0,332.0,118.0,83.0,1146.0,52.0,550.0,99.0,196.0,485.0,397.0,84.0,376.0,649.0,1969.0,505.0,1842.0,79.0,201.0,86.0,336.0,435.0,64.0,781.0,341.0,1004.0,244.0,319.0,770.0,1914.0,487.0,987.0,200.0,125.0,450.0,76.0,1584.0,258.0,698.0,81.0,198.0,88.0,1037.0,1471.0,1186.0,528.0,522.0,63.0,169.0,65.0,270.0,698.0,802.0,623.0,102.0,1030.0,240.0,126.0],\"xaxis\":\"x\",\"yaxis\":\"y\",\"type\":\"histogram\"},{\"alignmentgroup\":\"True\",\"bingroup\":\"x\",\"hovertemplate\":\"Transported=False<br>RoomService=%{x}<br>count=%{y}<extra></extra>\",\"legendgroup\":\"False\",\"marker\":{\"color\":\"#EF553B\",\"pattern\":{\"shape\":\"\"}},\"name\":\"False\",\"offsetgroup\":\"False\",\"orientation\":\"v\",\"showlegend\":true,\"x\":[719.0,1286.0,412.0,980.0,1125.0,784.0,554.0,970.0,790.0,1946.0,793.0,190.0,211.0,311.0,1743.0,562.0,82.0,55.0,701.0,2353.0,2103.0,2738.0,97.0,440.0,1072.0,4119.0,1365.0,287.0,3414.0,62.0,84.0,1052.0,848.0,192.0,147.0,367.0,1517.0,122.0,2237.0,1215.0,1933.0,1230.0,915.0,1406.0,181.0,85.0,56.0,637.0,313.0,2947.0,335.0,272.0,1664.0,66.0,118.0,368.0,1194.0,386.0,1018.0,443.0,695.0,121.0,434.0,2001.0,148.0,358.0,2832.0,348.0,82.0,391.0,1056.0,1770.0,177.0,1134.0,691.0,1094.0,1483.0,382.0,2484.0,1869.0,1352.0,757.0,210.0,2156.0,865.0,928.0,172.0,1821.0,1246.0,113.0,1445.0,62.0,1172.0,98.0,3573.0,1471.0,59.0,930.0,126.0,840.0,697.0,1908.0,1911.0,2648.0,234.0,801.0,1252.0,434.0,149.0,629.0,614.0,1724.0,105.0,1264.0,269.0,3887.0,3097.0,1973.0,164.0,505.0,2698.0,121.0,1695.0,457.0,1577.0,521.0,712.0,76.0,3594.0,755.0,558.0,562.0,713.0,797.0,183.0,159.0,1227.0,836.0,1209.0,751.0,815.0,786.0,77.0,494.0,663.0,2651.0,217.0,280.0,112.0,381.0,784.0,3103.0,875.0,172.0,2492.0,157.0,379.0,646.0,174.0,594.0,891.0,877.0,631.0,1377.0,792.0,387.0,4301.0,252.0,621.0,253.0,885.0,1050.0,1633.0,187.0,759.0,1454.0,231.0,1081.0,756.0,507.0,182.0,415.0,79.0,638.0,202.0,694.0,437.0,233.0,490.0,787.0,528.0,173.0,82.0,55.0,936.0,855.0,482.0,412.0,620.0,2386.0,131.0,636.0,2357.0,204.0,600.0,71.0,393.0,354.0,614.0,704.0,1277.0,1365.0,1084.0,2066.0,286.0,733.0,621.0,789.0,1758.0,213.0,68.0,278.0,948.0,1946.0,2508.0,70.0,1450.0,1507.0,405.0,775.0,1174.0,1489.0,491.0,1535.0,77.0,965.0,591.0,245.0,705.0,1088.0,1072.0,485.0,2058.0,386.0,1656.0,737.0,259.0,1381.0,328.0,891.0,2988.0,711.0,443.0,360.0,181.0,112.0,806.0,202.0,200.0,356.0,894.0,555.0,92.0,73.0,319.0,1890.0,1114.0,398.0,1240.0,1226.0,65.0,765.0,1015.0,163.0,877.0,1030.0,341.0,1018.0,758.0,938.0,641.0,428.0,433.0,1158.0,825.0,432.0,295.0,172.0,1215.0,1300.0,139.0,414.0,954.0,3202.0,127.0,2436.0,1481.0,876.0,714.0,233.0,3482.0,324.0,1112.0,1313.0,1744.0,1554.0,285.0,437.0,139.0,103.0,84.0,320.0,852.0,1279.0,553.0,1336.0,762.0,587.0,742.0,145.0,104.0,112.0,1220.0,596.0,4694.0,928.0,112.0,140.0,1104.0,2249.0,181.0,113.0,120.0,95.0,953.0,1752.0,470.0,1465.0,1218.0,1744.0,731.0,2424.0,975.0,3037.0,120.0,717.0,942.0,382.0,2765.0,3702.0,401.0,1434.0,196.0,414.0,1062.0,231.0,373.0,673.0,1250.0,662.0,399.0,281.0,1430.0,583.0,177.0,1289.0,270.0,430.0,121.0,356.0,546.0,1751.0,2300.0,216.0,1624.0,63.0,776.0,235.0,600.0,860.0,770.0,717.0,624.0,736.0,1054.0,1146.0,75.0,426.0,579.0,2138.0,78.0,651.0,212.0,388.0,437.0,607.0,938.0,1750.0,1443.0,1671.0,2019.0,546.0,1356.0,1172.0,552.0,2538.0,203.0,485.0,320.0,701.0,485.0,616.0,241.0,262.0,426.0,270.0,174.0,1508.0,1367.0,1320.0,1365.0,128.0,556.0,1409.0,1290.0,613.0,880.0,773.0,579.0,194.0,1773.0,768.0,712.0,854.0,854.0,292.0,112.0,759.0,1458.0,602.0,526.0,554.0,58.0,999.0,139.0,756.0,682.0,2594.0,552.0,584.0,4483.0,64.0,148.0,272.0,873.0,311.0,75.0,1734.0,737.0,345.0,834.0,548.0,852.0,1663.0,1281.0,238.0,882.0,194.0,2502.0,598.0,1153.0,496.0,98.0,406.0,803.0,1102.0,804.0,938.0,59.0,995.0,900.0,59.0,2000.0,492.0,232.0,91.0,122.0,490.0,366.0,1722.0,1874.0,970.0,880.0,886.0,947.0,1893.0,1178.0,361.0,269.0,130.0,171.0,1200.0,1709.0,2381.0,1049.0,471.0,746.0,1511.0,758.0,911.0,253.0,625.0,254.0,1502.0,314.0,412.0,948.0,237.0,77.0,1581.0,672.0,357.0,631.0,2904.0,71.0,819.0,2127.0,173.0,418.0,912.0,901.0,688.0,523.0,123.0,489.0,649.0,828.0,198.0,214.0,310.0,1822.0,1228.0,2050.0,221.0,740.0,396.0,1252.0,173.0,736.0,1187.0,82.0,1644.0,517.0,608.0,479.0,506.0,1228.0,2616.0,577.0,995.0,578.0,1086.0,760.0,3309.0,664.0,741.0,1609.0,379.0,924.0,1173.0,1598.0,127.0,571.0,691.0,62.0,886.0,912.0,1087.0,1507.0,1007.0,2840.0,1299.0,1046.0,330.0,3865.0,293.0,454.0,76.0,511.0,180.0,715.0,324.0,52.0,63.0,158.0,593.0,1097.0,2646.0,764.0,508.0,1612.0,1150.0,64.0,2598.0,313.0,378.0,1065.0,260.0,578.0,1633.0,824.0,180.0,717.0,2532.0,664.0,106.0,90.0,505.0,2267.0,190.0,381.0,95.0,350.0,503.0,1196.0,86.0,506.0,90.0,121.0,274.0,542.0,66.0,196.0,1272.0,124.0,122.0,733.0,809.0,1749.0,1304.0,1099.0,78.0,249.0,2581.0,1178.0,576.0,787.0,354.0,616.0,1280.0,105.0,97.0,105.0,1404.0,808.0,58.0,1377.0,120.0,238.0,424.0,622.0,432.0,3471.0,1193.0,3340.0,64.0,396.0,381.0,1037.0,80.0,513.0,227.0,821.0,183.0,913.0,519.0,357.0,406.0,3361.0,58.0,984.0,71.0,799.0,1387.0,418.0,1049.0,312.0,90.0,205.0,974.0,1008.0,1540.0,2478.0,86.0,796.0,847.0,967.0,95.0,716.0,55.0,3537.0,772.0,2739.0,629.0,325.0,781.0,1144.0,653.0,324.0,886.0,400.0,667.0,1217.0,1448.0,1632.0,1258.0,1796.0,460.0,309.0,931.0,1843.0,714.0,536.0,1417.0,437.0,880.0,1851.0,1339.0,1901.0,1616.0,1680.0,719.0,451.0,834.0,1100.0,1025.0,111.0,850.0,664.0,89.0,1363.0,128.0,59.0,490.0,247.0,1367.0,558.0,558.0,950.0,1620.0,326.0,992.0,1268.0,1331.0,553.0,406.0,3002.0,715.0,488.0,563.0,786.0,412.0,2044.0,444.0,802.0,641.0,115.0,118.0,552.0,857.0,106.0,954.0,735.0,192.0,875.0,754.0,141.0,689.0,134.0,941.0,546.0,721.0,399.0,1549.0,110.0,2244.0,994.0,1170.0,3559.0,1956.0,3087.0,1219.0,83.0,160.0,433.0,572.0,1340.0,849.0,426.0,452.0,820.0,631.0,191.0,4102.0,176.0,661.0,77.0,374.0,165.0,1246.0,454.0,514.0,672.0,65.0,1399.0,84.0,372.0,703.0,182.0,183.0,1144.0,3148.0,818.0,2614.0,179.0,1420.0,154.0,866.0,706.0,531.0,574.0,282.0,204.0,233.0,850.0,185.0,248.0,256.0,2130.0,588.0,845.0,1028.0,665.0,526.0,944.0,542.0,2260.0,161.0,4531.0,423.0,1721.0,750.0,108.0,362.0,126.0,274.0,176.0,695.0,62.0,460.0,3284.0,725.0,2083.0,623.0,210.0,1242.0,988.0,153.0,2147.0,457.0,957.0,2756.0,530.0,610.0,479.0,1120.0,819.0,1337.0,1033.0,1331.0,54.0,1092.0,1042.0,1904.0,1285.0,1307.0,433.0,1176.0,600.0,639.0,530.0,971.0,1961.0,606.0,1309.0,4608.0,2575.0,3926.0,793.0,1471.0,256.0,56.0,107.0,1528.0,859.0,732.0,98.0,582.0,576.0,523.0,949.0,878.0,1961.0,261.0,1364.0,717.0,666.0,2206.0,218.0,922.0,89.0,662.0,467.0,1177.0,3905.0,1744.0,4702.0,454.0,809.0,134.0,1082.0,1690.0,943.0,386.0,253.0,2048.0,581.0,2497.0,628.0,743.0,1269.0,766.0,1781.0,2116.0,748.0,481.0,138.0,164.0,389.0,552.0,358.0,469.0,3458.0,948.0,846.0,1109.0,848.0,489.0,226.0,2703.0,685.0,518.0,665.0,4027.0,142.0,758.0,817.0,690.0,1565.0,550.0,51.0,1696.0,2445.0,749.0,714.0,583.0,753.0,688.0,654.0,590.0,380.0,170.0,765.0,890.0,804.0,2803.0,643.0,1909.0,332.0,56.0,215.0,1188.0,56.0,1035.0,2267.0,1410.0,348.0,233.0,821.0,69.0,2029.0,70.0,57.0,715.0,247.0,160.0,542.0,439.0,158.0,610.0,559.0,571.0,661.0,514.0,751.0,104.0,513.0,2309.0,3553.0,621.0,546.0,761.0,149.0,104.0,4518.0,201.0,1331.0,750.0,162.0,223.0,152.0,1547.0,628.0,300.0,758.0,423.0,157.0,2093.0,836.0,1379.0,112.0,448.0,1086.0,3090.0,200.0,441.0,1442.0,555.0,2956.0,94.0,781.0,1017.0,718.0,521.0,158.0,2413.0,419.0,1946.0,1883.0,2904.0,301.0,125.0,3811.0,2209.0,605.0,3564.0,4397.0,104.0,206.0,513.0,828.0,679.0,1156.0,916.0,551.0,270.0,457.0,3478.0,460.0,980.0,628.0,1042.0,2026.0,55.0,915.0,425.0,1603.0,71.0,1696.0,199.0,559.0,395.0,2044.0,630.0,368.0,737.0,102.0,108.0,379.0,124.0,690.0,2031.0,135.0,158.0,1669.0,3616.0,898.0,458.0,627.0,484.0,1884.0,2223.0,676.0,106.0,1960.0,360.0,858.0,1144.0,358.0,435.0,114.0,54.0,431.0,59.0,93.0,1533.0,1233.0,801.0,114.0,810.0,636.0,610.0,1256.0,1179.0,1290.0,352.0,414.0,1192.0,397.0,151.0,57.0,388.0,127.0,771.0,228.0,861.0,1979.0,1143.0,2081.0,126.0,695.0,285.0,166.0,588.0,752.0,1175.0,1228.0,590.0,402.0,90.0,864.0,1880.0,77.0,1595.0,707.0,61.0,239.0,994.0,700.0,2664.0,3135.0,103.0,1244.0,1717.0,1337.0,1203.0,545.0,1610.0,470.0,1964.0,76.0,2937.0,399.0,108.0,113.0,470.0,1751.0,52.0,944.0,142.0,3481.0,181.0,355.0,1912.0,71.0,735.0,3211.0,69.0,2191.0,862.0,473.0,501.0,130.0,528.0,173.0,1988.0,995.0,439.0,1228.0,245.0,1998.0,969.0,60.0,3839.0,951.0,3358.0,456.0,712.0,1967.0,1962.0,554.0,1058.0,2261.0,907.0,888.0,779.0,418.0,468.0,1216.0,782.0,56.0,235.0,1043.0,332.0,64.0,3332.0,2224.0,526.0,244.0,143.0,453.0,590.0,527.0,301.0,906.0,1058.0,415.0,602.0,457.0,907.0,288.0,1631.0,862.0,102.0,438.0,106.0,541.0,1030.0,622.0,3191.0,741.0,593.0,180.0,1781.0,1046.0,100.0,401.0,61.0,305.0,83.0,627.0,678.0,728.0,738.0,1059.0,2754.0,814.0,2916.0,399.0,1711.0,1318.0,821.0,2611.0,1236.0,240.0,294.0,193.0,1110.0,550.0,879.0,1126.0,549.0,960.0,244.0,120.0,509.0,1243.0,558.0,523.0,1770.0,511.0,2110.0,3580.0,1442.0,1092.0,2502.0,1366.0,657.0,390.0,420.0,313.0,118.0,388.0,380.0,3591.0,828.0,80.0,653.0,214.0,463.0,2484.0,3651.0,767.0,1103.0,81.0,2703.0,3010.0,2771.0,1132.0,574.0,751.0,1000.0,1144.0,110.0,2647.0,338.0,1730.0,60.0,688.0,416.0,325.0,1405.0,98.0,527.0,748.0,1199.0,406.0,258.0,810.0,358.0,1720.0,166.0,769.0,1333.0,535.0,1095.0,1823.0,482.0,328.0,1052.0,558.0,1227.0,166.0,634.0,131.0,569.0,248.0,1610.0,102.0,472.0,1432.0,90.0,3030.0,589.0,580.0,1811.0,100.0,868.0,640.0,691.0,838.0,3809.0,153.0,676.0,668.0,779.0,1222.0,172.0,1544.0,1369.0,355.0,2686.0,721.0,595.0,635.0,81.0,150.0,90.0,97.0,381.0,831.0,691.0,90.0,1663.0,953.0,1157.0,279.0,293.0,644.0,753.0,116.0,539.0,598.0,209.0,625.0,1282.0,487.0,1054.0,85.0,72.0,511.0,749.0,499.0,1007.0,309.0,52.0,396.0,84.0,304.0,67.0,1242.0,1852.0,1150.0,1309.0,1722.0,218.0,836.0,467.0,380.0,532.0,1399.0,149.0,773.0,799.0,988.0,697.0,506.0,477.0,1403.0,963.0,462.0,86.0,163.0,1214.0,289.0,4210.0,324.0,52.0,725.0,857.0,1997.0,112.0,1161.0,188.0,65.0,1264.0,3784.0,490.0,590.0,870.0,53.0,2502.0,348.0,59.0,686.0,1093.0,114.0,129.0,387.0,1042.0,1763.0,748.0,637.0,210.0,547.0,187.0,1234.0,135.0,1739.0,224.0,330.0,1455.0,133.0,1146.0,2048.0,777.0,345.0,886.0,909.0,733.0,806.0,949.0,506.0,4924.0,368.0,51.0,217.0,203.0,84.0,2239.0,679.0,312.0,426.0,139.0,2002.0,694.0,1254.0,647.0,266.0,354.0,193.0,227.0,179.0,1613.0,947.0,2758.0,151.0,520.0,74.0,804.0,476.0,257.0,697.0,874.0,588.0,63.0,1771.0,570.0,413.0,586.0,857.0,128.0,1212.0,1369.0,1384.0,230.0,903.0,735.0,1032.0,726.0,1054.0,121.0,876.0,522.0,720.0,771.0,1737.0,327.0,3036.0,1806.0,194.0,1708.0,1231.0,503.0,324.0,311.0,80.0,479.0,2101.0,604.0,2555.0,224.0,128.0,304.0,1297.0,3146.0,1954.0,266.0,1410.0,1006.0,132.0,866.0,887.0,815.0,1269.0,1062.0,160.0,455.0,1258.0,866.0,3402.0,1736.0,1478.0,1215.0,101.0,733.0,794.0,2575.0,1789.0,590.0,410.0,83.0,640.0,574.0,1060.0,724.0,459.0,148.0,87.0,1003.0,381.0,1569.0,757.0,745.0,676.0,699.0,86.0],\"xaxis\":\"x\",\"yaxis\":\"y\",\"type\":\"histogram\"}],                        {\"template\":{\"data\":{\"histogram2dcontour\":[{\"type\":\"histogram2dcontour\",\"colorbar\":{\"outlinewidth\":0,\"ticks\":\"\"},\"colorscale\":[[0.0,\"#0d0887\"],[0.1111111111111111,\"#46039f\"],[0.2222222222222222,\"#7201a8\"],[0.3333333333333333,\"#9c179e\"],[0.4444444444444444,\"#bd3786\"],[0.5555555555555556,\"#d8576b\"],[0.6666666666666666,\"#ed7953\"],[0.7777777777777778,\"#fb9f3a\"],[0.8888888888888888,\"#fdca26\"],[1.0,\"#f0f921\"]]}],\"choropleth\":[{\"type\":\"choropleth\",\"colorbar\":{\"outlinewidth\":0,\"ticks\":\"\"}}],\"histogram2d\":[{\"type\":\"histogram2d\",\"colorbar\":{\"outlinewidth\":0,\"ticks\":\"\"},\"colorscale\":[[0.0,\"#0d0887\"],[0.1111111111111111,\"#46039f\"],[0.2222222222222222,\"#7201a8\"],[0.3333333333333333,\"#9c179e\"],[0.4444444444444444,\"#bd3786\"],[0.5555555555555556,\"#d8576b\"],[0.6666666666666666,\"#ed7953\"],[0.7777777777777778,\"#fb9f3a\"],[0.8888888888888888,\"#fdca26\"],[1.0,\"#f0f921\"]]}],\"heatmap\":[{\"type\":\"heatmap\",\"colorbar\":{\"outlinewidth\":0,\"ticks\":\"\"},\"colorscale\":[[0.0,\"#0d0887\"],[0.1111111111111111,\"#46039f\"],[0.2222222222222222,\"#7201a8\"],[0.3333333333333333,\"#9c179e\"],[0.4444444444444444,\"#bd3786\"],[0.5555555555555556,\"#d8576b\"],[0.6666666666666666,\"#ed7953\"],[0.7777777777777778,\"#fb9f3a\"],[0.8888888888888888,\"#fdca26\"],[1.0,\"#f0f921\"]]}],\"heatmapgl\":[{\"type\":\"heatmapgl\",\"colorbar\":{\"outlinewidth\":0,\"ticks\":\"\"},\"colorscale\":[[0.0,\"#0d0887\"],[0.1111111111111111,\"#46039f\"],[0.2222222222222222,\"#7201a8\"],[0.3333333333333333,\"#9c179e\"],[0.4444444444444444,\"#bd3786\"],[0.5555555555555556,\"#d8576b\"],[0.6666666666666666,\"#ed7953\"],[0.7777777777777778,\"#fb9f3a\"],[0.8888888888888888,\"#fdca26\"],[1.0,\"#f0f921\"]]}],\"contourcarpet\":[{\"type\":\"contourcarpet\",\"colorbar\":{\"outlinewidth\":0,\"ticks\":\"\"}}],\"contour\":[{\"type\":\"contour\",\"colorbar\":{\"outlinewidth\":0,\"ticks\":\"\"},\"colorscale\":[[0.0,\"#0d0887\"],[0.1111111111111111,\"#46039f\"],[0.2222222222222222,\"#7201a8\"],[0.3333333333333333,\"#9c179e\"],[0.4444444444444444,\"#bd3786\"],[0.5555555555555556,\"#d8576b\"],[0.6666666666666666,\"#ed7953\"],[0.7777777777777778,\"#fb9f3a\"],[0.8888888888888888,\"#fdca26\"],[1.0,\"#f0f921\"]]}],\"surface\":[{\"type\":\"surface\",\"colorbar\":{\"outlinewidth\":0,\"ticks\":\"\"},\"colorscale\":[[0.0,\"#0d0887\"],[0.1111111111111111,\"#46039f\"],[0.2222222222222222,\"#7201a8\"],[0.3333333333333333,\"#9c179e\"],[0.4444444444444444,\"#bd3786\"],[0.5555555555555556,\"#d8576b\"],[0.6666666666666666,\"#ed7953\"],[0.7777777777777778,\"#fb9f3a\"],[0.8888888888888888,\"#fdca26\"],[1.0,\"#f0f921\"]]}],\"mesh3d\":[{\"type\":\"mesh3d\",\"colorbar\":{\"outlinewidth\":0,\"ticks\":\"\"}}],\"scatter\":[{\"fillpattern\":{\"fillmode\":\"overlay\",\"size\":10,\"solidity\":0.2},\"type\":\"scatter\"}],\"parcoords\":[{\"type\":\"parcoords\",\"line\":{\"colorbar\":{\"outlinewidth\":0,\"ticks\":\"\"}}}],\"scatterpolargl\":[{\"type\":\"scatterpolargl\",\"marker\":{\"colorbar\":{\"outlinewidth\":0,\"ticks\":\"\"}}}],\"bar\":[{\"error_x\":{\"color\":\"#2a3f5f\"},\"error_y\":{\"color\":\"#2a3f5f\"},\"marker\":{\"line\":{\"color\":\"#E5ECF6\",\"width\":0.5},\"pattern\":{\"fillmode\":\"overlay\",\"size\":10,\"solidity\":0.2}},\"type\":\"bar\"}],\"scattergeo\":[{\"type\":\"scattergeo\",\"marker\":{\"colorbar\":{\"outlinewidth\":0,\"ticks\":\"\"}}}],\"scatterpolar\":[{\"type\":\"scatterpolar\",\"marker\":{\"colorbar\":{\"outlinewidth\":0,\"ticks\":\"\"}}}],\"histogram\":[{\"marker\":{\"pattern\":{\"fillmode\":\"overlay\",\"size\":10,\"solidity\":0.2}},\"type\":\"histogram\"}],\"scattergl\":[{\"type\":\"scattergl\",\"marker\":{\"colorbar\":{\"outlinewidth\":0,\"ticks\":\"\"}}}],\"scatter3d\":[{\"type\":\"scatter3d\",\"line\":{\"colorbar\":{\"outlinewidth\":0,\"ticks\":\"\"}},\"marker\":{\"colorbar\":{\"outlinewidth\":0,\"ticks\":\"\"}}}],\"scattermapbox\":[{\"type\":\"scattermapbox\",\"marker\":{\"colorbar\":{\"outlinewidth\":0,\"ticks\":\"\"}}}],\"scatterternary\":[{\"type\":\"scatterternary\",\"marker\":{\"colorbar\":{\"outlinewidth\":0,\"ticks\":\"\"}}}],\"scattercarpet\":[{\"type\":\"scattercarpet\",\"marker\":{\"colorbar\":{\"outlinewidth\":0,\"ticks\":\"\"}}}],\"carpet\":[{\"aaxis\":{\"endlinecolor\":\"#2a3f5f\",\"gridcolor\":\"white\",\"linecolor\":\"white\",\"minorgridcolor\":\"white\",\"startlinecolor\":\"#2a3f5f\"},\"baxis\":{\"endlinecolor\":\"#2a3f5f\",\"gridcolor\":\"white\",\"linecolor\":\"white\",\"minorgridcolor\":\"white\",\"startlinecolor\":\"#2a3f5f\"},\"type\":\"carpet\"}],\"table\":[{\"cells\":{\"fill\":{\"color\":\"#EBF0F8\"},\"line\":{\"color\":\"white\"}},\"header\":{\"fill\":{\"color\":\"#C8D4E3\"},\"line\":{\"color\":\"white\"}},\"type\":\"table\"}],\"barpolar\":[{\"marker\":{\"line\":{\"color\":\"#E5ECF6\",\"width\":0.5},\"pattern\":{\"fillmode\":\"overlay\",\"size\":10,\"solidity\":0.2}},\"type\":\"barpolar\"}],\"pie\":[{\"automargin\":true,\"type\":\"pie\"}]},\"layout\":{\"autotypenumbers\":\"strict\",\"colorway\":[\"#636efa\",\"#EF553B\",\"#00cc96\",\"#ab63fa\",\"#FFA15A\",\"#19d3f3\",\"#FF6692\",\"#B6E880\",\"#FF97FF\",\"#FECB52\"],\"font\":{\"color\":\"#2a3f5f\"},\"hovermode\":\"closest\",\"hoverlabel\":{\"align\":\"left\"},\"paper_bgcolor\":\"white\",\"plot_bgcolor\":\"#E5ECF6\",\"polar\":{\"bgcolor\":\"#E5ECF6\",\"angularaxis\":{\"gridcolor\":\"white\",\"linecolor\":\"white\",\"ticks\":\"\"},\"radialaxis\":{\"gridcolor\":\"white\",\"linecolor\":\"white\",\"ticks\":\"\"}},\"ternary\":{\"bgcolor\":\"#E5ECF6\",\"aaxis\":{\"gridcolor\":\"white\",\"linecolor\":\"white\",\"ticks\":\"\"},\"baxis\":{\"gridcolor\":\"white\",\"linecolor\":\"white\",\"ticks\":\"\"},\"caxis\":{\"gridcolor\":\"white\",\"linecolor\":\"white\",\"ticks\":\"\"}},\"coloraxis\":{\"colorbar\":{\"outlinewidth\":0,\"ticks\":\"\"}},\"colorscale\":{\"sequential\":[[0.0,\"#0d0887\"],[0.1111111111111111,\"#46039f\"],[0.2222222222222222,\"#7201a8\"],[0.3333333333333333,\"#9c179e\"],[0.4444444444444444,\"#bd3786\"],[0.5555555555555556,\"#d8576b\"],[0.6666666666666666,\"#ed7953\"],[0.7777777777777778,\"#fb9f3a\"],[0.8888888888888888,\"#fdca26\"],[1.0,\"#f0f921\"]],\"sequentialminus\":[[0.0,\"#0d0887\"],[0.1111111111111111,\"#46039f\"],[0.2222222222222222,\"#7201a8\"],[0.3333333333333333,\"#9c179e\"],[0.4444444444444444,\"#bd3786\"],[0.5555555555555556,\"#d8576b\"],[0.6666666666666666,\"#ed7953\"],[0.7777777777777778,\"#fb9f3a\"],[0.8888888888888888,\"#fdca26\"],[1.0,\"#f0f921\"]],\"diverging\":[[0,\"#8e0152\"],[0.1,\"#c51b7d\"],[0.2,\"#de77ae\"],[0.3,\"#f1b6da\"],[0.4,\"#fde0ef\"],[0.5,\"#f7f7f7\"],[0.6,\"#e6f5d0\"],[0.7,\"#b8e186\"],[0.8,\"#7fbc41\"],[0.9,\"#4d9221\"],[1,\"#276419\"]]},\"xaxis\":{\"gridcolor\":\"white\",\"linecolor\":\"white\",\"ticks\":\"\",\"title\":{\"standoff\":15},\"zerolinecolor\":\"white\",\"automargin\":true,\"zerolinewidth\":2},\"yaxis\":{\"gridcolor\":\"white\",\"linecolor\":\"white\",\"ticks\":\"\",\"title\":{\"standoff\":15},\"zerolinecolor\":\"white\",\"automargin\":true,\"zerolinewidth\":2},\"scene\":{\"xaxis\":{\"backgroundcolor\":\"#E5ECF6\",\"gridcolor\":\"white\",\"linecolor\":\"white\",\"showbackground\":true,\"ticks\":\"\",\"zerolinecolor\":\"white\",\"gridwidth\":2},\"yaxis\":{\"backgroundcolor\":\"#E5ECF6\",\"gridcolor\":\"white\",\"linecolor\":\"white\",\"showbackground\":true,\"ticks\":\"\",\"zerolinecolor\":\"white\",\"gridwidth\":2},\"zaxis\":{\"backgroundcolor\":\"#E5ECF6\",\"gridcolor\":\"white\",\"linecolor\":\"white\",\"showbackground\":true,\"ticks\":\"\",\"zerolinecolor\":\"white\",\"gridwidth\":2}},\"shapedefaults\":{\"line\":{\"color\":\"#2a3f5f\"}},\"annotationdefaults\":{\"arrowcolor\":\"#2a3f5f\",\"arrowhead\":0,\"arrowwidth\":1},\"geo\":{\"bgcolor\":\"white\",\"landcolor\":\"#E5ECF6\",\"subunitcolor\":\"white\",\"showland\":true,\"showlakes\":true,\"lakecolor\":\"white\"},\"title\":{\"x\":0.05},\"mapbox\":{\"style\":\"light\"}}},\"xaxis\":{\"anchor\":\"y\",\"domain\":[0.0,1.0],\"title\":{\"text\":\"RoomService\"}},\"yaxis\":{\"anchor\":\"x\",\"domain\":[0.0,1.0],\"title\":{\"text\":\"count\"}},\"legend\":{\"title\":{\"text\":\"Transported\"},\"tracegroupgap\":0},\"margin\":{\"t\":60},\"barmode\":\"relative\"},                        {\"responsive\": true}                    ).then(function(){\n",
       "                            \n",
       "var gd = document.getElementById('f1d4561e-42e5-4305-8bea-d2e025a822a6');\n",
       "var x = new MutationObserver(function (mutations, observer) {{\n",
       "        var display = window.getComputedStyle(gd).display;\n",
       "        if (!display || display === 'none') {{\n",
       "            console.log([gd, 'removed!']);\n",
       "            Plotly.purge(gd);\n",
       "            observer.disconnect();\n",
       "        }}\n",
       "}});\n",
       "\n",
       "// Listen for the removal of the full notebook cells\n",
       "var notebookContainer = gd.closest('#notebook-container');\n",
       "if (notebookContainer) {{\n",
       "    x.observe(notebookContainer, {childList: true});\n",
       "}}\n",
       "\n",
       "// Listen for the clearing of the current output cell\n",
       "var outputEl = gd.closest('.output');\n",
       "if (outputEl) {{\n",
       "    x.observe(outputEl, {childList: true});\n",
       "}}\n",
       "\n",
       "                        })                };                });            </script>        </div>"
      ]
     },
     "metadata": {},
     "output_type": "display_data"
    }
   ],
   "source": [
    "px.histogram(data[data['RoomService']>50][data['RoomService']<5000], x=\"RoomService\",color='Transported')"
   ]
  },
  {
   "cell_type": "markdown",
   "id": "9789773f",
   "metadata": {
    "papermill": {
     "duration": 0.020714,
     "end_time": "2023-09-04T12:59:24.714226",
     "exception": false,
     "start_time": "2023-09-04T12:59:24.693512",
     "status": "completed"
    },
    "tags": []
   },
   "source": [
    "**Most passengers didn't spend money on service**"
   ]
  },
  {
   "cell_type": "code",
   "execution_count": 13,
   "id": "a8b2fc6a",
   "metadata": {
    "execution": {
     "iopub.execute_input": "2023-09-04T12:59:24.758193Z",
     "iopub.status.busy": "2023-09-04T12:59:24.757774Z",
     "iopub.status.idle": "2023-09-04T12:59:24.841540Z",
     "shell.execute_reply": "2023-09-04T12:59:24.840212Z"
    },
    "papermill": {
     "duration": 0.10913,
     "end_time": "2023-09-04T12:59:24.844330",
     "exception": false,
     "start_time": "2023-09-04T12:59:24.735200",
     "status": "completed"
    },
    "tags": []
   },
   "outputs": [
    {
     "data": {
      "text/html": [
       "<div>                            <div id=\"e8046ff9-f257-4104-bf74-5ca6d7dd3ca4\" class=\"plotly-graph-div\" style=\"height:525px; width:100%;\"></div>            <script type=\"text/javascript\">                require([\"plotly\"], function(Plotly) {                    window.PLOTLYENV=window.PLOTLYENV || {};                                    if (document.getElementById(\"e8046ff9-f257-4104-bf74-5ca6d7dd3ca4\")) {                    Plotly.newPlot(                        \"e8046ff9-f257-4104-bf74-5ca6d7dd3ca4\",                        [{\"alignmentgroup\":\"True\",\"bingroup\":\"x\",\"hovertemplate\":\"Transported=False<br>RoomService=%{x}<br>count=%{y}<extra></extra>\",\"legendgroup\":\"False\",\"marker\":{\"color\":\"#636efa\",\"pattern\":{\"shape\":\"\"}},\"name\":\"False\",\"offsetgroup\":\"False\",\"orientation\":\"v\",\"showlegend\":true,\"x\":[0.0,43.0,0.0,32.0,0.0,0.0,0.0,0.0,0.0,0.0,22.0,0.0,0.0,0.0,0.0,0.0,0.0,4.0,0.0,45.0,0.0,1.0,16.0,0.0,46.0,0.0,0.0,1.0,0.0,0.0,0.0,0.0,0.0,0.0,0.0,0.0,0.0,0.0,0.0,0.0,0.0,0.0,0.0,0.0,0.0,0.0,0.0,0.0,0.0,0.0,0.0,0.0,0.0,0.0,0.0,0.0,0.0,0.0,0.0,0.0,0.0,0.0,4.0,0.0,0.0,0.0,0.0,0.0,0.0,0.0,0.0,0.0,0.0,3.0,0.0,0.0,0.0,0.0,0.0,0.0,0.0,0.0,0.0,0.0,0.0,0.0,0.0,0.0,0.0,0.0,0.0,0.0,0.0,0.0,17.0,0.0,0.0,13.0,0.0,0.0,0.0,0.0,1.0,28.0,0.0,0.0,0.0,0.0,0.0,0.0,0.0,4.0,46.0,7.0,0.0,7.0,0.0,0.0,0.0,0.0,4.0,0.0,0.0,0.0,0.0,0.0,0.0,0.0,0.0,0.0,0.0,0.0,0.0,10.0,0.0,0.0,0.0,0.0,0.0,20.0,0.0,0.0,9.0,0.0,0.0,0.0,0.0,0.0,0.0,0.0,0.0,14.0,0.0,0.0,0.0,5.0,0.0,0.0,43.0,0.0,0.0,0.0,0.0,0.0,27.0,4.0,0.0,0.0,1.0,0.0,0.0,0.0,0.0,0.0,2.0,0.0,0.0,0.0,0.0,0.0,0.0,0.0,0.0,0.0,1.0,0.0,0.0,0.0,0.0,0.0,0.0,1.0,0.0,0.0,0.0,0.0,0.0,0.0,0.0,0.0,0.0,0.0,0.0,0.0,15.0,19.0,47.0,1.0,0.0,0.0,0.0,29.0,0.0,0.0,0.0,0.0,0.0,0.0,0.0,14.0,0.0,0.0,0.0,0.0,0.0,0.0,0.0,0.0,2.0,0.0,0.0,0.0,0.0,0.0,34.0,0.0,0.0,0.0,2.0,0.0,0.0,12.0,0.0,0.0,0.0,0.0,0.0,0.0,4.0,0.0,0.0,0.0,47.0,18.0,0.0,0.0,13.0,0.0,0.0,0.0,0.0,0.0,0.0,0.0,0.0,3.0,0.0,0.0,0.0,0.0,0.0,0.0,0.0,0.0,3.0,0.0,0.0,0.0,0.0,0.0,0.0,0.0,0.0,0.0,0.0,0.0,0.0,48.0,0.0,0.0,0.0,0.0,0.0,0.0,0.0,0.0,2.0,0.0,0.0,0.0,0.0,0.0,0.0,0.0,0.0,0.0,0.0,0.0,0.0,0.0,0.0,0.0,2.0,0.0,0.0,0.0,0.0,0.0,0.0,0.0,29.0,0.0,0.0,0.0,0.0,0.0,0.0,0.0,0.0,0.0,0.0,0.0,0.0,0.0,0.0,0.0,0.0,0.0,0.0,0.0,0.0,0.0,0.0,0.0,0.0,0.0,0.0,0.0,0.0,0.0,0.0,0.0,0.0,0.0,4.0,0.0,0.0,0.0,0.0,0.0,0.0,0.0,0.0,0.0,6.0,0.0,1.0,0.0,0.0,0.0,0.0,0.0,0.0,0.0,0.0,0.0,0.0,28.0,0.0,0.0,0.0,0.0,0.0,0.0,0.0,43.0,0.0,0.0,0.0,0.0,0.0,0.0,0.0,0.0,0.0,21.0,0.0,42.0,0.0,0.0,1.0,0.0,36.0,4.0,0.0,0.0,0.0,0.0,0.0,0.0,0.0,0.0,0.0,0.0,0.0,0.0,0.0,0.0,5.0,0.0,0.0,0.0,0.0,0.0,0.0,0.0,0.0,0.0,0.0,0.0,35.0,0.0,5.0,0.0,0.0,0.0,1.0,0.0,0.0,4.0,0.0,0.0,1.0,0.0,9.0,1.0,0.0,0.0,0.0,0.0,0.0,4.0,0.0,0.0,0.0,5.0,22.0,0.0,0.0,2.0,0.0,0.0,0.0,0.0,0.0,0.0,0.0,0.0,0.0,4.0,1.0,0.0,0.0,0.0,0.0,0.0,0.0,2.0,0.0,0.0,0.0,7.0,0.0,0.0,5.0,1.0,0.0,0.0,0.0,0.0,0.0,0.0,0.0,0.0,31.0,0.0,0.0,4.0,0.0,0.0,0.0,0.0,49.0,0.0,0.0,0.0,0.0,0.0,26.0,0.0,0.0,0.0,0.0,0.0,28.0,0.0,0.0,28.0,27.0,1.0,5.0,0.0,0.0,0.0,0.0,0.0,0.0,0.0,0.0,0.0,0.0,0.0,0.0,0.0,5.0,0.0,0.0,0.0,0.0,0.0,0.0,0.0,0.0,0.0,0.0,0.0,0.0,0.0,28.0,0.0,0.0,0.0,0.0,0.0,0.0,0.0,0.0,0.0,0.0,11.0,42.0,0.0,0.0,8.0,0.0,0.0,0.0,0.0,0.0,0.0,7.0,0.0,0.0,0.0,0.0,0.0,0.0,0.0,3.0,0.0,0.0,3.0,0.0,1.0,0.0,0.0,12.0,3.0,0.0,0.0,0.0,0.0,0.0,0.0,0.0,0.0,0.0,6.0,0.0,0.0,0.0,0.0,0.0,0.0,16.0,0.0,0.0,12.0,0.0,0.0,0.0,19.0,0.0,0.0,0.0,0.0,0.0,1.0,0.0,0.0,0.0,0.0,0.0,0.0,0.0,0.0,0.0,2.0,0.0,0.0,0.0,0.0,0.0,0.0,0.0,38.0,2.0,1.0,46.0,0.0,0.0,0.0,0.0,0.0,0.0,0.0,0.0,0.0,0.0,0.0,0.0,0.0,0.0,48.0,2.0,0.0,0.0,9.0,0.0,21.0,2.0,0.0,0.0,0.0,0.0,0.0,26.0,0.0,20.0,0.0,0.0,12.0,0.0,3.0,0.0,0.0,0.0,0.0,0.0,0.0,0.0,9.0,0.0,0.0,0.0,0.0,0.0,0.0,0.0,0.0,0.0,0.0,0.0,14.0,0.0,0.0,0.0,1.0,0.0,0.0,0.0,0.0,0.0,0.0,3.0,0.0,0.0,0.0,0.0,0.0,0.0,0.0,0.0,0.0,0.0,0.0,0.0,0.0,7.0,0.0,0.0,9.0,11.0,0.0,0.0,0.0,4.0,0.0,6.0,0.0,0.0,0.0,0.0,0.0,0.0,0.0,0.0,0.0,0.0,0.0,0.0,2.0,0.0,0.0,0.0,0.0,36.0,0.0,0.0,0.0,2.0,0.0,0.0,0.0,0.0,0.0,41.0,0.0,0.0,0.0,0.0,10.0,19.0,26.0,0.0,0.0,0.0,0.0,9.0,0.0,27.0,0.0,0.0,0.0,10.0,0.0,0.0,0.0,0.0,0.0,0.0,0.0,0.0,0.0,0.0,3.0,0.0,0.0,46.0,0.0,0.0,0.0,0.0,1.0,0.0,29.0,0.0,4.0,0.0,0.0,0.0,0.0,13.0,0.0,0.0,0.0,11.0,0.0,0.0,0.0,45.0,0.0,0.0,21.0,0.0,0.0,0.0,0.0,0.0,0.0,0.0,0.0,0.0,0.0,0.0,0.0,0.0,0.0,0.0,0.0,3.0,0.0,14.0,0.0,2.0,13.0,0.0,0.0,0.0,3.0,0.0,0.0,0.0,0.0,6.0,3.0,1.0,0.0,0.0,0.0,0.0,0.0,0.0,0.0,20.0,0.0,0.0,0.0,0.0,0.0,33.0,0.0,0.0,0.0,0.0,0.0,0.0,0.0,0.0,4.0,0.0,0.0,0.0,0.0,0.0,1.0,0.0,0.0,0.0,0.0,21.0,0.0,0.0,0.0,15.0,24.0,0.0,0.0,0.0,3.0,1.0,0.0,0.0,0.0,0.0,0.0,0.0,0.0,0.0,0.0,23.0,0.0,0.0,0.0,0.0,0.0,45.0,0.0,0.0,0.0,0.0,0.0,0.0,0.0,0.0,0.0,0.0,0.0,0.0,0.0,0.0,0.0,1.0,0.0,35.0,0.0,0.0,0.0,0.0,0.0,0.0,0.0,0.0,0.0,0.0,0.0,0.0,33.0,0.0,0.0,0.0,0.0,4.0,0.0,0.0,4.0,0.0,0.0,0.0,0.0,0.0,0.0,0.0,0.0,0.0,4.0,0.0,0.0,11.0,11.0,0.0,0.0,0.0,0.0,0.0,16.0,0.0,0.0,0.0,0.0,0.0,0.0,8.0,0.0,0.0,0.0,0.0,0.0,0.0,0.0,0.0,20.0,0.0,0.0,0.0,0.0,13.0,0.0,0.0,0.0,0.0,0.0,0.0,0.0,10.0,0.0,0.0,0.0,0.0,0.0,0.0,0.0,0.0,0.0,0.0,0.0,0.0,0.0,1.0,0.0,0.0,0.0,0.0,2.0,1.0,1.0,0.0,0.0,0.0,0.0,2.0,0.0,0.0,0.0,0.0,0.0,0.0,0.0,15.0,0.0,22.0,0.0,6.0,0.0,0.0,1.0,0.0,0.0,0.0,0.0,0.0,0.0,0.0,0.0,0.0,1.0,0.0,0.0,0.0,0.0,0.0,0.0,6.0,0.0,44.0,0.0,1.0,0.0,0.0,0.0,0.0,1.0,0.0,0.0,0.0,0.0,4.0,3.0,14.0,0.0,0.0,30.0,19.0,0.0,0.0,0.0,0.0,0.0,0.0,5.0,0.0,2.0,0.0,43.0,0.0,42.0,0.0,0.0,0.0,0.0,0.0,0.0,1.0,0.0,0.0,42.0,43.0,0.0,0.0,4.0,25.0,0.0,0.0,0.0,0.0,48.0,33.0,0.0,0.0,0.0,0.0,0.0,0.0,0.0,0.0,0.0,0.0,0.0,0.0,0.0,0.0,0.0,0.0,0.0,0.0,0.0,0.0,0.0,25.0,0.0,14.0,0.0,0.0,0.0,0.0,0.0,1.0,4.0,0.0,38.0,0.0,12.0,0.0,0.0,0.0,0.0,0.0,0.0,0.0,0.0,0.0,0.0,0.0,6.0,0.0,0.0,2.0,0.0,0.0,3.0,0.0,0.0,0.0,0.0,0.0,0.0,14.0,0.0,0.0,0.0,0.0,0.0,0.0,39.0,0.0,0.0,0.0,0.0,0.0,0.0,0.0,0.0,20.0,0.0,0.0,0.0,0.0,0.0,0.0,0.0,0.0,0.0,0.0,0.0,4.0,1.0,0.0,0.0,0.0,0.0,0.0,7.0,0.0,0.0,0.0,0.0,0.0,3.0,0.0,0.0,0.0,0.0,0.0,0.0,0.0,0.0,0.0,0.0,0.0,15.0,0.0,40.0,0.0,0.0,19.0,16.0,0.0,0.0,0.0,0.0,0.0,0.0,12.0,0.0,0.0,36.0,0.0,2.0,0.0,0.0,0.0,0.0,0.0,0.0,0.0,4.0,3.0,37.0,0.0,0.0,0.0,0.0,0.0,0.0,0.0,6.0,0.0,0.0,0.0,13.0,0.0,0.0,0.0,0.0,9.0,1.0,0.0,24.0,0.0,0.0,0.0,0.0,14.0,0.0,0.0,0.0,0.0,0.0,2.0,39.0,0.0,0.0,0.0,0.0,3.0,0.0,3.0,38.0,0.0,0.0,0.0,0.0,7.0,27.0,0.0,30.0,3.0,0.0,8.0,0.0,0.0,0.0,8.0,2.0,0.0,0.0,0.0,0.0,0.0,31.0,0.0,0.0,0.0,0.0,13.0,23.0,0.0,0.0,0.0,0.0,0.0,0.0,0.0,0.0,0.0,0.0,0.0,0.0,2.0,0.0,1.0,26.0,9.0,25.0,0.0,0.0,14.0,0.0,0.0,29.0,0.0,0.0,0.0,0.0,0.0,42.0,3.0,0.0,22.0,0.0,0.0,0.0,0.0,1.0,0.0,25.0,0.0,1.0,5.0,19.0,0.0,0.0,0.0,2.0,0.0,0.0,0.0,0.0,0.0,0.0,0.0,0.0,0.0,0.0,0.0,0.0,45.0,0.0,0.0,35.0,0.0,0.0,0.0,0.0,0.0,0.0,0.0,0.0,0.0,0.0,0.0,0.0,25.0,0.0,0.0,0.0,2.0,0.0,0.0,13.0,0.0,22.0,30.0,17.0,0.0,1.0,12.0,21.0,0.0,0.0,8.0,0.0,9.0,0.0,44.0,0.0,0.0,0.0,0.0,2.0,0.0,0.0,0.0,0.0,0.0,0.0,0.0,0.0,0.0,0.0,0.0,0.0,0.0,0.0,0.0,0.0,0.0,0.0,0.0,0.0,4.0,0.0,0.0,5.0,0.0,10.0,0.0,0.0,0.0,0.0,0.0,1.0,0.0,0.0,0.0,0.0,0.0,9.0,0.0,29.0,0.0,0.0,0.0,43.0,0.0,0.0,0.0,0.0,0.0,0.0,38.0,0.0,1.0,0.0,0.0,6.0,41.0,0.0,0.0,0.0,0.0,0.0,0.0,0.0,0.0,0.0,0.0,0.0,0.0,0.0,0.0,30.0,0.0,41.0,0.0,0.0,0.0,13.0,0.0,0.0,0.0,0.0,0.0,0.0,0.0,0.0,0.0,13.0,0.0,0.0,25.0,0.0,0.0,0.0,0.0,0.0,0.0,0.0,2.0,20.0,0.0,0.0,0.0,0.0,1.0,0.0,0.0,0.0,0.0,4.0,0.0,0.0,0.0,0.0,0.0,1.0,0.0,0.0,0.0,0.0,31.0,2.0,0.0,0.0,0.0,0.0,0.0,0.0,0.0,39.0,0.0,0.0,0.0,0.0,0.0,1.0,0.0,0.0,10.0,0.0,0.0,0.0,0.0,0.0,7.0,0.0,0.0,0.0,0.0,0.0,0.0,0.0,0.0,0.0,0.0,0.0,0.0,47.0,1.0,0.0,0.0,0.0,0.0,0.0,13.0,0.0,0.0,0.0,0.0,0.0,0.0,0.0,0.0,0.0,0.0,0.0,0.0,0.0,1.0,0.0,0.0,0.0,5.0,0.0,12.0,11.0,0.0,0.0,0.0,0.0,0.0,0.0,14.0,0.0,0.0,0.0,0.0,0.0,0.0,1.0,0.0,0.0,0.0,0.0,36.0,0.0,0.0,0.0,7.0,0.0,20.0,0.0,18.0,0.0,0.0,10.0,0.0,0.0,0.0,0.0,0.0,0.0,48.0,0.0,0.0,0.0,0.0,0.0,0.0,0.0,4.0,0.0,0.0,0.0,12.0,2.0,1.0,0.0,17.0,0.0,0.0,0.0,1.0,0.0,9.0,0.0,28.0,3.0,0.0,0.0,0.0,0.0,0.0,0.0,0.0,0.0,0.0,0.0,0.0,0.0,0.0,0.0,3.0,0.0,0.0,0.0,0.0,3.0,0.0,0.0,0.0,0.0,0.0,0.0,13.0,0.0,0.0,0.0,0.0,0.0,7.0,0.0,0.0,28.0,0.0,0.0,1.0,0.0,0.0,0.0,0.0,5.0,0.0,0.0,12.0,0.0,0.0,0.0,0.0,0.0,0.0,0.0,0.0,0.0,25.0,0.0,1.0,6.0,0.0,0.0,0.0,2.0,0.0,17.0,0.0,0.0,0.0,0.0,6.0,0.0,0.0,0.0,3.0,19.0,0.0,0.0,0.0,0.0,18.0,0.0,0.0,49.0,0.0,0.0,0.0,0.0,0.0,0.0,0.0,0.0,2.0,0.0,0.0,0.0,0.0,0.0,0.0,0.0,0.0,0.0,0.0,0.0,0.0,24.0,30.0,0.0,45.0,0.0,0.0,0.0,0.0,0.0,0.0,0.0,32.0,0.0,0.0,22.0,0.0,14.0,0.0,0.0,0.0,0.0,0.0,0.0,1.0,0.0,0.0,0.0,0.0,19.0,0.0,0.0,0.0,0.0,0.0,0.0,0.0,0.0,0.0,19.0,0.0,0.0,0.0,18.0,0.0,0.0,0.0,0.0,0.0,0.0,0.0,0.0,2.0,0.0,0.0,3.0,0.0,0.0,0.0,0.0,0.0,0.0,0.0,12.0,0.0,0.0,4.0,0.0,17.0,0.0,0.0,0.0,0.0,0.0,0.0,0.0,18.0,0.0,0.0,0.0,0.0,0.0,0.0,0.0,0.0,0.0,0.0,0.0,47.0,0.0,0.0,1.0,0.0,0.0,8.0,0.0,2.0,0.0,38.0,0.0,0.0,21.0,0.0,0.0,0.0,0.0,0.0,2.0,0.0,22.0,0.0,0.0,0.0,0.0,0.0,0.0,0.0,0.0,0.0,0.0,0.0,0.0,0.0,0.0,0.0,0.0,0.0,0.0,28.0,0.0,0.0,0.0,0.0,0.0,0.0,0.0,0.0,1.0,0.0,0.0,1.0,0.0,0.0,0.0,0.0,0.0,0.0,0.0,0.0,0.0,0.0,0.0,0.0,0.0,0.0,0.0,0.0,0.0,0.0,42.0,0.0,0.0,0.0,0.0,0.0,1.0,0.0,21.0,0.0,0.0,0.0,0.0,0.0,0.0,0.0,0.0,0.0,0.0,0.0,0.0,0.0,0.0,0.0,3.0,0.0,1.0,0.0,0.0,0.0,0.0,0.0,0.0,0.0,43.0,0.0,0.0,0.0,0.0,0.0,0.0,0.0,0.0,0.0,1.0,23.0,0.0,0.0,0.0,0.0,0.0,0.0,0.0,0.0,0.0,0.0,0.0,0.0,42.0,0.0,0.0,0.0,31.0,3.0,19.0,0.0,0.0,0.0,0.0,2.0,0.0,2.0,0.0,0.0,0.0,0.0,0.0,0.0,0.0,0.0,0.0,0.0,3.0,0.0,0.0,2.0,0.0,9.0,40.0,0.0,0.0,0.0,0.0,4.0,0.0,0.0,0.0,0.0,0.0,0.0,0.0,20.0,0.0,0.0,0.0,0.0,0.0,27.0,0.0,36.0,0.0,2.0,2.0,0.0,0.0,0.0,5.0,0.0,0.0,0.0,15.0,0.0,18.0,4.0,0.0,0.0,10.0,0.0,0.0,0.0,0.0,0.0,2.0,0.0,0.0,0.0,0.0,0.0,0.0,0.0,0.0,0.0,8.0,0.0,0.0,0.0,0.0,0.0,0.0,0.0,0.0,0.0,0.0,0.0,0.0,0.0,0.0,40.0,0.0,0.0,0.0,1.0,0.0,0.0,0.0,0.0,9.0,0.0,0.0,18.0,0.0,0.0,0.0,0.0,7.0,0.0,0.0,0.0,0.0,0.0,0.0,0.0,19.0,0.0,0.0,0.0,0.0,0.0,0.0,0.0,0.0,0.0,0.0,0.0,0.0,0.0,0.0,6.0,0.0,0.0,0.0,0.0,0.0,9.0,0.0,0.0,0.0,0.0,0.0,0.0,0.0,0.0,0.0,0.0,0.0,0.0,34.0,0.0,0.0,0.0,0.0,1.0,0.0,4.0,0.0,0.0,0.0,0.0,0.0,7.0,0.0,0.0,0.0,0.0,31.0,0.0,0.0,30.0,1.0,0.0,0.0,0.0,24.0,31.0,0.0,0.0,17.0,0.0,0.0,0.0,0.0,0.0,0.0,0.0,0.0,16.0,0.0,31.0,0.0,0.0,0.0,0.0,6.0,0.0,0.0,0.0,0.0,0.0,12.0,0.0,0.0,1.0,0.0,0.0,1.0,0.0,0.0,1.0,3.0,18.0,0.0,0.0,4.0,0.0,48.0,49.0,0.0,0.0,0.0,0.0,0.0,0.0,0.0,3.0,44.0,0.0,0.0,0.0,0.0,0.0,0.0,0.0,0.0,18.0,0.0,0.0,0.0,0.0,0.0,0.0,0.0,0.0,7.0,4.0,0.0,5.0,0.0,0.0,0.0,0.0,0.0,0.0,0.0,0.0,0.0,0.0,0.0,3.0,0.0,0.0,5.0,0.0,0.0,0.0,0.0,0.0,0.0,0.0,0.0,0.0,0.0,0.0,0.0,0.0,0.0,0.0,5.0,4.0,0.0,2.0,0.0,0.0,0.0,0.0,0.0,0.0,0.0,0.0,0.0,41.0,0.0,0.0,0.0,0.0,0.0,0.0,0.0,1.0,0.0,0.0,0.0,0.0,0.0,0.0,0.0,0.0,0.0,9.0,0.0,44.0,0.0,0.0,0.0,0.0,0.0,1.0,0.0,0.0,1.0,0.0,0.0,29.0,0.0,0.0,0.0,0.0,0.0,0.0,0.0,0.0,39.0,0.0,2.0,0.0,0.0,0.0,0.0,0.0,0.0,21.0,0.0,11.0,0.0,0.0,0.0,0.0,0.0,0.0,3.0,0.0,3.0,0.0,0.0,4.0,4.0,0.0,6.0,0.0,12.0,0.0,10.0,0.0,0.0,0.0,0.0,0.0,13.0,0.0,0.0,2.0,4.0,27.0,0.0,9.0,0.0,1.0,0.0,0.0,2.0,0.0,0.0,0.0,20.0,0.0,0.0,3.0,0.0,0.0,0.0,0.0,21.0,1.0,0.0,0.0,0.0,0.0,0.0,0.0,0.0,0.0,32.0,34.0,0.0,22.0,4.0,24.0,0.0,0.0,22.0,0.0,0.0,0.0,0.0,0.0,0.0,2.0,0.0,0.0,11.0,0.0,0.0,0.0,0.0,10.0,0.0,0.0,0.0,0.0,0.0,0.0,0.0,4.0,0.0,0.0,0.0,0.0,22.0,0.0,0.0,0.0,0.0,0.0,0.0,0.0,0.0,0.0,0.0,0.0,23.0,0.0,0.0,0.0,0.0,0.0,0.0,1.0,0.0,0.0,0.0,0.0,0.0,0.0,0.0,0.0,0.0,0.0,0.0,0.0,13.0,1.0,1.0,24.0,0.0,42.0,0.0,0.0,0.0,0.0,0.0,0.0,0.0,32.0,0.0,0.0,0.0,0.0,0.0,2.0,38.0,3.0,0.0,1.0,0.0,0.0,0.0,0.0,0.0,0.0,0.0,0.0,0.0,0.0,24.0,0.0,0.0,0.0,0.0,0.0,0.0,34.0,0.0,0.0,0.0,0.0,0.0,11.0,0.0,0.0,0.0,15.0,0.0,0.0,0.0,0.0,0.0,0.0,0.0,6.0,3.0,1.0,0.0,0.0,0.0,1.0,0.0,0.0,0.0,0.0,9.0,0.0,23.0,0.0,49.0,0.0,0.0,0.0,0.0,0.0,0.0,0.0,0.0,0.0,2.0,0.0,1.0,0.0,0.0,0.0,6.0,0.0,2.0,0.0,0.0,39.0,0.0,1.0,0.0,0.0,0.0],\"xaxis\":\"x\",\"yaxis\":\"y\",\"type\":\"histogram\"},{\"alignmentgroup\":\"True\",\"bingroup\":\"x\",\"hovertemplate\":\"Transported=True<br>RoomService=%{x}<br>count=%{y}<extra></extra>\",\"legendgroup\":\"True\",\"marker\":{\"color\":\"#EF553B\",\"pattern\":{\"shape\":\"\"}},\"name\":\"True\",\"offsetgroup\":\"True\",\"orientation\":\"v\",\"showlegend\":true,\"x\":[0.0,42.0,0.0,0.0,0.0,0.0,39.0,8.0,0.0,0.0,0.0,0.0,0.0,0.0,0.0,0.0,0.0,0.0,0.0,0.0,0.0,0.0,0.0,0.0,1.0,1.0,14.0,0.0,0.0,0.0,0.0,0.0,0.0,0.0,0.0,0.0,0.0,0.0,0.0,0.0,0.0,0.0,0.0,0.0,0.0,1.0,0.0,0.0,0.0,0.0,0.0,0.0,0.0,0.0,0.0,0.0,0.0,0.0,0.0,0.0,0.0,0.0,0.0,0.0,0.0,1.0,0.0,0.0,17.0,0.0,0.0,0.0,0.0,0.0,0.0,0.0,0.0,0.0,0.0,0.0,2.0,0.0,0.0,0.0,0.0,0.0,0.0,0.0,0.0,0.0,0.0,0.0,0.0,0.0,0.0,0.0,0.0,0.0,0.0,0.0,0.0,0.0,0.0,44.0,0.0,0.0,0.0,0.0,0.0,0.0,0.0,0.0,0.0,0.0,0.0,0.0,0.0,0.0,0.0,0.0,7.0,0.0,0.0,0.0,0.0,0.0,17.0,0.0,0.0,0.0,0.0,0.0,0.0,0.0,0.0,0.0,0.0,0.0,0.0,0.0,0.0,0.0,0.0,0.0,0.0,0.0,0.0,0.0,0.0,0.0,0.0,3.0,0.0,0.0,0.0,0.0,0.0,0.0,8.0,0.0,0.0,0.0,2.0,0.0,0.0,0.0,0.0,0.0,0.0,0.0,0.0,9.0,0.0,0.0,0.0,0.0,0.0,0.0,5.0,0.0,0.0,0.0,0.0,0.0,0.0,0.0,0.0,0.0,0.0,0.0,0.0,0.0,0.0,0.0,0.0,0.0,0.0,0.0,0.0,0.0,0.0,0.0,0.0,0.0,0.0,0.0,0.0,0.0,0.0,0.0,0.0,0.0,0.0,0.0,39.0,0.0,0.0,0.0,0.0,0.0,0.0,0.0,0.0,0.0,0.0,0.0,13.0,0.0,0.0,0.0,0.0,0.0,0.0,0.0,0.0,0.0,0.0,0.0,0.0,0.0,0.0,0.0,0.0,0.0,0.0,0.0,0.0,0.0,0.0,0.0,0.0,0.0,0.0,21.0,0.0,0.0,0.0,0.0,0.0,0.0,0.0,0.0,0.0,0.0,0.0,0.0,0.0,0.0,0.0,0.0,0.0,0.0,0.0,0.0,0.0,0.0,0.0,0.0,0.0,0.0,0.0,0.0,0.0,0.0,0.0,0.0,0.0,0.0,0.0,0.0,0.0,0.0,0.0,0.0,0.0,0.0,0.0,0.0,0.0,21.0,0.0,0.0,0.0,0.0,0.0,0.0,0.0,0.0,0.0,0.0,0.0,0.0,0.0,0.0,0.0,0.0,7.0,0.0,0.0,0.0,0.0,0.0,0.0,0.0,0.0,0.0,0.0,0.0,0.0,0.0,0.0,0.0,0.0,0.0,0.0,0.0,0.0,0.0,0.0,0.0,0.0,0.0,0.0,0.0,0.0,0.0,0.0,0.0,0.0,0.0,0.0,0.0,0.0,0.0,0.0,0.0,0.0,0.0,15.0,14.0,0.0,0.0,0.0,0.0,0.0,0.0,0.0,0.0,0.0,0.0,0.0,2.0,0.0,0.0,1.0,0.0,0.0,47.0,0.0,0.0,0.0,0.0,0.0,0.0,0.0,0.0,0.0,0.0,0.0,0.0,0.0,14.0,0.0,0.0,0.0,0.0,0.0,0.0,0.0,0.0,0.0,0.0,0.0,0.0,0.0,0.0,0.0,0.0,0.0,0.0,6.0,1.0,31.0,0.0,0.0,0.0,0.0,0.0,0.0,0.0,0.0,0.0,0.0,0.0,0.0,0.0,1.0,0.0,0.0,0.0,0.0,0.0,0.0,4.0,0.0,0.0,0.0,0.0,0.0,0.0,0.0,0.0,0.0,0.0,0.0,0.0,0.0,0.0,0.0,0.0,0.0,0.0,0.0,0.0,0.0,0.0,0.0,0.0,0.0,0.0,8.0,0.0,0.0,0.0,0.0,0.0,0.0,0.0,0.0,0.0,0.0,0.0,0.0,0.0,0.0,0.0,0.0,0.0,0.0,0.0,0.0,0.0,0.0,0.0,0.0,0.0,0.0,0.0,0.0,0.0,0.0,0.0,0.0,0.0,0.0,0.0,0.0,0.0,0.0,0.0,0.0,0.0,0.0,0.0,0.0,2.0,42.0,0.0,0.0,1.0,0.0,0.0,0.0,0.0,0.0,2.0,0.0,0.0,0.0,0.0,0.0,27.0,0.0,0.0,0.0,0.0,0.0,0.0,0.0,0.0,0.0,0.0,0.0,0.0,0.0,0.0,0.0,0.0,0.0,0.0,0.0,0.0,0.0,0.0,0.0,0.0,0.0,0.0,0.0,0.0,0.0,0.0,0.0,0.0,0.0,0.0,0.0,0.0,0.0,0.0,0.0,0.0,0.0,0.0,0.0,0.0,0.0,0.0,0.0,0.0,0.0,0.0,0.0,0.0,0.0,0.0,0.0,0.0,0.0,0.0,0.0,0.0,8.0,13.0,0.0,0.0,0.0,0.0,0.0,0.0,0.0,0.0,0.0,0.0,0.0,0.0,0.0,0.0,0.0,0.0,0.0,0.0,0.0,0.0,3.0,0.0,0.0,0.0,0.0,0.0,0.0,0.0,0.0,0.0,0.0,0.0,0.0,0.0,0.0,0.0,0.0,0.0,0.0,0.0,0.0,0.0,0.0,0.0,0.0,0.0,0.0,0.0,0.0,0.0,0.0,12.0,0.0,0.0,0.0,0.0,0.0,0.0,0.0,0.0,0.0,0.0,0.0,0.0,0.0,0.0,16.0,0.0,0.0,0.0,0.0,0.0,0.0,0.0,0.0,13.0,0.0,0.0,0.0,0.0,0.0,0.0,0.0,0.0,0.0,0.0,0.0,0.0,0.0,0.0,0.0,0.0,0.0,0.0,0.0,0.0,0.0,0.0,0.0,0.0,0.0,0.0,0.0,0.0,0.0,0.0,0.0,0.0,0.0,8.0,0.0,21.0,0.0,1.0,0.0,0.0,0.0,0.0,0.0,0.0,0.0,0.0,0.0,0.0,0.0,0.0,0.0,0.0,0.0,0.0,0.0,0.0,0.0,0.0,0.0,0.0,0.0,0.0,0.0,9.0,0.0,0.0,2.0,0.0,0.0,1.0,0.0,0.0,0.0,17.0,0.0,0.0,0.0,0.0,0.0,8.0,0.0,0.0,14.0,0.0,0.0,0.0,0.0,0.0,0.0,5.0,4.0,0.0,0.0,0.0,0.0,0.0,0.0,34.0,0.0,0.0,0.0,0.0,10.0,0.0,0.0,0.0,0.0,0.0,0.0,0.0,0.0,0.0,15.0,0.0,0.0,0.0,0.0,0.0,0.0,0.0,0.0,0.0,0.0,0.0,37.0,5.0,0.0,0.0,0.0,0.0,0.0,0.0,44.0,0.0,0.0,30.0,0.0,0.0,0.0,0.0,0.0,2.0,0.0,0.0,0.0,0.0,0.0,2.0,0.0,0.0,0.0,9.0,8.0,0.0,0.0,0.0,8.0,29.0,0.0,0.0,10.0,0.0,0.0,0.0,0.0,0.0,0.0,0.0,0.0,0.0,0.0,0.0,0.0,0.0,0.0,0.0,0.0,0.0,0.0,0.0,0.0,0.0,0.0,0.0,0.0,0.0,0.0,0.0,0.0,26.0,0.0,0.0,0.0,0.0,0.0,0.0,2.0,0.0,0.0,0.0,0.0,0.0,0.0,0.0,0.0,0.0,0.0,0.0,38.0,0.0,0.0,0.0,0.0,0.0,0.0,0.0,0.0,0.0,0.0,0.0,0.0,0.0,0.0,0.0,20.0,0.0,0.0,0.0,0.0,0.0,0.0,0.0,0.0,0.0,0.0,0.0,0.0,0.0,0.0,0.0,0.0,0.0,0.0,0.0,0.0,0.0,27.0,0.0,0.0,0.0,0.0,0.0,0.0,0.0,0.0,0.0,0.0,0.0,0.0,0.0,0.0,0.0,0.0,0.0,0.0,19.0,0.0,0.0,0.0,0.0,34.0,0.0,0.0,0.0,0.0,0.0,0.0,0.0,0.0,0.0,0.0,0.0,31.0,0.0,0.0,0.0,0.0,0.0,0.0,0.0,0.0,0.0,0.0,0.0,34.0,0.0,0.0,0.0,0.0,0.0,0.0,0.0,0.0,0.0,0.0,0.0,0.0,0.0,0.0,0.0,0.0,0.0,0.0,0.0,0.0,0.0,0.0,0.0,0.0,0.0,0.0,0.0,0.0,0.0,2.0,0.0,0.0,0.0,0.0,4.0,0.0,0.0,0.0,0.0,0.0,0.0,0.0,0.0,0.0,0.0,0.0,0.0,0.0,0.0,0.0,0.0,0.0,0.0,0.0,0.0,0.0,0.0,0.0,0.0,0.0,0.0,0.0,0.0,0.0,0.0,0.0,0.0,0.0,0.0,2.0,0.0,0.0,0.0,0.0,0.0,3.0,0.0,0.0,0.0,0.0,0.0,0.0,0.0,0.0,0.0,0.0,0.0,0.0,0.0,0.0,0.0,0.0,0.0,0.0,1.0,0.0,0.0,0.0,0.0,0.0,0.0,0.0,0.0,0.0,0.0,0.0,0.0,10.0,0.0,0.0,18.0,0.0,0.0,0.0,0.0,0.0,0.0,0.0,0.0,0.0,0.0,0.0,0.0,0.0,0.0,0.0,0.0,1.0,0.0,0.0,0.0,0.0,0.0,0.0,5.0,0.0,0.0,0.0,0.0,0.0,0.0,0.0,0.0,44.0,0.0,0.0,0.0,0.0,1.0,0.0,0.0,13.0,0.0,0.0,0.0,0.0,0.0,0.0,0.0,0.0,5.0,0.0,0.0,0.0,0.0,2.0,0.0,0.0,0.0,0.0,0.0,0.0,0.0,0.0,0.0,0.0,0.0,0.0,0.0,0.0,0.0,0.0,0.0,2.0,0.0,0.0,0.0,0.0,0.0,0.0,0.0,0.0,0.0,0.0,0.0,0.0,0.0,1.0,0.0,0.0,0.0,5.0,0.0,0.0,0.0,0.0,0.0,0.0,0.0,0.0,0.0,0.0,0.0,0.0,0.0,0.0,0.0,0.0,0.0,0.0,0.0,0.0,17.0,0.0,0.0,0.0,0.0,0.0,0.0,0.0,0.0,0.0,0.0,0.0,0.0,0.0,0.0,0.0,0.0,0.0,0.0,0.0,0.0,0.0,5.0,0.0,0.0,0.0,3.0,0.0,0.0,0.0,0.0,0.0,0.0,0.0,0.0,0.0,0.0,0.0,0.0,0.0,0.0,0.0,0.0,0.0,0.0,0.0,0.0,0.0,0.0,0.0,0.0,0.0,0.0,0.0,0.0,0.0,0.0,0.0,0.0,0.0,0.0,0.0,0.0,0.0,0.0,0.0,0.0,0.0,0.0,0.0,0.0,0.0,0.0,0.0,0.0,0.0,0.0,0.0,0.0,0.0,0.0,0.0,3.0,0.0,0.0,0.0,0.0,0.0,0.0,0.0,0.0,0.0,0.0,0.0,0.0,0.0,0.0,0.0,24.0,0.0,0.0,0.0,0.0,0.0,0.0,0.0,0.0,0.0,0.0,0.0,0.0,0.0,0.0,2.0,0.0,0.0,0.0,0.0,0.0,0.0,0.0,0.0,0.0,0.0,0.0,0.0,0.0,0.0,0.0,0.0,0.0,0.0,0.0,0.0,0.0,0.0,0.0,0.0,0.0,0.0,0.0,0.0,0.0,0.0,0.0,0.0,0.0,0.0,0.0,0.0,0.0,3.0,0.0,0.0,0.0,0.0,4.0,0.0,0.0,0.0,0.0,0.0,0.0,0.0,0.0,0.0,0.0,0.0,0.0,0.0,0.0,0.0,0.0,0.0,0.0,0.0,0.0,1.0,0.0,0.0,0.0,0.0,0.0,0.0,0.0,0.0,0.0,0.0,0.0,0.0,3.0,0.0,0.0,0.0,0.0,0.0,0.0,0.0,42.0,0.0,0.0,0.0,0.0,0.0,0.0,0.0,0.0,0.0,0.0,0.0,0.0,0.0,5.0,1.0,0.0,2.0,0.0,0.0,0.0,0.0,0.0,0.0,25.0,0.0,0.0,0.0,0.0,0.0,0.0,0.0,0.0,0.0,0.0,0.0,3.0,0.0,0.0,0.0,0.0,0.0,0.0,0.0,0.0,0.0,0.0,0.0,0.0,0.0,0.0,0.0,0.0,0.0,0.0,0.0,0.0,0.0,0.0,0.0,0.0,0.0,18.0,0.0,0.0,0.0,0.0,0.0,0.0,0.0,2.0,0.0,0.0,0.0,0.0,0.0,0.0,0.0,0.0,0.0,0.0,0.0,0.0,0.0,0.0,0.0,0.0,0.0,0.0,0.0,0.0,2.0,0.0,0.0,0.0,2.0,0.0,0.0,1.0,0.0,0.0,0.0,0.0,0.0,0.0,0.0,0.0,0.0,0.0,0.0,0.0,28.0,0.0,0.0,0.0,0.0,0.0,0.0,0.0,0.0,16.0,0.0,0.0,0.0,0.0,3.0,0.0,0.0,0.0,0.0,0.0,0.0,0.0,0.0,0.0,0.0,0.0,0.0,0.0,0.0,0.0,0.0,0.0,0.0,0.0,0.0,0.0,9.0,0.0,0.0,0.0,35.0,0.0,0.0,0.0,0.0,0.0,0.0,2.0,0.0,45.0,0.0,0.0,0.0,0.0,0.0,0.0,0.0,0.0,0.0,0.0,0.0,0.0,0.0,0.0,0.0,46.0,0.0,0.0,0.0,0.0,16.0,0.0,0.0,0.0,0.0,0.0,0.0,0.0,0.0,3.0,0.0,4.0,0.0,0.0,0.0,0.0,8.0,0.0,0.0,0.0,0.0,0.0,0.0,0.0,0.0,0.0,0.0,0.0,0.0,0.0,0.0,0.0,0.0,0.0,0.0,0.0,0.0,0.0,0.0,0.0,0.0,0.0,0.0,0.0,0.0,0.0,0.0,0.0,0.0,0.0,0.0,27.0,0.0,0.0,0.0,0.0,40.0,0.0,0.0,0.0,0.0,0.0,0.0,0.0,0.0,0.0,0.0,0.0,0.0,0.0,0.0,0.0,0.0,0.0,0.0,0.0,0.0,0.0,0.0,0.0,0.0,0.0,0.0,0.0,0.0,0.0,0.0,0.0,0.0,0.0,0.0,0.0,0.0,0.0,0.0,0.0,0.0,0.0,0.0,0.0,0.0,0.0,0.0,0.0,0.0,0.0,0.0,0.0,27.0,0.0,0.0,0.0,0.0,0.0,0.0,0.0,0.0,0.0,0.0,0.0,0.0,0.0,0.0,0.0,0.0,0.0,0.0,0.0,0.0,0.0,0.0,0.0,0.0,49.0,0.0,0.0,0.0,0.0,36.0,0.0,0.0,0.0,0.0,0.0,0.0,0.0,0.0,0.0,0.0,0.0,0.0,0.0,0.0,22.0,0.0,0.0,0.0,0.0,0.0,0.0,0.0,0.0,33.0,22.0,0.0,0.0,0.0,0.0,0.0,0.0,0.0,0.0,0.0,0.0,0.0,0.0,0.0,0.0,0.0,0.0,0.0,0.0,0.0,0.0,0.0,0.0,0.0,0.0,0.0,0.0,0.0,0.0,0.0,0.0,0.0,0.0,0.0,0.0,0.0,0.0,0.0,0.0,0.0,0.0,0.0,0.0,35.0,0.0,0.0,0.0,0.0,0.0,0.0,0.0,0.0,0.0,0.0,0.0,0.0,0.0,36.0,0.0,0.0,0.0,0.0,0.0,0.0,0.0,0.0,0.0,0.0,42.0,0.0,0.0,0.0,0.0,0.0,0.0,0.0,27.0,0.0,0.0,0.0,0.0,6.0,0.0,0.0,0.0,0.0,0.0,0.0,0.0,0.0,0.0,0.0,0.0,0.0,0.0,0.0,0.0,0.0,0.0,0.0,0.0,0.0,0.0,0.0,0.0,0.0,0.0,0.0,1.0,0.0,0.0,0.0,0.0,2.0,0.0,0.0,0.0,36.0,0.0,0.0,0.0,0.0,0.0,0.0,0.0,0.0,0.0,0.0,0.0,0.0,0.0,0.0,0.0,0.0,8.0,0.0,0.0,0.0,0.0,0.0,0.0,0.0,0.0,0.0,0.0,0.0,0.0,0.0,0.0,0.0,0.0,0.0,0.0,0.0,0.0,0.0,0.0,0.0,0.0,0.0,0.0,0.0,0.0,0.0,0.0,0.0,0.0,0.0,0.0,0.0,0.0,0.0,0.0,0.0,0.0,0.0,8.0,0.0,0.0,0.0,37.0,0.0,0.0,0.0,0.0,0.0,0.0,0.0,0.0,0.0,0.0,0.0,0.0,0.0,0.0,0.0,0.0,0.0,0.0,0.0,0.0,0.0,0.0,0.0,0.0,0.0,0.0,21.0,0.0,0.0,0.0,0.0,0.0,0.0,0.0,0.0,0.0,0.0,0.0,0.0,0.0,0.0,0.0,0.0,0.0,20.0,0.0,0.0,0.0,0.0,0.0,0.0,14.0,0.0,12.0,0.0,0.0,0.0,0.0,0.0,0.0,0.0,0.0,0.0,0.0,0.0,0.0,0.0,0.0,0.0,8.0,0.0,0.0,1.0,0.0,0.0,0.0,0.0,0.0,0.0,0.0,0.0,0.0,0.0,0.0,0.0,0.0,0.0,0.0,0.0,0.0,0.0,0.0,0.0,0.0,11.0,0.0,3.0,0.0,0.0,0.0,0.0,0.0,0.0,0.0,0.0,0.0,0.0,36.0,0.0,0.0,0.0,0.0,0.0,0.0,0.0,0.0,0.0,0.0,0.0,0.0,0.0,0.0,4.0,0.0,0.0,0.0,8.0,0.0,0.0,0.0,0.0,0.0,0.0,0.0,0.0,0.0,0.0,0.0,0.0,0.0,0.0,0.0,0.0,0.0,0.0,0.0,0.0,0.0,6.0,0.0,25.0,0.0,0.0,0.0,0.0,0.0,0.0,0.0,0.0,0.0,0.0,0.0,0.0,0.0,0.0,0.0,0.0,0.0,0.0,0.0,0.0,0.0,0.0,0.0,0.0,0.0,0.0,7.0,0.0,0.0,0.0,0.0,0.0,0.0,0.0,0.0,0.0,0.0,0.0,0.0,0.0,0.0,0.0,0.0,0.0,0.0,0.0,0.0,0.0,0.0,0.0,0.0,0.0,0.0,0.0,0.0,0.0,10.0,0.0,0.0,0.0,0.0,0.0,0.0,0.0,1.0,0.0,0.0,0.0,0.0,0.0,0.0,6.0,0.0,0.0,0.0,0.0,0.0,0.0,0.0,0.0,0.0,0.0,0.0,38.0,0.0,0.0,0.0,0.0,0.0,35.0,0.0,0.0,0.0,1.0,0.0,0.0,0.0,0.0,0.0,0.0,0.0,0.0,0.0,0.0,0.0,0.0,0.0,0.0,0.0,0.0,0.0,0.0,0.0,0.0,0.0,0.0,0.0,0.0,0.0,37.0,0.0,43.0,0.0,0.0,0.0,0.0,0.0,0.0,0.0,0.0,0.0,0.0,0.0,0.0,0.0,0.0,0.0,0.0,2.0,0.0,0.0,4.0,0.0,0.0,0.0,0.0,3.0,0.0,0.0,0.0,0.0,0.0,0.0,0.0,2.0,0.0,0.0,0.0,0.0,0.0,0.0,0.0,0.0,0.0,0.0,0.0,0.0,0.0,0.0,0.0,0.0,0.0,0.0,0.0,0.0,0.0,0.0,0.0,0.0,0.0,0.0,0.0,0.0,0.0,0.0,0.0,0.0,0.0,0.0,0.0,0.0,31.0,0.0,0.0,0.0,0.0,0.0,41.0,0.0,0.0,0.0,0.0,0.0,39.0,0.0,0.0,0.0,0.0,0.0,0.0,0.0,1.0,0.0,0.0,0.0,0.0,0.0,0.0,0.0,0.0,0.0,0.0,0.0,5.0,0.0,0.0,0.0,0.0,0.0,0.0,0.0,0.0,0.0,0.0,0.0,30.0,0.0,0.0,0.0,0.0,0.0,0.0,0.0,0.0,0.0,0.0,0.0,19.0,0.0,0.0,0.0,0.0,0.0,0.0,0.0,0.0,0.0,0.0,0.0,0.0,0.0,0.0,0.0,0.0,0.0,12.0,0.0,0.0,0.0,0.0,0.0,0.0,0.0,0.0,0.0,0.0,0.0,0.0,0.0,0.0,0.0,0.0,0.0,0.0,0.0,0.0,0.0,0.0,0.0,0.0,0.0,0.0,0.0,0.0,0.0,0.0,0.0,0.0,0.0,0.0,0.0,0.0,0.0,0.0,0.0,0.0,0.0,0.0,0.0,0.0,0.0,0.0,0.0,0.0,0.0,0.0,0.0,0.0,0.0,0.0,35.0,0.0,0.0,0.0,0.0,0.0,0.0,0.0,0.0,0.0,0.0,0.0,1.0,0.0,0.0,0.0,0.0,0.0,0.0,0.0,0.0,0.0,0.0,0.0,0.0,0.0,0.0,0.0,0.0,0.0,0.0,0.0,0.0,0.0,0.0,0.0,0.0,0.0,0.0,0.0,0.0,0.0,0.0,0.0,0.0,0.0,8.0,0.0,0.0,0.0,0.0,0.0,0.0,0.0,0.0,0.0,0.0,0.0,0.0,16.0,0.0,0.0,0.0,0.0,0.0,2.0,0.0,0.0,0.0,0.0,0.0,0.0,0.0,0.0,0.0,0.0,0.0,0.0,0.0,0.0,0.0,0.0,0.0,0.0,0.0,0.0,0.0,0.0,0.0,0.0,0.0,0.0,0.0,0.0,0.0,0.0,0.0,0.0,0.0,0.0,0.0,0.0,0.0,0.0,0.0,0.0,0.0,0.0,0.0,0.0,0.0,0.0,0.0,0.0,0.0,0.0,0.0,0.0,0.0,0.0,0.0,0.0,0.0,0.0,0.0,0.0,0.0,0.0,0.0,0.0,0.0,0.0,0.0,0.0,0.0,0.0,0.0,0.0,0.0,0.0,0.0,8.0,33.0,3.0,0.0,0.0,41.0,0.0,0.0,14.0,0.0,0.0,0.0,0.0,0.0,0.0,0.0,0.0,0.0,0.0,0.0,0.0,0.0,0.0,0.0,0.0,0.0,0.0,0.0,0.0,0.0,0.0,0.0,0.0,0.0,0.0,0.0,0.0,0.0,0.0,0.0,0.0,0.0,0.0,0.0,0.0,0.0,0.0,0.0,0.0,0.0,0.0,3.0,0.0,0.0,0.0,0.0,0.0,0.0,0.0,0.0,0.0,0.0,0.0,0.0,0.0,0.0,0.0,0.0,0.0,0.0,0.0,0.0,0.0,0.0,0.0,0.0,5.0,3.0,0.0,0.0,24.0,0.0,0.0,0.0,0.0,0.0,0.0,0.0,0.0,0.0,0.0,0.0,0.0,0.0,0.0,0.0,0.0,0.0,0.0,0.0,0.0,0.0,0.0,20.0,0.0,2.0,0.0,0.0,0.0,0.0,0.0,0.0,0.0,0.0,0.0,0.0,0.0,0.0,0.0,0.0,0.0,0.0,0.0,0.0,0.0,0.0,0.0,2.0,0.0,1.0,0.0,0.0,0.0,0.0,0.0,0.0,0.0,0.0,0.0,5.0,0.0,0.0,0.0,0.0,0.0,0.0,0.0,0.0,0.0,0.0,0.0,0.0,0.0,0.0,0.0,0.0,0.0,0.0,0.0,0.0,0.0,0.0,0.0,0.0,0.0,0.0,0.0,0.0,0.0,0.0,0.0,0.0,0.0,0.0,0.0,0.0,0.0,0.0,0.0,0.0,0.0,0.0,0.0,0.0,14.0,0.0,0.0,0.0,0.0,0.0,0.0,0.0,0.0,0.0,0.0,0.0,0.0,0.0,0.0,0.0,0.0,0.0,0.0,0.0,0.0,0.0,0.0,0.0,0.0,0.0,0.0,0.0,0.0,0.0,0.0,0.0,0.0,0.0,0.0,0.0,0.0,0.0,0.0,0.0,0.0,0.0,0.0,0.0,0.0,0.0,0.0,0.0,0.0,0.0,3.0,0.0,0.0,0.0,0.0,0.0,0.0,0.0,0.0,0.0,0.0,0.0,0.0,0.0,0.0,0.0,0.0,0.0,0.0,0.0,0.0,0.0,0.0,0.0,0.0,0.0,0.0,0.0,0.0,0.0,0.0,0.0,0.0,0.0,2.0,0.0,0.0,0.0,0.0,0.0,0.0,0.0,0.0,0.0,0.0,0.0,0.0,0.0,32.0,0.0,0.0,0.0,0.0,0.0,0.0,0.0,0.0,0.0,0.0,0.0,0.0,0.0,0.0,0.0,0.0,0.0,0.0,0.0,0.0,0.0,0.0,0.0,0.0,0.0,0.0,0.0,0.0,0.0,0.0,0.0,0.0,0.0,0.0,0.0,0.0,0.0,0.0,0.0,0.0,0.0,0.0,0.0,0.0,0.0,0.0,0.0,0.0,0.0,0.0,0.0,0.0,0.0,0.0,0.0,0.0,0.0,0.0,0.0,0.0,0.0,0.0,0.0,0.0,20.0,3.0,0.0,0.0,0.0,14.0,0.0,0.0,0.0,0.0,0.0,0.0,32.0,0.0,0.0,0.0,0.0,0.0,0.0,7.0,0.0,0.0,0.0,0.0,0.0,0.0,0.0,0.0,0.0,0.0,0.0,0.0,0.0,0.0,0.0,0.0,0.0,0.0,0.0,0.0,0.0,0.0,0.0,0.0,0.0,0.0,0.0,0.0,0.0,0.0,43.0,0.0,0.0,0.0,0.0,0.0,0.0,0.0,0.0,0.0,0.0,0.0,0.0,9.0,0.0,0.0,0.0,9.0,0.0,0.0,0.0,0.0,0.0,0.0,0.0,26.0,0.0,0.0,0.0,0.0,0.0,0.0,27.0,0.0,0.0,0.0,3.0,0.0,0.0,0.0,0.0,0.0,0.0,0.0,0.0,0.0,0.0,0.0,0.0,0.0,0.0,0.0,0.0,0.0,0.0,0.0,0.0,26.0,0.0,0.0,0.0,0.0,0.0,0.0,0.0,0.0,0.0,0.0,0.0,0.0,0.0,4.0,0.0,0.0,0.0,0.0,0.0,0.0,0.0,0.0,0.0,0.0,10.0,0.0,0.0,0.0,0.0,3.0,0.0,0.0,9.0,0.0,0.0,0.0,0.0,0.0,0.0,0.0,0.0,0.0,0.0,0.0,0.0,0.0,0.0,0.0,0.0,0.0,0.0,0.0,0.0,0.0,0.0,0.0,0.0,0.0,3.0,0.0,3.0,0.0,0.0,0.0,0.0,0.0,0.0,0.0,1.0,0.0,0.0,30.0,0.0,21.0,0.0,0.0,0.0,0.0,0.0,0.0,0.0,49.0,0.0,0.0,40.0,0.0,0.0,28.0,0.0,0.0,0.0,0.0,0.0,0.0,0.0,0.0,0.0,0.0,0.0,0.0,0.0,0.0,0.0,1.0,0.0,0.0,15.0,0.0,0.0,0.0,0.0,0.0,0.0,0.0,0.0,0.0,0.0,0.0,0.0,0.0,0.0,0.0,0.0,0.0,0.0,6.0,0.0,0.0,0.0,0.0,0.0,0.0,1.0,0.0,0.0,0.0,0.0,0.0,0.0,0.0,0.0,0.0,0.0,0.0,0.0,0.0,0.0,0.0,0.0,0.0,0.0,0.0,0.0,0.0,0.0,0.0,0.0,0.0,0.0,0.0,30.0,30.0,0.0,0.0,0.0,0.0,0.0,0.0,0.0,0.0,0.0,0.0,0.0,0.0,0.0,0.0,0.0,0.0,0.0,0.0,0.0,0.0,0.0,2.0,0.0,0.0,0.0,30.0,1.0,0.0,32.0,0.0,0.0,0.0,0.0,0.0,0.0,0.0,0.0,0.0,0.0,0.0,0.0,0.0,0.0,0.0,0.0,0.0,11.0,0.0,0.0,0.0,37.0,0.0,0.0,0.0,0.0,0.0,0.0,0.0,0.0,0.0,0.0,0.0,0.0,0.0,0.0,0.0,0.0,0.0,0.0,0.0,0.0,0.0,0.0,0.0,0.0,0.0,0.0,0.0,0.0,1.0,0.0,0.0,0.0,0.0,0.0,0.0,0.0,0.0,0.0,0.0,0.0,0.0,0.0,0.0,1.0,0.0,0.0,0.0,1.0,0.0,0.0,0.0,0.0,0.0,0.0,0.0,0.0,0.0,0.0,0.0,0.0,0.0,0.0,0.0,0.0,0.0,0.0,0.0,0.0,0.0,11.0,0.0,0.0,0.0,0.0,0.0,0.0,0.0,19.0,0.0,0.0,0.0,0.0,0.0,0.0,0.0,0.0,0.0,0.0,0.0,0.0,37.0,0.0,0.0,0.0,0.0,46.0,0.0,0.0,0.0,0.0,0.0,0.0,0.0,0.0,0.0,0.0,0.0,0.0,0.0,0.0,0.0,2.0,0.0,0.0,0.0,0.0,10.0,0.0,0.0,0.0,0.0,0.0,0.0,0.0,0.0,0.0,0.0,0.0,0.0,0.0,0.0,0.0,0.0,0.0,0.0,0.0,0.0,0.0,0.0,0.0,0.0,0.0,0.0,0.0,0.0,0.0,0.0,0.0,0.0,0.0,0.0,0.0,0.0,0.0,0.0,0.0,0.0,0.0,5.0,0.0,1.0,0.0,0.0,0.0,0.0,40.0,0.0,0.0,0.0,0.0,0.0,0.0,0.0,0.0,0.0,2.0,0.0,33.0,0.0,0.0,0.0,19.0,0.0,9.0,0.0,0.0,0.0,0.0,0.0,0.0,0.0,6.0,0.0,0.0,0.0,0.0,0.0,0.0,0.0,0.0,11.0,0.0,0.0,0.0,0.0,0.0,0.0,0.0,0.0,0.0,0.0,0.0,0.0,0.0,0.0,0.0,0.0,0.0,0.0,0.0,0.0,0.0,0.0,0.0,0.0,0.0,0.0,0.0,0.0,0.0,19.0,0.0,0.0,0.0,0.0,6.0,0.0,22.0,0.0,0.0,0.0,32.0,0.0,0.0,0.0,14.0,0.0,2.0,0.0,0.0,0.0,0.0,0.0,32.0,0.0,0.0,0.0,29.0,0.0,0.0,0.0,0.0,0.0,0.0,0.0,0.0,0.0,0.0,0.0,0.0,0.0,0.0,0.0,0.0,0.0,0.0,0.0,0.0,0.0,0.0,0.0,0.0,0.0,0.0,0.0,0.0,0.0,0.0,0.0,0.0,0.0,0.0,30.0,0.0,0.0,0.0,0.0,0.0,0.0,49.0,0.0,0.0,0.0,0.0,0.0,0.0,0.0,0.0,0.0,0.0,0.0,0.0,2.0,0.0,0.0,0.0,0.0,0.0,0.0,0.0,0.0,0.0,0.0,0.0,0.0,1.0,0.0,0.0,0.0,0.0,0.0,0.0,0.0,0.0,0.0,0.0,0.0,0.0,0.0,1.0,32.0,0.0,0.0,0.0,0.0,0.0,0.0,0.0,18.0,49.0,0.0,0.0,0.0,0.0,0.0,0.0,0.0,3.0,0.0,0.0,0.0,0.0,0.0,0.0,0.0,0.0,0.0,0.0,0.0,10.0,0.0,0.0,0.0,0.0,0.0,0.0,0.0,0.0,0.0,0.0,0.0,0.0,0.0,0.0,0.0,0.0,0.0,0.0,0.0,0.0,0.0,4.0,0.0,0.0,0.0,11.0,0.0,0.0,0.0,0.0,0.0,0.0,0.0,0.0,1.0,0.0,0.0,0.0,0.0,0.0,0.0,0.0,0.0,0.0,1.0,0.0,0.0,0.0,0.0,0.0,0.0,0.0,0.0,0.0,0.0,0.0,0.0,0.0,0.0,0.0,0.0,0.0,0.0,0.0,0.0,1.0,32.0,0.0,0.0,1.0,0.0,0.0,0.0,0.0,0.0,0.0,0.0,0.0,0.0,0.0,0.0,0.0,0.0,0.0,14.0,0.0,0.0,0.0,0.0,0.0,0.0,0.0,0.0,0.0,0.0,0.0,0.0,0.0,0.0,0.0,0.0,0.0,0.0,3.0,0.0,0.0,0.0,0.0,0.0,0.0,0.0,0.0,0.0,0.0,0.0,0.0,0.0,0.0,0.0,0.0,0.0,0.0,0.0,0.0,0.0,0.0,0.0,0.0,0.0,0.0,0.0,0.0,0.0,0.0,16.0,0.0,0.0,0.0,0.0,0.0,0.0,0.0,0.0,0.0,0.0,0.0,0.0,0.0,0.0,0.0,0.0,0.0,0.0,0.0,0.0,0.0,0.0,0.0,0.0,0.0,0.0,0.0,0.0,0.0,0.0,0.0,2.0,0.0,0.0,0.0,0.0,0.0,0.0,0.0,0.0,0.0,0.0,0.0,0.0,0.0,0.0,0.0,0.0,0.0,0.0,0.0,0.0,0.0,0.0,0.0,0.0,0.0,0.0,0.0,0.0,0.0,23.0,1.0,0.0,0.0,0.0,0.0,0.0,0.0,0.0,8.0,0.0,0.0,0.0,0.0,0.0,37.0,0.0,0.0,0.0,0.0,0.0,0.0,0.0,0.0,0.0,0.0,0.0,0.0,0.0,0.0,0.0,0.0,0.0,0.0,0.0,48.0,0.0,0.0,0.0,0.0,0.0,0.0,0.0,0.0,1.0,0.0,0.0,0.0,0.0,0.0,0.0,0.0,0.0,0.0,0.0,15.0,0.0,6.0,0.0,0.0,0.0,0.0,0.0,0.0,0.0,0.0,3.0,8.0,0.0,0.0,28.0,0.0,0.0,0.0,0.0,0.0,0.0,0.0,0.0,0.0,0.0,0.0,0.0,0.0,0.0,0.0],\"xaxis\":\"x\",\"yaxis\":\"y\",\"type\":\"histogram\"}],                        {\"template\":{\"data\":{\"histogram2dcontour\":[{\"type\":\"histogram2dcontour\",\"colorbar\":{\"outlinewidth\":0,\"ticks\":\"\"},\"colorscale\":[[0.0,\"#0d0887\"],[0.1111111111111111,\"#46039f\"],[0.2222222222222222,\"#7201a8\"],[0.3333333333333333,\"#9c179e\"],[0.4444444444444444,\"#bd3786\"],[0.5555555555555556,\"#d8576b\"],[0.6666666666666666,\"#ed7953\"],[0.7777777777777778,\"#fb9f3a\"],[0.8888888888888888,\"#fdca26\"],[1.0,\"#f0f921\"]]}],\"choropleth\":[{\"type\":\"choropleth\",\"colorbar\":{\"outlinewidth\":0,\"ticks\":\"\"}}],\"histogram2d\":[{\"type\":\"histogram2d\",\"colorbar\":{\"outlinewidth\":0,\"ticks\":\"\"},\"colorscale\":[[0.0,\"#0d0887\"],[0.1111111111111111,\"#46039f\"],[0.2222222222222222,\"#7201a8\"],[0.3333333333333333,\"#9c179e\"],[0.4444444444444444,\"#bd3786\"],[0.5555555555555556,\"#d8576b\"],[0.6666666666666666,\"#ed7953\"],[0.7777777777777778,\"#fb9f3a\"],[0.8888888888888888,\"#fdca26\"],[1.0,\"#f0f921\"]]}],\"heatmap\":[{\"type\":\"heatmap\",\"colorbar\":{\"outlinewidth\":0,\"ticks\":\"\"},\"colorscale\":[[0.0,\"#0d0887\"],[0.1111111111111111,\"#46039f\"],[0.2222222222222222,\"#7201a8\"],[0.3333333333333333,\"#9c179e\"],[0.4444444444444444,\"#bd3786\"],[0.5555555555555556,\"#d8576b\"],[0.6666666666666666,\"#ed7953\"],[0.7777777777777778,\"#fb9f3a\"],[0.8888888888888888,\"#fdca26\"],[1.0,\"#f0f921\"]]}],\"heatmapgl\":[{\"type\":\"heatmapgl\",\"colorbar\":{\"outlinewidth\":0,\"ticks\":\"\"},\"colorscale\":[[0.0,\"#0d0887\"],[0.1111111111111111,\"#46039f\"],[0.2222222222222222,\"#7201a8\"],[0.3333333333333333,\"#9c179e\"],[0.4444444444444444,\"#bd3786\"],[0.5555555555555556,\"#d8576b\"],[0.6666666666666666,\"#ed7953\"],[0.7777777777777778,\"#fb9f3a\"],[0.8888888888888888,\"#fdca26\"],[1.0,\"#f0f921\"]]}],\"contourcarpet\":[{\"type\":\"contourcarpet\",\"colorbar\":{\"outlinewidth\":0,\"ticks\":\"\"}}],\"contour\":[{\"type\":\"contour\",\"colorbar\":{\"outlinewidth\":0,\"ticks\":\"\"},\"colorscale\":[[0.0,\"#0d0887\"],[0.1111111111111111,\"#46039f\"],[0.2222222222222222,\"#7201a8\"],[0.3333333333333333,\"#9c179e\"],[0.4444444444444444,\"#bd3786\"],[0.5555555555555556,\"#d8576b\"],[0.6666666666666666,\"#ed7953\"],[0.7777777777777778,\"#fb9f3a\"],[0.8888888888888888,\"#fdca26\"],[1.0,\"#f0f921\"]]}],\"surface\":[{\"type\":\"surface\",\"colorbar\":{\"outlinewidth\":0,\"ticks\":\"\"},\"colorscale\":[[0.0,\"#0d0887\"],[0.1111111111111111,\"#46039f\"],[0.2222222222222222,\"#7201a8\"],[0.3333333333333333,\"#9c179e\"],[0.4444444444444444,\"#bd3786\"],[0.5555555555555556,\"#d8576b\"],[0.6666666666666666,\"#ed7953\"],[0.7777777777777778,\"#fb9f3a\"],[0.8888888888888888,\"#fdca26\"],[1.0,\"#f0f921\"]]}],\"mesh3d\":[{\"type\":\"mesh3d\",\"colorbar\":{\"outlinewidth\":0,\"ticks\":\"\"}}],\"scatter\":[{\"fillpattern\":{\"fillmode\":\"overlay\",\"size\":10,\"solidity\":0.2},\"type\":\"scatter\"}],\"parcoords\":[{\"type\":\"parcoords\",\"line\":{\"colorbar\":{\"outlinewidth\":0,\"ticks\":\"\"}}}],\"scatterpolargl\":[{\"type\":\"scatterpolargl\",\"marker\":{\"colorbar\":{\"outlinewidth\":0,\"ticks\":\"\"}}}],\"bar\":[{\"error_x\":{\"color\":\"#2a3f5f\"},\"error_y\":{\"color\":\"#2a3f5f\"},\"marker\":{\"line\":{\"color\":\"#E5ECF6\",\"width\":0.5},\"pattern\":{\"fillmode\":\"overlay\",\"size\":10,\"solidity\":0.2}},\"type\":\"bar\"}],\"scattergeo\":[{\"type\":\"scattergeo\",\"marker\":{\"colorbar\":{\"outlinewidth\":0,\"ticks\":\"\"}}}],\"scatterpolar\":[{\"type\":\"scatterpolar\",\"marker\":{\"colorbar\":{\"outlinewidth\":0,\"ticks\":\"\"}}}],\"histogram\":[{\"marker\":{\"pattern\":{\"fillmode\":\"overlay\",\"size\":10,\"solidity\":0.2}},\"type\":\"histogram\"}],\"scattergl\":[{\"type\":\"scattergl\",\"marker\":{\"colorbar\":{\"outlinewidth\":0,\"ticks\":\"\"}}}],\"scatter3d\":[{\"type\":\"scatter3d\",\"line\":{\"colorbar\":{\"outlinewidth\":0,\"ticks\":\"\"}},\"marker\":{\"colorbar\":{\"outlinewidth\":0,\"ticks\":\"\"}}}],\"scattermapbox\":[{\"type\":\"scattermapbox\",\"marker\":{\"colorbar\":{\"outlinewidth\":0,\"ticks\":\"\"}}}],\"scatterternary\":[{\"type\":\"scatterternary\",\"marker\":{\"colorbar\":{\"outlinewidth\":0,\"ticks\":\"\"}}}],\"scattercarpet\":[{\"type\":\"scattercarpet\",\"marker\":{\"colorbar\":{\"outlinewidth\":0,\"ticks\":\"\"}}}],\"carpet\":[{\"aaxis\":{\"endlinecolor\":\"#2a3f5f\",\"gridcolor\":\"white\",\"linecolor\":\"white\",\"minorgridcolor\":\"white\",\"startlinecolor\":\"#2a3f5f\"},\"baxis\":{\"endlinecolor\":\"#2a3f5f\",\"gridcolor\":\"white\",\"linecolor\":\"white\",\"minorgridcolor\":\"white\",\"startlinecolor\":\"#2a3f5f\"},\"type\":\"carpet\"}],\"table\":[{\"cells\":{\"fill\":{\"color\":\"#EBF0F8\"},\"line\":{\"color\":\"white\"}},\"header\":{\"fill\":{\"color\":\"#C8D4E3\"},\"line\":{\"color\":\"white\"}},\"type\":\"table\"}],\"barpolar\":[{\"marker\":{\"line\":{\"color\":\"#E5ECF6\",\"width\":0.5},\"pattern\":{\"fillmode\":\"overlay\",\"size\":10,\"solidity\":0.2}},\"type\":\"barpolar\"}],\"pie\":[{\"automargin\":true,\"type\":\"pie\"}]},\"layout\":{\"autotypenumbers\":\"strict\",\"colorway\":[\"#636efa\",\"#EF553B\",\"#00cc96\",\"#ab63fa\",\"#FFA15A\",\"#19d3f3\",\"#FF6692\",\"#B6E880\",\"#FF97FF\",\"#FECB52\"],\"font\":{\"color\":\"#2a3f5f\"},\"hovermode\":\"closest\",\"hoverlabel\":{\"align\":\"left\"},\"paper_bgcolor\":\"white\",\"plot_bgcolor\":\"#E5ECF6\",\"polar\":{\"bgcolor\":\"#E5ECF6\",\"angularaxis\":{\"gridcolor\":\"white\",\"linecolor\":\"white\",\"ticks\":\"\"},\"radialaxis\":{\"gridcolor\":\"white\",\"linecolor\":\"white\",\"ticks\":\"\"}},\"ternary\":{\"bgcolor\":\"#E5ECF6\",\"aaxis\":{\"gridcolor\":\"white\",\"linecolor\":\"white\",\"ticks\":\"\"},\"baxis\":{\"gridcolor\":\"white\",\"linecolor\":\"white\",\"ticks\":\"\"},\"caxis\":{\"gridcolor\":\"white\",\"linecolor\":\"white\",\"ticks\":\"\"}},\"coloraxis\":{\"colorbar\":{\"outlinewidth\":0,\"ticks\":\"\"}},\"colorscale\":{\"sequential\":[[0.0,\"#0d0887\"],[0.1111111111111111,\"#46039f\"],[0.2222222222222222,\"#7201a8\"],[0.3333333333333333,\"#9c179e\"],[0.4444444444444444,\"#bd3786\"],[0.5555555555555556,\"#d8576b\"],[0.6666666666666666,\"#ed7953\"],[0.7777777777777778,\"#fb9f3a\"],[0.8888888888888888,\"#fdca26\"],[1.0,\"#f0f921\"]],\"sequentialminus\":[[0.0,\"#0d0887\"],[0.1111111111111111,\"#46039f\"],[0.2222222222222222,\"#7201a8\"],[0.3333333333333333,\"#9c179e\"],[0.4444444444444444,\"#bd3786\"],[0.5555555555555556,\"#d8576b\"],[0.6666666666666666,\"#ed7953\"],[0.7777777777777778,\"#fb9f3a\"],[0.8888888888888888,\"#fdca26\"],[1.0,\"#f0f921\"]],\"diverging\":[[0,\"#8e0152\"],[0.1,\"#c51b7d\"],[0.2,\"#de77ae\"],[0.3,\"#f1b6da\"],[0.4,\"#fde0ef\"],[0.5,\"#f7f7f7\"],[0.6,\"#e6f5d0\"],[0.7,\"#b8e186\"],[0.8,\"#7fbc41\"],[0.9,\"#4d9221\"],[1,\"#276419\"]]},\"xaxis\":{\"gridcolor\":\"white\",\"linecolor\":\"white\",\"ticks\":\"\",\"title\":{\"standoff\":15},\"zerolinecolor\":\"white\",\"automargin\":true,\"zerolinewidth\":2},\"yaxis\":{\"gridcolor\":\"white\",\"linecolor\":\"white\",\"ticks\":\"\",\"title\":{\"standoff\":15},\"zerolinecolor\":\"white\",\"automargin\":true,\"zerolinewidth\":2},\"scene\":{\"xaxis\":{\"backgroundcolor\":\"#E5ECF6\",\"gridcolor\":\"white\",\"linecolor\":\"white\",\"showbackground\":true,\"ticks\":\"\",\"zerolinecolor\":\"white\",\"gridwidth\":2},\"yaxis\":{\"backgroundcolor\":\"#E5ECF6\",\"gridcolor\":\"white\",\"linecolor\":\"white\",\"showbackground\":true,\"ticks\":\"\",\"zerolinecolor\":\"white\",\"gridwidth\":2},\"zaxis\":{\"backgroundcolor\":\"#E5ECF6\",\"gridcolor\":\"white\",\"linecolor\":\"white\",\"showbackground\":true,\"ticks\":\"\",\"zerolinecolor\":\"white\",\"gridwidth\":2}},\"shapedefaults\":{\"line\":{\"color\":\"#2a3f5f\"}},\"annotationdefaults\":{\"arrowcolor\":\"#2a3f5f\",\"arrowhead\":0,\"arrowwidth\":1},\"geo\":{\"bgcolor\":\"white\",\"landcolor\":\"#E5ECF6\",\"subunitcolor\":\"white\",\"showland\":true,\"showlakes\":true,\"lakecolor\":\"white\"},\"title\":{\"x\":0.05},\"mapbox\":{\"style\":\"light\"}}},\"xaxis\":{\"anchor\":\"y\",\"domain\":[0.0,1.0],\"title\":{\"text\":\"RoomService\"}},\"yaxis\":{\"anchor\":\"x\",\"domain\":[0.0,1.0],\"title\":{\"text\":\"count\"}},\"legend\":{\"title\":{\"text\":\"Transported\"},\"tracegroupgap\":0},\"margin\":{\"t\":60},\"barmode\":\"relative\"},                        {\"responsive\": true}                    ).then(function(){\n",
       "                            \n",
       "var gd = document.getElementById('e8046ff9-f257-4104-bf74-5ca6d7dd3ca4');\n",
       "var x = new MutationObserver(function (mutations, observer) {{\n",
       "        var display = window.getComputedStyle(gd).display;\n",
       "        if (!display || display === 'none') {{\n",
       "            console.log([gd, 'removed!']);\n",
       "            Plotly.purge(gd);\n",
       "            observer.disconnect();\n",
       "        }}\n",
       "}});\n",
       "\n",
       "// Listen for the removal of the full notebook cells\n",
       "var notebookContainer = gd.closest('#notebook-container');\n",
       "if (notebookContainer) {{\n",
       "    x.observe(notebookContainer, {childList: true});\n",
       "}}\n",
       "\n",
       "// Listen for the clearing of the current output cell\n",
       "var outputEl = gd.closest('.output');\n",
       "if (outputEl) {{\n",
       "    x.observe(outputEl, {childList: true});\n",
       "}}\n",
       "\n",
       "                        })                };                });            </script>        </div>"
      ]
     },
     "metadata": {},
     "output_type": "display_data"
    }
   ],
   "source": [
    "px.histogram(data[data['RoomService']<50], x=\"RoomService\",color='Transported')"
   ]
  },
  {
   "cell_type": "markdown",
   "id": "1730eed2",
   "metadata": {
    "papermill": {
     "duration": 0.021315,
     "end_time": "2023-09-04T12:59:24.887766",
     "exception": false,
     "start_time": "2023-09-04T12:59:24.866451",
     "status": "completed"
    },
    "tags": []
   },
   "source": [
    "**For FoodCourt,ShoppingMall,Spa,VRDeck plot is so similar. So i'm going to unite all this feature in one. Which will represent of total amount of money spent on board.**"
   ]
  },
  {
   "cell_type": "markdown",
   "id": "23b30ce9",
   "metadata": {
    "papermill": {
     "duration": 0.021783,
     "end_time": "2023-09-04T12:59:24.931121",
     "exception": false,
     "start_time": "2023-09-04T12:59:24.909338",
     "status": "completed"
    },
    "tags": []
   },
   "source": [
    "# **Missing values**"
   ]
  },
  {
   "cell_type": "code",
   "execution_count": 14,
   "id": "1d0789f3",
   "metadata": {
    "execution": {
     "iopub.execute_input": "2023-09-04T12:59:24.976277Z",
     "iopub.status.busy": "2023-09-04T12:59:24.975841Z",
     "iopub.status.idle": "2023-09-04T12:59:24.993677Z",
     "shell.execute_reply": "2023-09-04T12:59:24.992564Z"
    },
    "papermill": {
     "duration": 0.043275,
     "end_time": "2023-09-04T12:59:24.996087",
     "exception": false,
     "start_time": "2023-09-04T12:59:24.952812",
     "status": "completed"
    },
    "tags": []
   },
   "outputs": [
    {
     "data": {
      "text/plain": [
       "PassengerId       0\n",
       "HomePlanet      201\n",
       "CryoSleep       217\n",
       "Cabin           199\n",
       "Destination     182\n",
       "Age             179\n",
       "VIP             203\n",
       "RoomService     181\n",
       "FoodCourt       183\n",
       "ShoppingMall    208\n",
       "Spa             183\n",
       "VRDeck          188\n",
       "Name            200\n",
       "Transported       0\n",
       "dtype: int64"
      ]
     },
     "execution_count": 14,
     "metadata": {},
     "output_type": "execute_result"
    }
   ],
   "source": [
    "data.isna().sum()"
   ]
  },
  {
   "cell_type": "markdown",
   "id": "3112835d",
   "metadata": {
    "papermill": {
     "duration": 0.02127,
     "end_time": "2023-09-04T12:59:25.041486",
     "exception": false,
     "start_time": "2023-09-04T12:59:25.020216",
     "status": "completed"
    },
    "tags": []
   },
   "source": [
    "**Most of the missing values im going to replace by median(for numeric) or mode(for categorical). For binary cat. features such as VIP or CryoSleep ill use False, what means lack of VIP or CryoSleep**"
   ]
  },
  {
   "cell_type": "code",
   "execution_count": 15,
   "id": "1eb31deb",
   "metadata": {
    "execution": {
     "iopub.execute_input": "2023-09-04T12:59:25.086763Z",
     "iopub.status.busy": "2023-09-04T12:59:25.086323Z",
     "iopub.status.idle": "2023-09-04T12:59:25.130506Z",
     "shell.execute_reply": "2023-09-04T12:59:25.129255Z"
    },
    "papermill": {
     "duration": 0.070254,
     "end_time": "2023-09-04T12:59:25.133463",
     "exception": false,
     "start_time": "2023-09-04T12:59:25.063209",
     "status": "completed"
    },
    "tags": []
   },
   "outputs": [],
   "source": [
    "data[['RoomService','FoodCourt','ShoppingMall','Spa','VRDeck']] = data[['RoomService','FoodCourt','ShoppingMall','Spa','VRDeck']].fillna(0)\n",
    "data['VIP']=data['VIP'].fillna(False)\n",
    "data['Age']=data['Age'].fillna(data['Age'].median())\n",
    "data['Destination']=data['Destination'].fillna(data['Destination'].mode()[0])\n",
    "data['Cabin'] =data['Cabin'].fillna('T/0/S')\n",
    "data['CryoSleep']=data['CryoSleep'].fillna(False)\n",
    "data['HomePlanet']=data['HomePlanet'].fillna(data['HomePlanet'].mode()[0])\n",
    "data.set_index('PassengerId',inplace=True)\n",
    "\n",
    "test\n",
    "test[['RoomService','FoodCourt','ShoppingMall','Spa','VRDeck']] = test[['RoomService','FoodCourt','ShoppingMall','Spa','VRDeck']].fillna(0)\n",
    "test['VIP']=test['VIP'].fillna(False)\n",
    "test['Age']=test['Age'].fillna(test['Age'].median())\n",
    "test['Destination']=test['Destination'].fillna(test['Destination'].mode()[0])\n",
    "test['Cabin'] =test['Cabin'].fillna('T/0/S')\n",
    "test['CryoSleep']=test['CryoSleep'].fillna(False)\n",
    "test['HomePlanet']=test['HomePlanet'].fillna(test['HomePlanet'].mode()[0])\n",
    "test.set_index('PassengerId',inplace=True)"
   ]
  },
  {
   "cell_type": "code",
   "execution_count": 16,
   "id": "55320476",
   "metadata": {
    "execution": {
     "iopub.execute_input": "2023-09-04T12:59:25.181335Z",
     "iopub.status.busy": "2023-09-04T12:59:25.180918Z",
     "iopub.status.idle": "2023-09-04T12:59:25.196906Z",
     "shell.execute_reply": "2023-09-04T12:59:25.195885Z"
    },
    "papermill": {
     "duration": 0.042655,
     "end_time": "2023-09-04T12:59:25.199280",
     "exception": false,
     "start_time": "2023-09-04T12:59:25.156625",
     "status": "completed"
    },
    "tags": []
   },
   "outputs": [
    {
     "data": {
      "text/plain": [
       "HomePlanet        0\n",
       "CryoSleep         0\n",
       "Cabin             0\n",
       "Destination       0\n",
       "Age               0\n",
       "VIP               0\n",
       "RoomService       0\n",
       "FoodCourt         0\n",
       "ShoppingMall      0\n",
       "Spa               0\n",
       "VRDeck            0\n",
       "Name            200\n",
       "Transported       0\n",
       "dtype: int64"
      ]
     },
     "execution_count": 16,
     "metadata": {},
     "output_type": "execute_result"
    }
   ],
   "source": [
    "data.isna().sum()"
   ]
  },
  {
   "cell_type": "code",
   "execution_count": 17,
   "id": "11bb9c9b",
   "metadata": {
    "execution": {
     "iopub.execute_input": "2023-09-04T12:59:25.246136Z",
     "iopub.status.busy": "2023-09-04T12:59:25.245613Z",
     "iopub.status.idle": "2023-09-04T12:59:25.257851Z",
     "shell.execute_reply": "2023-09-04T12:59:25.256906Z"
    },
    "papermill": {
     "duration": 0.038215,
     "end_time": "2023-09-04T12:59:25.260217",
     "exception": false,
     "start_time": "2023-09-04T12:59:25.222002",
     "status": "completed"
    },
    "tags": []
   },
   "outputs": [
    {
     "data": {
      "text/plain": [
       "HomePlanet       0\n",
       "CryoSleep        0\n",
       "Cabin            0\n",
       "Destination      0\n",
       "Age              0\n",
       "VIP              0\n",
       "RoomService      0\n",
       "FoodCourt        0\n",
       "ShoppingMall     0\n",
       "Spa              0\n",
       "VRDeck           0\n",
       "Name            94\n",
       "dtype: int64"
      ]
     },
     "execution_count": 17,
     "metadata": {},
     "output_type": "execute_result"
    }
   ],
   "source": [
    "test.isna().sum()"
   ]
  },
  {
   "cell_type": "markdown",
   "id": "fd5f9376",
   "metadata": {
    "papermill": {
     "duration": 0.022873,
     "end_time": "2023-09-04T12:59:25.305211",
     "exception": false,
     "start_time": "2023-09-04T12:59:25.282338",
     "status": "completed"
    },
    "tags": []
   },
   "source": [
    "**Actually, we dont need names in our prediction. So i going to drop it.**"
   ]
  },
  {
   "cell_type": "code",
   "execution_count": 18,
   "id": "2169c5f8",
   "metadata": {
    "execution": {
     "iopub.execute_input": "2023-09-04T12:59:25.351741Z",
     "iopub.status.busy": "2023-09-04T12:59:25.351309Z",
     "iopub.status.idle": "2023-09-04T12:59:25.376826Z",
     "shell.execute_reply": "2023-09-04T12:59:25.375654Z"
    },
    "papermill": {
     "duration": 0.052284,
     "end_time": "2023-09-04T12:59:25.379873",
     "exception": false,
     "start_time": "2023-09-04T12:59:25.327589",
     "status": "completed"
    },
    "tags": []
   },
   "outputs": [
    {
     "data": {
      "text/html": [
       "<div>\n",
       "<style scoped>\n",
       "    .dataframe tbody tr th:only-of-type {\n",
       "        vertical-align: middle;\n",
       "    }\n",
       "\n",
       "    .dataframe tbody tr th {\n",
       "        vertical-align: top;\n",
       "    }\n",
       "\n",
       "    .dataframe thead th {\n",
       "        text-align: right;\n",
       "    }\n",
       "</style>\n",
       "<table border=\"1\" class=\"dataframe\">\n",
       "  <thead>\n",
       "    <tr style=\"text-align: right;\">\n",
       "      <th></th>\n",
       "      <th>HomePlanet</th>\n",
       "      <th>CryoSleep</th>\n",
       "      <th>Cabin</th>\n",
       "      <th>Destination</th>\n",
       "      <th>Age</th>\n",
       "      <th>VIP</th>\n",
       "      <th>RoomService</th>\n",
       "      <th>FoodCourt</th>\n",
       "      <th>ShoppingMall</th>\n",
       "      <th>Spa</th>\n",
       "      <th>VRDeck</th>\n",
       "      <th>Name</th>\n",
       "      <th>Transported</th>\n",
       "    </tr>\n",
       "    <tr>\n",
       "      <th>PassengerId</th>\n",
       "      <th></th>\n",
       "      <th></th>\n",
       "      <th></th>\n",
       "      <th></th>\n",
       "      <th></th>\n",
       "      <th></th>\n",
       "      <th></th>\n",
       "      <th></th>\n",
       "      <th></th>\n",
       "      <th></th>\n",
       "      <th></th>\n",
       "      <th></th>\n",
       "      <th></th>\n",
       "    </tr>\n",
       "  </thead>\n",
       "  <tbody>\n",
       "    <tr>\n",
       "      <th>0001_01</th>\n",
       "      <td>Europa</td>\n",
       "      <td>False</td>\n",
       "      <td>B/0/P</td>\n",
       "      <td>TRAPPIST-1e</td>\n",
       "      <td>39.0</td>\n",
       "      <td>False</td>\n",
       "      <td>0.0</td>\n",
       "      <td>0.0</td>\n",
       "      <td>0.0</td>\n",
       "      <td>0.0</td>\n",
       "      <td>0.0</td>\n",
       "      <td>Maham Ofracculy</td>\n",
       "      <td>False</td>\n",
       "    </tr>\n",
       "    <tr>\n",
       "      <th>0002_01</th>\n",
       "      <td>Earth</td>\n",
       "      <td>False</td>\n",
       "      <td>F/0/S</td>\n",
       "      <td>TRAPPIST-1e</td>\n",
       "      <td>24.0</td>\n",
       "      <td>False</td>\n",
       "      <td>109.0</td>\n",
       "      <td>9.0</td>\n",
       "      <td>25.0</td>\n",
       "      <td>549.0</td>\n",
       "      <td>44.0</td>\n",
       "      <td>Juanna Vines</td>\n",
       "      <td>True</td>\n",
       "    </tr>\n",
       "    <tr>\n",
       "      <th>0003_01</th>\n",
       "      <td>Europa</td>\n",
       "      <td>False</td>\n",
       "      <td>A/0/S</td>\n",
       "      <td>TRAPPIST-1e</td>\n",
       "      <td>58.0</td>\n",
       "      <td>True</td>\n",
       "      <td>43.0</td>\n",
       "      <td>3576.0</td>\n",
       "      <td>0.0</td>\n",
       "      <td>6715.0</td>\n",
       "      <td>49.0</td>\n",
       "      <td>Altark Susent</td>\n",
       "      <td>False</td>\n",
       "    </tr>\n",
       "    <tr>\n",
       "      <th>0003_02</th>\n",
       "      <td>Europa</td>\n",
       "      <td>False</td>\n",
       "      <td>A/0/S</td>\n",
       "      <td>TRAPPIST-1e</td>\n",
       "      <td>33.0</td>\n",
       "      <td>False</td>\n",
       "      <td>0.0</td>\n",
       "      <td>1283.0</td>\n",
       "      <td>371.0</td>\n",
       "      <td>3329.0</td>\n",
       "      <td>193.0</td>\n",
       "      <td>Solam Susent</td>\n",
       "      <td>False</td>\n",
       "    </tr>\n",
       "    <tr>\n",
       "      <th>0004_01</th>\n",
       "      <td>Earth</td>\n",
       "      <td>False</td>\n",
       "      <td>F/1/S</td>\n",
       "      <td>TRAPPIST-1e</td>\n",
       "      <td>16.0</td>\n",
       "      <td>False</td>\n",
       "      <td>303.0</td>\n",
       "      <td>70.0</td>\n",
       "      <td>151.0</td>\n",
       "      <td>565.0</td>\n",
       "      <td>2.0</td>\n",
       "      <td>Willy Santantines</td>\n",
       "      <td>True</td>\n",
       "    </tr>\n",
       "  </tbody>\n",
       "</table>\n",
       "</div>"
      ],
      "text/plain": [
       "            HomePlanet  CryoSleep  Cabin  Destination   Age    VIP  \\\n",
       "PassengerId                                                          \n",
       "0001_01         Europa      False  B/0/P  TRAPPIST-1e  39.0  False   \n",
       "0002_01          Earth      False  F/0/S  TRAPPIST-1e  24.0  False   \n",
       "0003_01         Europa      False  A/0/S  TRAPPIST-1e  58.0   True   \n",
       "0003_02         Europa      False  A/0/S  TRAPPIST-1e  33.0  False   \n",
       "0004_01          Earth      False  F/1/S  TRAPPIST-1e  16.0  False   \n",
       "\n",
       "             RoomService  FoodCourt  ShoppingMall     Spa  VRDeck  \\\n",
       "PassengerId                                                         \n",
       "0001_01              0.0        0.0           0.0     0.0     0.0   \n",
       "0002_01            109.0        9.0          25.0   549.0    44.0   \n",
       "0003_01             43.0     3576.0           0.0  6715.0    49.0   \n",
       "0003_02              0.0     1283.0         371.0  3329.0   193.0   \n",
       "0004_01            303.0       70.0         151.0   565.0     2.0   \n",
       "\n",
       "                          Name  Transported  \n",
       "PassengerId                                  \n",
       "0001_01        Maham Ofracculy        False  \n",
       "0002_01           Juanna Vines         True  \n",
       "0003_01          Altark Susent        False  \n",
       "0003_02           Solam Susent        False  \n",
       "0004_01      Willy Santantines         True  "
      ]
     },
     "execution_count": 18,
     "metadata": {},
     "output_type": "execute_result"
    }
   ],
   "source": [
    "data.head()"
   ]
  },
  {
   "cell_type": "code",
   "execution_count": 19,
   "id": "62d14b27",
   "metadata": {
    "execution": {
     "iopub.execute_input": "2023-09-04T12:59:25.427521Z",
     "iopub.status.busy": "2023-09-04T12:59:25.427094Z",
     "iopub.status.idle": "2023-09-04T12:59:25.450591Z",
     "shell.execute_reply": "2023-09-04T12:59:25.449122Z"
    },
    "papermill": {
     "duration": 0.050346,
     "end_time": "2023-09-04T12:59:25.453316",
     "exception": false,
     "start_time": "2023-09-04T12:59:25.402970",
     "status": "completed"
    },
    "tags": []
   },
   "outputs": [
    {
     "data": {
      "text/html": [
       "<div>\n",
       "<style scoped>\n",
       "    .dataframe tbody tr th:only-of-type {\n",
       "        vertical-align: middle;\n",
       "    }\n",
       "\n",
       "    .dataframe tbody tr th {\n",
       "        vertical-align: top;\n",
       "    }\n",
       "\n",
       "    .dataframe thead th {\n",
       "        text-align: right;\n",
       "    }\n",
       "</style>\n",
       "<table border=\"1\" class=\"dataframe\">\n",
       "  <thead>\n",
       "    <tr style=\"text-align: right;\">\n",
       "      <th></th>\n",
       "      <th>HomePlanet</th>\n",
       "      <th>CryoSleep</th>\n",
       "      <th>Cabin</th>\n",
       "      <th>Destination</th>\n",
       "      <th>Age</th>\n",
       "      <th>VIP</th>\n",
       "      <th>RoomService</th>\n",
       "      <th>FoodCourt</th>\n",
       "      <th>ShoppingMall</th>\n",
       "      <th>Spa</th>\n",
       "      <th>VRDeck</th>\n",
       "      <th>Name</th>\n",
       "    </tr>\n",
       "    <tr>\n",
       "      <th>PassengerId</th>\n",
       "      <th></th>\n",
       "      <th></th>\n",
       "      <th></th>\n",
       "      <th></th>\n",
       "      <th></th>\n",
       "      <th></th>\n",
       "      <th></th>\n",
       "      <th></th>\n",
       "      <th></th>\n",
       "      <th></th>\n",
       "      <th></th>\n",
       "      <th></th>\n",
       "    </tr>\n",
       "  </thead>\n",
       "  <tbody>\n",
       "    <tr>\n",
       "      <th>0013_01</th>\n",
       "      <td>Earth</td>\n",
       "      <td>True</td>\n",
       "      <td>G/3/S</td>\n",
       "      <td>TRAPPIST-1e</td>\n",
       "      <td>27.0</td>\n",
       "      <td>False</td>\n",
       "      <td>0.0</td>\n",
       "      <td>0.0</td>\n",
       "      <td>0.0</td>\n",
       "      <td>0.0</td>\n",
       "      <td>0.0</td>\n",
       "      <td>Nelly Carsoning</td>\n",
       "    </tr>\n",
       "    <tr>\n",
       "      <th>0018_01</th>\n",
       "      <td>Earth</td>\n",
       "      <td>False</td>\n",
       "      <td>F/4/S</td>\n",
       "      <td>TRAPPIST-1e</td>\n",
       "      <td>19.0</td>\n",
       "      <td>False</td>\n",
       "      <td>0.0</td>\n",
       "      <td>9.0</td>\n",
       "      <td>0.0</td>\n",
       "      <td>2823.0</td>\n",
       "      <td>0.0</td>\n",
       "      <td>Lerome Peckers</td>\n",
       "    </tr>\n",
       "    <tr>\n",
       "      <th>0019_01</th>\n",
       "      <td>Europa</td>\n",
       "      <td>True</td>\n",
       "      <td>C/0/S</td>\n",
       "      <td>55 Cancri e</td>\n",
       "      <td>31.0</td>\n",
       "      <td>False</td>\n",
       "      <td>0.0</td>\n",
       "      <td>0.0</td>\n",
       "      <td>0.0</td>\n",
       "      <td>0.0</td>\n",
       "      <td>0.0</td>\n",
       "      <td>Sabih Unhearfus</td>\n",
       "    </tr>\n",
       "    <tr>\n",
       "      <th>0021_01</th>\n",
       "      <td>Europa</td>\n",
       "      <td>False</td>\n",
       "      <td>C/1/S</td>\n",
       "      <td>TRAPPIST-1e</td>\n",
       "      <td>38.0</td>\n",
       "      <td>False</td>\n",
       "      <td>0.0</td>\n",
       "      <td>6652.0</td>\n",
       "      <td>0.0</td>\n",
       "      <td>181.0</td>\n",
       "      <td>585.0</td>\n",
       "      <td>Meratz Caltilter</td>\n",
       "    </tr>\n",
       "    <tr>\n",
       "      <th>0023_01</th>\n",
       "      <td>Earth</td>\n",
       "      <td>False</td>\n",
       "      <td>F/5/S</td>\n",
       "      <td>TRAPPIST-1e</td>\n",
       "      <td>20.0</td>\n",
       "      <td>False</td>\n",
       "      <td>10.0</td>\n",
       "      <td>0.0</td>\n",
       "      <td>635.0</td>\n",
       "      <td>0.0</td>\n",
       "      <td>0.0</td>\n",
       "      <td>Brence Harperez</td>\n",
       "    </tr>\n",
       "  </tbody>\n",
       "</table>\n",
       "</div>"
      ],
      "text/plain": [
       "            HomePlanet  CryoSleep  Cabin  Destination   Age    VIP  \\\n",
       "PassengerId                                                          \n",
       "0013_01          Earth       True  G/3/S  TRAPPIST-1e  27.0  False   \n",
       "0018_01          Earth      False  F/4/S  TRAPPIST-1e  19.0  False   \n",
       "0019_01         Europa       True  C/0/S  55 Cancri e  31.0  False   \n",
       "0021_01         Europa      False  C/1/S  TRAPPIST-1e  38.0  False   \n",
       "0023_01          Earth      False  F/5/S  TRAPPIST-1e  20.0  False   \n",
       "\n",
       "             RoomService  FoodCourt  ShoppingMall     Spa  VRDeck  \\\n",
       "PassengerId                                                         \n",
       "0013_01              0.0        0.0           0.0     0.0     0.0   \n",
       "0018_01              0.0        9.0           0.0  2823.0     0.0   \n",
       "0019_01              0.0        0.0           0.0     0.0     0.0   \n",
       "0021_01              0.0     6652.0           0.0   181.0   585.0   \n",
       "0023_01             10.0        0.0         635.0     0.0     0.0   \n",
       "\n",
       "                         Name  \n",
       "PassengerId                    \n",
       "0013_01       Nelly Carsoning  \n",
       "0018_01        Lerome Peckers  \n",
       "0019_01       Sabih Unhearfus  \n",
       "0021_01      Meratz Caltilter  \n",
       "0023_01       Brence Harperez  "
      ]
     },
     "execution_count": 19,
     "metadata": {},
     "output_type": "execute_result"
    }
   ],
   "source": [
    "test.head()"
   ]
  },
  {
   "cell_type": "markdown",
   "id": "4d12cf65",
   "metadata": {
    "papermill": {
     "duration": 0.022548,
     "end_time": "2023-09-04T12:59:25.498877",
     "exception": false,
     "start_time": "2023-09-04T12:59:25.476329",
     "status": "completed"
    },
    "tags": []
   },
   "source": [
    "# **Feature engineering**"
   ]
  },
  {
   "cell_type": "markdown",
   "id": "1839118a",
   "metadata": {
    "papermill": {
     "duration": 0.022391,
     "end_time": "2023-09-04T12:59:25.544305",
     "exception": false,
     "start_time": "2023-09-04T12:59:25.521914",
     "status": "completed"
    },
    "tags": []
   },
   "source": [
    "1. Here i'll split Cabin feature into 3 different features, which represents Cabin deck, number of room, and side of the room on the deck.\n",
    "2. I'm going to transform Age feature to the 4 categories (0-20,21-40,41-60,61-80) to represent age category, cause I don't think we need an exact number. \n",
    "3. Making sum of the service features."
   ]
  },
  {
   "cell_type": "code",
   "execution_count": 20,
   "id": "4a84414d",
   "metadata": {
    "execution": {
     "iopub.execute_input": "2023-09-04T12:59:25.592787Z",
     "iopub.status.busy": "2023-09-04T12:59:25.592062Z",
     "iopub.status.idle": "2023-09-04T12:59:25.644222Z",
     "shell.execute_reply": "2023-09-04T12:59:25.643227Z"
    },
    "papermill": {
     "duration": 0.079887,
     "end_time": "2023-09-04T12:59:25.647015",
     "exception": false,
     "start_time": "2023-09-04T12:59:25.567128",
     "status": "completed"
    },
    "tags": []
   },
   "outputs": [],
   "source": [
    "\n",
    "data[['Cabin_deck','Cabin_num','Cabin_side']]=data.Cabin.str.split('/',expand=True)\n",
    "data['Total_spend']=data['RoomService']+data['FoodCourt']+data['ShoppingMall']+data['Spa']+data['VRDeck']\n",
    "data=data.drop(['RoomService','FoodCourt','ShoppingMall','Spa','VRDeck','Cabin','Name'],axis=1)\n",
    "\n",
    "# ------------------------------------------------------\n",
    "\n",
    "test[['Cabin_deck','Cabin_num','Cabin_side']]=test.Cabin.str.split('/',expand=True)\n",
    "test['Total_spend']=test['RoomService']+test['FoodCourt']+test['ShoppingMall']+test['Spa']+test['VRDeck']\n",
    "test=test.drop(['RoomService','FoodCourt','ShoppingMall','Spa','VRDeck','Cabin','Name'],axis=1)\n",
    "\n"
   ]
  },
  {
   "cell_type": "markdown",
   "id": "1cfbd883",
   "metadata": {
    "papermill": {
     "duration": 0.022529,
     "end_time": "2023-09-04T12:59:25.692379",
     "exception": false,
     "start_time": "2023-09-04T12:59:25.669850",
     "status": "completed"
    },
    "tags": []
   },
   "source": [
    "Transforming categorical data into numeric by Binarizing or OneHot "
   ]
  },
  {
   "cell_type": "code",
   "execution_count": 21,
   "id": "9557d552",
   "metadata": {
    "execution": {
     "iopub.execute_input": "2023-09-04T12:59:25.741032Z",
     "iopub.status.busy": "2023-09-04T12:59:25.740231Z",
     "iopub.status.idle": "2023-09-04T12:59:25.967925Z",
     "shell.execute_reply": "2023-09-04T12:59:25.966904Z"
    },
    "papermill": {
     "duration": 0.255121,
     "end_time": "2023-09-04T12:59:25.970921",
     "exception": false,
     "start_time": "2023-09-04T12:59:25.715800",
     "status": "completed"
    },
    "tags": []
   },
   "outputs": [],
   "source": [
    "from sklearn.preprocessing import LabelEncoder\n",
    "\n",
    "data[['CryoSleep','VIP','Transported','Cabin_side']]=data[['CryoSleep','VIP','Transported','Cabin_side']].apply(LabelEncoder().fit_transform)\n",
    "OHE=pd.get_dummies(data[['HomePlanet','Destination','Cabin_deck']])\n",
    "data_y=data['Transported']\n",
    "data=pd.concat([data, OHE], axis=1).drop(['HomePlanet','Destination','Cabin_deck','Transported'],axis=1)\n",
    "data=data.drop('Cabin_num', axis=1)\n",
    "data2=data.copy()\n",
    "for i in range(4):\n",
    "    data2.loc[(data2.Age >= 20*i) & (data2.Age < 20*(i+1)), 'AgeGroup'] = i\n",
    "data2=data2.drop('Age', axis=1)\n",
    "data3=pd.get_dummies(data2,columns=['AgeGroup'])\n",
    "\n",
    "\n",
    "\n",
    "# ----------------------------------------------------------------------------\n",
    "\n",
    "\n",
    "test[['CryoSleep','VIP','Cabin_side']]=test[['CryoSleep','VIP','Cabin_side']].apply(LabelEncoder().fit_transform)\n",
    "OHE=pd.get_dummies(test[['HomePlanet','Destination','Cabin_deck']])\n",
    "test=pd.concat([test, OHE], axis=1).drop(['HomePlanet','Destination','Cabin_deck'],axis=1)\n",
    "test=test.drop('Cabin_num', axis=1)\n",
    "test2=test.copy()\n",
    "for i in range(4):\n",
    "    test2.loc[(test2.Age >= 20*i) & (test2.Age < 20*(i+1)), 'AgeGroup'] = i\n",
    "test2=test2.drop('Age', axis=1)\n",
    "test3=pd.get_dummies(test2,columns=['AgeGroup'])\n"
   ]
  },
  {
   "cell_type": "markdown",
   "id": "62507866",
   "metadata": {
    "papermill": {
     "duration": 0.024187,
     "end_time": "2023-09-04T12:59:26.018337",
     "exception": false,
     "start_time": "2023-09-04T12:59:25.994150",
     "status": "completed"
    },
    "tags": []
   },
   "source": [
    "I created 3 different interpretation of age in dataset. First, age is a number. Second as a AgeGroup(20 years each) from 1-5. Third AgeGroup but OneHotEncoded.\n",
    "Second performed the best in modeling."
   ]
  },
  {
   "cell_type": "code",
   "execution_count": 22,
   "id": "865cf18c",
   "metadata": {
    "execution": {
     "iopub.execute_input": "2023-09-04T12:59:26.066817Z",
     "iopub.status.busy": "2023-09-04T12:59:26.066360Z",
     "iopub.status.idle": "2023-09-04T12:59:26.075368Z",
     "shell.execute_reply": "2023-09-04T12:59:26.074417Z"
    },
    "papermill": {
     "duration": 0.035897,
     "end_time": "2023-09-04T12:59:26.077649",
     "exception": false,
     "start_time": "2023-09-04T12:59:26.041752",
     "status": "completed"
    },
    "tags": []
   },
   "outputs": [
    {
     "data": {
      "text/plain": [
       "CryoSleep                      int64\n",
       "VIP                            int64\n",
       "Cabin_side                     int64\n",
       "Total_spend                  float64\n",
       "HomePlanet_Earth               uint8\n",
       "HomePlanet_Europa              uint8\n",
       "HomePlanet_Mars                uint8\n",
       "Destination_55 Cancri e        uint8\n",
       "Destination_PSO J318.5-22      uint8\n",
       "Destination_TRAPPIST-1e        uint8\n",
       "Cabin_deck_A                   uint8\n",
       "Cabin_deck_B                   uint8\n",
       "Cabin_deck_C                   uint8\n",
       "Cabin_deck_D                   uint8\n",
       "Cabin_deck_E                   uint8\n",
       "Cabin_deck_F                   uint8\n",
       "Cabin_deck_G                   uint8\n",
       "Cabin_deck_T                   uint8\n",
       "AgeGroup                     float64\n",
       "dtype: object"
      ]
     },
     "execution_count": 22,
     "metadata": {},
     "output_type": "execute_result"
    }
   ],
   "source": [
    "data2.dtypes"
   ]
  },
  {
   "cell_type": "code",
   "execution_count": 23,
   "id": "94fb439e",
   "metadata": {
    "execution": {
     "iopub.execute_input": "2023-09-04T12:59:26.126538Z",
     "iopub.status.busy": "2023-09-04T12:59:26.125891Z",
     "iopub.status.idle": "2023-09-04T12:59:26.145334Z",
     "shell.execute_reply": "2023-09-04T12:59:26.144431Z"
    },
    "papermill": {
     "duration": 0.046764,
     "end_time": "2023-09-04T12:59:26.147704",
     "exception": false,
     "start_time": "2023-09-04T12:59:26.100940",
     "status": "completed"
    },
    "tags": []
   },
   "outputs": [
    {
     "data": {
      "text/html": [
       "<div>\n",
       "<style scoped>\n",
       "    .dataframe tbody tr th:only-of-type {\n",
       "        vertical-align: middle;\n",
       "    }\n",
       "\n",
       "    .dataframe tbody tr th {\n",
       "        vertical-align: top;\n",
       "    }\n",
       "\n",
       "    .dataframe thead th {\n",
       "        text-align: right;\n",
       "    }\n",
       "</style>\n",
       "<table border=\"1\" class=\"dataframe\">\n",
       "  <thead>\n",
       "    <tr style=\"text-align: right;\">\n",
       "      <th></th>\n",
       "      <th>CryoSleep</th>\n",
       "      <th>VIP</th>\n",
       "      <th>Cabin_side</th>\n",
       "      <th>Total_spend</th>\n",
       "      <th>HomePlanet_Earth</th>\n",
       "      <th>HomePlanet_Europa</th>\n",
       "      <th>HomePlanet_Mars</th>\n",
       "      <th>Destination_55 Cancri e</th>\n",
       "      <th>Destination_PSO J318.5-22</th>\n",
       "      <th>Destination_TRAPPIST-1e</th>\n",
       "      <th>Cabin_deck_A</th>\n",
       "      <th>Cabin_deck_B</th>\n",
       "      <th>Cabin_deck_C</th>\n",
       "      <th>Cabin_deck_D</th>\n",
       "      <th>Cabin_deck_E</th>\n",
       "      <th>Cabin_deck_F</th>\n",
       "      <th>Cabin_deck_G</th>\n",
       "      <th>Cabin_deck_T</th>\n",
       "      <th>AgeGroup</th>\n",
       "    </tr>\n",
       "    <tr>\n",
       "      <th>PassengerId</th>\n",
       "      <th></th>\n",
       "      <th></th>\n",
       "      <th></th>\n",
       "      <th></th>\n",
       "      <th></th>\n",
       "      <th></th>\n",
       "      <th></th>\n",
       "      <th></th>\n",
       "      <th></th>\n",
       "      <th></th>\n",
       "      <th></th>\n",
       "      <th></th>\n",
       "      <th></th>\n",
       "      <th></th>\n",
       "      <th></th>\n",
       "      <th></th>\n",
       "      <th></th>\n",
       "      <th></th>\n",
       "      <th></th>\n",
       "    </tr>\n",
       "  </thead>\n",
       "  <tbody>\n",
       "    <tr>\n",
       "      <th>0001_01</th>\n",
       "      <td>0</td>\n",
       "      <td>0</td>\n",
       "      <td>0</td>\n",
       "      <td>0.0</td>\n",
       "      <td>0</td>\n",
       "      <td>1</td>\n",
       "      <td>0</td>\n",
       "      <td>0</td>\n",
       "      <td>0</td>\n",
       "      <td>1</td>\n",
       "      <td>0</td>\n",
       "      <td>1</td>\n",
       "      <td>0</td>\n",
       "      <td>0</td>\n",
       "      <td>0</td>\n",
       "      <td>0</td>\n",
       "      <td>0</td>\n",
       "      <td>0</td>\n",
       "      <td>1.0</td>\n",
       "    </tr>\n",
       "    <tr>\n",
       "      <th>0002_01</th>\n",
       "      <td>0</td>\n",
       "      <td>0</td>\n",
       "      <td>1</td>\n",
       "      <td>736.0</td>\n",
       "      <td>1</td>\n",
       "      <td>0</td>\n",
       "      <td>0</td>\n",
       "      <td>0</td>\n",
       "      <td>0</td>\n",
       "      <td>1</td>\n",
       "      <td>0</td>\n",
       "      <td>0</td>\n",
       "      <td>0</td>\n",
       "      <td>0</td>\n",
       "      <td>0</td>\n",
       "      <td>1</td>\n",
       "      <td>0</td>\n",
       "      <td>0</td>\n",
       "      <td>1.0</td>\n",
       "    </tr>\n",
       "    <tr>\n",
       "      <th>0003_01</th>\n",
       "      <td>0</td>\n",
       "      <td>1</td>\n",
       "      <td>1</td>\n",
       "      <td>10383.0</td>\n",
       "      <td>0</td>\n",
       "      <td>1</td>\n",
       "      <td>0</td>\n",
       "      <td>0</td>\n",
       "      <td>0</td>\n",
       "      <td>1</td>\n",
       "      <td>1</td>\n",
       "      <td>0</td>\n",
       "      <td>0</td>\n",
       "      <td>0</td>\n",
       "      <td>0</td>\n",
       "      <td>0</td>\n",
       "      <td>0</td>\n",
       "      <td>0</td>\n",
       "      <td>2.0</td>\n",
       "    </tr>\n",
       "    <tr>\n",
       "      <th>0003_02</th>\n",
       "      <td>0</td>\n",
       "      <td>0</td>\n",
       "      <td>1</td>\n",
       "      <td>5176.0</td>\n",
       "      <td>0</td>\n",
       "      <td>1</td>\n",
       "      <td>0</td>\n",
       "      <td>0</td>\n",
       "      <td>0</td>\n",
       "      <td>1</td>\n",
       "      <td>1</td>\n",
       "      <td>0</td>\n",
       "      <td>0</td>\n",
       "      <td>0</td>\n",
       "      <td>0</td>\n",
       "      <td>0</td>\n",
       "      <td>0</td>\n",
       "      <td>0</td>\n",
       "      <td>1.0</td>\n",
       "    </tr>\n",
       "    <tr>\n",
       "      <th>0004_01</th>\n",
       "      <td>0</td>\n",
       "      <td>0</td>\n",
       "      <td>1</td>\n",
       "      <td>1091.0</td>\n",
       "      <td>1</td>\n",
       "      <td>0</td>\n",
       "      <td>0</td>\n",
       "      <td>0</td>\n",
       "      <td>0</td>\n",
       "      <td>1</td>\n",
       "      <td>0</td>\n",
       "      <td>0</td>\n",
       "      <td>0</td>\n",
       "      <td>0</td>\n",
       "      <td>0</td>\n",
       "      <td>1</td>\n",
       "      <td>0</td>\n",
       "      <td>0</td>\n",
       "      <td>0.0</td>\n",
       "    </tr>\n",
       "  </tbody>\n",
       "</table>\n",
       "</div>"
      ],
      "text/plain": [
       "             CryoSleep  VIP  Cabin_side  Total_spend  HomePlanet_Earth  \\\n",
       "PassengerId                                                              \n",
       "0001_01              0    0           0          0.0                 0   \n",
       "0002_01              0    0           1        736.0                 1   \n",
       "0003_01              0    1           1      10383.0                 0   \n",
       "0003_02              0    0           1       5176.0                 0   \n",
       "0004_01              0    0           1       1091.0                 1   \n",
       "\n",
       "             HomePlanet_Europa  HomePlanet_Mars  Destination_55 Cancri e  \\\n",
       "PassengerId                                                                \n",
       "0001_01                      1                0                        0   \n",
       "0002_01                      0                0                        0   \n",
       "0003_01                      1                0                        0   \n",
       "0003_02                      1                0                        0   \n",
       "0004_01                      0                0                        0   \n",
       "\n",
       "             Destination_PSO J318.5-22  Destination_TRAPPIST-1e  Cabin_deck_A  \\\n",
       "PassengerId                                                                     \n",
       "0001_01                              0                        1             0   \n",
       "0002_01                              0                        1             0   \n",
       "0003_01                              0                        1             1   \n",
       "0003_02                              0                        1             1   \n",
       "0004_01                              0                        1             0   \n",
       "\n",
       "             Cabin_deck_B  Cabin_deck_C  Cabin_deck_D  Cabin_deck_E  \\\n",
       "PassengerId                                                           \n",
       "0001_01                 1             0             0             0   \n",
       "0002_01                 0             0             0             0   \n",
       "0003_01                 0             0             0             0   \n",
       "0003_02                 0             0             0             0   \n",
       "0004_01                 0             0             0             0   \n",
       "\n",
       "             Cabin_deck_F  Cabin_deck_G  Cabin_deck_T  AgeGroup  \n",
       "PassengerId                                                      \n",
       "0001_01                 0             0             0       1.0  \n",
       "0002_01                 1             0             0       1.0  \n",
       "0003_01                 0             0             0       2.0  \n",
       "0003_02                 0             0             0       1.0  \n",
       "0004_01                 1             0             0       0.0  "
      ]
     },
     "execution_count": 23,
     "metadata": {},
     "output_type": "execute_result"
    }
   ],
   "source": [
    "data2.head()"
   ]
  },
  {
   "cell_type": "markdown",
   "id": "e73badba",
   "metadata": {
    "papermill": {
     "duration": 0.023586,
     "end_time": "2023-09-04T12:59:26.196125",
     "exception": false,
     "start_time": "2023-09-04T12:59:26.172539",
     "status": "completed"
    },
    "tags": []
   },
   "source": [
    "# **Models**"
   ]
  },
  {
   "cell_type": "code",
   "execution_count": 24,
   "id": "1c056399",
   "metadata": {
    "execution": {
     "iopub.execute_input": "2023-09-04T12:59:26.246066Z",
     "iopub.status.busy": "2023-09-04T12:59:26.245604Z",
     "iopub.status.idle": "2023-09-04T12:59:26.320742Z",
     "shell.execute_reply": "2023-09-04T12:59:26.319756Z"
    },
    "papermill": {
     "duration": 0.103476,
     "end_time": "2023-09-04T12:59:26.323487",
     "exception": false,
     "start_time": "2023-09-04T12:59:26.220011",
     "status": "completed"
    },
    "tags": []
   },
   "outputs": [],
   "source": [
    "from sklearn.model_selection import train_test_split\n",
    "X_train, X_val, y_train, y_val = train_test_split(data2, data_y, test_size=0.2,random_state=13)"
   ]
  },
  {
   "cell_type": "code",
   "execution_count": 25,
   "id": "98511683",
   "metadata": {
    "execution": {
     "iopub.execute_input": "2023-09-04T12:59:26.375825Z",
     "iopub.status.busy": "2023-09-04T12:59:26.374592Z",
     "iopub.status.idle": "2023-09-04T13:00:05.839984Z",
     "shell.execute_reply": "2023-09-04T13:00:05.838535Z"
    },
    "papermill": {
     "duration": 39.494529,
     "end_time": "2023-09-04T13:00:05.843054",
     "exception": false,
     "start_time": "2023-09-04T12:59:26.348525",
     "status": "completed"
    },
    "tags": []
   },
   "outputs": [
    {
     "name": "stdout",
     "output_type": "stream",
     "text": [
      "Collecting lazypredict\r\n",
      "  Downloading lazypredict-0.2.12-py2.py3-none-any.whl (12 kB)\r\n",
      "Requirement already satisfied: xgboost in /opt/conda/lib/python3.7/site-packages (from lazypredict) (1.6.2)\r\n",
      "Requirement already satisfied: click in /opt/conda/lib/python3.7/site-packages (from lazypredict) (8.1.3)\r\n",
      "Requirement already satisfied: lightgbm in /opt/conda/lib/python3.7/site-packages (from lazypredict) (3.3.2)\r\n",
      "Requirement already satisfied: tqdm in /opt/conda/lib/python3.7/site-packages (from lazypredict) (4.64.0)\r\n",
      "Requirement already satisfied: pandas in /opt/conda/lib/python3.7/site-packages (from lazypredict) (1.3.5)\r\n",
      "Requirement already satisfied: scikit-learn in /opt/conda/lib/python3.7/site-packages (from lazypredict) (1.0.2)\r\n",
      "Requirement already satisfied: joblib in /opt/conda/lib/python3.7/site-packages (from lazypredict) (1.0.1)\r\n",
      "Requirement already satisfied: importlib-metadata in /opt/conda/lib/python3.7/site-packages (from click->lazypredict) (6.0.0)\r\n",
      "Requirement already satisfied: numpy in /opt/conda/lib/python3.7/site-packages (from lightgbm->lazypredict) (1.21.6)\r\n",
      "Requirement already satisfied: scipy in /opt/conda/lib/python3.7/site-packages (from lightgbm->lazypredict) (1.7.3)\r\n",
      "Requirement already satisfied: wheel in /opt/conda/lib/python3.7/site-packages (from lightgbm->lazypredict) (0.37.1)\r\n",
      "Requirement already satisfied: threadpoolctl>=2.0.0 in /opt/conda/lib/python3.7/site-packages (from scikit-learn->lazypredict) (3.1.0)\r\n",
      "Requirement already satisfied: python-dateutil>=2.7.3 in /opt/conda/lib/python3.7/site-packages (from pandas->lazypredict) (2.8.2)\r\n",
      "Requirement already satisfied: pytz>=2017.3 in /opt/conda/lib/python3.7/site-packages (from pandas->lazypredict) (2022.1)\r\n",
      "Requirement already satisfied: six>=1.5 in /opt/conda/lib/python3.7/site-packages (from python-dateutil>=2.7.3->pandas->lazypredict) (1.15.0)\r\n",
      "Requirement already satisfied: typing-extensions>=3.6.4 in /opt/conda/lib/python3.7/site-packages (from importlib-metadata->click->lazypredict) (4.1.1)\r\n",
      "Requirement already satisfied: zipp>=0.5 in /opt/conda/lib/python3.7/site-packages (from importlib-metadata->click->lazypredict) (3.8.0)\r\n",
      "Installing collected packages: lazypredict\r\n",
      "Successfully installed lazypredict-0.2.12\r\n",
      "\u001b[33mWARNING: Running pip as the 'root' user can result in broken permissions and conflicting behaviour with the system package manager. It is recommended to use a virtual environment instead: https://pip.pypa.io/warnings/venv\u001b[0m\u001b[33m\r\n",
      "\u001b[0m"
     ]
    },
    {
     "data": {
      "text/html": [
       "<style type='text/css'>\n",
       ".datatable table.frame { margin-bottom: 0; }\n",
       ".datatable table.frame thead { border-bottom: none; }\n",
       ".datatable table.frame tr.coltypes td {  color: #FFFFFF;  line-height: 6px;  padding: 0 0.5em;}\n",
       ".datatable .bool    { background: #DDDD99; }\n",
       ".datatable .object  { background: #565656; }\n",
       ".datatable .int     { background: #5D9E5D; }\n",
       ".datatable .float   { background: #4040CC; }\n",
       ".datatable .str     { background: #CC4040; }\n",
       ".datatable .time    { background: #40CC40; }\n",
       ".datatable .row_index {  background: var(--jp-border-color3);  border-right: 1px solid var(--jp-border-color0);  color: var(--jp-ui-font-color3);  font-size: 9px;}\n",
       ".datatable .frame tbody td { text-align: left; }\n",
       ".datatable .frame tr.coltypes .row_index {  background: var(--jp-border-color0);}\n",
       ".datatable th:nth-child(2) { padding-left: 12px; }\n",
       ".datatable .hellipsis {  color: var(--jp-cell-editor-border-color);}\n",
       ".datatable .vellipsis {  background: var(--jp-layout-color0);  color: var(--jp-cell-editor-border-color);}\n",
       ".datatable .na {  color: var(--jp-cell-editor-border-color);  font-size: 80%;}\n",
       ".datatable .sp {  opacity: 0.25;}\n",
       ".datatable .footer { font-size: 9px; }\n",
       ".datatable .frame_dimensions {  background: var(--jp-border-color3);  border-top: 1px solid var(--jp-border-color0);  color: var(--jp-ui-font-color3);  display: inline-block;  opacity: 0.6;  padding: 1px 10px 1px 5px;}\n",
       "</style>\n"
      ],
      "text/plain": [
       "<IPython.core.display.HTML object>"
      ]
     },
     "metadata": {},
     "output_type": "display_data"
    },
    {
     "name": "stderr",
     "output_type": "stream",
     "text": [
      "100%|██████████| 29/29 [00:22<00:00,  1.29it/s]\n"
     ]
    },
    {
     "data": {
      "text/html": [
       "<div>\n",
       "<style scoped>\n",
       "    .dataframe tbody tr th:only-of-type {\n",
       "        vertical-align: middle;\n",
       "    }\n",
       "\n",
       "    .dataframe tbody tr th {\n",
       "        vertical-align: top;\n",
       "    }\n",
       "\n",
       "    .dataframe thead th {\n",
       "        text-align: right;\n",
       "    }\n",
       "</style>\n",
       "<table border=\"1\" class=\"dataframe\">\n",
       "  <thead>\n",
       "    <tr style=\"text-align: right;\">\n",
       "      <th></th>\n",
       "      <th>Accuracy</th>\n",
       "      <th>Balanced Accuracy</th>\n",
       "      <th>ROC AUC</th>\n",
       "      <th>F1 Score</th>\n",
       "      <th>Time Taken</th>\n",
       "    </tr>\n",
       "    <tr>\n",
       "      <th>Model</th>\n",
       "      <th></th>\n",
       "      <th></th>\n",
       "      <th></th>\n",
       "      <th></th>\n",
       "      <th></th>\n",
       "    </tr>\n",
       "  </thead>\n",
       "  <tbody>\n",
       "    <tr>\n",
       "      <th>LGBMClassifier</th>\n",
       "      <td>0.75</td>\n",
       "      <td>0.75</td>\n",
       "      <td>0.75</td>\n",
       "      <td>0.75</td>\n",
       "      <td>0.20</td>\n",
       "    </tr>\n",
       "    <tr>\n",
       "      <th>XGBClassifier</th>\n",
       "      <td>0.75</td>\n",
       "      <td>0.75</td>\n",
       "      <td>0.75</td>\n",
       "      <td>0.75</td>\n",
       "      <td>0.86</td>\n",
       "    </tr>\n",
       "    <tr>\n",
       "      <th>SVC</th>\n",
       "      <td>0.74</td>\n",
       "      <td>0.74</td>\n",
       "      <td>0.74</td>\n",
       "      <td>0.74</td>\n",
       "      <td>2.81</td>\n",
       "    </tr>\n",
       "    <tr>\n",
       "      <th>NuSVC</th>\n",
       "      <td>0.74</td>\n",
       "      <td>0.74</td>\n",
       "      <td>0.74</td>\n",
       "      <td>0.74</td>\n",
       "      <td>4.09</td>\n",
       "    </tr>\n",
       "    <tr>\n",
       "      <th>AdaBoostClassifier</th>\n",
       "      <td>0.74</td>\n",
       "      <td>0.74</td>\n",
       "      <td>0.74</td>\n",
       "      <td>0.74</td>\n",
       "      <td>0.33</td>\n",
       "    </tr>\n",
       "    <tr>\n",
       "      <th>RidgeClassifier</th>\n",
       "      <td>0.73</td>\n",
       "      <td>0.73</td>\n",
       "      <td>0.73</td>\n",
       "      <td>0.73</td>\n",
       "      <td>0.04</td>\n",
       "    </tr>\n",
       "    <tr>\n",
       "      <th>LinearDiscriminantAnalysis</th>\n",
       "      <td>0.73</td>\n",
       "      <td>0.73</td>\n",
       "      <td>0.73</td>\n",
       "      <td>0.73</td>\n",
       "      <td>0.13</td>\n",
       "    </tr>\n",
       "    <tr>\n",
       "      <th>RidgeClassifierCV</th>\n",
       "      <td>0.73</td>\n",
       "      <td>0.73</td>\n",
       "      <td>0.73</td>\n",
       "      <td>0.73</td>\n",
       "      <td>0.08</td>\n",
       "    </tr>\n",
       "    <tr>\n",
       "      <th>LinearSVC</th>\n",
       "      <td>0.72</td>\n",
       "      <td>0.72</td>\n",
       "      <td>0.72</td>\n",
       "      <td>0.72</td>\n",
       "      <td>0.89</td>\n",
       "    </tr>\n",
       "    <tr>\n",
       "      <th>CalibratedClassifierCV</th>\n",
       "      <td>0.72</td>\n",
       "      <td>0.72</td>\n",
       "      <td>0.72</td>\n",
       "      <td>0.72</td>\n",
       "      <td>3.45</td>\n",
       "    </tr>\n",
       "    <tr>\n",
       "      <th>LabelSpreading</th>\n",
       "      <td>0.72</td>\n",
       "      <td>0.72</td>\n",
       "      <td>0.72</td>\n",
       "      <td>0.72</td>\n",
       "      <td>3.83</td>\n",
       "    </tr>\n",
       "    <tr>\n",
       "      <th>BernoulliNB</th>\n",
       "      <td>0.72</td>\n",
       "      <td>0.72</td>\n",
       "      <td>0.72</td>\n",
       "      <td>0.72</td>\n",
       "      <td>0.04</td>\n",
       "    </tr>\n",
       "    <tr>\n",
       "      <th>LabelPropagation</th>\n",
       "      <td>0.72</td>\n",
       "      <td>0.72</td>\n",
       "      <td>0.72</td>\n",
       "      <td>0.72</td>\n",
       "      <td>2.66</td>\n",
       "    </tr>\n",
       "    <tr>\n",
       "      <th>LogisticRegression</th>\n",
       "      <td>0.72</td>\n",
       "      <td>0.72</td>\n",
       "      <td>0.72</td>\n",
       "      <td>0.72</td>\n",
       "      <td>0.10</td>\n",
       "    </tr>\n",
       "    <tr>\n",
       "      <th>BaggingClassifier</th>\n",
       "      <td>0.72</td>\n",
       "      <td>0.72</td>\n",
       "      <td>0.72</td>\n",
       "      <td>0.72</td>\n",
       "      <td>0.18</td>\n",
       "    </tr>\n",
       "    <tr>\n",
       "      <th>SGDClassifier</th>\n",
       "      <td>0.72</td>\n",
       "      <td>0.71</td>\n",
       "      <td>0.71</td>\n",
       "      <td>0.71</td>\n",
       "      <td>0.16</td>\n",
       "    </tr>\n",
       "    <tr>\n",
       "      <th>KNeighborsClassifier</th>\n",
       "      <td>0.71</td>\n",
       "      <td>0.71</td>\n",
       "      <td>0.71</td>\n",
       "      <td>0.71</td>\n",
       "      <td>0.42</td>\n",
       "    </tr>\n",
       "    <tr>\n",
       "      <th>DecisionTreeClassifier</th>\n",
       "      <td>0.71</td>\n",
       "      <td>0.71</td>\n",
       "      <td>0.71</td>\n",
       "      <td>0.71</td>\n",
       "      <td>0.08</td>\n",
       "    </tr>\n",
       "    <tr>\n",
       "      <th>NearestCentroid</th>\n",
       "      <td>0.71</td>\n",
       "      <td>0.71</td>\n",
       "      <td>0.71</td>\n",
       "      <td>0.71</td>\n",
       "      <td>0.04</td>\n",
       "    </tr>\n",
       "    <tr>\n",
       "      <th>GaussianNB</th>\n",
       "      <td>0.71</td>\n",
       "      <td>0.70</td>\n",
       "      <td>0.70</td>\n",
       "      <td>0.70</td>\n",
       "      <td>0.03</td>\n",
       "    </tr>\n",
       "    <tr>\n",
       "      <th>RandomForestClassifier</th>\n",
       "      <td>0.70</td>\n",
       "      <td>0.70</td>\n",
       "      <td>0.70</td>\n",
       "      <td>0.70</td>\n",
       "      <td>0.87</td>\n",
       "    </tr>\n",
       "    <tr>\n",
       "      <th>QuadraticDiscriminantAnalysis</th>\n",
       "      <td>0.70</td>\n",
       "      <td>0.70</td>\n",
       "      <td>0.70</td>\n",
       "      <td>0.70</td>\n",
       "      <td>0.06</td>\n",
       "    </tr>\n",
       "    <tr>\n",
       "      <th>ExtraTreeClassifier</th>\n",
       "      <td>0.70</td>\n",
       "      <td>0.70</td>\n",
       "      <td>0.70</td>\n",
       "      <td>0.70</td>\n",
       "      <td>0.03</td>\n",
       "    </tr>\n",
       "    <tr>\n",
       "      <th>ExtraTreesClassifier</th>\n",
       "      <td>0.70</td>\n",
       "      <td>0.70</td>\n",
       "      <td>0.70</td>\n",
       "      <td>0.70</td>\n",
       "      <td>0.85</td>\n",
       "    </tr>\n",
       "    <tr>\n",
       "      <th>Perceptron</th>\n",
       "      <td>0.69</td>\n",
       "      <td>0.69</td>\n",
       "      <td>0.69</td>\n",
       "      <td>0.69</td>\n",
       "      <td>0.06</td>\n",
       "    </tr>\n",
       "    <tr>\n",
       "      <th>PassiveAggressiveClassifier</th>\n",
       "      <td>0.68</td>\n",
       "      <td>0.68</td>\n",
       "      <td>0.68</td>\n",
       "      <td>0.68</td>\n",
       "      <td>0.04</td>\n",
       "    </tr>\n",
       "    <tr>\n",
       "      <th>DummyClassifier</th>\n",
       "      <td>0.49</td>\n",
       "      <td>0.50</td>\n",
       "      <td>0.50</td>\n",
       "      <td>0.33</td>\n",
       "      <td>0.03</td>\n",
       "    </tr>\n",
       "  </tbody>\n",
       "</table>\n",
       "</div>"
      ],
      "text/plain": [
       "                               Accuracy  Balanced Accuracy  ROC AUC  F1 Score  \\\n",
       "Model                                                                           \n",
       "LGBMClassifier                     0.75               0.75     0.75      0.75   \n",
       "XGBClassifier                      0.75               0.75     0.75      0.75   \n",
       "SVC                                0.74               0.74     0.74      0.74   \n",
       "NuSVC                              0.74               0.74     0.74      0.74   \n",
       "AdaBoostClassifier                 0.74               0.74     0.74      0.74   \n",
       "RidgeClassifier                    0.73               0.73     0.73      0.73   \n",
       "LinearDiscriminantAnalysis         0.73               0.73     0.73      0.73   \n",
       "RidgeClassifierCV                  0.73               0.73     0.73      0.73   \n",
       "LinearSVC                          0.72               0.72     0.72      0.72   \n",
       "CalibratedClassifierCV             0.72               0.72     0.72      0.72   \n",
       "LabelSpreading                     0.72               0.72     0.72      0.72   \n",
       "BernoulliNB                        0.72               0.72     0.72      0.72   \n",
       "LabelPropagation                   0.72               0.72     0.72      0.72   \n",
       "LogisticRegression                 0.72               0.72     0.72      0.72   \n",
       "BaggingClassifier                  0.72               0.72     0.72      0.72   \n",
       "SGDClassifier                      0.72               0.71     0.71      0.71   \n",
       "KNeighborsClassifier               0.71               0.71     0.71      0.71   \n",
       "DecisionTreeClassifier             0.71               0.71     0.71      0.71   \n",
       "NearestCentroid                    0.71               0.71     0.71      0.71   \n",
       "GaussianNB                         0.71               0.70     0.70      0.70   \n",
       "RandomForestClassifier             0.70               0.70     0.70      0.70   \n",
       "QuadraticDiscriminantAnalysis      0.70               0.70     0.70      0.70   \n",
       "ExtraTreeClassifier                0.70               0.70     0.70      0.70   \n",
       "ExtraTreesClassifier               0.70               0.70     0.70      0.70   \n",
       "Perceptron                         0.69               0.69     0.69      0.69   \n",
       "PassiveAggressiveClassifier        0.68               0.68     0.68      0.68   \n",
       "DummyClassifier                    0.49               0.50     0.50      0.33   \n",
       "\n",
       "                               Time Taken  \n",
       "Model                                      \n",
       "LGBMClassifier                       0.20  \n",
       "XGBClassifier                        0.86  \n",
       "SVC                                  2.81  \n",
       "NuSVC                                4.09  \n",
       "AdaBoostClassifier                   0.33  \n",
       "RidgeClassifier                      0.04  \n",
       "LinearDiscriminantAnalysis           0.13  \n",
       "RidgeClassifierCV                    0.08  \n",
       "LinearSVC                            0.89  \n",
       "CalibratedClassifierCV               3.45  \n",
       "LabelSpreading                       3.83  \n",
       "BernoulliNB                          0.04  \n",
       "LabelPropagation                     2.66  \n",
       "LogisticRegression                   0.10  \n",
       "BaggingClassifier                    0.18  \n",
       "SGDClassifier                        0.16  \n",
       "KNeighborsClassifier                 0.42  \n",
       "DecisionTreeClassifier               0.08  \n",
       "NearestCentroid                      0.04  \n",
       "GaussianNB                           0.03  \n",
       "RandomForestClassifier               0.87  \n",
       "QuadraticDiscriminantAnalysis        0.06  \n",
       "ExtraTreeClassifier                  0.03  \n",
       "ExtraTreesClassifier                 0.85  \n",
       "Perceptron                           0.06  \n",
       "PassiveAggressiveClassifier          0.04  \n",
       "DummyClassifier                      0.03  "
      ]
     },
     "execution_count": 25,
     "metadata": {},
     "output_type": "execute_result"
    }
   ],
   "source": [
    "!pip3 install -U lazypredict\n",
    "from lazypredict.Supervised import LazyClassifier\n",
    "clf = LazyClassifier(verbose=0,ignore_warnings=True,custom_metric=None, predictions=False)\n",
    "\n",
    "models, predictions = clf.fit(X_train, X_val, y_train, y_val)\n",
    "models"
   ]
  },
  {
   "cell_type": "markdown",
   "id": "c143f1cd",
   "metadata": {
    "papermill": {
     "duration": 0.027653,
     "end_time": "2023-09-04T13:00:05.898560",
     "exception": false,
     "start_time": "2023-09-04T13:00:05.870907",
     "status": "completed"
    },
    "tags": []
   },
   "source": [
    "So, I'm going to use SVC, XGBClassifier, LGBMClassifier, RandomForestClassifier and Neural Network.\n",
    "You can see below grid search, training and validation score."
   ]
  },
  {
   "cell_type": "code",
   "execution_count": 26,
   "id": "fe09acb5",
   "metadata": {
    "execution": {
     "iopub.execute_input": "2023-09-04T13:00:05.957508Z",
     "iopub.status.busy": "2023-09-04T13:00:05.956147Z",
     "iopub.status.idle": "2023-09-04T13:00:05.963274Z",
     "shell.execute_reply": "2023-09-04T13:00:05.962141Z"
    },
    "papermill": {
     "duration": 0.039834,
     "end_time": "2023-09-04T13:00:05.966242",
     "exception": false,
     "start_time": "2023-09-04T13:00:05.926408",
     "status": "completed"
    },
    "tags": []
   },
   "outputs": [],
   "source": [
    "from sklearn.model_selection import GridSearchCV\n",
    "from sklearn.svm import SVC\n",
    "from xgboost import XGBClassifier\n",
    "from lightgbm import LGBMClassifier\n",
    "from sklearn.ensemble import RandomForestClassifier"
   ]
  },
  {
   "cell_type": "code",
   "execution_count": 27,
   "id": "f2a7f7bc",
   "metadata": {
    "_kg_hide-input": true,
    "execution": {
     "iopub.execute_input": "2023-09-04T13:00:06.027334Z",
     "iopub.status.busy": "2023-09-04T13:00:06.026187Z",
     "iopub.status.idle": "2023-09-04T13:00:06.032233Z",
     "shell.execute_reply": "2023-09-04T13:00:06.030911Z"
    },
    "papermill": {
     "duration": 0.040267,
     "end_time": "2023-09-04T13:00:06.035055",
     "exception": false,
     "start_time": "2023-09-04T13:00:05.994788",
     "status": "completed"
    },
    "tags": []
   },
   "outputs": [],
   "source": [
    "# xgbc = XGBClassifier()\n",
    "\n",
    "# xgbc_params = {\n",
    "#         \"gamma\": [1, 1.5, 2],\n",
    "#         \"subsample\": [0.75, 1.0, 1.25],\n",
    "#         \"colsample_bytree\": [0.25,0.5, 0.75],\n",
    "#         \"max_depth\": [3, 4, 5],\n",
    "#         \"n_estimators\": [100, 125, 150]\n",
    "# }\n",
    "# xgbc_cv_model = GridSearchCV(xgbc, xgbc_params, cv = 5, n_jobs = -1)\n",
    "# xgbc_cv_model.fit(X_train, y_train)\n",
    "# print(\"Best hyperparametres of the model: \\n\", xgbc_cv_model.best_params_)\n",
    "# # (gamma = 1.5, subsample = 1.0, max_depth = 5, colsample_bytree = 0.5,n_estimators = 125)"
   ]
  },
  {
   "cell_type": "code",
   "execution_count": 28,
   "id": "e112d139",
   "metadata": {
    "execution": {
     "iopub.execute_input": "2023-09-04T13:00:06.092717Z",
     "iopub.status.busy": "2023-09-04T13:00:06.092247Z",
     "iopub.status.idle": "2023-09-04T13:00:06.727902Z",
     "shell.execute_reply": "2023-09-04T13:00:06.726684Z"
    },
    "papermill": {
     "duration": 0.667692,
     "end_time": "2023-09-04T13:00:06.730512",
     "exception": false,
     "start_time": "2023-09-04T13:00:06.062820",
     "status": "completed"
    },
    "tags": []
   },
   "outputs": [
    {
     "name": "stdout",
     "output_type": "stream",
     "text": [
      "Accuracy score 0.745830937320299\n"
     ]
    }
   ],
   "source": [
    "xgbc = XGBClassifier(gamma = 1.5, subsample = 1.0, max_depth = 5, colsample_bytree = 0.5,n_estimators = 125)\n",
    "xgbc = xgbc.fit(X_train, y_train)\n",
    "from sklearn.metrics import accuracy_score\n",
    "y_pred = xgbc.predict(X_val)\n",
    "print('Accuracy score',accuracy_score(y_val, y_pred))"
   ]
  },
  {
   "cell_type": "code",
   "execution_count": 29,
   "id": "a4847c3f",
   "metadata": {
    "_kg_hide-input": true,
    "execution": {
     "iopub.execute_input": "2023-09-04T13:00:06.791013Z",
     "iopub.status.busy": "2023-09-04T13:00:06.790440Z",
     "iopub.status.idle": "2023-09-04T13:00:06.796407Z",
     "shell.execute_reply": "2023-09-04T13:00:06.794789Z"
    },
    "papermill": {
     "duration": 0.038676,
     "end_time": "2023-09-04T13:00:06.799362",
     "exception": false,
     "start_time": "2023-09-04T13:00:06.760686",
     "status": "completed"
    },
    "tags": []
   },
   "outputs": [],
   "source": [
    "# parameters = {'C':(1,3,5,7,9),'gamma':(0.1, 1, 10)}\n",
    "# clf = GridSearchCV(SVC(), parameters,cv=5)\n",
    "# clf.fit(X_train,y_train)\n",
    "# clf.best_params_\n",
    "# # {'C': 1, 'gamma': 0.1}"
   ]
  },
  {
   "cell_type": "code",
   "execution_count": 30,
   "id": "dde62be4",
   "metadata": {
    "execution": {
     "iopub.execute_input": "2023-09-04T13:00:06.857678Z",
     "iopub.status.busy": "2023-09-04T13:00:06.857192Z",
     "iopub.status.idle": "2023-09-04T13:00:10.223210Z",
     "shell.execute_reply": "2023-09-04T13:00:10.221693Z"
    },
    "papermill": {
     "duration": 3.398385,
     "end_time": "2023-09-04T13:00:10.226006",
     "exception": false,
     "start_time": "2023-09-04T13:00:06.827621",
     "status": "completed"
    },
    "tags": []
   },
   "outputs": [
    {
     "name": "stdout",
     "output_type": "stream",
     "text": [
      "Accuracy score 0.730879815986199\n"
     ]
    }
   ],
   "source": [
    "SVC=SVC(C=5,gamma=0.1)\n",
    "SVC.fit(X_train, y_train)\n",
    "y_pred = SVC.predict(X_val)\n",
    "print('Accuracy score',accuracy_score(y_val, y_pred))"
   ]
  },
  {
   "cell_type": "code",
   "execution_count": 31,
   "id": "aeb167c9",
   "metadata": {
    "_kg_hide-input": true,
    "execution": {
     "iopub.execute_input": "2023-09-04T13:00:10.286934Z",
     "iopub.status.busy": "2023-09-04T13:00:10.286434Z",
     "iopub.status.idle": "2023-09-04T13:00:10.291961Z",
     "shell.execute_reply": "2023-09-04T13:00:10.290694Z"
    },
    "papermill": {
     "duration": 0.038142,
     "end_time": "2023-09-04T13:00:10.294761",
     "exception": false,
     "start_time": "2023-09-04T13:00:10.256619",
     "status": "completed"
    },
    "tags": []
   },
   "outputs": [],
   "source": [
    "# from lightgbm import LGBMClassifier\n",
    "# lgb_params = {\n",
    "    \n",
    "#     'n_estimators' :[50,100,125],\n",
    "#     'learning_rate' : [0.03,0.05,0.08],\n",
    "#      'max_depth' : [4,5,6]\n",
    "# }\n",
    "# gbc_cv_model = GridSearchCV(LGBMClassifier(objective='binary'), lgb_params, cv = 5, n_jobs = -1)\n",
    "# gbc_cv_model.fit(X_train, y_train)\n",
    "# print(\"Best hyperparametres of the model: \\n\", gbc_cv_model.best_params_)\n",
    "# Best hyperparametres of the model: \n",
    "#  {'learning_rate': 0.05, 'max_depth': 4, 'n_estimators': 125}"
   ]
  },
  {
   "cell_type": "code",
   "execution_count": 32,
   "id": "221c0b9f",
   "metadata": {
    "execution": {
     "iopub.execute_input": "2023-09-04T13:00:10.354731Z",
     "iopub.status.busy": "2023-09-04T13:00:10.354252Z",
     "iopub.status.idle": "2023-09-04T13:00:10.442363Z",
     "shell.execute_reply": "2023-09-04T13:00:10.440909Z"
    },
    "papermill": {
     "duration": 0.121463,
     "end_time": "2023-09-04T13:00:10.445040",
     "exception": false,
     "start_time": "2023-09-04T13:00:10.323577",
     "status": "completed"
    },
    "tags": []
   },
   "outputs": [
    {
     "name": "stdout",
     "output_type": "stream",
     "text": [
      "Accuracy score 0.753306497987349\n"
     ]
    }
   ],
   "source": [
    "LGBM=LGBMClassifier(objective='binary',learning_rate= 0.08, max_depth=4, n_estimators=100)\n",
    "LGBM.fit(X_train, y_train)\n",
    "y_pred=LGBM.predict(X_val)\n",
    "print('Accuracy score',accuracy_score(y_val, y_pred))"
   ]
  },
  {
   "cell_type": "code",
   "execution_count": 33,
   "id": "4da90a0e",
   "metadata": {
    "_kg_hide-input": true,
    "execution": {
     "iopub.execute_input": "2023-09-04T13:00:10.505294Z",
     "iopub.status.busy": "2023-09-04T13:00:10.504861Z",
     "iopub.status.idle": "2023-09-04T13:00:10.510619Z",
     "shell.execute_reply": "2023-09-04T13:00:10.509688Z"
    },
    "papermill": {
     "duration": 0.037828,
     "end_time": "2023-09-04T13:00:10.512953",
     "exception": false,
     "start_time": "2023-09-04T13:00:10.475125",
     "status": "completed"
    },
    "tags": []
   },
   "outputs": [],
   "source": [
    "# from sklearn.ensemble import RandomForestClassifier\n",
    "# rfc_params = {'bootstrap': [True, False],\n",
    "#  'max_depth': [5,6,7,8,9,10],\n",
    "#  'max_features': ['auto', 'sqrt'],\n",
    "#  'min_samples_leaf': [1, 2, 4],\n",
    "#  'min_samples_split': [2, 5, 10],\n",
    "#  'n_estimators': [100,125,150]}\n",
    "\n",
    "# gbc_cv_model = GridSearchCV(RandomForestClassifier(), rfc_params, cv = 5, n_jobs = -1)\n",
    "# gbc_cv_model.fit(X_train, y_train)\n",
    "# print(\"Best hyperparametres of the model: \\n\", gbc_cv_model.best_params_)\n",
    "\n",
    "# bootstrap=True, max_depth=10, max_features='sqrt', min_samples_leaf=2, min_samples_split=5, n_estimators=150"
   ]
  },
  {
   "cell_type": "code",
   "execution_count": 34,
   "id": "df9fa86b",
   "metadata": {
    "execution": {
     "iopub.execute_input": "2023-09-04T13:00:10.571388Z",
     "iopub.status.busy": "2023-09-04T13:00:10.570180Z",
     "iopub.status.idle": "2023-09-04T13:00:11.422460Z",
     "shell.execute_reply": "2023-09-04T13:00:11.420481Z"
    },
    "papermill": {
     "duration": 0.884923,
     "end_time": "2023-09-04T13:00:11.425867",
     "exception": false,
     "start_time": "2023-09-04T13:00:10.540944",
     "status": "completed"
    },
    "tags": []
   },
   "outputs": [
    {
     "name": "stdout",
     "output_type": "stream",
     "text": [
      "Accuracy score 0.7452558941920644\n"
     ]
    }
   ],
   "source": [
    "RFC=RandomForestClassifier(bootstrap=True, max_depth=10, max_features='sqrt', min_samples_leaf=2, min_samples_split=5, n_estimators=150)\n",
    "RFC.fit(X_train, y_train)\n",
    "y_pred=RFC.predict(X_val)\n",
    "print('Accuracy score',accuracy_score(y_val, y_pred))"
   ]
  },
  {
   "cell_type": "code",
   "execution_count": 35,
   "id": "67e1e1a9",
   "metadata": {
    "execution": {
     "iopub.execute_input": "2023-09-04T13:00:11.485839Z",
     "iopub.status.busy": "2023-09-04T13:00:11.485362Z",
     "iopub.status.idle": "2023-09-04T13:01:00.076460Z",
     "shell.execute_reply": "2023-09-04T13:01:00.074830Z"
    },
    "papermill": {
     "duration": 48.624727,
     "end_time": "2023-09-04T13:01:00.079806",
     "exception": false,
     "start_time": "2023-09-04T13:00:11.455079",
     "status": "completed"
    },
    "tags": []
   },
   "outputs": [
    {
     "name": "stdout",
     "output_type": "stream",
     "text": [
      "Model: \"sequential\"\n",
      "_________________________________________________________________\n",
      "Layer (type)                 Output Shape              Param #   \n",
      "=================================================================\n",
      "dense (Dense)                (None, 256)               5120      \n",
      "_________________________________________________________________\n",
      "dense_1 (Dense)              (None, 256)               65792     \n",
      "_________________________________________________________________\n",
      "dense_2 (Dense)              (None, 1)                 257       \n",
      "=================================================================\n",
      "Total params: 71,169\n",
      "Trainable params: 71,169\n",
      "Non-trainable params: 0\n",
      "_________________________________________________________________\n",
      "Epoch 1/50\n",
      "153/153 [==============================] - 2s 5ms/step - loss: 16.9891 - accuracy: 0.6597 - val_loss: 30.7485 - val_accuracy: 0.7451\n",
      "Epoch 2/50\n",
      "153/153 [==============================] - 1s 4ms/step - loss: 13.7639 - accuracy: 0.6791 - val_loss: 1.4431 - val_accuracy: 0.7494\n",
      "Epoch 3/50\n",
      "153/153 [==============================] - 1s 4ms/step - loss: 11.4682 - accuracy: 0.6591 - val_loss: 27.0163 - val_accuracy: 0.7508\n",
      "Epoch 4/50\n",
      "153/153 [==============================] - 1s 4ms/step - loss: 12.5209 - accuracy: 0.6618 - val_loss: 5.4078 - val_accuracy: 0.7528\n",
      "Epoch 5/50\n",
      "153/153 [==============================] - 1s 4ms/step - loss: 4.1516 - accuracy: 0.6661 - val_loss: 7.8719 - val_accuracy: 0.4993\n",
      "Epoch 6/50\n",
      "153/153 [==============================] - 1s 4ms/step - loss: 5.1015 - accuracy: 0.6620 - val_loss: 0.7781 - val_accuracy: 0.6641\n",
      "Epoch 7/50\n",
      "153/153 [==============================] - 1s 4ms/step - loss: 2.3007 - accuracy: 0.6739 - val_loss: 4.3702 - val_accuracy: 0.7513\n",
      "Epoch 8/50\n",
      "153/153 [==============================] - 1s 4ms/step - loss: 2.8902 - accuracy: 0.6776 - val_loss: 4.1153 - val_accuracy: 0.4998\n",
      "Epoch 9/50\n",
      "153/153 [==============================] - 1s 4ms/step - loss: 2.5918 - accuracy: 0.6893 - val_loss: 5.3407 - val_accuracy: 0.4993\n",
      "Epoch 10/50\n",
      "153/153 [==============================] - 1s 4ms/step - loss: 1.9775 - accuracy: 0.6821 - val_loss: 4.5537 - val_accuracy: 0.4993\n",
      "Epoch 11/50\n",
      "153/153 [==============================] - 1s 4ms/step - loss: 1.9504 - accuracy: 0.6706 - val_loss: 3.1582 - val_accuracy: 0.5017\n",
      "Epoch 12/50\n",
      "153/153 [==============================] - 1s 4ms/step - loss: 2.1112 - accuracy: 0.6735 - val_loss: 0.7170 - val_accuracy: 0.7518\n",
      "Epoch 13/50\n",
      "153/153 [==============================] - 1s 4ms/step - loss: 1.1097 - accuracy: 0.6959 - val_loss: 1.2113 - val_accuracy: 0.7523\n",
      "Epoch 14/50\n",
      "153/153 [==============================] - 1s 4ms/step - loss: 1.4031 - accuracy: 0.6830 - val_loss: 1.1574 - val_accuracy: 0.7532\n",
      "Epoch 15/50\n",
      "153/153 [==============================] - 1s 4ms/step - loss: 1.2735 - accuracy: 0.6795 - val_loss: 1.0315 - val_accuracy: 0.7513\n",
      "Epoch 16/50\n",
      "153/153 [==============================] - 1s 4ms/step - loss: 1.2023 - accuracy: 0.6811 - val_loss: 2.5434 - val_accuracy: 0.5012\n",
      "Epoch 17/50\n",
      "153/153 [==============================] - 1s 4ms/step - loss: 1.3901 - accuracy: 0.6918 - val_loss: 0.5707 - val_accuracy: 0.7504\n",
      "Epoch 18/50\n",
      "153/153 [==============================] - 1s 4ms/step - loss: 1.1518 - accuracy: 0.6910 - val_loss: 1.1437 - val_accuracy: 0.5046\n",
      "Epoch 19/50\n",
      "153/153 [==============================] - 1s 4ms/step - loss: 0.8098 - accuracy: 0.7039 - val_loss: 0.9965 - val_accuracy: 0.5453\n",
      "Epoch 20/50\n",
      "153/153 [==============================] - 1s 4ms/step - loss: 0.9697 - accuracy: 0.6932 - val_loss: 0.5856 - val_accuracy: 0.7489\n",
      "Epoch 21/50\n",
      "153/153 [==============================] - 1s 4ms/step - loss: 1.3013 - accuracy: 0.6875 - val_loss: 0.7465 - val_accuracy: 0.7513\n",
      "Epoch 22/50\n",
      "153/153 [==============================] - 1s 4ms/step - loss: 0.6514 - accuracy: 0.7130 - val_loss: 1.4292 - val_accuracy: 0.7494\n",
      "Epoch 23/50\n",
      "153/153 [==============================] - 1s 4ms/step - loss: 1.3793 - accuracy: 0.6959 - val_loss: 0.6036 - val_accuracy: 0.6948\n",
      "Epoch 24/50\n",
      "153/153 [==============================] - 1s 4ms/step - loss: 0.6857 - accuracy: 0.7160 - val_loss: 1.3051 - val_accuracy: 0.5002\n",
      "Epoch 25/50\n",
      "153/153 [==============================] - 1s 4ms/step - loss: 0.6395 - accuracy: 0.7214 - val_loss: 0.9786 - val_accuracy: 0.7504\n",
      "Epoch 26/50\n",
      "153/153 [==============================] - 1s 4ms/step - loss: 0.5997 - accuracy: 0.7148 - val_loss: 0.6491 - val_accuracy: 0.7508\n",
      "Epoch 27/50\n",
      "153/153 [==============================] - 1s 4ms/step - loss: 0.7284 - accuracy: 0.7037 - val_loss: 0.9706 - val_accuracy: 0.5621\n",
      "Epoch 28/50\n",
      "153/153 [==============================] - 1s 4ms/step - loss: 0.6998 - accuracy: 0.7115 - val_loss: 0.7271 - val_accuracy: 0.6531\n",
      "Epoch 29/50\n",
      "153/153 [==============================] - 1s 4ms/step - loss: 0.6760 - accuracy: 0.7060 - val_loss: 0.5482 - val_accuracy: 0.7183\n",
      "Epoch 30/50\n",
      "153/153 [==============================] - 1s 4ms/step - loss: 0.7073 - accuracy: 0.7091 - val_loss: 1.0068 - val_accuracy: 0.5491\n",
      "Epoch 31/50\n",
      "153/153 [==============================] - 1s 4ms/step - loss: 0.5604 - accuracy: 0.7286 - val_loss: 0.5560 - val_accuracy: 0.7489\n",
      "Epoch 32/50\n",
      "153/153 [==============================] - 1s 4ms/step - loss: 0.6441 - accuracy: 0.7191 - val_loss: 1.0861 - val_accuracy: 0.5424\n",
      "Epoch 33/50\n",
      "153/153 [==============================] - 1s 4ms/step - loss: 0.6562 - accuracy: 0.7150 - val_loss: 0.5779 - val_accuracy: 0.7494\n",
      "Epoch 34/50\n",
      "153/153 [==============================] - 1s 4ms/step - loss: 0.6622 - accuracy: 0.7101 - val_loss: 0.5387 - val_accuracy: 0.7451\n",
      "Epoch 35/50\n",
      "153/153 [==============================] - 1s 4ms/step - loss: 0.6229 - accuracy: 0.7249 - val_loss: 0.6311 - val_accuracy: 0.6900\n",
      "Epoch 36/50\n",
      "153/153 [==============================] - 1s 4ms/step - loss: 0.6463 - accuracy: 0.7163 - val_loss: 0.5270 - val_accuracy: 0.7489\n",
      "Epoch 37/50\n",
      "153/153 [==============================] - 1s 5ms/step - loss: 0.6235 - accuracy: 0.7243 - val_loss: 0.5554 - val_accuracy: 0.7168\n",
      "Epoch 38/50\n",
      "153/153 [==============================] - 1s 5ms/step - loss: 0.5458 - accuracy: 0.7280 - val_loss: 0.5353 - val_accuracy: 0.7523\n",
      "Epoch 39/50\n",
      "153/153 [==============================] - 1s 4ms/step - loss: 0.5129 - accuracy: 0.7384 - val_loss: 0.5315 - val_accuracy: 0.7494\n",
      "Epoch 40/50\n",
      "153/153 [==============================] - 1s 4ms/step - loss: 0.5223 - accuracy: 0.7302 - val_loss: 0.5297 - val_accuracy: 0.7489\n",
      "Epoch 41/50\n",
      "153/153 [==============================] - 1s 4ms/step - loss: 0.5265 - accuracy: 0.7341 - val_loss: 0.5790 - val_accuracy: 0.7489\n",
      "Epoch 42/50\n",
      "153/153 [==============================] - 1s 4ms/step - loss: 0.5197 - accuracy: 0.7339 - val_loss: 0.5278 - val_accuracy: 0.7489\n",
      "Epoch 43/50\n",
      "153/153 [==============================] - 1s 4ms/step - loss: 0.5456 - accuracy: 0.7315 - val_loss: 0.5523 - val_accuracy: 0.7494\n",
      "Epoch 44/50\n",
      "153/153 [==============================] - 1s 4ms/step - loss: 0.5509 - accuracy: 0.7349 - val_loss: 0.5462 - val_accuracy: 0.7345\n",
      "Epoch 45/50\n",
      "153/153 [==============================] - 1s 4ms/step - loss: 0.5313 - accuracy: 0.7358 - val_loss: 0.6002 - val_accuracy: 0.7096\n",
      "Epoch 46/50\n",
      "153/153 [==============================] - 1s 4ms/step - loss: 0.6051 - accuracy: 0.7160 - val_loss: 0.5707 - val_accuracy: 0.7499\n",
      "Epoch 47/50\n",
      "153/153 [==============================] - 1s 4ms/step - loss: 0.5283 - accuracy: 0.7331 - val_loss: 0.5299 - val_accuracy: 0.7504\n",
      "Epoch 48/50\n",
      "153/153 [==============================] - 1s 4ms/step - loss: 0.5274 - accuracy: 0.7310 - val_loss: 0.5371 - val_accuracy: 0.7489\n",
      "Epoch 49/50\n",
      "153/153 [==============================] - 1s 4ms/step - loss: 0.5199 - accuracy: 0.7333 - val_loss: 0.5358 - val_accuracy: 0.7494\n",
      "Epoch 50/50\n",
      "153/153 [==============================] - 1s 4ms/step - loss: 0.5224 - accuracy: 0.7327 - val_loss: 0.5455 - val_accuracy: 0.7393\n"
     ]
    }
   ],
   "source": [
    "import tensorflow.keras as tf\n",
    "from tensorflow.keras.callbacks import EarlyStopping\n",
    "early_stopping = EarlyStopping(monitor='val_loss', patience=5, restore_best_weights=True)\n",
    "\n",
    "nn=tf.Sequential()\n",
    "nn.add(tf.layers.Dense(256,activation='relu',input_shape=(X_train.shape[1],)))\n",
    "nn.add(tf.layers.Dense(256,activation='relu'))\n",
    "nn.add(tf.layers.Dense(1,activation='sigmoid'))\n",
    "\n",
    "nn.compile(optimizer=tf.optimizers.Adam(learning_rate=0.001),loss='BinaryCrossentropy',metrics=['accuracy'])\n",
    "nn.summary()\n",
    "History=nn.fit(X_train,y_train,batch_size=32,epochs=50,validation_split=.3)"
   ]
  },
  {
   "cell_type": "code",
   "execution_count": 36,
   "id": "4d22ac1c",
   "metadata": {
    "execution": {
     "iopub.execute_input": "2023-09-04T13:01:00.231303Z",
     "iopub.status.busy": "2023-09-04T13:01:00.230500Z",
     "iopub.status.idle": "2023-09-04T13:01:00.427512Z",
     "shell.execute_reply": "2023-09-04T13:01:00.426189Z"
    },
    "papermill": {
     "duration": 0.276277,
     "end_time": "2023-09-04T13:01:00.430542",
     "exception": false,
     "start_time": "2023-09-04T13:01:00.154265",
     "status": "completed"
    },
    "tags": []
   },
   "outputs": [
    {
     "data": {
      "image/png": "[encoded data removed]",
      "text/plain": [
       "<Figure size 720x432 with 1 Axes>"
      ]
     },
     "metadata": {
      "needs_background": "light"
     },
     "output_type": "display_data"
    }
   ],
   "source": [
    "fig, ax = plt.subplots(1, 1, figsize=(10,6))\n",
    "ax.plot(History.history['loss'], 'r', label='train')\n",
    "ax.plot(History.history['val_loss'], 'b' ,label='val')\n",
    "ax.set_xlabel(r'Epoch', fontsize=20)\n",
    "ax.set_ylabel(r'Loss', fontsize=20)\n",
    "ax.legend()\n",
    "ax.tick_params(labelsize=20)\n",
    "#,callbacks=[early_stopping]"
   ]
  },
  {
   "cell_type": "code",
   "execution_count": 37,
   "id": "4a48a3f6",
   "metadata": {
    "execution": {
     "iopub.execute_input": "2023-09-04T13:01:00.582852Z",
     "iopub.status.busy": "2023-09-04T13:01:00.582384Z",
     "iopub.status.idle": "2023-09-04T13:01:00.808379Z",
     "shell.execute_reply": "2023-09-04T13:01:00.807119Z"
    },
    "papermill": {
     "duration": 0.304769,
     "end_time": "2023-09-04T13:01:00.811213",
     "exception": false,
     "start_time": "2023-09-04T13:01:00.506444",
     "status": "completed"
    },
    "tags": []
   },
   "outputs": [
    {
     "name": "stdout",
     "output_type": "stream",
     "text": [
      "Accuracy score 0.7389304197814837\n"
     ]
    }
   ],
   "source": [
    "y_pred=nn.predict(X_val)\n",
    "y_pred=(y_pred >= 0.5).astype(int)\n",
    "print('Accuracy score',accuracy_score(y_val, y_pred))"
   ]
  },
  {
   "cell_type": "code",
   "execution_count": 38,
   "id": "fff54bd4",
   "metadata": {
    "execution": {
     "iopub.execute_input": "2023-09-04T13:01:00.960870Z",
     "iopub.status.busy": "2023-09-04T13:01:00.960376Z",
     "iopub.status.idle": "2023-09-04T13:01:01.215906Z",
     "shell.execute_reply": "2023-09-04T13:01:01.214730Z"
    },
    "papermill": {
     "duration": 0.333816,
     "end_time": "2023-09-04T13:01:01.218735",
     "exception": false,
     "start_time": "2023-09-04T13:01:00.884919",
     "status": "completed"
    },
    "tags": []
   },
   "outputs": [
    {
     "data": {
      "text/html": [
       "<div>\n",
       "<style scoped>\n",
       "    .dataframe tbody tr th:only-of-type {\n",
       "        vertical-align: middle;\n",
       "    }\n",
       "\n",
       "    .dataframe tbody tr th {\n",
       "        vertical-align: top;\n",
       "    }\n",
       "\n",
       "    .dataframe thead th {\n",
       "        text-align: right;\n",
       "    }\n",
       "</style>\n",
       "<table border=\"1\" class=\"dataframe\">\n",
       "  <thead>\n",
       "    <tr style=\"text-align: right;\">\n",
       "      <th></th>\n",
       "      <th>PassengerId</th>\n",
       "      <th>Transported</th>\n",
       "    </tr>\n",
       "  </thead>\n",
       "  <tbody>\n",
       "    <tr>\n",
       "      <th>0</th>\n",
       "      <td>0013_01</td>\n",
       "      <td>True</td>\n",
       "    </tr>\n",
       "    <tr>\n",
       "      <th>1</th>\n",
       "      <td>0018_01</td>\n",
       "      <td>False</td>\n",
       "    </tr>\n",
       "    <tr>\n",
       "      <th>2</th>\n",
       "      <td>0019_01</td>\n",
       "      <td>True</td>\n",
       "    </tr>\n",
       "    <tr>\n",
       "      <th>3</th>\n",
       "      <td>0021_01</td>\n",
       "      <td>False</td>\n",
       "    </tr>\n",
       "    <tr>\n",
       "      <th>4</th>\n",
       "      <td>0023_01</td>\n",
       "      <td>False</td>\n",
       "    </tr>\n",
       "  </tbody>\n",
       "</table>\n",
       "</div>"
      ],
      "text/plain": [
       "  PassengerId  Transported\n",
       "0     0013_01         True\n",
       "1     0018_01        False\n",
       "2     0019_01         True\n",
       "3     0021_01        False\n",
       "4     0023_01        False"
      ]
     },
     "execution_count": 38,
     "metadata": {},
     "output_type": "execute_result"
    }
   ],
   "source": [
    "submission=pd.read_csv('/kaggle/input/spaceship-titanic/sample_submission.csv')\n",
    "y_pred=nn.predict(test2)\n",
    "y_pred=(y_pred >= 0.5).astype(int)\n",
    "submission['Transported'] = y_pred.astype(\"bool\")\n",
    "submission.to_csv(\"submission.csv\",index=False)\n",
    "submission.head()"
   ]
  }
 ],
 "kernelspec": {
  "display_name": "Python 3",
  "language": "python",
  "name": "python3"
 },
 "language_info": {
  "codemirror_mode": {
   "name": "ipython",
   "version": 3
  },
  "file_extension": ".py",
  "mimetype": "text/x-python",
  "name": "python",
  "nbconvert_exporter": "python",
  "pygments_lexer": "ipython3",
  "version": "3.6.4"
 },
 "metadata": {
  "kernelspec": {
   "display_name": "Python 3",
   "language": "python",
   "name": "python3"
  },
  "language_info": {
   "codemirror_mode": {
    "name": "ipython",
    "version": 3
   },
   "file_extension": ".py",
   "mimetype": "text/x-python",
   "name": "python",
   "nbconvert_exporter": "python",
   "pygments_lexer": "ipython3",
   "version": "3.7.12"
  },
  "papermill": {
   "default_parameters": {},
   "duration": 116.841516,
   "end_time": "2023-09-04T13:01:04.365945",
   "environment_variables": {},
   "exception": null,
   "input_path": "__notebook__.ipynb",
   "output_path": "__notebook__.ipynb",
   "parameters": {},
   "start_time": "2023-09-04T12:59:07.524429",
   "version": "2.3.4"
  }
 },
 "nbformat": 4,
 "nbformat_minor": 5
}
